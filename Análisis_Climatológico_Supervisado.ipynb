{
  "nbformat": 4,
  "nbformat_minor": 0,
  "metadata": {
    "colab": {
      "name": "Análisis Climatológico Supervisado.ipynb",
      "provenance": []
    },
    "kernelspec": {
      "name": "python3",
      "display_name": "Python 3"
    },
    "language_info": {
      "name": "python"
    }
  },
  "cells": [
    {
      "cell_type": "code",
      "metadata": {
        "colab": {
          "base_uri": "https://localhost:8080/"
        },
        "id": "0IaZzc1W5tai",
        "outputId": "d7eedde3-ca93-47f6-d8e0-773fb885bf34"
      },
      "source": [
        "# instalamos librería pca\n",
        "!pip install -q pca\n",
        "!pip install --upgrade plotly --q\n",
        "\n",
        "# Tratamiento de datos\n",
        "# ==============================================================================\n",
        "import pandas as pd\n",
        "from pandas.plotting import table\n",
        "import numpy as np\n",
        "import statsmodels.api as sm\n",
        "import sklearn\n",
        "import six\n",
        "import ftplib\n",
        "import os\n",
        "import math\n",
        "\n",
        "# Gráficos\n",
        "# ==============================================================================\n",
        "import matplotlib.pyplot as plt\n",
        "from matplotlib import style\n",
        "from matplotlib.dates import date2num, num2date\n",
        "import seaborn as sns\n",
        "from matplotlib import dates as mdates\n",
        "from matplotlib import ticker\n",
        "from matplotlib.colors import ListedColormap\n",
        "from matplotlib.patches import Patch\n",
        "from matplotlib import animation\n",
        "plt.style.use(\"ggplot\")# for pretty graphs\n",
        "from IPython.display import clear_output\n",
        "import plotly.express as px\n",
        "# Preprocesado y modelado\n",
        "# ==============================================================================\n",
        "from sklearn.decomposition import PCA\n",
        "from sklearn.pipeline import make_pipeline\n",
        "from sklearn.preprocessing import StandardScaler\n",
        "from sklearn.preprocessing import scale\n",
        "from sklearn.cluster import k_means\n",
        "from sklearn.metrics import pairwise_distances_argmin_min\n",
        "from sklearn.cluster import KMeans\n",
        "import scipy.cluster.hierarchy as sch\n",
        "from sklearn.cluster import AgglomerativeClustering\n",
        "\n",
        "# Configuración warnings\n",
        "# ==============================================================================\n",
        "import warnings\n",
        "%matplotlib inline\n",
        "%config InlineBackend.figure_format = 'retina'\n",
        "import pandas as pd"
      ],
      "execution_count": null,
      "outputs": [
        {
          "output_type": "stream",
          "name": "stderr",
          "text": [
            "/usr/local/lib/python3.7/dist-packages/statsmodels/tools/_testing.py:19: FutureWarning: pandas.util.testing is deprecated. Use the functions in the public API at pandas.testing instead.\n",
            "  import pandas.util.testing as tm\n"
          ]
        }
      ]
    },
    {
      "cell_type": "code",
      "metadata": {
        "colab": {
          "base_uri": "https://localhost:8080/",
          "height": 203
        },
        "id": "UiezElKn50wk",
        "outputId": "c39b2cdd-0adc-47cf-b478-9fdb1b9249c6"
      },
      "source": [
        "path = 'https://storage.googleapis.com/covid19-open-data/v2/weather.csv'\n",
        "archivo1 = pd.read_csv(path, sep=\",\")\n",
        "\n",
        "archivo1.head(5)"
      ],
      "execution_count": null,
      "outputs": [
        {
          "output_type": "execute_result",
          "data": {
            "text/html": [
              "<div>\n",
              "<style scoped>\n",
              "    .dataframe tbody tr th:only-of-type {\n",
              "        vertical-align: middle;\n",
              "    }\n",
              "\n",
              "    .dataframe tbody tr th {\n",
              "        vertical-align: top;\n",
              "    }\n",
              "\n",
              "    .dataframe thead th {\n",
              "        text-align: right;\n",
              "    }\n",
              "</style>\n",
              "<table border=\"1\" class=\"dataframe\">\n",
              "  <thead>\n",
              "    <tr style=\"text-align: right;\">\n",
              "      <th></th>\n",
              "      <th>date</th>\n",
              "      <th>key</th>\n",
              "      <th>noaa_station</th>\n",
              "      <th>noaa_distance</th>\n",
              "      <th>average_temperature</th>\n",
              "      <th>minimum_temperature</th>\n",
              "      <th>maximum_temperature</th>\n",
              "      <th>rainfall</th>\n",
              "      <th>snowfall</th>\n",
              "      <th>dew_point</th>\n",
              "      <th>relative_humidity</th>\n",
              "    </tr>\n",
              "  </thead>\n",
              "  <tbody>\n",
              "    <tr>\n",
              "      <th>0</th>\n",
              "      <td>2020-01-01</td>\n",
              "      <td>AD</td>\n",
              "      <td>08117099999</td>\n",
              "      <td>39.866801</td>\n",
              "      <td>5.233333</td>\n",
              "      <td>1.511111</td>\n",
              "      <td>9.166667</td>\n",
              "      <td>2.4765</td>\n",
              "      <td>NaN</td>\n",
              "      <td>0.177778</td>\n",
              "      <td>72.967738</td>\n",
              "    </tr>\n",
              "    <tr>\n",
              "      <th>1</th>\n",
              "      <td>2020-01-01</td>\n",
              "      <td>AE</td>\n",
              "      <td>41216099999</td>\n",
              "      <td>16.303110</td>\n",
              "      <td>21.261111</td>\n",
              "      <td>16.216667</td>\n",
              "      <td>26.083333</td>\n",
              "      <td>0.0000</td>\n",
              "      <td>NaN</td>\n",
              "      <td>11.555556</td>\n",
              "      <td>54.350613</td>\n",
              "    </tr>\n",
              "    <tr>\n",
              "      <th>2</th>\n",
              "      <td>2020-01-01</td>\n",
              "      <td>AF</td>\n",
              "      <td>40942099999</td>\n",
              "      <td>90.343387</td>\n",
              "      <td>5.027778</td>\n",
              "      <td>0.444444</td>\n",
              "      <td>9.555556</td>\n",
              "      <td>0.0000</td>\n",
              "      <td>NaN</td>\n",
              "      <td>-4.083333</td>\n",
              "      <td>55.903534</td>\n",
              "    </tr>\n",
              "    <tr>\n",
              "      <th>3</th>\n",
              "      <td>2020-01-01</td>\n",
              "      <td>AF_BAL</td>\n",
              "      <td>40911099999</td>\n",
              "      <td>8.359524</td>\n",
              "      <td>5.930556</td>\n",
              "      <td>0.798611</td>\n",
              "      <td>8.930556</td>\n",
              "      <td>0.0000</td>\n",
              "      <td>NaN</td>\n",
              "      <td>1.722222</td>\n",
              "      <td>74.572882</td>\n",
              "    </tr>\n",
              "    <tr>\n",
              "      <th>4</th>\n",
              "      <td>2020-01-01</td>\n",
              "      <td>AF_BAM</td>\n",
              "      <td>40948099999</td>\n",
              "      <td>180.669856</td>\n",
              "      <td>2.788889</td>\n",
              "      <td>-0.322222</td>\n",
              "      <td>5.988889</td>\n",
              "      <td>0.0000</td>\n",
              "      <td>NaN</td>\n",
              "      <td>-1.311111</td>\n",
              "      <td>75.079524</td>\n",
              "    </tr>\n",
              "  </tbody>\n",
              "</table>\n",
              "</div>"
            ],
            "text/plain": [
              "         date     key noaa_station  ...  snowfall  dew_point  relative_humidity\n",
              "0  2020-01-01      AD  08117099999  ...       NaN   0.177778          72.967738\n",
              "1  2020-01-01      AE  41216099999  ...       NaN  11.555556          54.350613\n",
              "2  2020-01-01      AF  40942099999  ...       NaN  -4.083333          55.903534\n",
              "3  2020-01-01  AF_BAL  40911099999  ...       NaN   1.722222          74.572882\n",
              "4  2020-01-01  AF_BAM  40948099999  ...       NaN  -1.311111          75.079524\n",
              "\n",
              "[5 rows x 11 columns]"
            ]
          },
          "metadata": {},
          "execution_count": 3
        }
      ]
    },
    {
      "cell_type": "code",
      "metadata": {
        "id": "hDNwGT_V53Jn"
      },
      "source": [
        "#Instalar Librería para leer el objeto R\n",
        "!pip install pyreadr --q"
      ],
      "execution_count": null,
      "outputs": []
    },
    {
      "cell_type": "code",
      "metadata": {
        "id": "hE4FlnLi55EI"
      },
      "source": [
        "import pyreadr # librería para leer archivos generados con R\n",
        "from urllib.request import urlopen # Necesario para leer el archivo RData con información Covid"
      ],
      "execution_count": null,
      "outputs": []
    },
    {
      "cell_type": "code",
      "metadata": {
        "colab": {
          "base_uri": "https://localhost:8080/",
          "height": 682
        },
        "id": "WFVY_Gcx567j",
        "outputId": "cdc1833e-689c-46e9-ed98-a6c5f9034823"
      },
      "source": [
        "import pyreadr # librería para leer archivos generados con R\n",
        "from urllib.request import urlopen # Necesario para leer el archivo RData con información Covid\n",
        "\n",
        "#Leemos el archivo RData de datos Covid-19 desde el Github de Ruben F. Casal\n",
        "url=\"https://github.com/rubenfcasal/COVID-19/blob/master/acumula2.RData?raw=true\"\n",
        "archivo = urlopen(url)\n",
        "contenido = archivo.read()\n",
        "fhandle = open( 'acumula2.RData', 'wb')\n",
        "fhandle.write(contenido)\n",
        "fhandle.close()\n",
        "resultado = pyreadr.read_r(\"acumula2.RData\")\n",
        "\n",
        "# Convertimos el archivo R a Dataframe Pandas\n",
        "print(resultado.keys()) # Validamos los objetos que obtenemos de los datos R que serán la base del DataFrame\n",
        "df_covid = resultado[\"acumula2\"] # Extracción de la información del objeto R hacia Pandas DataFrame\n",
        "type(df_covid) # Validamos el dipo de objeto generado para confirmar que tenemos nuestro PD DataFrame\n",
        "\n",
        "df_covid.head(20)"
      ],
      "execution_count": null,
      "outputs": [
        {
          "output_type": "stream",
          "name": "stdout",
          "text": [
            "odict_keys(['acumula2'])\n"
          ]
        },
        {
          "output_type": "execute_result",
          "data": {
            "text/html": [
              "<div>\n",
              "<style scoped>\n",
              "    .dataframe tbody tr th:only-of-type {\n",
              "        vertical-align: middle;\n",
              "    }\n",
              "\n",
              "    .dataframe tbody tr th {\n",
              "        vertical-align: top;\n",
              "    }\n",
              "\n",
              "    .dataframe thead th {\n",
              "        text-align: right;\n",
              "    }\n",
              "</style>\n",
              "<table border=\"1\" class=\"dataframe\">\n",
              "  <thead>\n",
              "    <tr style=\"text-align: right;\">\n",
              "      <th></th>\n",
              "      <th>fecha</th>\n",
              "      <th>iso</th>\n",
              "      <th>ccaa</th>\n",
              "      <th>confirmados</th>\n",
              "      <th>hospitalizados</th>\n",
              "      <th>uci</th>\n",
              "      <th>fallecidos</th>\n",
              "    </tr>\n",
              "  </thead>\n",
              "  <tbody>\n",
              "    <tr>\n",
              "      <th>0</th>\n",
              "      <td>2020-01-01</td>\n",
              "      <td>ES</td>\n",
              "      <td>España</td>\n",
              "      <td>0</td>\n",
              "      <td>8</td>\n",
              "      <td>0</td>\n",
              "      <td>0</td>\n",
              "    </tr>\n",
              "    <tr>\n",
              "      <th>1</th>\n",
              "      <td>2020-01-01</td>\n",
              "      <td>AN</td>\n",
              "      <td>Andalucía</td>\n",
              "      <td>0</td>\n",
              "      <td>3</td>\n",
              "      <td>0</td>\n",
              "      <td>0</td>\n",
              "    </tr>\n",
              "    <tr>\n",
              "      <th>2</th>\n",
              "      <td>2020-01-01</td>\n",
              "      <td>AR</td>\n",
              "      <td>Aragón</td>\n",
              "      <td>0</td>\n",
              "      <td>0</td>\n",
              "      <td>0</td>\n",
              "      <td>0</td>\n",
              "    </tr>\n",
              "    <tr>\n",
              "      <th>3</th>\n",
              "      <td>2020-01-01</td>\n",
              "      <td>AS</td>\n",
              "      <td>Asturias</td>\n",
              "      <td>0</td>\n",
              "      <td>0</td>\n",
              "      <td>0</td>\n",
              "      <td>0</td>\n",
              "    </tr>\n",
              "    <tr>\n",
              "      <th>4</th>\n",
              "      <td>2020-01-01</td>\n",
              "      <td>CN</td>\n",
              "      <td>Canarias</td>\n",
              "      <td>0</td>\n",
              "      <td>0</td>\n",
              "      <td>0</td>\n",
              "      <td>0</td>\n",
              "    </tr>\n",
              "    <tr>\n",
              "      <th>5</th>\n",
              "      <td>2020-01-01</td>\n",
              "      <td>CB</td>\n",
              "      <td>Cantabria</td>\n",
              "      <td>0</td>\n",
              "      <td>0</td>\n",
              "      <td>0</td>\n",
              "      <td>0</td>\n",
              "    </tr>\n",
              "    <tr>\n",
              "      <th>6</th>\n",
              "      <td>2020-01-01</td>\n",
              "      <td>CL</td>\n",
              "      <td>Castilla y León</td>\n",
              "      <td>0</td>\n",
              "      <td>0</td>\n",
              "      <td>0</td>\n",
              "      <td>0</td>\n",
              "    </tr>\n",
              "    <tr>\n",
              "      <th>7</th>\n",
              "      <td>2020-01-01</td>\n",
              "      <td>CM</td>\n",
              "      <td>Castilla-La Mancha</td>\n",
              "      <td>0</td>\n",
              "      <td>0</td>\n",
              "      <td>0</td>\n",
              "      <td>0</td>\n",
              "    </tr>\n",
              "    <tr>\n",
              "      <th>8</th>\n",
              "      <td>2020-01-01</td>\n",
              "      <td>CT</td>\n",
              "      <td>Cataluña</td>\n",
              "      <td>0</td>\n",
              "      <td>1</td>\n",
              "      <td>0</td>\n",
              "      <td>0</td>\n",
              "    </tr>\n",
              "    <tr>\n",
              "      <th>9</th>\n",
              "      <td>2020-01-01</td>\n",
              "      <td>EA</td>\n",
              "      <td>Ceuta y Melilla</td>\n",
              "      <td>0</td>\n",
              "      <td>0</td>\n",
              "      <td>0</td>\n",
              "      <td>0</td>\n",
              "    </tr>\n",
              "    <tr>\n",
              "      <th>10</th>\n",
              "      <td>2020-01-01</td>\n",
              "      <td>VC</td>\n",
              "      <td>Comunidad Valenciana</td>\n",
              "      <td>0</td>\n",
              "      <td>2</td>\n",
              "      <td>0</td>\n",
              "      <td>0</td>\n",
              "    </tr>\n",
              "    <tr>\n",
              "      <th>11</th>\n",
              "      <td>2020-01-01</td>\n",
              "      <td>EX</td>\n",
              "      <td>Extremadura</td>\n",
              "      <td>0</td>\n",
              "      <td>0</td>\n",
              "      <td>0</td>\n",
              "      <td>0</td>\n",
              "    </tr>\n",
              "    <tr>\n",
              "      <th>12</th>\n",
              "      <td>2020-01-01</td>\n",
              "      <td>GA</td>\n",
              "      <td>Galicia</td>\n",
              "      <td>0</td>\n",
              "      <td>1</td>\n",
              "      <td>0</td>\n",
              "      <td>0</td>\n",
              "    </tr>\n",
              "    <tr>\n",
              "      <th>13</th>\n",
              "      <td>2020-01-01</td>\n",
              "      <td>IB</td>\n",
              "      <td>Islas Baleares</td>\n",
              "      <td>0</td>\n",
              "      <td>0</td>\n",
              "      <td>0</td>\n",
              "      <td>0</td>\n",
              "    </tr>\n",
              "    <tr>\n",
              "      <th>14</th>\n",
              "      <td>2020-01-01</td>\n",
              "      <td>RI</td>\n",
              "      <td>La Rioja</td>\n",
              "      <td>0</td>\n",
              "      <td>0</td>\n",
              "      <td>0</td>\n",
              "      <td>0</td>\n",
              "    </tr>\n",
              "    <tr>\n",
              "      <th>15</th>\n",
              "      <td>2020-01-01</td>\n",
              "      <td>MD</td>\n",
              "      <td>Madrid</td>\n",
              "      <td>0</td>\n",
              "      <td>1</td>\n",
              "      <td>0</td>\n",
              "      <td>0</td>\n",
              "    </tr>\n",
              "    <tr>\n",
              "      <th>16</th>\n",
              "      <td>2020-01-01</td>\n",
              "      <td>MC</td>\n",
              "      <td>Murcia</td>\n",
              "      <td>0</td>\n",
              "      <td>0</td>\n",
              "      <td>0</td>\n",
              "      <td>0</td>\n",
              "    </tr>\n",
              "    <tr>\n",
              "      <th>17</th>\n",
              "      <td>2020-01-01</td>\n",
              "      <td>NC</td>\n",
              "      <td>Navarra</td>\n",
              "      <td>0</td>\n",
              "      <td>0</td>\n",
              "      <td>0</td>\n",
              "      <td>0</td>\n",
              "    </tr>\n",
              "    <tr>\n",
              "      <th>18</th>\n",
              "      <td>2020-01-01</td>\n",
              "      <td>PV</td>\n",
              "      <td>País Vasco</td>\n",
              "      <td>0</td>\n",
              "      <td>0</td>\n",
              "      <td>0</td>\n",
              "      <td>0</td>\n",
              "    </tr>\n",
              "    <tr>\n",
              "      <th>19</th>\n",
              "      <td>2020-01-01</td>\n",
              "      <td>NaN</td>\n",
              "      <td>No Consta</td>\n",
              "      <td>0</td>\n",
              "      <td>0</td>\n",
              "      <td>0</td>\n",
              "      <td>0</td>\n",
              "    </tr>\n",
              "  </tbody>\n",
              "</table>\n",
              "</div>"
            ],
            "text/plain": [
              "         fecha  iso                  ccaa  ...  hospitalizados  uci  fallecidos\n",
              "0   2020-01-01   ES                España  ...               8    0           0\n",
              "1   2020-01-01   AN             Andalucía  ...               3    0           0\n",
              "2   2020-01-01   AR                Aragón  ...               0    0           0\n",
              "3   2020-01-01   AS              Asturias  ...               0    0           0\n",
              "4   2020-01-01   CN              Canarias  ...               0    0           0\n",
              "5   2020-01-01   CB             Cantabria  ...               0    0           0\n",
              "6   2020-01-01   CL       Castilla y León  ...               0    0           0\n",
              "7   2020-01-01   CM    Castilla-La Mancha  ...               0    0           0\n",
              "8   2020-01-01   CT              Cataluña  ...               1    0           0\n",
              "9   2020-01-01   EA       Ceuta y Melilla  ...               0    0           0\n",
              "10  2020-01-01   VC  Comunidad Valenciana  ...               2    0           0\n",
              "11  2020-01-01   EX           Extremadura  ...               0    0           0\n",
              "12  2020-01-01   GA               Galicia  ...               1    0           0\n",
              "13  2020-01-01   IB        Islas Baleares  ...               0    0           0\n",
              "14  2020-01-01   RI              La Rioja  ...               0    0           0\n",
              "15  2020-01-01   MD                Madrid  ...               1    0           0\n",
              "16  2020-01-01   MC                Murcia  ...               0    0           0\n",
              "17  2020-01-01   NC               Navarra  ...               0    0           0\n",
              "18  2020-01-01   PV            País Vasco  ...               0    0           0\n",
              "19  2020-01-01  NaN             No Consta  ...               0    0           0\n",
              "\n",
              "[20 rows x 7 columns]"
            ]
          },
          "metadata": {},
          "execution_count": 6
        }
      ]
    },
    {
      "cell_type": "code",
      "metadata": {
        "colab": {
          "base_uri": "https://localhost:8080/"
        },
        "id": "0PSbOKVNz8_c",
        "outputId": "fe7a7de3-12a2-4cd1-c0d9-a0156ff4009e"
      },
      "source": [
        "df_covid.info()"
      ],
      "execution_count": null,
      "outputs": [
        {
          "output_type": "stream",
          "name": "stdout",
          "text": [
            "<class 'pandas.core.frame.DataFrame'>\n",
            "RangeIndex: 12200 entries, 0 to 12199\n",
            "Data columns (total 7 columns):\n",
            " #   Column          Non-Null Count  Dtype   \n",
            "---  ------          --------------  -----   \n",
            " 0   fecha           12200 non-null  object  \n",
            " 1   iso             11590 non-null  category\n",
            " 2   ccaa            12200 non-null  category\n",
            " 3   confirmados     12200 non-null  int32   \n",
            " 4   hospitalizados  12200 non-null  int32   \n",
            " 5   uci             12200 non-null  int32   \n",
            " 6   fallecidos      12200 non-null  int32   \n",
            "dtypes: category(2), int32(4), object(1)\n",
            "memory usage: 311.4+ KB\n"
          ]
        }
      ]
    },
    {
      "cell_type": "code",
      "metadata": {
        "colab": {
          "base_uri": "https://localhost:8080/",
          "height": 203
        },
        "id": "Un4VXnAAhOyA",
        "outputId": "3c61496e-b319-454e-be3d-50fcd621814f"
      },
      "source": [
        "#FILTRAMOS POR VALORES DE ESPAÑA\n",
        "df_clima_es = archivo1[archivo1.key.str[:3] == 'ES_']\n",
        "df_clima_es.head()"
      ],
      "execution_count": null,
      "outputs": [
        {
          "output_type": "execute_result",
          "data": {
            "text/html": [
              "<div>\n",
              "<style scoped>\n",
              "    .dataframe tbody tr th:only-of-type {\n",
              "        vertical-align: middle;\n",
              "    }\n",
              "\n",
              "    .dataframe tbody tr th {\n",
              "        vertical-align: top;\n",
              "    }\n",
              "\n",
              "    .dataframe thead th {\n",
              "        text-align: right;\n",
              "    }\n",
              "</style>\n",
              "<table border=\"1\" class=\"dataframe\">\n",
              "  <thead>\n",
              "    <tr style=\"text-align: right;\">\n",
              "      <th></th>\n",
              "      <th>date</th>\n",
              "      <th>key</th>\n",
              "      <th>noaa_station</th>\n",
              "      <th>noaa_distance</th>\n",
              "      <th>average_temperature</th>\n",
              "      <th>minimum_temperature</th>\n",
              "      <th>maximum_temperature</th>\n",
              "      <th>rainfall</th>\n",
              "      <th>snowfall</th>\n",
              "      <th>dew_point</th>\n",
              "      <th>relative_humidity</th>\n",
              "    </tr>\n",
              "  </thead>\n",
              "  <tbody>\n",
              "    <tr>\n",
              "      <th>8646</th>\n",
              "      <td>2020-01-01</td>\n",
              "      <td>ES_AN</td>\n",
              "      <td>08419099999</td>\n",
              "      <td>45.345976</td>\n",
              "      <td>8.402778</td>\n",
              "      <td>2.812500</td>\n",
              "      <td>16.409722</td>\n",
              "      <td>0.00000</td>\n",
              "      <td>NaN</td>\n",
              "      <td>4.562500</td>\n",
              "      <td>76.986560</td>\n",
              "    </tr>\n",
              "    <tr>\n",
              "      <th>8647</th>\n",
              "      <td>2020-01-01</td>\n",
              "      <td>ES_AR</td>\n",
              "      <td>08233099999</td>\n",
              "      <td>26.275638</td>\n",
              "      <td>1.097222</td>\n",
              "      <td>-1.854167</td>\n",
              "      <td>7.493056</td>\n",
              "      <td>0.00000</td>\n",
              "      <td>NaN</td>\n",
              "      <td>-1.571429</td>\n",
              "      <td>83.099552</td>\n",
              "    </tr>\n",
              "    <tr>\n",
              "      <th>8648</th>\n",
              "      <td>2020-01-01</td>\n",
              "      <td>ES_AS</td>\n",
              "      <td>08015099999</td>\n",
              "      <td>10.917524</td>\n",
              "      <td>4.319444</td>\n",
              "      <td>0.270833</td>\n",
              "      <td>10.152778</td>\n",
              "      <td>0.03175</td>\n",
              "      <td>NaN</td>\n",
              "      <td>2.381944</td>\n",
              "      <td>87.497387</td>\n",
              "    </tr>\n",
              "    <tr>\n",
              "      <th>8649</th>\n",
              "      <td>2020-01-01</td>\n",
              "      <td>ES_CB</td>\n",
              "      <td>08021099999</td>\n",
              "      <td>17.896943</td>\n",
              "      <td>4.141975</td>\n",
              "      <td>-0.388889</td>\n",
              "      <td>10.333333</td>\n",
              "      <td>0.00000</td>\n",
              "      <td>NaN</td>\n",
              "      <td>1.567901</td>\n",
              "      <td>83.792949</td>\n",
              "    </tr>\n",
              "    <tr>\n",
              "      <th>8650</th>\n",
              "      <td>2020-01-01</td>\n",
              "      <td>ES_CE</td>\n",
              "      <td>60320099999</td>\n",
              "      <td>5.628310</td>\n",
              "      <td>13.672840</td>\n",
              "      <td>10.117284</td>\n",
              "      <td>17.611111</td>\n",
              "      <td>0.00000</td>\n",
              "      <td>NaN</td>\n",
              "      <td>9.049383</td>\n",
              "      <td>73.775605</td>\n",
              "    </tr>\n",
              "  </tbody>\n",
              "</table>\n",
              "</div>"
            ],
            "text/plain": [
              "            date    key noaa_station  ...  snowfall  dew_point  relative_humidity\n",
              "8646  2020-01-01  ES_AN  08419099999  ...       NaN   4.562500          76.986560\n",
              "8647  2020-01-01  ES_AR  08233099999  ...       NaN  -1.571429          83.099552\n",
              "8648  2020-01-01  ES_AS  08015099999  ...       NaN   2.381944          87.497387\n",
              "8649  2020-01-01  ES_CB  08021099999  ...       NaN   1.567901          83.792949\n",
              "8650  2020-01-01  ES_CE  60320099999  ...       NaN   9.049383          73.775605\n",
              "\n",
              "[5 rows x 11 columns]"
            ]
          },
          "metadata": {},
          "execution_count": 334
        }
      ]
    },
    {
      "cell_type": "code",
      "metadata": {
        "id": "Ueo-sOP5hb10"
      },
      "source": [
        "df_clima_es_1 = df_clima_es[df_clima_es['key'].str.len() <= 5]"
      ],
      "execution_count": null,
      "outputs": []
    },
    {
      "cell_type": "code",
      "metadata": {
        "colab": {
          "base_uri": "https://localhost:8080/",
          "height": 766
        },
        "id": "uOO6lIvuheva",
        "outputId": "1d06314e-21bf-4be0-cf09-39aa2ebc7e86"
      },
      "source": [
        "#AJUSTAMOS LAS KEYS PARA QUE CONTENGAN EL NOMBRE DE LA COMUNIDAD AUTÓNOMA\n",
        "df_clima_es_1.loc[df_clima_es_1.key == \"ES_AN\", \"key\"] = \"Andalucía\"\n",
        "df_clima_es_1.loc[df_clima_es_1.key == \"ES_AR\", \"key\"] = \"Aragón\"\n",
        "df_clima_es_1.loc[df_clima_es_1.key == \"ES_AS\", \"key\"] = \"Asturias\"\n",
        "df_clima_es_1.loc[df_clima_es_1.key == \"ES_CB\", \"key\"] = \"Cantabria\"\n",
        "df_clima_es_1.loc[df_clima_es_1.key == \"ES_CE\", \"key\"] = \"Ceuta y Melilla\"\n",
        "df_clima_es_1.loc[df_clima_es_1.key == \"ES_CL\", \"key\"] = \"Castilla y León\"\n",
        "df_clima_es_1.loc[df_clima_es_1.key == \"ES_CM\", \"key\"] = \"Castilla-La Mancha\"\n",
        "df_clima_es_1.loc[df_clima_es_1.key == \"ES_CN\", \"key\"] = \"Canarias\"\n",
        "df_clima_es_1.loc[df_clima_es_1.key == \"ES_CT\", \"key\"] = \"Cataluña\"\n",
        "df_clima_es_1.loc[df_clima_es_1.key == \"ES_EX\", \"key\"] = \"Extremadura\"\n",
        "df_clima_es_1.loc[df_clima_es_1.key == \"ES_GA\", \"key\"] = \"Galicia\"\n",
        "df_clima_es_1.loc[df_clima_es_1.key == \"ES_IB\", \"key\"] = \"Islas Baleares\"\n",
        "df_clima_es_1.loc[df_clima_es_1.key == \"ES_MC\", \"key\"] = \"Murcia\"\n",
        "df_clima_es_1.loc[df_clima_es_1.key == \"ES_MD\", \"key\"] = \"Madrid\"\n",
        "df_clima_es_1.loc[df_clima_es_1.key == \"ES_ML\", \"key\"] = \"Ceuta y Melilla\"\n",
        "df_clima_es_1.loc[df_clima_es_1.key == \"ES_NC\", \"key\"] = \"Navarra\"\n",
        "df_clima_es_1.loc[df_clima_es_1.key == \"ES_PV\", \"key\"] = \"País Vasco\"\n",
        "df_clima_es_1.loc[df_clima_es_1.key == \"ES_RI\", \"key\"] = \"La Rioja\"\n",
        "df_clima_es_1.loc[df_clima_es_1.key == \"ES_VC\", \"key\"] = \"Comunidad Valenciana\"\n",
        "\n",
        "df_clima_es_1.head(20)"
      ],
      "execution_count": null,
      "outputs": [
        {
          "output_type": "stream",
          "name": "stderr",
          "text": [
            "/usr/local/lib/python3.7/dist-packages/pandas/core/indexing.py:1763: SettingWithCopyWarning: \n",
            "A value is trying to be set on a copy of a slice from a DataFrame.\n",
            "Try using .loc[row_indexer,col_indexer] = value instead\n",
            "\n",
            "See the caveats in the documentation: https://pandas.pydata.org/pandas-docs/stable/user_guide/indexing.html#returning-a-view-versus-a-copy\n",
            "  isetter(loc, value)\n"
          ]
        },
        {
          "output_type": "execute_result",
          "data": {
            "text/html": [
              "<div>\n",
              "<style scoped>\n",
              "    .dataframe tbody tr th:only-of-type {\n",
              "        vertical-align: middle;\n",
              "    }\n",
              "\n",
              "    .dataframe tbody tr th {\n",
              "        vertical-align: top;\n",
              "    }\n",
              "\n",
              "    .dataframe thead th {\n",
              "        text-align: right;\n",
              "    }\n",
              "</style>\n",
              "<table border=\"1\" class=\"dataframe\">\n",
              "  <thead>\n",
              "    <tr style=\"text-align: right;\">\n",
              "      <th></th>\n",
              "      <th>date</th>\n",
              "      <th>key</th>\n",
              "      <th>noaa_station</th>\n",
              "      <th>noaa_distance</th>\n",
              "      <th>average_temperature</th>\n",
              "      <th>minimum_temperature</th>\n",
              "      <th>maximum_temperature</th>\n",
              "      <th>rainfall</th>\n",
              "      <th>snowfall</th>\n",
              "      <th>dew_point</th>\n",
              "      <th>relative_humidity</th>\n",
              "    </tr>\n",
              "  </thead>\n",
              "  <tbody>\n",
              "    <tr>\n",
              "      <th>8646</th>\n",
              "      <td>2020-01-01</td>\n",
              "      <td>Andalucía</td>\n",
              "      <td>08419099999</td>\n",
              "      <td>45.345976</td>\n",
              "      <td>8.402778</td>\n",
              "      <td>2.812500</td>\n",
              "      <td>16.409722</td>\n",
              "      <td>0.000000</td>\n",
              "      <td>NaN</td>\n",
              "      <td>4.562500</td>\n",
              "      <td>76.986560</td>\n",
              "    </tr>\n",
              "    <tr>\n",
              "      <th>8647</th>\n",
              "      <td>2020-01-01</td>\n",
              "      <td>Aragón</td>\n",
              "      <td>08233099999</td>\n",
              "      <td>26.275638</td>\n",
              "      <td>1.097222</td>\n",
              "      <td>-1.854167</td>\n",
              "      <td>7.493056</td>\n",
              "      <td>0.000000</td>\n",
              "      <td>NaN</td>\n",
              "      <td>-1.571429</td>\n",
              "      <td>83.099552</td>\n",
              "    </tr>\n",
              "    <tr>\n",
              "      <th>8648</th>\n",
              "      <td>2020-01-01</td>\n",
              "      <td>Asturias</td>\n",
              "      <td>08015099999</td>\n",
              "      <td>10.917524</td>\n",
              "      <td>4.319444</td>\n",
              "      <td>0.270833</td>\n",
              "      <td>10.152778</td>\n",
              "      <td>0.031750</td>\n",
              "      <td>NaN</td>\n",
              "      <td>2.381944</td>\n",
              "      <td>87.497387</td>\n",
              "    </tr>\n",
              "    <tr>\n",
              "      <th>8649</th>\n",
              "      <td>2020-01-01</td>\n",
              "      <td>Cantabria</td>\n",
              "      <td>08021099999</td>\n",
              "      <td>17.896943</td>\n",
              "      <td>4.141975</td>\n",
              "      <td>-0.388889</td>\n",
              "      <td>10.333333</td>\n",
              "      <td>0.000000</td>\n",
              "      <td>NaN</td>\n",
              "      <td>1.567901</td>\n",
              "      <td>83.792949</td>\n",
              "    </tr>\n",
              "    <tr>\n",
              "      <th>8650</th>\n",
              "      <td>2020-01-01</td>\n",
              "      <td>Ceuta y Melilla</td>\n",
              "      <td>60320099999</td>\n",
              "      <td>5.628310</td>\n",
              "      <td>13.672840</td>\n",
              "      <td>10.117284</td>\n",
              "      <td>17.611111</td>\n",
              "      <td>0.000000</td>\n",
              "      <td>NaN</td>\n",
              "      <td>9.049383</td>\n",
              "      <td>73.775605</td>\n",
              "    </tr>\n",
              "    <tr>\n",
              "      <th>8651</th>\n",
              "      <td>2020-01-01</td>\n",
              "      <td>Castilla y León</td>\n",
              "      <td>08141099999</td>\n",
              "      <td>37.358106</td>\n",
              "      <td>3.227778</td>\n",
              "      <td>-0.927778</td>\n",
              "      <td>11.500000</td>\n",
              "      <td>0.000000</td>\n",
              "      <td>NaN</td>\n",
              "      <td>-3.116667</td>\n",
              "      <td>71.034165</td>\n",
              "    </tr>\n",
              "    <tr>\n",
              "      <th>8652</th>\n",
              "      <td>2020-01-01</td>\n",
              "      <td>Castilla-La Mancha</td>\n",
              "      <td>08231099999</td>\n",
              "      <td>97.311812</td>\n",
              "      <td>3.955556</td>\n",
              "      <td>-0.761111</td>\n",
              "      <td>11.166667</td>\n",
              "      <td>0.000000</td>\n",
              "      <td>NaN</td>\n",
              "      <td>1.567901</td>\n",
              "      <td>86.483125</td>\n",
              "    </tr>\n",
              "    <tr>\n",
              "      <th>8653</th>\n",
              "      <td>2020-01-01</td>\n",
              "      <td>Canarias</td>\n",
              "      <td>60020099999</td>\n",
              "      <td>49.901717</td>\n",
              "      <td>16.627778</td>\n",
              "      <td>13.388889</td>\n",
              "      <td>19.466667</td>\n",
              "      <td>0.000000</td>\n",
              "      <td>NaN</td>\n",
              "      <td>3.844444</td>\n",
              "      <td>45.436329</td>\n",
              "    </tr>\n",
              "    <tr>\n",
              "      <th>8746</th>\n",
              "      <td>2020-01-01</td>\n",
              "      <td>Cataluña</td>\n",
              "      <td>08186099999</td>\n",
              "      <td>49.496159</td>\n",
              "      <td>5.409722</td>\n",
              "      <td>2.111111</td>\n",
              "      <td>9.722222</td>\n",
              "      <td>1.415143</td>\n",
              "      <td>NaN</td>\n",
              "      <td>1.520833</td>\n",
              "      <td>78.354407</td>\n",
              "    </tr>\n",
              "    <tr>\n",
              "      <th>9830</th>\n",
              "      <td>2020-01-01</td>\n",
              "      <td>Extremadura</td>\n",
              "      <td>08261099999</td>\n",
              "      <td>33.613475</td>\n",
              "      <td>6.166667</td>\n",
              "      <td>2.061728</td>\n",
              "      <td>12.462963</td>\n",
              "      <td>0.000000</td>\n",
              "      <td>NaN</td>\n",
              "      <td>3.006173</td>\n",
              "      <td>84.435759</td>\n",
              "    </tr>\n",
              "    <tr>\n",
              "      <th>9831</th>\n",
              "      <td>2020-01-01</td>\n",
              "      <td>Galicia</td>\n",
              "      <td>08042099999</td>\n",
              "      <td>28.616222</td>\n",
              "      <td>4.055556</td>\n",
              "      <td>0.808642</td>\n",
              "      <td>8.790123</td>\n",
              "      <td>0.112889</td>\n",
              "      <td>NaN</td>\n",
              "      <td>-0.641975</td>\n",
              "      <td>81.619333</td>\n",
              "    </tr>\n",
              "    <tr>\n",
              "      <th>9832</th>\n",
              "      <td>2020-01-01</td>\n",
              "      <td>Islas Baleares</td>\n",
              "      <td>08306099999</td>\n",
              "      <td>23.573172</td>\n",
              "      <td>8.561728</td>\n",
              "      <td>3.975309</td>\n",
              "      <td>13.216049</td>\n",
              "      <td>0.000000</td>\n",
              "      <td>NaN</td>\n",
              "      <td>5.672840</td>\n",
              "      <td>82.373977</td>\n",
              "    </tr>\n",
              "    <tr>\n",
              "      <th>9833</th>\n",
              "      <td>2020-01-01</td>\n",
              "      <td>Murcia</td>\n",
              "      <td>08430099999</td>\n",
              "      <td>58.404166</td>\n",
              "      <td>8.402778</td>\n",
              "      <td>3.708333</td>\n",
              "      <td>15.298611</td>\n",
              "      <td>0.000000</td>\n",
              "      <td>NaN</td>\n",
              "      <td>5.673611</td>\n",
              "      <td>83.405271</td>\n",
              "    </tr>\n",
              "    <tr>\n",
              "      <th>9834</th>\n",
              "      <td>2020-01-01</td>\n",
              "      <td>Madrid</td>\n",
              "      <td>08222099999</td>\n",
              "      <td>1.123194</td>\n",
              "      <td>5.305556</td>\n",
              "      <td>0.261111</td>\n",
              "      <td>12.894444</td>\n",
              "      <td>0.000000</td>\n",
              "      <td>NaN</td>\n",
              "      <td>-0.722222</td>\n",
              "      <td>71.844767</td>\n",
              "    </tr>\n",
              "    <tr>\n",
              "      <th>10013</th>\n",
              "      <td>2020-01-01</td>\n",
              "      <td>Ceuta y Melilla</td>\n",
              "      <td>60338099999</td>\n",
              "      <td>0.820365</td>\n",
              "      <td>10.444444</td>\n",
              "      <td>4.358025</td>\n",
              "      <td>17.364198</td>\n",
              "      <td>0.000000</td>\n",
              "      <td>NaN</td>\n",
              "      <td>6.090278</td>\n",
              "      <td>75.238744</td>\n",
              "    </tr>\n",
              "    <tr>\n",
              "      <th>10014</th>\n",
              "      <td>2020-01-01</td>\n",
              "      <td>Navarra</td>\n",
              "      <td>08085099999</td>\n",
              "      <td>5.201020</td>\n",
              "      <td>5.083333</td>\n",
              "      <td>2.319444</td>\n",
              "      <td>7.756944</td>\n",
              "      <td>0.000000</td>\n",
              "      <td>NaN</td>\n",
              "      <td>3.317460</td>\n",
              "      <td>85.573550</td>\n",
              "    </tr>\n",
              "    <tr>\n",
              "      <th>10015</th>\n",
              "      <td>2020-01-01</td>\n",
              "      <td>País Vasco</td>\n",
              "      <td>08080099999</td>\n",
              "      <td>14.175633</td>\n",
              "      <td>5.050000</td>\n",
              "      <td>1.177778</td>\n",
              "      <td>9.833333</td>\n",
              "      <td>0.000000</td>\n",
              "      <td>NaN</td>\n",
              "      <td>2.283333</td>\n",
              "      <td>83.137679</td>\n",
              "    </tr>\n",
              "    <tr>\n",
              "      <th>10016</th>\n",
              "      <td>2020-01-01</td>\n",
              "      <td>La Rioja</td>\n",
              "      <td>08084099999</td>\n",
              "      <td>26.140786</td>\n",
              "      <td>2.183333</td>\n",
              "      <td>-0.372222</td>\n",
              "      <td>5.761111</td>\n",
              "      <td>0.000000</td>\n",
              "      <td>NaN</td>\n",
              "      <td>0.364198</td>\n",
              "      <td>87.521356</td>\n",
              "    </tr>\n",
              "    <tr>\n",
              "      <th>10017</th>\n",
              "      <td>2020-01-01</td>\n",
              "      <td>Comunidad Valenciana</td>\n",
              "      <td>08284099999</td>\n",
              "      <td>23.036144</td>\n",
              "      <td>6.569444</td>\n",
              "      <td>1.437500</td>\n",
              "      <td>14.326389</td>\n",
              "      <td>0.000000</td>\n",
              "      <td>NaN</td>\n",
              "      <td>3.611111</td>\n",
              "      <td>81.835282</td>\n",
              "    </tr>\n",
              "    <tr>\n",
              "      <th>30309</th>\n",
              "      <td>2020-01-02</td>\n",
              "      <td>Andalucía</td>\n",
              "      <td>08419099999</td>\n",
              "      <td>45.345976</td>\n",
              "      <td>8.685185</td>\n",
              "      <td>3.290123</td>\n",
              "      <td>15.833333</td>\n",
              "      <td>0.000000</td>\n",
              "      <td>NaN</td>\n",
              "      <td>4.901235</td>\n",
              "      <td>77.633941</td>\n",
              "    </tr>\n",
              "  </tbody>\n",
              "</table>\n",
              "</div>"
            ],
            "text/plain": [
              "             date                   key  ... dew_point  relative_humidity\n",
              "8646   2020-01-01             Andalucía  ...  4.562500          76.986560\n",
              "8647   2020-01-01                Aragón  ... -1.571429          83.099552\n",
              "8648   2020-01-01              Asturias  ...  2.381944          87.497387\n",
              "8649   2020-01-01             Cantabria  ...  1.567901          83.792949\n",
              "8650   2020-01-01       Ceuta y Melilla  ...  9.049383          73.775605\n",
              "8651   2020-01-01       Castilla y León  ... -3.116667          71.034165\n",
              "8652   2020-01-01    Castilla-La Mancha  ...  1.567901          86.483125\n",
              "8653   2020-01-01              Canarias  ...  3.844444          45.436329\n",
              "8746   2020-01-01              Cataluña  ...  1.520833          78.354407\n",
              "9830   2020-01-01           Extremadura  ...  3.006173          84.435759\n",
              "9831   2020-01-01               Galicia  ... -0.641975          81.619333\n",
              "9832   2020-01-01        Islas Baleares  ...  5.672840          82.373977\n",
              "9833   2020-01-01                Murcia  ...  5.673611          83.405271\n",
              "9834   2020-01-01                Madrid  ... -0.722222          71.844767\n",
              "10013  2020-01-01       Ceuta y Melilla  ...  6.090278          75.238744\n",
              "10014  2020-01-01               Navarra  ...  3.317460          85.573550\n",
              "10015  2020-01-01            País Vasco  ...  2.283333          83.137679\n",
              "10016  2020-01-01              La Rioja  ...  0.364198          87.521356\n",
              "10017  2020-01-01  Comunidad Valenciana  ...  3.611111          81.835282\n",
              "30309  2020-01-02             Andalucía  ...  4.901235          77.633941\n",
              "\n",
              "[20 rows x 11 columns]"
            ]
          },
          "metadata": {},
          "execution_count": 337
        }
      ]
    },
    {
      "cell_type": "code",
      "metadata": {
        "colab": {
          "base_uri": "https://localhost:8080/",
          "height": 203
        },
        "id": "iFpIHozHhjFz",
        "outputId": "9055869b-c2b9-47c5-d3e5-010bbc31b87b"
      },
      "source": [
        "#PASAMOS NAs A 0\n",
        "df_clima_total = df_clima_es_1.fillna(0)\n",
        "df_clima_total.head(5)"
      ],
      "execution_count": null,
      "outputs": [
        {
          "output_type": "execute_result",
          "data": {
            "text/html": [
              "<div>\n",
              "<style scoped>\n",
              "    .dataframe tbody tr th:only-of-type {\n",
              "        vertical-align: middle;\n",
              "    }\n",
              "\n",
              "    .dataframe tbody tr th {\n",
              "        vertical-align: top;\n",
              "    }\n",
              "\n",
              "    .dataframe thead th {\n",
              "        text-align: right;\n",
              "    }\n",
              "</style>\n",
              "<table border=\"1\" class=\"dataframe\">\n",
              "  <thead>\n",
              "    <tr style=\"text-align: right;\">\n",
              "      <th></th>\n",
              "      <th>date</th>\n",
              "      <th>key</th>\n",
              "      <th>noaa_station</th>\n",
              "      <th>noaa_distance</th>\n",
              "      <th>average_temperature</th>\n",
              "      <th>minimum_temperature</th>\n",
              "      <th>maximum_temperature</th>\n",
              "      <th>rainfall</th>\n",
              "      <th>snowfall</th>\n",
              "      <th>dew_point</th>\n",
              "      <th>relative_humidity</th>\n",
              "    </tr>\n",
              "  </thead>\n",
              "  <tbody>\n",
              "    <tr>\n",
              "      <th>8646</th>\n",
              "      <td>2020-01-01</td>\n",
              "      <td>Andalucía</td>\n",
              "      <td>08419099999</td>\n",
              "      <td>45.345976</td>\n",
              "      <td>8.402778</td>\n",
              "      <td>2.812500</td>\n",
              "      <td>16.409722</td>\n",
              "      <td>0.00000</td>\n",
              "      <td>0.0</td>\n",
              "      <td>4.562500</td>\n",
              "      <td>76.986560</td>\n",
              "    </tr>\n",
              "    <tr>\n",
              "      <th>8647</th>\n",
              "      <td>2020-01-01</td>\n",
              "      <td>Aragón</td>\n",
              "      <td>08233099999</td>\n",
              "      <td>26.275638</td>\n",
              "      <td>1.097222</td>\n",
              "      <td>-1.854167</td>\n",
              "      <td>7.493056</td>\n",
              "      <td>0.00000</td>\n",
              "      <td>0.0</td>\n",
              "      <td>-1.571429</td>\n",
              "      <td>83.099552</td>\n",
              "    </tr>\n",
              "    <tr>\n",
              "      <th>8648</th>\n",
              "      <td>2020-01-01</td>\n",
              "      <td>Asturias</td>\n",
              "      <td>08015099999</td>\n",
              "      <td>10.917524</td>\n",
              "      <td>4.319444</td>\n",
              "      <td>0.270833</td>\n",
              "      <td>10.152778</td>\n",
              "      <td>0.03175</td>\n",
              "      <td>0.0</td>\n",
              "      <td>2.381944</td>\n",
              "      <td>87.497387</td>\n",
              "    </tr>\n",
              "    <tr>\n",
              "      <th>8649</th>\n",
              "      <td>2020-01-01</td>\n",
              "      <td>Cantabria</td>\n",
              "      <td>08021099999</td>\n",
              "      <td>17.896943</td>\n",
              "      <td>4.141975</td>\n",
              "      <td>-0.388889</td>\n",
              "      <td>10.333333</td>\n",
              "      <td>0.00000</td>\n",
              "      <td>0.0</td>\n",
              "      <td>1.567901</td>\n",
              "      <td>83.792949</td>\n",
              "    </tr>\n",
              "    <tr>\n",
              "      <th>8650</th>\n",
              "      <td>2020-01-01</td>\n",
              "      <td>Ceuta y Melilla</td>\n",
              "      <td>60320099999</td>\n",
              "      <td>5.628310</td>\n",
              "      <td>13.672840</td>\n",
              "      <td>10.117284</td>\n",
              "      <td>17.611111</td>\n",
              "      <td>0.00000</td>\n",
              "      <td>0.0</td>\n",
              "      <td>9.049383</td>\n",
              "      <td>73.775605</td>\n",
              "    </tr>\n",
              "  </tbody>\n",
              "</table>\n",
              "</div>"
            ],
            "text/plain": [
              "            date              key  ... dew_point  relative_humidity\n",
              "8646  2020-01-01        Andalucía  ...  4.562500          76.986560\n",
              "8647  2020-01-01           Aragón  ... -1.571429          83.099552\n",
              "8648  2020-01-01         Asturias  ...  2.381944          87.497387\n",
              "8649  2020-01-01        Cantabria  ...  1.567901          83.792949\n",
              "8650  2020-01-01  Ceuta y Melilla  ...  9.049383          73.775605\n",
              "\n",
              "[5 rows x 11 columns]"
            ]
          },
          "metadata": {},
          "execution_count": 338
        }
      ]
    },
    {
      "cell_type": "code",
      "metadata": {
        "colab": {
          "base_uri": "https://localhost:8080/",
          "height": 203
        },
        "id": "t1GrC3Wuhn-l",
        "outputId": "32c79504-e27d-4d5a-9d77-c905406a73ae"
      },
      "source": [
        "#ELIMINAMOS 2 VARIABLES PARA ANÁLISIS\n",
        "df_clima_final = df_clima_total.drop(columns=['noaa_station','noaa_distance'])\n",
        "df_clima_final.head(5)"
      ],
      "execution_count": null,
      "outputs": [
        {
          "output_type": "execute_result",
          "data": {
            "text/html": [
              "<div>\n",
              "<style scoped>\n",
              "    .dataframe tbody tr th:only-of-type {\n",
              "        vertical-align: middle;\n",
              "    }\n",
              "\n",
              "    .dataframe tbody tr th {\n",
              "        vertical-align: top;\n",
              "    }\n",
              "\n",
              "    .dataframe thead th {\n",
              "        text-align: right;\n",
              "    }\n",
              "</style>\n",
              "<table border=\"1\" class=\"dataframe\">\n",
              "  <thead>\n",
              "    <tr style=\"text-align: right;\">\n",
              "      <th></th>\n",
              "      <th>date</th>\n",
              "      <th>key</th>\n",
              "      <th>average_temperature</th>\n",
              "      <th>minimum_temperature</th>\n",
              "      <th>maximum_temperature</th>\n",
              "      <th>rainfall</th>\n",
              "      <th>snowfall</th>\n",
              "      <th>dew_point</th>\n",
              "      <th>relative_humidity</th>\n",
              "    </tr>\n",
              "  </thead>\n",
              "  <tbody>\n",
              "    <tr>\n",
              "      <th>8646</th>\n",
              "      <td>2020-01-01</td>\n",
              "      <td>Andalucía</td>\n",
              "      <td>8.402778</td>\n",
              "      <td>2.812500</td>\n",
              "      <td>16.409722</td>\n",
              "      <td>0.00000</td>\n",
              "      <td>0.0</td>\n",
              "      <td>4.562500</td>\n",
              "      <td>76.986560</td>\n",
              "    </tr>\n",
              "    <tr>\n",
              "      <th>8647</th>\n",
              "      <td>2020-01-01</td>\n",
              "      <td>Aragón</td>\n",
              "      <td>1.097222</td>\n",
              "      <td>-1.854167</td>\n",
              "      <td>7.493056</td>\n",
              "      <td>0.00000</td>\n",
              "      <td>0.0</td>\n",
              "      <td>-1.571429</td>\n",
              "      <td>83.099552</td>\n",
              "    </tr>\n",
              "    <tr>\n",
              "      <th>8648</th>\n",
              "      <td>2020-01-01</td>\n",
              "      <td>Asturias</td>\n",
              "      <td>4.319444</td>\n",
              "      <td>0.270833</td>\n",
              "      <td>10.152778</td>\n",
              "      <td>0.03175</td>\n",
              "      <td>0.0</td>\n",
              "      <td>2.381944</td>\n",
              "      <td>87.497387</td>\n",
              "    </tr>\n",
              "    <tr>\n",
              "      <th>8649</th>\n",
              "      <td>2020-01-01</td>\n",
              "      <td>Cantabria</td>\n",
              "      <td>4.141975</td>\n",
              "      <td>-0.388889</td>\n",
              "      <td>10.333333</td>\n",
              "      <td>0.00000</td>\n",
              "      <td>0.0</td>\n",
              "      <td>1.567901</td>\n",
              "      <td>83.792949</td>\n",
              "    </tr>\n",
              "    <tr>\n",
              "      <th>8650</th>\n",
              "      <td>2020-01-01</td>\n",
              "      <td>Ceuta y Melilla</td>\n",
              "      <td>13.672840</td>\n",
              "      <td>10.117284</td>\n",
              "      <td>17.611111</td>\n",
              "      <td>0.00000</td>\n",
              "      <td>0.0</td>\n",
              "      <td>9.049383</td>\n",
              "      <td>73.775605</td>\n",
              "    </tr>\n",
              "  </tbody>\n",
              "</table>\n",
              "</div>"
            ],
            "text/plain": [
              "            date              key  ...  dew_point  relative_humidity\n",
              "8646  2020-01-01        Andalucía  ...   4.562500          76.986560\n",
              "8647  2020-01-01           Aragón  ...  -1.571429          83.099552\n",
              "8648  2020-01-01         Asturias  ...   2.381944          87.497387\n",
              "8649  2020-01-01        Cantabria  ...   1.567901          83.792949\n",
              "8650  2020-01-01  Ceuta y Melilla  ...   9.049383          73.775605\n",
              "\n",
              "[5 rows x 9 columns]"
            ]
          },
          "metadata": {},
          "execution_count": 339
        }
      ]
    },
    {
      "cell_type": "code",
      "metadata": {
        "colab": {
          "base_uri": "https://localhost:8080/"
        },
        "id": "KwMlGKmB0IVj",
        "outputId": "7e41c5b9-fa42-46d4-c20f-84b142fded74"
      },
      "source": [
        "df_clima_final.info()"
      ],
      "execution_count": null,
      "outputs": [
        {
          "output_type": "stream",
          "name": "stdout",
          "text": [
            "<class 'pandas.core.frame.DataFrame'>\n",
            "Int64Index: 11615 entries, 8646 to 13206925\n",
            "Data columns (total 9 columns):\n",
            " #   Column               Non-Null Count  Dtype  \n",
            "---  ------               --------------  -----  \n",
            " 0   date                 11615 non-null  object \n",
            " 1   key                  11615 non-null  object \n",
            " 2   average_temperature  11615 non-null  float64\n",
            " 3   minimum_temperature  11615 non-null  float64\n",
            " 4   maximum_temperature  11615 non-null  float64\n",
            " 5   rainfall             11615 non-null  float64\n",
            " 6   snowfall             11615 non-null  float64\n",
            " 7   dew_point            11615 non-null  float64\n",
            " 8   relative_humidity    11615 non-null  float64\n",
            "dtypes: float64(7), object(2)\n",
            "memory usage: 907.4+ KB\n"
          ]
        }
      ]
    },
    {
      "cell_type": "code",
      "metadata": {
        "id": "W_UEJqFCBG5U"
      },
      "source": [
        "df_clima_final['date'] = pd.to_datetime(df_clima_final['date'])\n",
        "df_covid['fecha'] = pd.to_datetime(df_covid['fecha'])"
      ],
      "execution_count": null,
      "outputs": []
    },
    {
      "cell_type": "code",
      "metadata": {
        "colab": {
          "base_uri": "https://localhost:8080/",
          "height": 307
        },
        "id": "aVCuAvrwhqbZ",
        "outputId": "c7536d15-9189-419a-f5f5-a43f448006de"
      },
      "source": [
        "#UNIMOS AMBOS DATAFRAMES\n",
        "df_final1 = pd.merge(df_clima_final, df_covid, how = 'left', left_on=['key','date'], right_on=['ccaa','fecha'])\n",
        "df_final1.head(5)"
      ],
      "execution_count": null,
      "outputs": [
        {
          "output_type": "execute_result",
          "data": {
            "text/html": [
              "<div>\n",
              "<style scoped>\n",
              "    .dataframe tbody tr th:only-of-type {\n",
              "        vertical-align: middle;\n",
              "    }\n",
              "\n",
              "    .dataframe tbody tr th {\n",
              "        vertical-align: top;\n",
              "    }\n",
              "\n",
              "    .dataframe thead th {\n",
              "        text-align: right;\n",
              "    }\n",
              "</style>\n",
              "<table border=\"1\" class=\"dataframe\">\n",
              "  <thead>\n",
              "    <tr style=\"text-align: right;\">\n",
              "      <th></th>\n",
              "      <th>date</th>\n",
              "      <th>key</th>\n",
              "      <th>average_temperature</th>\n",
              "      <th>minimum_temperature</th>\n",
              "      <th>maximum_temperature</th>\n",
              "      <th>rainfall</th>\n",
              "      <th>snowfall</th>\n",
              "      <th>dew_point</th>\n",
              "      <th>relative_humidity</th>\n",
              "      <th>fecha</th>\n",
              "      <th>iso</th>\n",
              "      <th>ccaa</th>\n",
              "      <th>confirmados</th>\n",
              "      <th>hospitalizados</th>\n",
              "      <th>uci</th>\n",
              "      <th>fallecidos</th>\n",
              "    </tr>\n",
              "  </thead>\n",
              "  <tbody>\n",
              "    <tr>\n",
              "      <th>0</th>\n",
              "      <td>2020-01-01</td>\n",
              "      <td>Andalucía</td>\n",
              "      <td>8.402778</td>\n",
              "      <td>2.812500</td>\n",
              "      <td>16.409722</td>\n",
              "      <td>0.00000</td>\n",
              "      <td>0.0</td>\n",
              "      <td>4.562500</td>\n",
              "      <td>76.986560</td>\n",
              "      <td>2020-01-01</td>\n",
              "      <td>AN</td>\n",
              "      <td>Andalucía</td>\n",
              "      <td>0.0</td>\n",
              "      <td>3.0</td>\n",
              "      <td>0.0</td>\n",
              "      <td>0.0</td>\n",
              "    </tr>\n",
              "    <tr>\n",
              "      <th>1</th>\n",
              "      <td>2020-01-01</td>\n",
              "      <td>Aragón</td>\n",
              "      <td>1.097222</td>\n",
              "      <td>-1.854167</td>\n",
              "      <td>7.493056</td>\n",
              "      <td>0.00000</td>\n",
              "      <td>0.0</td>\n",
              "      <td>-1.571429</td>\n",
              "      <td>83.099552</td>\n",
              "      <td>2020-01-01</td>\n",
              "      <td>AR</td>\n",
              "      <td>Aragón</td>\n",
              "      <td>0.0</td>\n",
              "      <td>0.0</td>\n",
              "      <td>0.0</td>\n",
              "      <td>0.0</td>\n",
              "    </tr>\n",
              "    <tr>\n",
              "      <th>2</th>\n",
              "      <td>2020-01-01</td>\n",
              "      <td>Asturias</td>\n",
              "      <td>4.319444</td>\n",
              "      <td>0.270833</td>\n",
              "      <td>10.152778</td>\n",
              "      <td>0.03175</td>\n",
              "      <td>0.0</td>\n",
              "      <td>2.381944</td>\n",
              "      <td>87.497387</td>\n",
              "      <td>2020-01-01</td>\n",
              "      <td>AS</td>\n",
              "      <td>Asturias</td>\n",
              "      <td>0.0</td>\n",
              "      <td>0.0</td>\n",
              "      <td>0.0</td>\n",
              "      <td>0.0</td>\n",
              "    </tr>\n",
              "    <tr>\n",
              "      <th>3</th>\n",
              "      <td>2020-01-01</td>\n",
              "      <td>Cantabria</td>\n",
              "      <td>4.141975</td>\n",
              "      <td>-0.388889</td>\n",
              "      <td>10.333333</td>\n",
              "      <td>0.00000</td>\n",
              "      <td>0.0</td>\n",
              "      <td>1.567901</td>\n",
              "      <td>83.792949</td>\n",
              "      <td>2020-01-01</td>\n",
              "      <td>CB</td>\n",
              "      <td>Cantabria</td>\n",
              "      <td>0.0</td>\n",
              "      <td>0.0</td>\n",
              "      <td>0.0</td>\n",
              "      <td>0.0</td>\n",
              "    </tr>\n",
              "    <tr>\n",
              "      <th>4</th>\n",
              "      <td>2020-01-01</td>\n",
              "      <td>Ceuta y Melilla</td>\n",
              "      <td>13.672840</td>\n",
              "      <td>10.117284</td>\n",
              "      <td>17.611111</td>\n",
              "      <td>0.00000</td>\n",
              "      <td>0.0</td>\n",
              "      <td>9.049383</td>\n",
              "      <td>73.775605</td>\n",
              "      <td>2020-01-01</td>\n",
              "      <td>EA</td>\n",
              "      <td>Ceuta y Melilla</td>\n",
              "      <td>0.0</td>\n",
              "      <td>0.0</td>\n",
              "      <td>0.0</td>\n",
              "      <td>0.0</td>\n",
              "    </tr>\n",
              "  </tbody>\n",
              "</table>\n",
              "</div>"
            ],
            "text/plain": [
              "        date              key  ...  uci  fallecidos\n",
              "0 2020-01-01        Andalucía  ...  0.0         0.0\n",
              "1 2020-01-01           Aragón  ...  0.0         0.0\n",
              "2 2020-01-01         Asturias  ...  0.0         0.0\n",
              "3 2020-01-01        Cantabria  ...  0.0         0.0\n",
              "4 2020-01-01  Ceuta y Melilla  ...  0.0         0.0\n",
              "\n",
              "[5 rows x 16 columns]"
            ]
          },
          "metadata": {},
          "execution_count": 353
        }
      ]
    },
    {
      "cell_type": "code",
      "metadata": {
        "id": "oGEXnFE_H322"
      },
      "source": [
        "df_final = df_final1.loc[df_final1['date'] <='2021-09-01']"
      ],
      "execution_count": null,
      "outputs": []
    },
    {
      "cell_type": "code",
      "metadata": {
        "colab": {
          "base_uri": "https://localhost:8080/"
        },
        "id": "nxbquZ21CRN7",
        "outputId": "acb2a249-bb4e-4632-d545-db077c0f7ad8"
      },
      "source": [
        "df_final.info()"
      ],
      "execution_count": null,
      "outputs": [
        {
          "output_type": "stream",
          "name": "stdout",
          "text": [
            "<class 'pandas.core.frame.DataFrame'>\n",
            "Int64Index: 11558 entries, 0 to 11557\n",
            "Data columns (total 16 columns):\n",
            " #   Column               Non-Null Count  Dtype         \n",
            "---  ------               --------------  -----         \n",
            " 0   date                 11558 non-null  datetime64[ns]\n",
            " 1   key                  11558 non-null  object        \n",
            " 2   average_temperature  11558 non-null  float64       \n",
            " 3   minimum_temperature  11558 non-null  float64       \n",
            " 4   maximum_temperature  11558 non-null  float64       \n",
            " 5   rainfall             11558 non-null  float64       \n",
            " 6   snowfall             11558 non-null  float64       \n",
            " 7   dew_point            11558 non-null  float64       \n",
            " 8   relative_humidity    11558 non-null  float64       \n",
            " 9   fecha                11558 non-null  datetime64[ns]\n",
            " 10  iso                  11558 non-null  category      \n",
            " 11  ccaa                 11558 non-null  category      \n",
            " 12  confirmados          11558 non-null  float64       \n",
            " 13  hospitalizados       11558 non-null  float64       \n",
            " 14  uci                  11558 non-null  float64       \n",
            " 15  fallecidos           11558 non-null  float64       \n",
            "dtypes: category(2), datetime64[ns](2), float64(11), object(1)\n",
            "memory usage: 1.3+ MB\n"
          ]
        }
      ]
    },
    {
      "cell_type": "code",
      "metadata": {
        "colab": {
          "base_uri": "https://localhost:8080/"
        },
        "id": "ffS0hUTrhxGz",
        "outputId": "8376972b-7c8b-4eb8-9c93-8361ab9ffa6c"
      },
      "source": [
        "df_final.isnull().sum()"
      ],
      "execution_count": null,
      "outputs": [
        {
          "output_type": "execute_result",
          "data": {
            "text/plain": [
              "date                   0\n",
              "key                    0\n",
              "average_temperature    0\n",
              "minimum_temperature    0\n",
              "maximum_temperature    0\n",
              "rainfall               0\n",
              "snowfall               0\n",
              "dew_point              0\n",
              "relative_humidity      0\n",
              "fecha                  0\n",
              "iso                    0\n",
              "ccaa                   0\n",
              "confirmados            0\n",
              "hospitalizados         0\n",
              "uci                    0\n",
              "fallecidos             0\n",
              "dtype: int64"
            ]
          },
          "metadata": {},
          "execution_count": 377
        }
      ]
    },
    {
      "cell_type": "code",
      "metadata": {
        "colab": {
          "base_uri": "https://localhost:8080/",
          "height": 315
        },
        "id": "ym4QgFuMhzko",
        "outputId": "e89f5bc5-4ccf-4498-d015-c08fdbb35d59"
      },
      "source": [
        "df_final.describe()"
      ],
      "execution_count": null,
      "outputs": [
        {
          "output_type": "execute_result",
          "data": {
            "text/html": [
              "<div>\n",
              "<style scoped>\n",
              "    .dataframe tbody tr th:only-of-type {\n",
              "        vertical-align: middle;\n",
              "    }\n",
              "\n",
              "    .dataframe tbody tr th {\n",
              "        vertical-align: top;\n",
              "    }\n",
              "\n",
              "    .dataframe thead th {\n",
              "        text-align: right;\n",
              "    }\n",
              "</style>\n",
              "<table border=\"1\" class=\"dataframe\">\n",
              "  <thead>\n",
              "    <tr style=\"text-align: right;\">\n",
              "      <th></th>\n",
              "      <th>average_temperature</th>\n",
              "      <th>minimum_temperature</th>\n",
              "      <th>maximum_temperature</th>\n",
              "      <th>rainfall</th>\n",
              "      <th>snowfall</th>\n",
              "      <th>dew_point</th>\n",
              "      <th>relative_humidity</th>\n",
              "      <th>confirmados</th>\n",
              "      <th>hospitalizados</th>\n",
              "      <th>uci</th>\n",
              "      <th>fallecidos</th>\n",
              "    </tr>\n",
              "  </thead>\n",
              "  <tbody>\n",
              "    <tr>\n",
              "      <th>count</th>\n",
              "      <td>11558.000000</td>\n",
              "      <td>11558.000000</td>\n",
              "      <td>11558.000000</td>\n",
              "      <td>11558.000000</td>\n",
              "      <td>11558.000000</td>\n",
              "      <td>11558.000000</td>\n",
              "      <td>11558.000000</td>\n",
              "      <td>11558.000000</td>\n",
              "      <td>11558.000000</td>\n",
              "      <td>11558.000000</td>\n",
              "      <td>11558.000000</td>\n",
              "    </tr>\n",
              "    <tr>\n",
              "      <th>mean</th>\n",
              "      <td>15.924659</td>\n",
              "      <td>10.857545</td>\n",
              "      <td>21.321729</td>\n",
              "      <td>1.682509</td>\n",
              "      <td>5.023192</td>\n",
              "      <td>9.118041</td>\n",
              "      <td>67.006705</td>\n",
              "      <td>91319.576051</td>\n",
              "      <td>10652.815712</td>\n",
              "      <td>964.722097</td>\n",
              "      <td>2405.116629</td>\n",
              "    </tr>\n",
              "    <tr>\n",
              "      <th>std</th>\n",
              "      <td>6.566526</td>\n",
              "      <td>6.012150</td>\n",
              "      <td>7.309613</td>\n",
              "      <td>3.941334</td>\n",
              "      <td>37.165679</td>\n",
              "      <td>5.013482</td>\n",
              "      <td>14.285959</td>\n",
              "      <td>161417.595062</td>\n",
              "      <td>17627.916125</td>\n",
              "      <td>1429.892331</td>\n",
              "      <td>3552.728216</td>\n",
              "    </tr>\n",
              "    <tr>\n",
              "      <th>min</th>\n",
              "      <td>-4.432099</td>\n",
              "      <td>-11.141975</td>\n",
              "      <td>-1.648148</td>\n",
              "      <td>0.000000</td>\n",
              "      <td>0.000000</td>\n",
              "      <td>-8.185185</td>\n",
              "      <td>0.000000</td>\n",
              "      <td>0.000000</td>\n",
              "      <td>0.000000</td>\n",
              "      <td>0.000000</td>\n",
              "      <td>0.000000</td>\n",
              "    </tr>\n",
              "    <tr>\n",
              "      <th>25%</th>\n",
              "      <td>10.987654</td>\n",
              "      <td>6.416667</td>\n",
              "      <td>15.993981</td>\n",
              "      <td>0.000000</td>\n",
              "      <td>0.000000</td>\n",
              "      <td>5.833333</td>\n",
              "      <td>58.825235</td>\n",
              "      <td>3481.750000</td>\n",
              "      <td>1012.250000</td>\n",
              "      <td>113.000000</td>\n",
              "      <td>204.000000</td>\n",
              "    </tr>\n",
              "    <tr>\n",
              "      <th>50%</th>\n",
              "      <td>15.570436</td>\n",
              "      <td>10.807099</td>\n",
              "      <td>20.654321</td>\n",
              "      <td>0.050800</td>\n",
              "      <td>0.000000</td>\n",
              "      <td>9.256250</td>\n",
              "      <td>68.974508</td>\n",
              "      <td>24183.500000</td>\n",
              "      <td>4313.500000</td>\n",
              "      <td>446.000000</td>\n",
              "      <td>808.000000</td>\n",
              "    </tr>\n",
              "    <tr>\n",
              "      <th>75%</th>\n",
              "      <td>20.944444</td>\n",
              "      <td>15.394908</td>\n",
              "      <td>26.868056</td>\n",
              "      <td>1.340303</td>\n",
              "      <td>0.000000</td>\n",
              "      <td>12.694444</td>\n",
              "      <td>77.476539</td>\n",
              "      <td>94835.750000</td>\n",
              "      <td>11718.500000</td>\n",
              "      <td>1173.000000</td>\n",
              "      <td>2904.750000</td>\n",
              "    </tr>\n",
              "    <tr>\n",
              "      <th>max</th>\n",
              "      <td>34.475309</td>\n",
              "      <td>27.604938</td>\n",
              "      <td>43.191358</td>\n",
              "      <td>51.110444</td>\n",
              "      <td>909.320000</td>\n",
              "      <td>22.993827</td>\n",
              "      <td>98.902001</td>\n",
              "      <td>889103.000000</td>\n",
              "      <td>109279.000000</td>\n",
              "      <td>8339.000000</td>\n",
              "      <td>15919.000000</td>\n",
              "    </tr>\n",
              "  </tbody>\n",
              "</table>\n",
              "</div>"
            ],
            "text/plain": [
              "       average_temperature  minimum_temperature  ...           uci    fallecidos\n",
              "count         11558.000000         11558.000000  ...  11558.000000  11558.000000\n",
              "mean             15.924659            10.857545  ...    964.722097   2405.116629\n",
              "std               6.566526             6.012150  ...   1429.892331   3552.728216\n",
              "min              -4.432099           -11.141975  ...      0.000000      0.000000\n",
              "25%              10.987654             6.416667  ...    113.000000    204.000000\n",
              "50%              15.570436            10.807099  ...    446.000000    808.000000\n",
              "75%              20.944444            15.394908  ...   1173.000000   2904.750000\n",
              "max              34.475309            27.604938  ...   8339.000000  15919.000000\n",
              "\n",
              "[8 rows x 11 columns]"
            ]
          },
          "metadata": {},
          "execution_count": 378
        }
      ]
    },
    {
      "cell_type": "code",
      "metadata": {
        "colab": {
          "base_uri": "https://localhost:8080/",
          "height": 287
        },
        "id": "unz0d910iRKV",
        "outputId": "ca48d09c-8101-423d-f04e-9506da580441"
      },
      "source": [
        "df_final_1 = df_final.drop(columns=['iso','key','date'])\n",
        "df_final_1.head(5)"
      ],
      "execution_count": null,
      "outputs": [
        {
          "output_type": "execute_result",
          "data": {
            "text/html": [
              "<div>\n",
              "<style scoped>\n",
              "    .dataframe tbody tr th:only-of-type {\n",
              "        vertical-align: middle;\n",
              "    }\n",
              "\n",
              "    .dataframe tbody tr th {\n",
              "        vertical-align: top;\n",
              "    }\n",
              "\n",
              "    .dataframe thead th {\n",
              "        text-align: right;\n",
              "    }\n",
              "</style>\n",
              "<table border=\"1\" class=\"dataframe\">\n",
              "  <thead>\n",
              "    <tr style=\"text-align: right;\">\n",
              "      <th></th>\n",
              "      <th>average_temperature</th>\n",
              "      <th>minimum_temperature</th>\n",
              "      <th>maximum_temperature</th>\n",
              "      <th>rainfall</th>\n",
              "      <th>snowfall</th>\n",
              "      <th>dew_point</th>\n",
              "      <th>relative_humidity</th>\n",
              "      <th>fecha</th>\n",
              "      <th>ccaa</th>\n",
              "      <th>confirmados</th>\n",
              "      <th>hospitalizados</th>\n",
              "      <th>uci</th>\n",
              "      <th>fallecidos</th>\n",
              "    </tr>\n",
              "  </thead>\n",
              "  <tbody>\n",
              "    <tr>\n",
              "      <th>0</th>\n",
              "      <td>8.402778</td>\n",
              "      <td>2.812500</td>\n",
              "      <td>16.409722</td>\n",
              "      <td>0.00000</td>\n",
              "      <td>0.0</td>\n",
              "      <td>4.562500</td>\n",
              "      <td>76.986560</td>\n",
              "      <td>2020-01-01</td>\n",
              "      <td>Andalucía</td>\n",
              "      <td>0.0</td>\n",
              "      <td>3.0</td>\n",
              "      <td>0.0</td>\n",
              "      <td>0.0</td>\n",
              "    </tr>\n",
              "    <tr>\n",
              "      <th>1</th>\n",
              "      <td>1.097222</td>\n",
              "      <td>-1.854167</td>\n",
              "      <td>7.493056</td>\n",
              "      <td>0.00000</td>\n",
              "      <td>0.0</td>\n",
              "      <td>-1.571429</td>\n",
              "      <td>83.099552</td>\n",
              "      <td>2020-01-01</td>\n",
              "      <td>Aragón</td>\n",
              "      <td>0.0</td>\n",
              "      <td>0.0</td>\n",
              "      <td>0.0</td>\n",
              "      <td>0.0</td>\n",
              "    </tr>\n",
              "    <tr>\n",
              "      <th>2</th>\n",
              "      <td>4.319444</td>\n",
              "      <td>0.270833</td>\n",
              "      <td>10.152778</td>\n",
              "      <td>0.03175</td>\n",
              "      <td>0.0</td>\n",
              "      <td>2.381944</td>\n",
              "      <td>87.497387</td>\n",
              "      <td>2020-01-01</td>\n",
              "      <td>Asturias</td>\n",
              "      <td>0.0</td>\n",
              "      <td>0.0</td>\n",
              "      <td>0.0</td>\n",
              "      <td>0.0</td>\n",
              "    </tr>\n",
              "    <tr>\n",
              "      <th>3</th>\n",
              "      <td>4.141975</td>\n",
              "      <td>-0.388889</td>\n",
              "      <td>10.333333</td>\n",
              "      <td>0.00000</td>\n",
              "      <td>0.0</td>\n",
              "      <td>1.567901</td>\n",
              "      <td>83.792949</td>\n",
              "      <td>2020-01-01</td>\n",
              "      <td>Cantabria</td>\n",
              "      <td>0.0</td>\n",
              "      <td>0.0</td>\n",
              "      <td>0.0</td>\n",
              "      <td>0.0</td>\n",
              "    </tr>\n",
              "    <tr>\n",
              "      <th>4</th>\n",
              "      <td>13.672840</td>\n",
              "      <td>10.117284</td>\n",
              "      <td>17.611111</td>\n",
              "      <td>0.00000</td>\n",
              "      <td>0.0</td>\n",
              "      <td>9.049383</td>\n",
              "      <td>73.775605</td>\n",
              "      <td>2020-01-01</td>\n",
              "      <td>Ceuta y Melilla</td>\n",
              "      <td>0.0</td>\n",
              "      <td>0.0</td>\n",
              "      <td>0.0</td>\n",
              "      <td>0.0</td>\n",
              "    </tr>\n",
              "  </tbody>\n",
              "</table>\n",
              "</div>"
            ],
            "text/plain": [
              "   average_temperature  minimum_temperature  ...  uci  fallecidos\n",
              "0             8.402778             2.812500  ...  0.0         0.0\n",
              "1             1.097222            -1.854167  ...  0.0         0.0\n",
              "2             4.319444             0.270833  ...  0.0         0.0\n",
              "3             4.141975            -0.388889  ...  0.0         0.0\n",
              "4            13.672840            10.117284  ...  0.0         0.0\n",
              "\n",
              "[5 rows x 13 columns]"
            ]
          },
          "metadata": {},
          "execution_count": 379
        }
      ]
    },
    {
      "cell_type": "code",
      "metadata": {
        "colab": {
          "base_uri": "https://localhost:8080/"
        },
        "id": "K5TcgSP_j-xT",
        "outputId": "ca977321-8891-4d09-8788-ffff8427773d"
      },
      "source": [
        "df_final_1.info()"
      ],
      "execution_count": null,
      "outputs": [
        {
          "output_type": "stream",
          "name": "stdout",
          "text": [
            "<class 'pandas.core.frame.DataFrame'>\n",
            "Int64Index: 11558 entries, 0 to 11557\n",
            "Data columns (total 13 columns):\n",
            " #   Column               Non-Null Count  Dtype         \n",
            "---  ------               --------------  -----         \n",
            " 0   average_temperature  11558 non-null  float64       \n",
            " 1   minimum_temperature  11558 non-null  float64       \n",
            " 2   maximum_temperature  11558 non-null  float64       \n",
            " 3   rainfall             11558 non-null  float64       \n",
            " 4   snowfall             11558 non-null  float64       \n",
            " 5   dew_point            11558 non-null  float64       \n",
            " 6   relative_humidity    11558 non-null  float64       \n",
            " 7   fecha                11558 non-null  datetime64[ns]\n",
            " 8   ccaa                 11558 non-null  category      \n",
            " 9   confirmados          11558 non-null  float64       \n",
            " 10  hospitalizados       11558 non-null  float64       \n",
            " 11  uci                  11558 non-null  float64       \n",
            " 12  fallecidos           11558 non-null  float64       \n",
            "dtypes: category(1), datetime64[ns](1), float64(11)\n",
            "memory usage: 1.2 MB\n"
          ]
        }
      ]
    },
    {
      "cell_type": "code",
      "metadata": {
        "colab": {
          "base_uri": "https://localhost:8080/",
          "height": 446
        },
        "id": "cS8BoRWviqqI",
        "outputId": "09e015bc-340c-4fd2-f106-f646ee83cdc2"
      },
      "source": [
        "#PASAMOS A FORMATO NUMÉRICO LAS VARIABLES QUE NO LO SON ('CCAA' y 'fecha')\n",
        "from datetime import datetime \n",
        "\n",
        "## ccaa\n",
        "df_final_1['ccaa'] = df_final_1['ccaa'].cat.codes\n",
        "df_final_1['fecha'] =  nueva_fecha1\n",
        "df_final_1.info()\n",
        "df_final_1.head(2) \n"
      ],
      "execution_count": null,
      "outputs": [
        {
          "output_type": "stream",
          "name": "stdout",
          "text": [
            "<class 'pandas.core.frame.DataFrame'>\n",
            "Int64Index: 11558 entries, 0 to 11557\n",
            "Data columns (total 13 columns):\n",
            " #   Column               Non-Null Count  Dtype  \n",
            "---  ------               --------------  -----  \n",
            " 0   average_temperature  11558 non-null  float64\n",
            " 1   minimum_temperature  11558 non-null  float64\n",
            " 2   maximum_temperature  11558 non-null  float64\n",
            " 3   rainfall             11558 non-null  float64\n",
            " 4   snowfall             11558 non-null  float64\n",
            " 5   dew_point            11558 non-null  float64\n",
            " 6   relative_humidity    11558 non-null  float64\n",
            " 7   fecha                11558 non-null  int32  \n",
            " 8   ccaa                 11558 non-null  int8   \n",
            " 9   confirmados          11558 non-null  float64\n",
            " 10  hospitalizados       11558 non-null  float64\n",
            " 11  uci                  11558 non-null  float64\n",
            " 12  fallecidos           11558 non-null  float64\n",
            "dtypes: float64(11), int32(1), int8(1)\n",
            "memory usage: 1.1 MB\n"
          ]
        },
        {
          "output_type": "execute_result",
          "data": {
            "text/html": [
              "<div>\n",
              "<style scoped>\n",
              "    .dataframe tbody tr th:only-of-type {\n",
              "        vertical-align: middle;\n",
              "    }\n",
              "\n",
              "    .dataframe tbody tr th {\n",
              "        vertical-align: top;\n",
              "    }\n",
              "\n",
              "    .dataframe thead th {\n",
              "        text-align: right;\n",
              "    }\n",
              "</style>\n",
              "<table border=\"1\" class=\"dataframe\">\n",
              "  <thead>\n",
              "    <tr style=\"text-align: right;\">\n",
              "      <th></th>\n",
              "      <th>average_temperature</th>\n",
              "      <th>minimum_temperature</th>\n",
              "      <th>maximum_temperature</th>\n",
              "      <th>rainfall</th>\n",
              "      <th>snowfall</th>\n",
              "      <th>dew_point</th>\n",
              "      <th>relative_humidity</th>\n",
              "      <th>fecha</th>\n",
              "      <th>ccaa</th>\n",
              "      <th>confirmados</th>\n",
              "      <th>hospitalizados</th>\n",
              "      <th>uci</th>\n",
              "      <th>fallecidos</th>\n",
              "    </tr>\n",
              "  </thead>\n",
              "  <tbody>\n",
              "    <tr>\n",
              "      <th>0</th>\n",
              "      <td>8.402778</td>\n",
              "      <td>2.812500</td>\n",
              "      <td>16.409722</td>\n",
              "      <td>0.0</td>\n",
              "      <td>0.0</td>\n",
              "      <td>4.562500</td>\n",
              "      <td>76.986560</td>\n",
              "      <td>20200101</td>\n",
              "      <td>0</td>\n",
              "      <td>0.0</td>\n",
              "      <td>3.0</td>\n",
              "      <td>0.0</td>\n",
              "      <td>0.0</td>\n",
              "    </tr>\n",
              "    <tr>\n",
              "      <th>1</th>\n",
              "      <td>1.097222</td>\n",
              "      <td>-1.854167</td>\n",
              "      <td>7.493056</td>\n",
              "      <td>0.0</td>\n",
              "      <td>0.0</td>\n",
              "      <td>-1.571429</td>\n",
              "      <td>83.099552</td>\n",
              "      <td>20200101</td>\n",
              "      <td>1</td>\n",
              "      <td>0.0</td>\n",
              "      <td>0.0</td>\n",
              "      <td>0.0</td>\n",
              "      <td>0.0</td>\n",
              "    </tr>\n",
              "  </tbody>\n",
              "</table>\n",
              "</div>"
            ],
            "text/plain": [
              "   average_temperature  minimum_temperature  ...  uci  fallecidos\n",
              "0             8.402778             2.812500  ...  0.0         0.0\n",
              "1             1.097222            -1.854167  ...  0.0         0.0\n",
              "\n",
              "[2 rows x 13 columns]"
            ]
          },
          "metadata": {},
          "execution_count": 381
        }
      ]
    },
    {
      "cell_type": "code",
      "metadata": {
        "colab": {
          "base_uri": "https://localhost:8080/"
        },
        "id": "0NDOKHm0m706",
        "outputId": "41998700-4fa5-49e8-b1e6-1e78f4fb84d1"
      },
      "source": [
        "df_final_1.info()"
      ],
      "execution_count": null,
      "outputs": [
        {
          "output_type": "stream",
          "name": "stdout",
          "text": [
            "<class 'pandas.core.frame.DataFrame'>\n",
            "Int64Index: 11558 entries, 0 to 11557\n",
            "Data columns (total 13 columns):\n",
            " #   Column               Non-Null Count  Dtype  \n",
            "---  ------               --------------  -----  \n",
            " 0   average_temperature  11558 non-null  float64\n",
            " 1   minimum_temperature  11558 non-null  float64\n",
            " 2   maximum_temperature  11558 non-null  float64\n",
            " 3   rainfall             11558 non-null  float64\n",
            " 4   snowfall             11558 non-null  float64\n",
            " 5   dew_point            11558 non-null  float64\n",
            " 6   relative_humidity    11558 non-null  float64\n",
            " 7   fecha                11558 non-null  int32  \n",
            " 8   ccaa                 11558 non-null  int8   \n",
            " 9   confirmados          11558 non-null  float64\n",
            " 10  hospitalizados       11558 non-null  float64\n",
            " 11  uci                  11558 non-null  float64\n",
            " 12  fallecidos           11558 non-null  float64\n",
            "dtypes: float64(11), int32(1), int8(1)\n",
            "memory usage: 1.1 MB\n"
          ]
        }
      ]
    },
    {
      "cell_type": "code",
      "metadata": {
        "colab": {
          "base_uri": "https://localhost:8080/"
        },
        "id": "2MyRk3bPfGSv",
        "outputId": "206c36fa-d770-4a3f-990e-ed872807013e"
      },
      "source": [
        "df_final_1.isnull().sum()"
      ],
      "execution_count": null,
      "outputs": [
        {
          "output_type": "execute_result",
          "data": {
            "text/plain": [
              "average_temperature    0\n",
              "minimum_temperature    0\n",
              "maximum_temperature    0\n",
              "rainfall               0\n",
              "snowfall               0\n",
              "dew_point              0\n",
              "relative_humidity      0\n",
              "fecha                  0\n",
              "ccaa                   0\n",
              "confirmados            0\n",
              "hospitalizados         0\n",
              "uci                    0\n",
              "fallecidos             0\n",
              "dtype: int64"
            ]
          },
          "metadata": {},
          "execution_count": 383
        }
      ]
    },
    {
      "cell_type": "code",
      "metadata": {
        "colab": {
          "base_uri": "https://localhost:8080/",
          "height": 203
        },
        "id": "00r44ZX1fOR8",
        "outputId": "9dd482fb-cc9d-4276-d25d-6f958895c980"
      },
      "source": [
        "df_final_clima = df_final_1.fillna(0)\n",
        "df_final_clima.head(5)"
      ],
      "execution_count": null,
      "outputs": [
        {
          "output_type": "execute_result",
          "data": {
            "text/html": [
              "<div>\n",
              "<style scoped>\n",
              "    .dataframe tbody tr th:only-of-type {\n",
              "        vertical-align: middle;\n",
              "    }\n",
              "\n",
              "    .dataframe tbody tr th {\n",
              "        vertical-align: top;\n",
              "    }\n",
              "\n",
              "    .dataframe thead th {\n",
              "        text-align: right;\n",
              "    }\n",
              "</style>\n",
              "<table border=\"1\" class=\"dataframe\">\n",
              "  <thead>\n",
              "    <tr style=\"text-align: right;\">\n",
              "      <th></th>\n",
              "      <th>average_temperature</th>\n",
              "      <th>minimum_temperature</th>\n",
              "      <th>maximum_temperature</th>\n",
              "      <th>rainfall</th>\n",
              "      <th>snowfall</th>\n",
              "      <th>dew_point</th>\n",
              "      <th>relative_humidity</th>\n",
              "      <th>fecha</th>\n",
              "      <th>ccaa</th>\n",
              "      <th>confirmados</th>\n",
              "      <th>hospitalizados</th>\n",
              "      <th>uci</th>\n",
              "      <th>fallecidos</th>\n",
              "    </tr>\n",
              "  </thead>\n",
              "  <tbody>\n",
              "    <tr>\n",
              "      <th>0</th>\n",
              "      <td>8.402778</td>\n",
              "      <td>2.812500</td>\n",
              "      <td>16.409722</td>\n",
              "      <td>0.00000</td>\n",
              "      <td>0.0</td>\n",
              "      <td>4.562500</td>\n",
              "      <td>76.986560</td>\n",
              "      <td>20200101</td>\n",
              "      <td>0</td>\n",
              "      <td>0.0</td>\n",
              "      <td>3.0</td>\n",
              "      <td>0.0</td>\n",
              "      <td>0.0</td>\n",
              "    </tr>\n",
              "    <tr>\n",
              "      <th>1</th>\n",
              "      <td>1.097222</td>\n",
              "      <td>-1.854167</td>\n",
              "      <td>7.493056</td>\n",
              "      <td>0.00000</td>\n",
              "      <td>0.0</td>\n",
              "      <td>-1.571429</td>\n",
              "      <td>83.099552</td>\n",
              "      <td>20200101</td>\n",
              "      <td>1</td>\n",
              "      <td>0.0</td>\n",
              "      <td>0.0</td>\n",
              "      <td>0.0</td>\n",
              "      <td>0.0</td>\n",
              "    </tr>\n",
              "    <tr>\n",
              "      <th>2</th>\n",
              "      <td>4.319444</td>\n",
              "      <td>0.270833</td>\n",
              "      <td>10.152778</td>\n",
              "      <td>0.03175</td>\n",
              "      <td>0.0</td>\n",
              "      <td>2.381944</td>\n",
              "      <td>87.497387</td>\n",
              "      <td>20200101</td>\n",
              "      <td>2</td>\n",
              "      <td>0.0</td>\n",
              "      <td>0.0</td>\n",
              "      <td>0.0</td>\n",
              "      <td>0.0</td>\n",
              "    </tr>\n",
              "    <tr>\n",
              "      <th>3</th>\n",
              "      <td>4.141975</td>\n",
              "      <td>-0.388889</td>\n",
              "      <td>10.333333</td>\n",
              "      <td>0.00000</td>\n",
              "      <td>0.0</td>\n",
              "      <td>1.567901</td>\n",
              "      <td>83.792949</td>\n",
              "      <td>20200101</td>\n",
              "      <td>4</td>\n",
              "      <td>0.0</td>\n",
              "      <td>0.0</td>\n",
              "      <td>0.0</td>\n",
              "      <td>0.0</td>\n",
              "    </tr>\n",
              "    <tr>\n",
              "      <th>4</th>\n",
              "      <td>13.672840</td>\n",
              "      <td>10.117284</td>\n",
              "      <td>17.611111</td>\n",
              "      <td>0.00000</td>\n",
              "      <td>0.0</td>\n",
              "      <td>9.049383</td>\n",
              "      <td>73.775605</td>\n",
              "      <td>20200101</td>\n",
              "      <td>8</td>\n",
              "      <td>0.0</td>\n",
              "      <td>0.0</td>\n",
              "      <td>0.0</td>\n",
              "      <td>0.0</td>\n",
              "    </tr>\n",
              "  </tbody>\n",
              "</table>\n",
              "</div>"
            ],
            "text/plain": [
              "   average_temperature  minimum_temperature  ...  uci  fallecidos\n",
              "0             8.402778             2.812500  ...  0.0         0.0\n",
              "1             1.097222            -1.854167  ...  0.0         0.0\n",
              "2             4.319444             0.270833  ...  0.0         0.0\n",
              "3             4.141975            -0.388889  ...  0.0         0.0\n",
              "4            13.672840            10.117284  ...  0.0         0.0\n",
              "\n",
              "[5 rows x 13 columns]"
            ]
          },
          "metadata": {},
          "execution_count": 384
        }
      ]
    },
    {
      "cell_type": "code",
      "metadata": {
        "colab": {
          "base_uri": "https://localhost:8080/",
          "height": 357
        },
        "id": "y-kG0R2Low1V",
        "outputId": "d02d273e-c2e7-4463-8d53-ceee990e8f6f"
      },
      "source": [
        "!pip uninstall scikit-learn -y\n",
        "\n",
        "!pip install -U scikit-learn"
      ],
      "execution_count": null,
      "outputs": [
        {
          "output_type": "stream",
          "name": "stdout",
          "text": [
            "Found existing installation: scikit-learn 0.24.2\n",
            "Uninstalling scikit-learn-0.24.2:\n",
            "  Successfully uninstalled scikit-learn-0.24.2\n",
            "Collecting scikit-learn\n",
            "  Using cached scikit_learn-0.24.2-cp37-cp37m-manylinux2010_x86_64.whl (22.3 MB)\n",
            "Requirement already satisfied: joblib>=0.11 in /usr/local/lib/python3.7/dist-packages (from scikit-learn) (1.0.1)\n",
            "Requirement already satisfied: numpy>=1.13.3 in /usr/local/lib/python3.7/dist-packages (from scikit-learn) (1.19.5)\n",
            "Requirement already satisfied: threadpoolctl>=2.0.0 in /usr/local/lib/python3.7/dist-packages (from scikit-learn) (2.2.0)\n",
            "Requirement already satisfied: scipy>=0.19.1 in /usr/local/lib/python3.7/dist-packages (from scikit-learn) (1.4.1)\n",
            "Installing collected packages: scikit-learn\n",
            "Successfully installed scikit-learn-0.24.2\n"
          ]
        },
        {
          "output_type": "stream",
          "name": "stderr",
          "text": [
            "/usr/local/lib/python3.7/dist-packages/google/colab/_pip.py:87: ResourceWarning: unclosed file <_io.TextIOWrapper name='/usr/local/lib/python3.7/dist-packages/scikit_learn-0.24.2.dist-info/top_level.txt' mode='r' encoding='UTF-8'>\n",
            "  for line in open(toplevel):\n",
            "ResourceWarning: Enable tracemalloc to get the object allocation traceback\n"
          ]
        },
        {
          "output_type": "display_data",
          "data": {
            "application/vnd.colab-display-data+json": {
              "pip_warning": {
                "packages": [
                  "sklearn"
                ]
              }
            }
          },
          "metadata": {}
        }
      ]
    },
    {
      "cell_type": "code",
      "metadata": {
        "colab": {
          "base_uri": "https://localhost:8080/",
          "height": 35
        },
        "id": "fWqx-7ITo6ql",
        "outputId": "a400c15f-9bd1-40b5-ae07-b032eb25c7b3"
      },
      "source": [
        "import sklearn\n",
        "\n",
        "sklearn.__version__"
      ],
      "execution_count": null,
      "outputs": [
        {
          "output_type": "execute_result",
          "data": {
            "application/vnd.google.colaboratory.intrinsic+json": {
              "type": "string"
            },
            "text/plain": [
              "'0.24.2'"
            ]
          },
          "metadata": {},
          "execution_count": 26
        }
      ]
    },
    {
      "cell_type": "code",
      "metadata": {
        "id": "gTq6UEM2o-cD"
      },
      "source": [
        "# CARGAMOS LAS LIBRERÍAS NECESARIAS PARA APLICAR EL ALGORILMO DE ÁRBOLES DE DECISIÓN\n",
        "# Tratamiento de datos\n",
        "# ------------------------------------------------------------------------------\n",
        "import numpy as np\n",
        "import pandas as pd\n",
        "\n",
        "# Gráficos\n",
        "# ------------------------------------------------------------------------------\n",
        "import matplotlib.pyplot as plt\n",
        "\n",
        "# Preprocesado y modelado\n",
        "# ------------------------------------------------------------------------------\n",
        "from sklearn.model_selection import train_test_split\n",
        "from sklearn.tree import DecisionTreeRegressor\n",
        "from sklearn.tree import plot_tree\n",
        "from sklearn.tree import export_graphviz\n",
        "from sklearn.tree import export_text\n",
        "from sklearn.model_selection import GridSearchCV\n",
        "\n",
        "# metricas\n",
        "from sklearn.metrics import mean_squared_error # 1. este hay\n",
        "from sklearn.metrics import explained_variance_score # 2.\n",
        "from sklearn.metrics import max_error # 3.\n",
        "from sklearn.metrics import mean_absolute_error # 4.\n",
        "from sklearn.metrics import mean_squared_log_error # 5.\n",
        "from sklearn.metrics import median_absolute_error # 6.\n",
        "from sklearn.metrics import r2_score # 8.\n",
        "from sklearn.metrics import mean_poisson_deviance # 9.\n",
        "from sklearn.metrics import mean_gamma_deviance # 10.\n",
        "from sklearn.metrics import mean_tweedie_deviance # 11.\n",
        "\n",
        "# Configuración warnings\n",
        "# ------------------------------------------------------------------------------\n",
        "import warnings\n",
        "warnings.filterwarnings('once')"
      ],
      "execution_count": null,
      "outputs": []
    },
    {
      "cell_type": "code",
      "metadata": {
        "colab": {
          "base_uri": "https://localhost:8080/",
          "height": 203
        },
        "id": "kpRTwWsXpJsB",
        "outputId": "e99df62f-14d9-403a-d259-9206dbead132"
      },
      "source": [
        "datos = df_final_clima\n",
        "datos.head()"
      ],
      "execution_count": null,
      "outputs": [
        {
          "output_type": "execute_result",
          "data": {
            "text/html": [
              "<div>\n",
              "<style scoped>\n",
              "    .dataframe tbody tr th:only-of-type {\n",
              "        vertical-align: middle;\n",
              "    }\n",
              "\n",
              "    .dataframe tbody tr th {\n",
              "        vertical-align: top;\n",
              "    }\n",
              "\n",
              "    .dataframe thead th {\n",
              "        text-align: right;\n",
              "    }\n",
              "</style>\n",
              "<table border=\"1\" class=\"dataframe\">\n",
              "  <thead>\n",
              "    <tr style=\"text-align: right;\">\n",
              "      <th></th>\n",
              "      <th>average_temperature</th>\n",
              "      <th>minimum_temperature</th>\n",
              "      <th>maximum_temperature</th>\n",
              "      <th>rainfall</th>\n",
              "      <th>snowfall</th>\n",
              "      <th>dew_point</th>\n",
              "      <th>relative_humidity</th>\n",
              "      <th>fecha</th>\n",
              "      <th>ccaa</th>\n",
              "      <th>confirmados</th>\n",
              "      <th>hospitalizados</th>\n",
              "      <th>uci</th>\n",
              "      <th>fallecidos</th>\n",
              "    </tr>\n",
              "  </thead>\n",
              "  <tbody>\n",
              "    <tr>\n",
              "      <th>0</th>\n",
              "      <td>8.402778</td>\n",
              "      <td>2.812500</td>\n",
              "      <td>16.409722</td>\n",
              "      <td>0.00000</td>\n",
              "      <td>0.0</td>\n",
              "      <td>4.562500</td>\n",
              "      <td>76.986560</td>\n",
              "      <td>0.0</td>\n",
              "      <td>-1</td>\n",
              "      <td>0.0</td>\n",
              "      <td>0.0</td>\n",
              "      <td>0.0</td>\n",
              "      <td>0.0</td>\n",
              "    </tr>\n",
              "    <tr>\n",
              "      <th>1</th>\n",
              "      <td>1.097222</td>\n",
              "      <td>-1.854167</td>\n",
              "      <td>7.493056</td>\n",
              "      <td>0.00000</td>\n",
              "      <td>0.0</td>\n",
              "      <td>-1.571429</td>\n",
              "      <td>83.099552</td>\n",
              "      <td>0.0</td>\n",
              "      <td>-1</td>\n",
              "      <td>0.0</td>\n",
              "      <td>0.0</td>\n",
              "      <td>0.0</td>\n",
              "      <td>0.0</td>\n",
              "    </tr>\n",
              "    <tr>\n",
              "      <th>2</th>\n",
              "      <td>4.319444</td>\n",
              "      <td>0.270833</td>\n",
              "      <td>10.152778</td>\n",
              "      <td>0.03175</td>\n",
              "      <td>0.0</td>\n",
              "      <td>2.381944</td>\n",
              "      <td>87.497387</td>\n",
              "      <td>0.0</td>\n",
              "      <td>-1</td>\n",
              "      <td>0.0</td>\n",
              "      <td>0.0</td>\n",
              "      <td>0.0</td>\n",
              "      <td>0.0</td>\n",
              "    </tr>\n",
              "    <tr>\n",
              "      <th>3</th>\n",
              "      <td>4.141975</td>\n",
              "      <td>-0.388889</td>\n",
              "      <td>10.333333</td>\n",
              "      <td>0.00000</td>\n",
              "      <td>0.0</td>\n",
              "      <td>1.567901</td>\n",
              "      <td>83.792949</td>\n",
              "      <td>0.0</td>\n",
              "      <td>-1</td>\n",
              "      <td>0.0</td>\n",
              "      <td>0.0</td>\n",
              "      <td>0.0</td>\n",
              "      <td>0.0</td>\n",
              "    </tr>\n",
              "    <tr>\n",
              "      <th>4</th>\n",
              "      <td>13.672840</td>\n",
              "      <td>10.117284</td>\n",
              "      <td>17.611111</td>\n",
              "      <td>0.00000</td>\n",
              "      <td>0.0</td>\n",
              "      <td>9.049383</td>\n",
              "      <td>73.775605</td>\n",
              "      <td>0.0</td>\n",
              "      <td>-1</td>\n",
              "      <td>0.0</td>\n",
              "      <td>0.0</td>\n",
              "      <td>0.0</td>\n",
              "      <td>0.0</td>\n",
              "    </tr>\n",
              "  </tbody>\n",
              "</table>\n",
              "</div>"
            ],
            "text/plain": [
              "   average_temperature  minimum_temperature  ...  uci  fallecidos\n",
              "0             8.402778             2.812500  ...  0.0         0.0\n",
              "1             1.097222            -1.854167  ...  0.0         0.0\n",
              "2             4.319444             0.270833  ...  0.0         0.0\n",
              "3             4.141975            -0.388889  ...  0.0         0.0\n",
              "4            13.672840            10.117284  ...  0.0         0.0\n",
              "\n",
              "[5 rows x 13 columns]"
            ]
          },
          "metadata": {},
          "execution_count": 53
        }
      ]
    },
    {
      "cell_type": "markdown",
      "metadata": {
        "id": "GQdgWltnfj90"
      },
      "source": [
        "**REALIZAMOS EL ANÁLISIS PARA CONFIRMADOS APLICANDO ARBOLES DE DECISIÓN**"
      ]
    },
    {
      "cell_type": "code",
      "metadata": {
        "id": "8B50mI7epTIe",
        "colab": {
          "base_uri": "https://localhost:8080/"
        },
        "outputId": "4d0de1ca-c7ca-42f4-8ba6-b3ab2db7743f"
      },
      "source": [
        "# División de los datos en train y test\n",
        "# ------------------------------------------------------------------------------\n",
        "X_train, X_test, y_train, y_test = train_test_split(\n",
        "                                        datos.drop(columns = \"confirmados\"),\n",
        "                                        datos['confirmados'],\n",
        "                                        random_state = 123\n",
        "                                    )\n",
        "# Creación del modelo\n",
        "# ------------------------------------------------------------------------------\n",
        "modelo = DecisionTreeRegressor(\n",
        "            max_depth         = 3,\n",
        "            random_state      = 123\n",
        "          )\n",
        "\n",
        "# Entrenamiento del modelo\n",
        "# ------------------------------------------------------------------------------\n",
        "modelo.fit(X_train, y_train)"
      ],
      "execution_count": null,
      "outputs": [
        {
          "output_type": "execute_result",
          "data": {
            "text/plain": [
              "DecisionTreeRegressor(max_depth=3, random_state=123)"
            ]
          },
          "metadata": {},
          "execution_count": 25
        }
      ]
    },
    {
      "cell_type": "code",
      "metadata": {
        "id": "audINsLuqRgs",
        "colab": {
          "base_uri": "https://localhost:8080/",
          "height": 772
        },
        "outputId": "009f6258-7828-49c7-c788-d1aba9a5c7f2"
      },
      "source": [
        "# Estructura del árbol creado\n",
        "# ------------------------------------------------------------------------------\n",
        "fig, ax = plt.subplots(figsize=(20, 13))\n",
        "\n",
        "print(f\"Profundidad del árbol: {modelo.get_depth()}\")\n",
        "print(f\"Número de nodos terminales: {modelo.get_n_leaves()}\")\n",
        "\n",
        "plot = plot_tree(\n",
        "            decision_tree = modelo,\n",
        "            feature_names = datos.drop(columns = \"confirmados\").columns,\n",
        "            class_names   = 'confirmados',\n",
        "            filled        = True,\n",
        "            impurity      = False,\n",
        "            fontsize      = 10,\n",
        "            precision     = 2,\n",
        "            ax            = ax\n",
        "       )\n",
        "# para que aparezcan las flechas \n",
        "for o in plot:\n",
        "    arrow = o.arrow_patch\n",
        "    if arrow is not None:\n",
        "        arrow.set_edgecolor('black')\n",
        "        arrow.set_linewidth(1)"
      ],
      "execution_count": null,
      "outputs": [
        {
          "output_type": "stream",
          "name": "stdout",
          "text": [
            "Profundidad del árbol: 3\n",
            "Número de nodos terminales: 8\n"
          ]
        },
        {
          "output_type": "display_data",
          "data": {
            "image/png": "[encoded data removed]",
            "text/plain": [
              "<Figure size 1440x936 with 1 Axes>"
            ]
          },
          "metadata": {
            "image/png": {
              "width": 1145,
              "height": 721
            },
            "needs_background": "light"
          }
        }
      ]
    },
    {
      "cell_type": "code",
      "metadata": {
        "colab": {
          "base_uri": "https://localhost:8080/"
        },
        "id": "uIzWPKRFf_iN",
        "outputId": "3a7d674c-a5d2-485a-c5ea-1d351e4fab98"
      },
      "source": [
        "#APLICAMOS LA FUNCION export_text\n",
        "texto_modelo = export_text(\n",
        "                    decision_tree = modelo,\n",
        "                    feature_names = list(datos.drop(columns = \"confirmados\").columns)\n",
        "               )\n",
        "print(texto_modelo)"
      ],
      "execution_count": null,
      "outputs": [
        {
          "output_type": "stream",
          "name": "stdout",
          "text": [
            "|--- uci <= 3144.50\n",
            "|   |--- uci <= 1144.50\n",
            "|   |   |--- uci <= 418.50\n",
            "|   |   |   |--- value: [7928.21]\n",
            "|   |   |--- uci >  418.50\n",
            "|   |   |   |--- value: [52285.43]\n",
            "|   |--- uci >  1144.50\n",
            "|   |   |--- fallecidos <= 8779.00\n",
            "|   |   |   |--- value: [152095.69]\n",
            "|   |   |--- fallecidos >  8779.00\n",
            "|   |   |   |--- value: [402423.28]\n",
            "|--- uci >  3144.50\n",
            "|   |--- fallecidos <= 14346.00\n",
            "|   |   |--- fecha <= 20201213.00\n",
            "|   |   |   |--- value: [242423.53]\n",
            "|   |   |--- fecha >  20201213.00\n",
            "|   |   |   |--- value: [499643.03]\n",
            "|   |--- fallecidos >  14346.00\n",
            "|   |   |--- fecha <= 20210713.00\n",
            "|   |   |   |--- value: [664574.91]\n",
            "|   |   |--- fecha >  20210713.00\n",
            "|   |   |   |--- value: [840343.13]\n",
            "\n"
          ]
        }
      ]
    },
    {
      "cell_type": "code",
      "metadata": {
        "colab": {
          "base_uri": "https://localhost:8080/",
          "height": 452
        },
        "id": "ofTieB8qgLqE",
        "outputId": "b2497088-db57-404c-8264-1845711de77e"
      },
      "source": [
        "#VEMOS LA IMPORTANCIA QUE TIENE CADA UNO DE LOS PREDICTORES\n",
        "\n",
        "importancia_predictores = pd.DataFrame(\n",
        "                            {'predictor': datos.drop(columns = \"confirmados\").columns,\n",
        "                             'importancia': modelo.feature_importances_}\n",
        "                            )\n",
        "print(\"Importancia de los predictores en el modelo\")\n",
        "print(\"-------------------------------------------\")\n",
        "importancia_predictores.sort_values('importancia', ascending=False)"
      ],
      "execution_count": null,
      "outputs": [
        {
          "output_type": "stream",
          "name": "stdout",
          "text": [
            "Importancia de los predictores en el modelo\n",
            "-------------------------------------------\n"
          ]
        },
        {
          "output_type": "execute_result",
          "data": {
            "text/html": [
              "<div>\n",
              "<style scoped>\n",
              "    .dataframe tbody tr th:only-of-type {\n",
              "        vertical-align: middle;\n",
              "    }\n",
              "\n",
              "    .dataframe tbody tr th {\n",
              "        vertical-align: top;\n",
              "    }\n",
              "\n",
              "    .dataframe thead th {\n",
              "        text-align: right;\n",
              "    }\n",
              "</style>\n",
              "<table border=\"1\" class=\"dataframe\">\n",
              "  <thead>\n",
              "    <tr style=\"text-align: right;\">\n",
              "      <th></th>\n",
              "      <th>predictor</th>\n",
              "      <th>importancia</th>\n",
              "    </tr>\n",
              "  </thead>\n",
              "  <tbody>\n",
              "    <tr>\n",
              "      <th>10</th>\n",
              "      <td>uci</td>\n",
              "      <td>0.884453</td>\n",
              "    </tr>\n",
              "    <tr>\n",
              "      <th>11</th>\n",
              "      <td>fallecidos</td>\n",
              "      <td>0.082331</td>\n",
              "    </tr>\n",
              "    <tr>\n",
              "      <th>7</th>\n",
              "      <td>fecha</td>\n",
              "      <td>0.033217</td>\n",
              "    </tr>\n",
              "    <tr>\n",
              "      <th>0</th>\n",
              "      <td>average_temperature</td>\n",
              "      <td>0.000000</td>\n",
              "    </tr>\n",
              "    <tr>\n",
              "      <th>1</th>\n",
              "      <td>minimum_temperature</td>\n",
              "      <td>0.000000</td>\n",
              "    </tr>\n",
              "    <tr>\n",
              "      <th>2</th>\n",
              "      <td>maximum_temperature</td>\n",
              "      <td>0.000000</td>\n",
              "    </tr>\n",
              "    <tr>\n",
              "      <th>3</th>\n",
              "      <td>rainfall</td>\n",
              "      <td>0.000000</td>\n",
              "    </tr>\n",
              "    <tr>\n",
              "      <th>4</th>\n",
              "      <td>snowfall</td>\n",
              "      <td>0.000000</td>\n",
              "    </tr>\n",
              "    <tr>\n",
              "      <th>5</th>\n",
              "      <td>dew_point</td>\n",
              "      <td>0.000000</td>\n",
              "    </tr>\n",
              "    <tr>\n",
              "      <th>6</th>\n",
              "      <td>relative_humidity</td>\n",
              "      <td>0.000000</td>\n",
              "    </tr>\n",
              "    <tr>\n",
              "      <th>8</th>\n",
              "      <td>ccaa</td>\n",
              "      <td>0.000000</td>\n",
              "    </tr>\n",
              "    <tr>\n",
              "      <th>9</th>\n",
              "      <td>hospitalizados</td>\n",
              "      <td>0.000000</td>\n",
              "    </tr>\n",
              "  </tbody>\n",
              "</table>\n",
              "</div>"
            ],
            "text/plain": [
              "              predictor  importancia\n",
              "10                  uci     0.884453\n",
              "11           fallecidos     0.082331\n",
              "7                 fecha     0.033217\n",
              "0   average_temperature     0.000000\n",
              "1   minimum_temperature     0.000000\n",
              "2   maximum_temperature     0.000000\n",
              "3              rainfall     0.000000\n",
              "4              snowfall     0.000000\n",
              "5             dew_point     0.000000\n",
              "6     relative_humidity     0.000000\n",
              "8                  ccaa     0.000000\n",
              "9        hospitalizados     0.000000"
            ]
          },
          "metadata": {},
          "execution_count": 28
        }
      ]
    },
    {
      "cell_type": "code",
      "metadata": {
        "colab": {
          "base_uri": "https://localhost:8080/",
          "height": 265
        },
        "id": "23TZ29tHgRRf",
        "outputId": "beb8c944-f030-4ca4-b632-54d0a9dfcf28"
      },
      "source": [
        "df_imp = pd.DataFrame(modelo.feature_importances_.reshape(1,-1), columns=datos.drop(columns = \"confirmados\").columns, index=[\"Y\"])\n",
        "df_imp.T.plot.barh()\n",
        "plt.legend()\n",
        "plt.show();"
      ],
      "execution_count": null,
      "outputs": [
        {
          "output_type": "display_data",
          "data": {
            "image/png": "[encoded data removed]",
            "text/plain": [
              "<Figure size 432x288 with 1 Axes>"
            ]
          },
          "metadata": {
            "image/png": {
              "width": 475,
              "height": 248
            },
            "needs_background": "light"
          }
        }
      ]
    },
    {
      "cell_type": "code",
      "metadata": {
        "colab": {
          "base_uri": "https://localhost:8080/"
        },
        "id": "7EY7ynUXkYjk",
        "outputId": "ca703594-d13f-42b0-9df0-d30307ccc7ec"
      },
      "source": [
        "# Error de test del modelo inicial\n",
        "#-------------------------------------------------------------------------------\n",
        "predicciones = modelo.predict(X = X_test)\n",
        "\n",
        "rmse = mean_squared_error(\n",
        "        y_true  = y_test,\n",
        "        y_pred  = predicciones,\n",
        "        squared = False\n",
        "       )\n",
        "print(f\"El error (rmse) de test es: {rmse}\")"
      ],
      "execution_count": null,
      "outputs": [
        {
          "output_type": "stream",
          "name": "stdout",
          "text": [
            "El error (rmse) de test es: 42319.815388538205\n"
          ]
        }
      ]
    },
    {
      "cell_type": "markdown",
      "metadata": {
        "id": "ZDJx7ENIk4-0"
      },
      "source": [
        "**APLICAMOS EL ALGORITMO DE KNN**"
      ]
    },
    {
      "cell_type": "code",
      "metadata": {
        "colab": {
          "base_uri": "https://localhost:8080/"
        },
        "id": "EcBNRXLFk8to",
        "outputId": "8e37fb75-2c48-406b-c4bf-a90d96ae7671"
      },
      "source": [
        "# sns:\n",
        "import seaborn as sns\n",
        "\n",
        "# Dimensiones del dataset\n",
        "# ==============================================================================\n",
        "df_final_1.shape\n",
        "\n",
        "# Número de datos ausentes por variable\n",
        "# ==============================================================================\n",
        "df_final_1.isna().sum().sort_values()\n",
        "\n",
        "# Ninguna variable contiene valores ausente. En el apartado imputación de valores ausentes se muestra varias estrategias de imputación cuando el set de datos está incompleto.\n",
        "\n",
        "# vuelvo a usar los valores de fecha y ccaa como variables de tipo string\n",
        "df_final_1.info()"
      ],
      "execution_count": null,
      "outputs": [
        {
          "output_type": "stream",
          "name": "stdout",
          "text": [
            "<class 'pandas.core.frame.DataFrame'>\n",
            "Int64Index: 6669127 entries, 0 to 6669126\n",
            "Data columns (total 13 columns):\n",
            " #   Column               Dtype  \n",
            "---  ------               -----  \n",
            " 0   average_temperature  float64\n",
            " 1   minimum_temperature  float64\n",
            " 2   maximum_temperature  float64\n",
            " 3   rainfall             float64\n",
            " 4   snowfall             float64\n",
            " 5   dew_point            float64\n",
            " 6   relative_humidity    float64\n",
            " 7   fecha                float64\n",
            " 8   ccaa                 int8   \n",
            " 9   confirmados          float64\n",
            " 10  hospitalizados       float64\n",
            " 11  uci                  float64\n",
            " 12  fallecidos           float64\n",
            "dtypes: float64(12), int8(1)\n",
            "memory usage: 667.8 MB\n"
          ]
        }
      ]
    },
    {
      "cell_type": "code",
      "metadata": {
        "colab": {
          "base_uri": "https://localhost:8080/",
          "height": 746
        },
        "id": "i7QdfsuRoHzO",
        "outputId": "f3dddd6c-226d-43d1-eca0-287ddadcf1a6"
      },
      "source": [
        "import multiprocessing\n",
        "import random\n",
        "from itertools import product\n",
        "!pip install fitter\n",
        "from fitter import Fitter, get_common_distributions\n",
        "\n",
        "distribuciones = ['cauchy', 'chi2', 'expon',  'exponpow', 'gamma',\n",
        "                  'norm', 'powerlaw', 'beta', 'logistic']\n",
        "\n",
        "fitter = Fitter(df_final_clima.confirmados, distributions=distribuciones)\n",
        "fitter.fit()\n",
        "fitter.summary(Nbest=10, plot=False)"
      ],
      "execution_count": null,
      "outputs": [
        {
          "output_type": "stream",
          "name": "stdout",
          "text": [
            "Requirement already satisfied: fitter in /usr/local/lib/python3.7/dist-packages (1.4.0)\n",
            "Requirement already satisfied: easydev in /usr/local/lib/python3.7/dist-packages (from fitter) (0.11.2)\n",
            "Requirement already satisfied: click in /usr/local/lib/python3.7/dist-packages (from fitter) (7.1.2)\n",
            "Requirement already satisfied: numpy in /usr/local/lib/python3.7/dist-packages (from fitter) (1.19.5)\n",
            "Requirement already satisfied: scipy>=0.18 in /usr/local/lib/python3.7/dist-packages (from fitter) (1.4.1)\n",
            "Requirement already satisfied: joblib in /usr/local/lib/python3.7/dist-packages (from fitter) (1.0.1)\n",
            "Requirement already satisfied: pandas in /usr/local/lib/python3.7/dist-packages (from fitter) (1.1.5)\n",
            "Requirement already satisfied: matplotlib in /usr/local/lib/python3.7/dist-packages (from fitter) (3.2.2)\n",
            "Requirement already satisfied: pexpect in /usr/local/lib/python3.7/dist-packages (from easydev->fitter) (4.8.0)\n",
            "Requirement already satisfied: colorlog in /usr/local/lib/python3.7/dist-packages (from easydev->fitter) (6.4.1)\n",
            "Requirement already satisfied: colorama in /usr/local/lib/python3.7/dist-packages (from easydev->fitter) (0.4.4)\n",
            "Requirement already satisfied: kiwisolver>=1.0.1 in /usr/local/lib/python3.7/dist-packages (from matplotlib->fitter) (1.3.1)\n",
            "Requirement already satisfied: cycler>=0.10 in /usr/local/lib/python3.7/dist-packages (from matplotlib->fitter) (0.10.0)\n",
            "Requirement already satisfied: python-dateutil>=2.1 in /usr/local/lib/python3.7/dist-packages (from matplotlib->fitter) (2.8.2)\n",
            "Requirement already satisfied: pyparsing!=2.0.4,!=2.1.2,!=2.1.6,>=2.0.1 in /usr/local/lib/python3.7/dist-packages (from matplotlib->fitter) (2.4.7)\n",
            "Requirement already satisfied: six in /usr/local/lib/python3.7/dist-packages (from cycler>=0.10->matplotlib->fitter) (1.15.0)\n",
            "Requirement already satisfied: pytz>=2017.2 in /usr/local/lib/python3.7/dist-packages (from pandas->fitter) (2018.9)\n",
            "Requirement already satisfied: ptyprocess>=0.5 in /usr/local/lib/python3.7/dist-packages (from pexpect->easydev->fitter) (0.7.0)\n"
          ]
        },
        {
          "output_type": "stream",
          "name": "stderr",
          "text": [
            "WARNING:root:SKIPPED cauchy distribution (taking more than 30 seconds)\n",
            "WARNING:root:SKIPPED chi2 distribution (taking more than 30 seconds)\n",
            "WARNING:root:SKIPPED exponpow distribution (taking more than 30 seconds)\n",
            "WARNING:root:SKIPPED gamma distribution (taking more than 30 seconds)\n",
            "WARNING:root:SKIPPED powerlaw distribution (taking more than 30 seconds)\n",
            "WARNING:root:SKIPPED beta distribution (taking more than 30 seconds)\n",
            "WARNING:root:SKIPPED logistic distribution (taking more than 30 seconds)\n"
          ]
        },
        {
          "output_type": "execute_result",
          "data": {
            "text/html": [
              "<div>\n",
              "<style scoped>\n",
              "    .dataframe tbody tr th:only-of-type {\n",
              "        vertical-align: middle;\n",
              "    }\n",
              "\n",
              "    .dataframe tbody tr th {\n",
              "        vertical-align: top;\n",
              "    }\n",
              "\n",
              "    .dataframe thead th {\n",
              "        text-align: right;\n",
              "    }\n",
              "</style>\n",
              "<table border=\"1\" class=\"dataframe\">\n",
              "  <thead>\n",
              "    <tr style=\"text-align: right;\">\n",
              "      <th></th>\n",
              "      <th>sumsquare_error</th>\n",
              "      <th>aic</th>\n",
              "      <th>bic</th>\n",
              "      <th>kl_div</th>\n",
              "    </tr>\n",
              "  </thead>\n",
              "  <tbody>\n",
              "    <tr>\n",
              "      <th>expon</th>\n",
              "      <td>7.080931e-10</td>\n",
              "      <td>3222.884860</td>\n",
              "      <td>-2.453001e+08</td>\n",
              "      <td>0.293338</td>\n",
              "    </tr>\n",
              "    <tr>\n",
              "      <th>norm</th>\n",
              "      <td>1.293329e-09</td>\n",
              "      <td>3280.992877</td>\n",
              "      <td>-2.412826e+08</td>\n",
              "      <td>0.808973</td>\n",
              "    </tr>\n",
              "    <tr>\n",
              "      <th>cauchy</th>\n",
              "      <td>inf</td>\n",
              "      <td>inf</td>\n",
              "      <td>inf</td>\n",
              "      <td>inf</td>\n",
              "    </tr>\n",
              "    <tr>\n",
              "      <th>chi2</th>\n",
              "      <td>inf</td>\n",
              "      <td>inf</td>\n",
              "      <td>inf</td>\n",
              "      <td>inf</td>\n",
              "    </tr>\n",
              "    <tr>\n",
              "      <th>exponpow</th>\n",
              "      <td>inf</td>\n",
              "      <td>inf</td>\n",
              "      <td>inf</td>\n",
              "      <td>inf</td>\n",
              "    </tr>\n",
              "    <tr>\n",
              "      <th>gamma</th>\n",
              "      <td>inf</td>\n",
              "      <td>inf</td>\n",
              "      <td>inf</td>\n",
              "      <td>inf</td>\n",
              "    </tr>\n",
              "    <tr>\n",
              "      <th>powerlaw</th>\n",
              "      <td>inf</td>\n",
              "      <td>inf</td>\n",
              "      <td>inf</td>\n",
              "      <td>inf</td>\n",
              "    </tr>\n",
              "    <tr>\n",
              "      <th>beta</th>\n",
              "      <td>inf</td>\n",
              "      <td>inf</td>\n",
              "      <td>inf</td>\n",
              "      <td>inf</td>\n",
              "    </tr>\n",
              "    <tr>\n",
              "      <th>logistic</th>\n",
              "      <td>inf</td>\n",
              "      <td>inf</td>\n",
              "      <td>inf</td>\n",
              "      <td>inf</td>\n",
              "    </tr>\n",
              "  </tbody>\n",
              "</table>\n",
              "</div>"
            ],
            "text/plain": [
              "          sumsquare_error          aic           bic    kl_div\n",
              "expon        7.080931e-10  3222.884860 -2.453001e+08  0.293338\n",
              "norm         1.293329e-09  3280.992877 -2.412826e+08  0.808973\n",
              "cauchy                inf          inf           inf       inf\n",
              "chi2                  inf          inf           inf       inf\n",
              "exponpow              inf          inf           inf       inf\n",
              "gamma                 inf          inf           inf       inf\n",
              "powerlaw              inf          inf           inf       inf\n",
              "beta                  inf          inf           inf       inf\n",
              "logistic              inf          inf           inf       inf"
            ]
          },
          "metadata": {},
          "execution_count": 32
        }
      ]
    },
    {
      "cell_type": "code",
      "metadata": {
        "id": "OaJqdu56pyL4"
      },
      "source": [
        "# Reparto de datos en train y test\n",
        "# ==============================================================================\n",
        "from sklearn.model_selection import train_test_split\n",
        "\n",
        "X_train, X_test, y_train, y_test = train_test_split(\n",
        "                                        df_final_1.drop('confirmados', axis = 'columns'),\n",
        "                                        df_final_1['confirmados'],\n",
        "                                        train_size   = 0.8,\n",
        "                                        random_state = 1234,\n",
        "                                        shuffle      = True\n",
        "                                    )"
      ],
      "execution_count": null,
      "outputs": []
    },
    {
      "cell_type": "code",
      "metadata": {
        "id": "DDAu1UlDqeoR"
      },
      "source": [
        "# Selección de las variables por típo\n",
        "# ==============================================================================\n",
        "from sklearn.compose import ColumnTransformer\n",
        "from sklearn.preprocessing import OneHotEncoder\n",
        "from sklearn.preprocessing import StandardScaler\n",
        "from sklearn.compose import make_column_selector\n",
        "\n",
        "# Se estandarizan las columnas numéricas y se hace one-hot-encoding de las \n",
        "# columnas cualitativas. Para mantener las columnas a las que no se les aplica \n",
        "# ninguna transformación se tiene que indicar remainder='passthrough'.\n",
        "numeric_cols = X_train.select_dtypes(include=['float64', 'int32']).columns.to_list()\n",
        "cat_cols = X_train.select_dtypes(include=['object', 'category']).columns.to_list()\n",
        "\n",
        "preprocessor = ColumnTransformer(\n",
        "                   [('scale', StandardScaler(), numeric_cols),\n",
        "                    ('onehot', OneHotEncoder(handle_unknown='ignore'), cat_cols)],\n",
        "                remainder='passthrough')"
      ],
      "execution_count": null,
      "outputs": []
    },
    {
      "cell_type": "code",
      "metadata": {
        "id": "NqT7LSmQqhOu"
      },
      "source": [
        "X_train_prep = preprocessor.fit_transform(X_train)\n",
        "X_test_prep  = preprocessor.transform(X_test)"
      ],
      "execution_count": null,
      "outputs": []
    },
    {
      "cell_type": "code",
      "metadata": {
        "id": "69hvvBKIqmsK"
      },
      "source": [
        "# Selección de las variables por típo\n",
        "# ==============================================================================\n",
        "from sklearn.pipeline import Pipeline\n",
        "from sklearn.compose import ColumnTransformer\n",
        "from sklearn.impute import SimpleImputer\n",
        "from sklearn.preprocessing import OneHotEncoder\n",
        "from sklearn.preprocessing import StandardScaler\n",
        "from sklearn.compose import make_column_selector\n",
        "\n",
        "numeric_cols = X_train.select_dtypes(include=['float64', 'int32']).columns.to_list()\n",
        "cat_cols = X_train.select_dtypes(include=['object', 'category']).columns.to_list()\n",
        "\n",
        "# Transformaciones para las variables numéricas\n",
        "numeric_transformer = Pipeline(\n",
        "                        steps=[\n",
        "                            ('imputer', SimpleImputer(strategy='median')),\n",
        "                            ('scaler', StandardScaler())\n",
        "                        ]\n",
        "                      )\n",
        "\n",
        "\n",
        "# Transformaciones para las variables categóricas\n",
        "categorical_transformer = Pipeline(\n",
        "                            steps=[\n",
        "                                ('imputer', SimpleImputer(strategy='most_frequent')),\n",
        "                                ('onehot', OneHotEncoder(handle_unknown='ignore'))\n",
        "                            ]\n",
        "                          )\n",
        "\n",
        "preprocessor = ColumnTransformer(\n",
        "                    transformers=[\n",
        "                        ('numeric', numeric_transformer, numeric_cols),\n",
        "                        ('cat', categorical_transformer, cat_cols)\n",
        "                    ],\n",
        "                    remainder='passthrough'\n",
        "                )"
      ],
      "execution_count": null,
      "outputs": []
    },
    {
      "cell_type": "code",
      "metadata": {
        "id": "Cw66fVl7wGAW"
      },
      "source": [
        "from sklearn.linear_model import LinearRegression\n",
        "from sklearn.linear_model import BayesianRidge\n",
        "from sklearn.tree import DecisionTreeRegressor\n",
        "from sklearn import neighbors\n",
        "from sklearn.neighbors import KNeighborsRegressor\n",
        "from sklearn.ensemble import RandomForestRegressor\n",
        "from sklearn.ensemble import GradientBoostingRegressor\n",
        "from sklearn.ensemble import AdaBoostRegressor \n",
        "from sklearn.neural_network import MLPRegressor\n",
        "from sklearn import svm\n",
        "regressor = svm.SVR()"
      ],
      "execution_count": null,
      "outputs": []
    },
    {
      "cell_type": "code",
      "metadata": {
        "colab": {
          "base_uri": "https://localhost:8080/",
          "height": 478
        },
        "id": "nKjRhJ3DwQ1M",
        "outputId": "c1238073-0a1b-4f1c-816c-0573517e75ec"
      },
      "source": [
        "df_final_clima.info()\n",
        "df_final_clima.head(3)"
      ],
      "execution_count": null,
      "outputs": [
        {
          "output_type": "stream",
          "name": "stdout",
          "text": [
            "<class 'pandas.core.frame.DataFrame'>\n",
            "Int64Index: 11558 entries, 0 to 11557\n",
            "Data columns (total 13 columns):\n",
            " #   Column               Non-Null Count  Dtype  \n",
            "---  ------               --------------  -----  \n",
            " 0   average_temperature  11558 non-null  float64\n",
            " 1   minimum_temperature  11558 non-null  float64\n",
            " 2   maximum_temperature  11558 non-null  float64\n",
            " 3   rainfall             11558 non-null  float64\n",
            " 4   snowfall             11558 non-null  float64\n",
            " 5   dew_point            11558 non-null  float64\n",
            " 6   relative_humidity    11558 non-null  float64\n",
            " 7   fecha                11558 non-null  int32  \n",
            " 8   ccaa                 11558 non-null  int8   \n",
            " 9   confirmados          11558 non-null  float64\n",
            " 10  hospitalizados       11558 non-null  float64\n",
            " 11  uci                  11558 non-null  float64\n",
            " 12  fallecidos           11558 non-null  float64\n",
            "dtypes: float64(11), int32(1), int8(1)\n",
            "memory usage: 1.1 MB\n"
          ]
        },
        {
          "output_type": "execute_result",
          "data": {
            "text/html": [
              "<div>\n",
              "<style scoped>\n",
              "    .dataframe tbody tr th:only-of-type {\n",
              "        vertical-align: middle;\n",
              "    }\n",
              "\n",
              "    .dataframe tbody tr th {\n",
              "        vertical-align: top;\n",
              "    }\n",
              "\n",
              "    .dataframe thead th {\n",
              "        text-align: right;\n",
              "    }\n",
              "</style>\n",
              "<table border=\"1\" class=\"dataframe\">\n",
              "  <thead>\n",
              "    <tr style=\"text-align: right;\">\n",
              "      <th></th>\n",
              "      <th>average_temperature</th>\n",
              "      <th>minimum_temperature</th>\n",
              "      <th>maximum_temperature</th>\n",
              "      <th>rainfall</th>\n",
              "      <th>snowfall</th>\n",
              "      <th>dew_point</th>\n",
              "      <th>relative_humidity</th>\n",
              "      <th>fecha</th>\n",
              "      <th>ccaa</th>\n",
              "      <th>confirmados</th>\n",
              "      <th>hospitalizados</th>\n",
              "      <th>uci</th>\n",
              "      <th>fallecidos</th>\n",
              "    </tr>\n",
              "  </thead>\n",
              "  <tbody>\n",
              "    <tr>\n",
              "      <th>0</th>\n",
              "      <td>8.402778</td>\n",
              "      <td>2.812500</td>\n",
              "      <td>16.409722</td>\n",
              "      <td>0.00000</td>\n",
              "      <td>0.0</td>\n",
              "      <td>4.562500</td>\n",
              "      <td>76.986560</td>\n",
              "      <td>20200101</td>\n",
              "      <td>0</td>\n",
              "      <td>0.0</td>\n",
              "      <td>3.0</td>\n",
              "      <td>0.0</td>\n",
              "      <td>0.0</td>\n",
              "    </tr>\n",
              "    <tr>\n",
              "      <th>1</th>\n",
              "      <td>1.097222</td>\n",
              "      <td>-1.854167</td>\n",
              "      <td>7.493056</td>\n",
              "      <td>0.00000</td>\n",
              "      <td>0.0</td>\n",
              "      <td>-1.571429</td>\n",
              "      <td>83.099552</td>\n",
              "      <td>20200101</td>\n",
              "      <td>1</td>\n",
              "      <td>0.0</td>\n",
              "      <td>0.0</td>\n",
              "      <td>0.0</td>\n",
              "      <td>0.0</td>\n",
              "    </tr>\n",
              "    <tr>\n",
              "      <th>2</th>\n",
              "      <td>4.319444</td>\n",
              "      <td>0.270833</td>\n",
              "      <td>10.152778</td>\n",
              "      <td>0.03175</td>\n",
              "      <td>0.0</td>\n",
              "      <td>2.381944</td>\n",
              "      <td>87.497387</td>\n",
              "      <td>20200101</td>\n",
              "      <td>2</td>\n",
              "      <td>0.0</td>\n",
              "      <td>0.0</td>\n",
              "      <td>0.0</td>\n",
              "      <td>0.0</td>\n",
              "    </tr>\n",
              "  </tbody>\n",
              "</table>\n",
              "</div>"
            ],
            "text/plain": [
              "   average_temperature  minimum_temperature  ...  uci  fallecidos\n",
              "0             8.402778             2.812500  ...  0.0         0.0\n",
              "1             1.097222            -1.854167  ...  0.0         0.0\n",
              "2             4.319444             0.270833  ...  0.0         0.0\n",
              "\n",
              "[3 rows x 13 columns]"
            ]
          },
          "metadata": {},
          "execution_count": 385
        }
      ]
    },
    {
      "cell_type": "code",
      "metadata": {
        "colab": {
          "base_uri": "https://localhost:8080/",
          "height": 142
        },
        "id": "ojEAQD42wVjj",
        "outputId": "259649df-3270-4beb-fed5-be130e265269"
      },
      "source": [
        "datos = df_final_clima\n",
        "datos.head(3)"
      ],
      "execution_count": null,
      "outputs": [
        {
          "output_type": "execute_result",
          "data": {
            "text/html": [
              "<div>\n",
              "<style scoped>\n",
              "    .dataframe tbody tr th:only-of-type {\n",
              "        vertical-align: middle;\n",
              "    }\n",
              "\n",
              "    .dataframe tbody tr th {\n",
              "        vertical-align: top;\n",
              "    }\n",
              "\n",
              "    .dataframe thead th {\n",
              "        text-align: right;\n",
              "    }\n",
              "</style>\n",
              "<table border=\"1\" class=\"dataframe\">\n",
              "  <thead>\n",
              "    <tr style=\"text-align: right;\">\n",
              "      <th></th>\n",
              "      <th>average_temperature</th>\n",
              "      <th>minimum_temperature</th>\n",
              "      <th>maximum_temperature</th>\n",
              "      <th>rainfall</th>\n",
              "      <th>snowfall</th>\n",
              "      <th>dew_point</th>\n",
              "      <th>relative_humidity</th>\n",
              "      <th>fecha</th>\n",
              "      <th>ccaa</th>\n",
              "      <th>confirmados</th>\n",
              "      <th>hospitalizados</th>\n",
              "      <th>uci</th>\n",
              "      <th>fallecidos</th>\n",
              "    </tr>\n",
              "  </thead>\n",
              "  <tbody>\n",
              "    <tr>\n",
              "      <th>0</th>\n",
              "      <td>8.402778</td>\n",
              "      <td>2.812500</td>\n",
              "      <td>16.409722</td>\n",
              "      <td>0.00000</td>\n",
              "      <td>0.0</td>\n",
              "      <td>4.562500</td>\n",
              "      <td>76.986560</td>\n",
              "      <td>20200101</td>\n",
              "      <td>0</td>\n",
              "      <td>0.0</td>\n",
              "      <td>3.0</td>\n",
              "      <td>0.0</td>\n",
              "      <td>0.0</td>\n",
              "    </tr>\n",
              "    <tr>\n",
              "      <th>1</th>\n",
              "      <td>1.097222</td>\n",
              "      <td>-1.854167</td>\n",
              "      <td>7.493056</td>\n",
              "      <td>0.00000</td>\n",
              "      <td>0.0</td>\n",
              "      <td>-1.571429</td>\n",
              "      <td>83.099552</td>\n",
              "      <td>20200101</td>\n",
              "      <td>1</td>\n",
              "      <td>0.0</td>\n",
              "      <td>0.0</td>\n",
              "      <td>0.0</td>\n",
              "      <td>0.0</td>\n",
              "    </tr>\n",
              "    <tr>\n",
              "      <th>2</th>\n",
              "      <td>4.319444</td>\n",
              "      <td>0.270833</td>\n",
              "      <td>10.152778</td>\n",
              "      <td>0.03175</td>\n",
              "      <td>0.0</td>\n",
              "      <td>2.381944</td>\n",
              "      <td>87.497387</td>\n",
              "      <td>20200101</td>\n",
              "      <td>2</td>\n",
              "      <td>0.0</td>\n",
              "      <td>0.0</td>\n",
              "      <td>0.0</td>\n",
              "      <td>0.0</td>\n",
              "    </tr>\n",
              "  </tbody>\n",
              "</table>\n",
              "</div>"
            ],
            "text/plain": [
              "   average_temperature  minimum_temperature  ...  uci  fallecidos\n",
              "0             8.402778             2.812500  ...  0.0         0.0\n",
              "1             1.097222            -1.854167  ...  0.0         0.0\n",
              "2             4.319444             0.270833  ...  0.0         0.0\n",
              "\n",
              "[3 rows x 13 columns]"
            ]
          },
          "metadata": {},
          "execution_count": 386
        }
      ]
    },
    {
      "cell_type": "markdown",
      "metadata": {
        "id": "uycWhaD82xiV"
      },
      "source": [
        "**ANÁLISIS CONFIRMADOS**"
      ]
    },
    {
      "cell_type": "code",
      "metadata": {
        "id": "VJb1NbinwaSd"
      },
      "source": [
        "# División de los datos en train y test\n",
        "# ------------------------------------------------------------------------------\n",
        "X_train, X_test, y_train, y_test = train_test_split(\n",
        "                                        datos.drop(columns = \"confirmados\"),\n",
        "                                        datos['confirmados'],\n",
        "                                        random_state = 123\n",
        "                                    )"
      ],
      "execution_count": null,
      "outputs": []
    },
    {
      "cell_type": "markdown",
      "metadata": {
        "id": "5Yia6vyWxAID"
      },
      "source": [
        "**ARBOL DE DECISIÓN - CONFIRMADOS**"
      ]
    },
    {
      "cell_type": "code",
      "metadata": {
        "colab": {
          "base_uri": "https://localhost:8080/"
        },
        "id": "9lrODbAqwebl",
        "outputId": "d739a7f7-f729-4e5b-a801-6129caeae1d1"
      },
      "source": [
        "regressor = DecisionTreeRegressor ()\n",
        "regressor.fit(X_train, y_train)"
      ],
      "execution_count": null,
      "outputs": [
        {
          "output_type": "execute_result",
          "data": {
            "text/plain": [
              "DecisionTreeRegressor()"
            ]
          },
          "metadata": {},
          "execution_count": 388
        }
      ]
    },
    {
      "cell_type": "code",
      "metadata": {
        "colab": {
          "base_uri": "https://localhost:8080/"
        },
        "id": "WLAZ-Yydwg6q",
        "outputId": "89d2bc62-835f-407a-f696-2ecac0eae276"
      },
      "source": [
        "y_pred = regressor.predict(X_test)\n",
        "y_pred"
      ],
      "execution_count": null,
      "outputs": [
        {
          "output_type": "execute_result",
          "data": {
            "text/plain": [
              "array([ 4328., 22833.,     0., ..., 16683.,  1570.,     0.])"
            ]
          },
          "metadata": {},
          "execution_count": 389
        }
      ]
    },
    {
      "cell_type": "code",
      "metadata": {
        "colab": {
          "base_uri": "https://localhost:8080/"
        },
        "id": "bQUB9scCwqqI",
        "outputId": "d9879fcc-ac6d-443f-8e7c-731fbbe75b99"
      },
      "source": [
        "from numpy import random\n",
        "import pandas as pd\n",
        "\n",
        "print(\"NumPy Data Array is:\")\n",
        "print(y_pred)\n",
        "\n",
        "print(\"\")\n",
        "\n",
        "data_df = pd.DataFrame(y_pred)\n",
        "print(\"The DataFrame generated from the NumPy array is:\")\n",
        "print(data_df)"
      ],
      "execution_count": null,
      "outputs": [
        {
          "output_type": "stream",
          "name": "stdout",
          "text": [
            "NumPy Data Array is:\n",
            "[ 4328. 22833.     0. ... 16683.  1570.     0.]\n",
            "\n",
            "The DataFrame generated from the NumPy array is:\n",
            "             0\n",
            "0       4328.0\n",
            "1      22833.0\n",
            "2          0.0\n",
            "3      15265.0\n",
            "4     608441.0\n",
            "...        ...\n",
            "2885       0.0\n",
            "2886  334072.0\n",
            "2887   16683.0\n",
            "2888    1570.0\n",
            "2889       0.0\n",
            "\n",
            "[2890 rows x 1 columns]\n"
          ]
        }
      ]
    },
    {
      "cell_type": "code",
      "metadata": {
        "colab": {
          "base_uri": "https://localhost:8080/",
          "height": 417
        },
        "id": "bNVRv59dw36n",
        "outputId": "ec48f450-29ec-4561-e1c9-e147c0a12887"
      },
      "source": [
        "df = pd.DataFrame({'Actual': y_test, 'Predicted': y_pred})\n",
        "df"
      ],
      "execution_count": null,
      "outputs": [
        {
          "output_type": "execute_result",
          "data": {
            "text/html": [
              "<div>\n",
              "<style scoped>\n",
              "    .dataframe tbody tr th:only-of-type {\n",
              "        vertical-align: middle;\n",
              "    }\n",
              "\n",
              "    .dataframe tbody tr th {\n",
              "        vertical-align: top;\n",
              "    }\n",
              "\n",
              "    .dataframe thead th {\n",
              "        text-align: right;\n",
              "    }\n",
              "</style>\n",
              "<table border=\"1\" class=\"dataframe\">\n",
              "  <thead>\n",
              "    <tr style=\"text-align: right;\">\n",
              "      <th></th>\n",
              "      <th>Actual</th>\n",
              "      <th>Predicted</th>\n",
              "    </tr>\n",
              "  </thead>\n",
              "  <tbody>\n",
              "    <tr>\n",
              "      <th>4292</th>\n",
              "      <td>4381.0</td>\n",
              "      <td>4328.0</td>\n",
              "    </tr>\n",
              "    <tr>\n",
              "      <th>4272</th>\n",
              "      <td>21772.0</td>\n",
              "      <td>22833.0</td>\n",
              "    </tr>\n",
              "    <tr>\n",
              "      <th>322</th>\n",
              "      <td>0.0</td>\n",
              "      <td>0.0</td>\n",
              "    </tr>\n",
              "    <tr>\n",
              "      <th>10327</th>\n",
              "      <td>15276.0</td>\n",
              "      <td>15265.0</td>\n",
              "    </tr>\n",
              "    <tr>\n",
              "      <th>9400</th>\n",
              "      <td>606340.0</td>\n",
              "      <td>608441.0</td>\n",
              "    </tr>\n",
              "    <tr>\n",
              "      <th>...</th>\n",
              "      <td>...</td>\n",
              "      <td>...</td>\n",
              "    </tr>\n",
              "    <tr>\n",
              "      <th>897</th>\n",
              "      <td>0.0</td>\n",
              "      <td>0.0</td>\n",
              "    </tr>\n",
              "    <tr>\n",
              "      <th>5998</th>\n",
              "      <td>332155.0</td>\n",
              "      <td>334072.0</td>\n",
              "    </tr>\n",
              "    <tr>\n",
              "      <th>3949</th>\n",
              "      <td>16775.0</td>\n",
              "      <td>16683.0</td>\n",
              "    </tr>\n",
              "    <tr>\n",
              "      <th>2235</th>\n",
              "      <td>1563.0</td>\n",
              "      <td>1570.0</td>\n",
              "    </tr>\n",
              "    <tr>\n",
              "      <th>292</th>\n",
              "      <td>0.0</td>\n",
              "      <td>0.0</td>\n",
              "    </tr>\n",
              "  </tbody>\n",
              "</table>\n",
              "<p>2890 rows × 2 columns</p>\n",
              "</div>"
            ],
            "text/plain": [
              "         Actual  Predicted\n",
              "4292     4381.0     4328.0\n",
              "4272    21772.0    22833.0\n",
              "322         0.0        0.0\n",
              "10327   15276.0    15265.0\n",
              "9400   606340.0   608441.0\n",
              "...         ...        ...\n",
              "897         0.0        0.0\n",
              "5998   332155.0   334072.0\n",
              "3949    16775.0    16683.0\n",
              "2235     1563.0     1570.0\n",
              "292         0.0        0.0\n",
              "\n",
              "[2890 rows x 2 columns]"
            ]
          },
          "metadata": {},
          "execution_count": 391
        }
      ]
    },
    {
      "cell_type": "code",
      "metadata": {
        "colab": {
          "base_uri": "https://localhost:8080/"
        },
        "id": "EWUKVHT8w7BP",
        "outputId": "47a19d0d-6e77-46a7-96f9-e76dd30411fd"
      },
      "source": [
        "from sklearn import metrics\n",
        "print('Mean Absolute Error (MAE):', metrics.mean_absolute_error(y_test, y_pred))\n",
        "print('median_absolute_error (MAD):', metrics.median_absolute_error(y_test, y_pred))\n",
        "print('Root Mean Squared Error (RMSE):', np.sqrt(metrics.mean_squared_error(y_test, y_pred)))\n",
        "print('mean_absolute_percentage_error (MAPE):', metrics.mean_absolute_percentage_error(y_test, y_pred))\n",
        "print('max_error(MAX_ERROR):', metrics.max_error(y_test, y_pred))\n",
        "print('explained_variance_score (EXPL):', metrics.explained_variance_score(y_test, y_pred, multioutput='uniform_average'))\n",
        "print('R2_SCORE:', metrics.r2_score(y_test, y_pred))"
      ],
      "execution_count": null,
      "outputs": [
        {
          "output_type": "stream",
          "name": "stdout",
          "text": [
            "Mean Absolute Error (MAE): 739.6058823529412\n",
            "median_absolute_error (MAD): 154.0\n",
            "Root Mean Squared Error (RMSE): 2057.5282497734793\n",
            "mean_absolute_percentage_error (MAPE): 14025050742676.326\n",
            "max_error(MAX_ERROR): 37920.0\n",
            "explained_variance_score (EXPL): 0.9998148248181328\n",
            "R2_SCORE: 0.9998147646780378\n"
          ]
        }
      ]
    },
    {
      "cell_type": "markdown",
      "metadata": {
        "id": "qrm_w6zyxKmP"
      },
      "source": [
        "**KNEIGHBOURS REGRESSOR - CONFIRMADOS**"
      ]
    },
    {
      "cell_type": "code",
      "metadata": {
        "colab": {
          "base_uri": "https://localhost:8080/"
        },
        "id": "7qfPTxz5xWV9",
        "outputId": "c6eaba41-c882-4bf6-c6e5-ede1204fb4da"
      },
      "source": [
        "regressor = KNeighborsRegressor()\n",
        "regressor.fit(X_train, y_train)"
      ],
      "execution_count": null,
      "outputs": [
        {
          "output_type": "execute_result",
          "data": {
            "text/plain": [
              "KNeighborsRegressor()"
            ]
          },
          "metadata": {},
          "execution_count": 394
        }
      ]
    },
    {
      "cell_type": "code",
      "metadata": {
        "colab": {
          "base_uri": "https://localhost:8080/"
        },
        "id": "mArXRM3GxZay",
        "outputId": "99211a1e-e0d9-4388-876c-09de935210e7"
      },
      "source": [
        "y_pred = regressor.predict(X_test)\n",
        "y_pred"
      ],
      "execution_count": null,
      "outputs": [
        {
          "output_type": "execute_result",
          "data": {
            "text/plain": [
              "array([ 4442. , 21910.8,     0. , ..., 16533.2,  1551.6,     0. ])"
            ]
          },
          "metadata": {},
          "execution_count": 395
        }
      ]
    },
    {
      "cell_type": "code",
      "metadata": {
        "colab": {
          "base_uri": "https://localhost:8080/"
        },
        "id": "0wQai6mnxbag",
        "outputId": "b04f6203-42a2-40bc-cda1-12a712ab83c0"
      },
      "source": [
        "from numpy import random\n",
        "import pandas as pd\n",
        "\n",
        "print(\"NumPy Data Array is:\")\n",
        "print(y_pred)\n",
        "\n",
        "print(\"\")\n",
        "\n",
        "print(\"The DataFrame generated from the NumPy array is:\")\n",
        "print(data_df)"
      ],
      "execution_count": null,
      "outputs": [
        {
          "output_type": "stream",
          "name": "stdout",
          "text": [
            "NumPy Data Array is:\n",
            "[ 4442.  21910.8     0.  ... 16533.2  1551.6     0. ]\n",
            "\n",
            "The DataFrame generated from the NumPy array is:\n",
            "             0\n",
            "0       4328.0\n",
            "1      22833.0\n",
            "2          0.0\n",
            "3      15265.0\n",
            "4     608441.0\n",
            "...        ...\n",
            "2885       0.0\n",
            "2886  334072.0\n",
            "2887   16683.0\n",
            "2888    1570.0\n",
            "2889       0.0\n",
            "\n",
            "[2890 rows x 1 columns]\n"
          ]
        }
      ]
    },
    {
      "cell_type": "code",
      "metadata": {
        "colab": {
          "base_uri": "https://localhost:8080/",
          "height": 417
        },
        "id": "E4XcLMHcxdMV",
        "outputId": "d799fefc-c497-4205-e3e3-d5e6cc3e78ac"
      },
      "source": [
        "df = pd.DataFrame({'Actual': y_test, 'Predicted': y_pred})\n",
        "df"
      ],
      "execution_count": null,
      "outputs": [
        {
          "output_type": "execute_result",
          "data": {
            "text/html": [
              "<div>\n",
              "<style scoped>\n",
              "    .dataframe tbody tr th:only-of-type {\n",
              "        vertical-align: middle;\n",
              "    }\n",
              "\n",
              "    .dataframe tbody tr th {\n",
              "        vertical-align: top;\n",
              "    }\n",
              "\n",
              "    .dataframe thead th {\n",
              "        text-align: right;\n",
              "    }\n",
              "</style>\n",
              "<table border=\"1\" class=\"dataframe\">\n",
              "  <thead>\n",
              "    <tr style=\"text-align: right;\">\n",
              "      <th></th>\n",
              "      <th>Actual</th>\n",
              "      <th>Predicted</th>\n",
              "    </tr>\n",
              "  </thead>\n",
              "  <tbody>\n",
              "    <tr>\n",
              "      <th>4292</th>\n",
              "      <td>4381.0</td>\n",
              "      <td>4442.0</td>\n",
              "    </tr>\n",
              "    <tr>\n",
              "      <th>4272</th>\n",
              "      <td>21772.0</td>\n",
              "      <td>21910.8</td>\n",
              "    </tr>\n",
              "    <tr>\n",
              "      <th>322</th>\n",
              "      <td>0.0</td>\n",
              "      <td>0.0</td>\n",
              "    </tr>\n",
              "    <tr>\n",
              "      <th>10327</th>\n",
              "      <td>15276.0</td>\n",
              "      <td>15253.0</td>\n",
              "    </tr>\n",
              "    <tr>\n",
              "      <th>9400</th>\n",
              "      <td>606340.0</td>\n",
              "      <td>606248.0</td>\n",
              "    </tr>\n",
              "    <tr>\n",
              "      <th>...</th>\n",
              "      <td>...</td>\n",
              "      <td>...</td>\n",
              "    </tr>\n",
              "    <tr>\n",
              "      <th>897</th>\n",
              "      <td>0.0</td>\n",
              "      <td>0.0</td>\n",
              "    </tr>\n",
              "    <tr>\n",
              "      <th>5998</th>\n",
              "      <td>332155.0</td>\n",
              "      <td>333468.2</td>\n",
              "    </tr>\n",
              "    <tr>\n",
              "      <th>3949</th>\n",
              "      <td>16775.0</td>\n",
              "      <td>16533.2</td>\n",
              "    </tr>\n",
              "    <tr>\n",
              "      <th>2235</th>\n",
              "      <td>1563.0</td>\n",
              "      <td>1551.6</td>\n",
              "    </tr>\n",
              "    <tr>\n",
              "      <th>292</th>\n",
              "      <td>0.0</td>\n",
              "      <td>0.0</td>\n",
              "    </tr>\n",
              "  </tbody>\n",
              "</table>\n",
              "<p>2890 rows × 2 columns</p>\n",
              "</div>"
            ],
            "text/plain": [
              "         Actual  Predicted\n",
              "4292     4381.0     4442.0\n",
              "4272    21772.0    21910.8\n",
              "322         0.0        0.0\n",
              "10327   15276.0    15253.0\n",
              "9400   606340.0   606248.0\n",
              "...         ...        ...\n",
              "897         0.0        0.0\n",
              "5998   332155.0   333468.2\n",
              "3949    16775.0    16533.2\n",
              "2235     1563.0     1551.6\n",
              "292         0.0        0.0\n",
              "\n",
              "[2890 rows x 2 columns]"
            ]
          },
          "metadata": {},
          "execution_count": 397
        }
      ]
    },
    {
      "cell_type": "code",
      "metadata": {
        "colab": {
          "base_uri": "https://localhost:8080/"
        },
        "id": "hDYzdtEixfKP",
        "outputId": "b7223e40-9098-4843-999e-f9b66bd48377"
      },
      "source": [
        "from sklearn import metrics\n",
        "print('Mean Absolute Error (MAE):', metrics.mean_absolute_error(y_test, y_pred))\n",
        "print('median_absolute_error (MAD):', metrics.median_absolute_error(y_test, y_pred))\n",
        "print('Root Mean Squared Error (RMSE):', np.sqrt(metrics.mean_squared_error(y_test, y_pred)))\n",
        "print('mean_absolute_percentage_error (MAPE):', metrics.mean_absolute_percentage_error(y_test, y_pred))\n",
        "print('max_error(MAX_ERROR):', metrics.max_error(y_test, y_pred))\n",
        "print('explained_variance_score (EXPL):', metrics.explained_variance_score(y_test, y_pred, multioutput='uniform_average'))\n",
        "print('R2_SCORE:', metrics.r2_score(y_test, y_pred))"
      ],
      "execution_count": null,
      "outputs": [
        {
          "output_type": "stream",
          "name": "stdout",
          "text": [
            "Mean Absolute Error (MAE): 627.6438062283736\n",
            "median_absolute_error (MAD): 79.70000000000437\n",
            "Root Mean Squared Error (RMSE): 3187.4315784642345\n",
            "mean_absolute_percentage_error (MAPE): 18700067656901.78\n",
            "max_error(MAX_ERROR): 85957.6\n",
            "explained_variance_score (EXPL): 0.9995556322846075\n",
            "R2_SCORE: 0.9995554568393906\n"
          ]
        }
      ]
    },
    {
      "cell_type": "markdown",
      "metadata": {
        "id": "mA8lNyx5ygkc"
      },
      "source": [
        "**MULTIPLE LINEAR REGRESSION - CONFIRMADOS**"
      ]
    },
    {
      "cell_type": "code",
      "metadata": {
        "id": "zfG2KCvIyjN3"
      },
      "source": [
        "from sklearn.linear_model import LinearRegression\n",
        "from sklearn.linear_model import BayesianRidge"
      ],
      "execution_count": null,
      "outputs": []
    },
    {
      "cell_type": "code",
      "metadata": {
        "colab": {
          "base_uri": "https://localhost:8080/"
        },
        "id": "P_QBh3WKyniF",
        "outputId": "673e80fb-2b90-4566-fb34-448d5963087d"
      },
      "source": [
        "regressor = LinearRegression()\n",
        "regressor.fit(X_train, y_train)"
      ],
      "execution_count": null,
      "outputs": [
        {
          "output_type": "execute_result",
          "data": {
            "text/plain": [
              "LinearRegression()"
            ]
          },
          "metadata": {},
          "execution_count": 400
        }
      ]
    },
    {
      "cell_type": "code",
      "metadata": {
        "colab": {
          "base_uri": "https://localhost:8080/"
        },
        "id": "92UGMJviypN9",
        "outputId": "42b85810-bad1-4a8a-e233-09b6215da1d5"
      },
      "source": [
        "y_pred = regressor.predict(X_test)\n",
        "y_pred"
      ],
      "execution_count": null,
      "outputs": [
        {
          "output_type": "execute_result",
          "data": {
            "text/plain": [
              "array([-16202.06251623,  23553.60072016, -34244.9126385 , ...,\n",
              "        26809.7228766 , -11669.07369299, -45230.85390321])"
            ]
          },
          "metadata": {},
          "execution_count": 401
        }
      ]
    },
    {
      "cell_type": "code",
      "metadata": {
        "colab": {
          "base_uri": "https://localhost:8080/"
        },
        "id": "Shm9NgFRyrOe",
        "outputId": "1b7a03d1-95b0-4cb4-b536-a972bd49c221"
      },
      "source": [
        "from numpy import random\n",
        "import pandas as pd\n",
        "\n",
        "print(\"NumPy Data Array is:\")\n",
        "print(y_pred)\n",
        "\n",
        "print(\"\")\n",
        "\n",
        "data_df = pd.DataFrame(y_pred)\n",
        "print(\"The DataFrame generated from the NumPy array is:\")\n",
        "print(data_df)"
      ],
      "execution_count": null,
      "outputs": [
        {
          "output_type": "stream",
          "name": "stdout",
          "text": [
            "NumPy Data Array is:\n",
            "[-16202.06251623  23553.60072016 -34244.9126385  ...  26809.7228766\n",
            " -11669.07369299 -45230.85390321]\n",
            "\n",
            "The DataFrame generated from the NumPy array is:\n",
            "                  0\n",
            "0     -16202.062516\n",
            "1      23553.600720\n",
            "2     -34244.912639\n",
            "3      15982.804243\n",
            "4     538695.731274\n",
            "...             ...\n",
            "2885  -20666.267428\n",
            "2886  420095.305974\n",
            "2887   26809.722877\n",
            "2888  -11669.073693\n",
            "2889  -45230.853903\n",
            "\n",
            "[2890 rows x 1 columns]\n"
          ]
        }
      ]
    },
    {
      "cell_type": "code",
      "metadata": {
        "colab": {
          "base_uri": "https://localhost:8080/",
          "height": 417
        },
        "id": "bIMPsqQSytKf",
        "outputId": "1a3f0909-8eb7-4392-e1be-02be71390e10"
      },
      "source": [
        "df = pd.DataFrame({'Actual': y_test, 'Predicted': y_pred})\n",
        "df"
      ],
      "execution_count": null,
      "outputs": [
        {
          "output_type": "execute_result",
          "data": {
            "text/html": [
              "<div>\n",
              "<style scoped>\n",
              "    .dataframe tbody tr th:only-of-type {\n",
              "        vertical-align: middle;\n",
              "    }\n",
              "\n",
              "    .dataframe tbody tr th {\n",
              "        vertical-align: top;\n",
              "    }\n",
              "\n",
              "    .dataframe thead th {\n",
              "        text-align: right;\n",
              "    }\n",
              "</style>\n",
              "<table border=\"1\" class=\"dataframe\">\n",
              "  <thead>\n",
              "    <tr style=\"text-align: right;\">\n",
              "      <th></th>\n",
              "      <th>Actual</th>\n",
              "      <th>Predicted</th>\n",
              "    </tr>\n",
              "  </thead>\n",
              "  <tbody>\n",
              "    <tr>\n",
              "      <th>4292</th>\n",
              "      <td>4381.0</td>\n",
              "      <td>-16202.062516</td>\n",
              "    </tr>\n",
              "    <tr>\n",
              "      <th>4272</th>\n",
              "      <td>21772.0</td>\n",
              "      <td>23553.600720</td>\n",
              "    </tr>\n",
              "    <tr>\n",
              "      <th>322</th>\n",
              "      <td>0.0</td>\n",
              "      <td>-34244.912639</td>\n",
              "    </tr>\n",
              "    <tr>\n",
              "      <th>10327</th>\n",
              "      <td>15276.0</td>\n",
              "      <td>15982.804243</td>\n",
              "    </tr>\n",
              "    <tr>\n",
              "      <th>9400</th>\n",
              "      <td>606340.0</td>\n",
              "      <td>538695.731274</td>\n",
              "    </tr>\n",
              "    <tr>\n",
              "      <th>...</th>\n",
              "      <td>...</td>\n",
              "      <td>...</td>\n",
              "    </tr>\n",
              "    <tr>\n",
              "      <th>897</th>\n",
              "      <td>0.0</td>\n",
              "      <td>-20666.267428</td>\n",
              "    </tr>\n",
              "    <tr>\n",
              "      <th>5998</th>\n",
              "      <td>332155.0</td>\n",
              "      <td>420095.305974</td>\n",
              "    </tr>\n",
              "    <tr>\n",
              "      <th>3949</th>\n",
              "      <td>16775.0</td>\n",
              "      <td>26809.722877</td>\n",
              "    </tr>\n",
              "    <tr>\n",
              "      <th>2235</th>\n",
              "      <td>1563.0</td>\n",
              "      <td>-11669.073693</td>\n",
              "    </tr>\n",
              "    <tr>\n",
              "      <th>292</th>\n",
              "      <td>0.0</td>\n",
              "      <td>-45230.853903</td>\n",
              "    </tr>\n",
              "  </tbody>\n",
              "</table>\n",
              "<p>2890 rows × 2 columns</p>\n",
              "</div>"
            ],
            "text/plain": [
              "         Actual      Predicted\n",
              "4292     4381.0  -16202.062516\n",
              "4272    21772.0   23553.600720\n",
              "322         0.0  -34244.912639\n",
              "10327   15276.0   15982.804243\n",
              "9400   606340.0  538695.731274\n",
              "...         ...            ...\n",
              "897         0.0  -20666.267428\n",
              "5998   332155.0  420095.305974\n",
              "3949    16775.0   26809.722877\n",
              "2235     1563.0  -11669.073693\n",
              "292         0.0  -45230.853903\n",
              "\n",
              "[2890 rows x 2 columns]"
            ]
          },
          "metadata": {},
          "execution_count": 403
        }
      ]
    },
    {
      "cell_type": "code",
      "metadata": {
        "colab": {
          "base_uri": "https://localhost:8080/"
        },
        "id": "1skAzVSIyvTL",
        "outputId": "f6390b33-57b9-41cf-949a-57af263107a9"
      },
      "source": [
        "from sklearn import metrics\n",
        "print('Mean Absolute Error (MAE):', metrics.mean_absolute_error(y_test, y_pred))\n",
        "print('median_absolute_error (MAD):', metrics.median_absolute_error(y_test, y_pred))\n",
        "print('Root Mean Squared Error (RMSE):', np.sqrt(metrics.mean_squared_error(y_test, y_pred)))\n",
        "print('mean_absolute_percentage_error (MAPE):', metrics.mean_absolute_percentage_error(y_test, y_pred))\n",
        "print('max_error(MAX_ERROR):', metrics.max_error(y_test, y_pred))\n",
        "print('explained_variance_score (EXPL):', metrics.explained_variance_score(y_test, y_pred, multioutput='uniform_average'))\n",
        "print('R2_SCORE:', metrics.r2_score(y_test, y_pred))"
      ],
      "execution_count": null,
      "outputs": [
        {
          "output_type": "stream",
          "name": "stdout",
          "text": [
            "Mean Absolute Error (MAE): 28366.626285470604\n",
            "median_absolute_error (MAD): 20666.982625193894\n",
            "Root Mean Squared Error (RMSE): 46586.73665781017\n",
            "mean_absolute_percentage_error (MAPE): 1.1173405833622503e+19\n",
            "max_error(MAX_ERROR): 308961.4682564065\n",
            "explained_variance_score (EXPL): 0.9053466781418094\n",
            "R2_SCORE: 0.9050364873716303\n"
          ]
        }
      ]
    },
    {
      "cell_type": "markdown",
      "metadata": {
        "id": "sVq6Yj5I0v0w"
      },
      "source": [
        "**APLICAMOS BAYESIAN RIDGE REGRESSION - CONFIRMADOS**"
      ]
    },
    {
      "cell_type": "code",
      "metadata": {
        "colab": {
          "base_uri": "https://localhost:8080/"
        },
        "id": "XyfLJ8ww0ysi",
        "outputId": "3c5cd225-d275-46aa-c682-bc7d17228640"
      },
      "source": [
        "regressor = BayesianRidge()\n",
        "regressor.fit(X_train, y_train)"
      ],
      "execution_count": null,
      "outputs": [
        {
          "output_type": "execute_result",
          "data": {
            "text/plain": [
              "BayesianRidge()"
            ]
          },
          "metadata": {},
          "execution_count": 405
        }
      ]
    },
    {
      "cell_type": "code",
      "metadata": {
        "colab": {
          "base_uri": "https://localhost:8080/"
        },
        "id": "po4PE42L02Xb",
        "outputId": "88609c91-9eac-4b93-937e-332900816ca6"
      },
      "source": [
        "y_pred = regressor.predict(X_test)\n",
        "y_pred"
      ],
      "execution_count": null,
      "outputs": [
        {
          "output_type": "execute_result",
          "data": {
            "text/plain": [
              "array([-15720.15896504,  24974.99771889, -34891.38911267, ...,\n",
              "        25566.0845076 , -11883.02951143, -43478.20440821])"
            ]
          },
          "metadata": {},
          "execution_count": 406
        }
      ]
    },
    {
      "cell_type": "code",
      "metadata": {
        "colab": {
          "base_uri": "https://localhost:8080/"
        },
        "id": "EUEn34Ir04EZ",
        "outputId": "5a348dd5-7f41-42cf-bbdd-b18643a849b7"
      },
      "source": [
        "from numpy import random\n",
        "import pandas as pd\n",
        "\n",
        "print(\"NumPy Data Array is:\")\n",
        "print(y_pred)\n",
        "\n",
        "print(\"\")\n",
        "\n",
        "data_df = pd.DataFrame(y_pred)\n",
        "print(\"The DataFrame generated from the NumPy array is:\")\n",
        "print(data_df)"
      ],
      "execution_count": null,
      "outputs": [
        {
          "output_type": "stream",
          "name": "stdout",
          "text": [
            "NumPy Data Array is:\n",
            "[-15720.15896504  24974.99771889 -34891.38911267 ...  25566.0845076\n",
            " -11883.02951143 -43478.20440821]\n",
            "\n",
            "The DataFrame generated from the NumPy array is:\n",
            "                  0\n",
            "0     -15720.158965\n",
            "1      24974.997719\n",
            "2     -34891.389113\n",
            "3      14791.142062\n",
            "4     538668.594666\n",
            "...             ...\n",
            "2885  -21700.080794\n",
            "2886  419912.172397\n",
            "2887   25566.084508\n",
            "2888  -11883.029511\n",
            "2889  -43478.204408\n",
            "\n",
            "[2890 rows x 1 columns]\n"
          ]
        }
      ]
    },
    {
      "cell_type": "code",
      "metadata": {
        "colab": {
          "base_uri": "https://localhost:8080/",
          "height": 417
        },
        "id": "7b8XbnH70536",
        "outputId": "7bffe21c-e837-40cb-fabd-347abca02345"
      },
      "source": [
        "df = pd.DataFrame({'Actual': y_test, 'Predicted': y_pred})\n",
        "df"
      ],
      "execution_count": null,
      "outputs": [
        {
          "output_type": "execute_result",
          "data": {
            "text/html": [
              "<div>\n",
              "<style scoped>\n",
              "    .dataframe tbody tr th:only-of-type {\n",
              "        vertical-align: middle;\n",
              "    }\n",
              "\n",
              "    .dataframe tbody tr th {\n",
              "        vertical-align: top;\n",
              "    }\n",
              "\n",
              "    .dataframe thead th {\n",
              "        text-align: right;\n",
              "    }\n",
              "</style>\n",
              "<table border=\"1\" class=\"dataframe\">\n",
              "  <thead>\n",
              "    <tr style=\"text-align: right;\">\n",
              "      <th></th>\n",
              "      <th>Actual</th>\n",
              "      <th>Predicted</th>\n",
              "    </tr>\n",
              "  </thead>\n",
              "  <tbody>\n",
              "    <tr>\n",
              "      <th>4292</th>\n",
              "      <td>4381.0</td>\n",
              "      <td>-15720.158965</td>\n",
              "    </tr>\n",
              "    <tr>\n",
              "      <th>4272</th>\n",
              "      <td>21772.0</td>\n",
              "      <td>24974.997719</td>\n",
              "    </tr>\n",
              "    <tr>\n",
              "      <th>322</th>\n",
              "      <td>0.0</td>\n",
              "      <td>-34891.389113</td>\n",
              "    </tr>\n",
              "    <tr>\n",
              "      <th>10327</th>\n",
              "      <td>15276.0</td>\n",
              "      <td>14791.142062</td>\n",
              "    </tr>\n",
              "    <tr>\n",
              "      <th>9400</th>\n",
              "      <td>606340.0</td>\n",
              "      <td>538668.594666</td>\n",
              "    </tr>\n",
              "    <tr>\n",
              "      <th>...</th>\n",
              "      <td>...</td>\n",
              "      <td>...</td>\n",
              "    </tr>\n",
              "    <tr>\n",
              "      <th>897</th>\n",
              "      <td>0.0</td>\n",
              "      <td>-21700.080794</td>\n",
              "    </tr>\n",
              "    <tr>\n",
              "      <th>5998</th>\n",
              "      <td>332155.0</td>\n",
              "      <td>419912.172397</td>\n",
              "    </tr>\n",
              "    <tr>\n",
              "      <th>3949</th>\n",
              "      <td>16775.0</td>\n",
              "      <td>25566.084508</td>\n",
              "    </tr>\n",
              "    <tr>\n",
              "      <th>2235</th>\n",
              "      <td>1563.0</td>\n",
              "      <td>-11883.029511</td>\n",
              "    </tr>\n",
              "    <tr>\n",
              "      <th>292</th>\n",
              "      <td>0.0</td>\n",
              "      <td>-43478.204408</td>\n",
              "    </tr>\n",
              "  </tbody>\n",
              "</table>\n",
              "<p>2890 rows × 2 columns</p>\n",
              "</div>"
            ],
            "text/plain": [
              "         Actual      Predicted\n",
              "4292     4381.0  -15720.158965\n",
              "4272    21772.0   24974.997719\n",
              "322         0.0  -34891.389113\n",
              "10327   15276.0   14791.142062\n",
              "9400   606340.0  538668.594666\n",
              "...         ...            ...\n",
              "897         0.0  -21700.080794\n",
              "5998   332155.0  419912.172397\n",
              "3949    16775.0   25566.084508\n",
              "2235     1563.0  -11883.029511\n",
              "292         0.0  -43478.204408\n",
              "\n",
              "[2890 rows x 2 columns]"
            ]
          },
          "metadata": {},
          "execution_count": 408
        }
      ]
    },
    {
      "cell_type": "code",
      "metadata": {
        "colab": {
          "base_uri": "https://localhost:8080/"
        },
        "id": "exUGOBTH08SE",
        "outputId": "6fbbc1f2-380e-4bd5-ff86-f1fba5acffc6"
      },
      "source": [
        "from sklearn import metrics\n",
        "print('Mean Absolute Error (MAE):', metrics.mean_absolute_error(y_test, y_pred))\n",
        "print('median_absolute_error (MAD):', metrics.median_absolute_error(y_test, y_pred))\n",
        "print('Root Mean Squared Error (RMSE):', np.sqrt(metrics.mean_squared_error(y_test, y_pred)))\n",
        "print('mean_absolute_percentage_error (MAPE):', metrics.mean_absolute_percentage_error(y_test, y_pred))\n",
        "print('max_error(MAX_ERROR):', metrics.max_error(y_test, y_pred))\n",
        "print('explained_variance_score (EXPL):', metrics.explained_variance_score(y_test, y_pred, multioutput='uniform_average'))\n",
        "print('R2_SCORE:', metrics.r2_score(y_test, y_pred))"
      ],
      "execution_count": null,
      "outputs": [
        {
          "output_type": "stream",
          "name": "stdout",
          "text": [
            "Mean Absolute Error (MAE): 28322.600276305257\n",
            "median_absolute_error (MAD): 20614.982643660158\n",
            "Root Mean Squared Error (RMSE): 46527.24872716533\n",
            "mean_absolute_percentage_error (MAPE): 1.1024902389172066e+19\n",
            "max_error(MAX_ERROR): 309394.85607428104\n",
            "explained_variance_score (EXPL): 0.905579596553843\n",
            "R2_SCORE: 0.9052788557561458\n"
          ]
        }
      ]
    },
    {
      "cell_type": "markdown",
      "metadata": {
        "id": "lQvv76PK1Dio"
      },
      "source": [
        "**APLICAMOS RANDOM FOREST REGRESSOR - CONFIRMADOS**"
      ]
    },
    {
      "cell_type": "code",
      "metadata": {
        "colab": {
          "base_uri": "https://localhost:8080/"
        },
        "id": "DO73TefZ1GnQ",
        "outputId": "46a06bca-962f-450b-fe52-638cbf01b04e"
      },
      "source": [
        "regressor = RandomForestRegressor()\n",
        "regressor.fit(X_train, y_train)"
      ],
      "execution_count": null,
      "outputs": [
        {
          "output_type": "execute_result",
          "data": {
            "text/plain": [
              "RandomForestRegressor()"
            ]
          },
          "metadata": {},
          "execution_count": 410
        }
      ]
    },
    {
      "cell_type": "code",
      "metadata": {
        "colab": {
          "base_uri": "https://localhost:8080/"
        },
        "id": "ZNj-0YmU1JpK",
        "outputId": "4a6de3ef-7185-4d88-f021-c12a191cd11c"
      },
      "source": [
        "y_pred = regressor.predict(X_test)\n",
        "y_pred"
      ],
      "execution_count": null,
      "outputs": [
        {
          "output_type": "execute_result",
          "data": {
            "text/plain": [
              "array([4.344910e+03, 2.165079e+04, 1.000000e-02, ..., 1.656683e+04,\n",
              "       1.598240e+03, 0.000000e+00])"
            ]
          },
          "metadata": {},
          "execution_count": 411
        }
      ]
    },
    {
      "cell_type": "code",
      "metadata": {
        "colab": {
          "base_uri": "https://localhost:8080/"
        },
        "id": "jXhrDGsS1Lde",
        "outputId": "64eae2b9-bb7e-415c-bf63-d120d9b195f9"
      },
      "source": [
        "from numpy import random\n",
        "import pandas as pd\n",
        "\n",
        "print(\"NumPy Data Array is:\")\n",
        "print(y_pred)\n",
        "\n",
        "print(\"\")\n",
        "\n",
        "data_df = pd.DataFrame(y_pred)\n",
        "print(\"The DataFrame generated from the NumPy array is:\")\n",
        "print(data_df)"
      ],
      "execution_count": null,
      "outputs": [
        {
          "output_type": "stream",
          "name": "stdout",
          "text": [
            "NumPy Data Array is:\n",
            "[4.344910e+03 2.165079e+04 1.000000e-02 ... 1.656683e+04 1.598240e+03\n",
            " 0.000000e+00]\n",
            "\n",
            "The DataFrame generated from the NumPy array is:\n",
            "              0\n",
            "0       4344.91\n",
            "1      21650.79\n",
            "2          0.01\n",
            "3      15267.20\n",
            "4     607552.72\n",
            "...         ...\n",
            "2885       0.02\n",
            "2886  332402.14\n",
            "2887   16566.83\n",
            "2888    1598.24\n",
            "2889       0.00\n",
            "\n",
            "[2890 rows x 1 columns]\n"
          ]
        }
      ]
    },
    {
      "cell_type": "code",
      "metadata": {
        "colab": {
          "base_uri": "https://localhost:8080/",
          "height": 417
        },
        "id": "BrXbxf_g1NAe",
        "outputId": "750aac92-eed6-42bf-f25f-5d7e9a92dc24"
      },
      "source": [
        "df = pd.DataFrame({'Actual': y_test, 'Predicted': y_pred})\n",
        "df"
      ],
      "execution_count": null,
      "outputs": [
        {
          "output_type": "execute_result",
          "data": {
            "text/html": [
              "<div>\n",
              "<style scoped>\n",
              "    .dataframe tbody tr th:only-of-type {\n",
              "        vertical-align: middle;\n",
              "    }\n",
              "\n",
              "    .dataframe tbody tr th {\n",
              "        vertical-align: top;\n",
              "    }\n",
              "\n",
              "    .dataframe thead th {\n",
              "        text-align: right;\n",
              "    }\n",
              "</style>\n",
              "<table border=\"1\" class=\"dataframe\">\n",
              "  <thead>\n",
              "    <tr style=\"text-align: right;\">\n",
              "      <th></th>\n",
              "      <th>Actual</th>\n",
              "      <th>Predicted</th>\n",
              "    </tr>\n",
              "  </thead>\n",
              "  <tbody>\n",
              "    <tr>\n",
              "      <th>4292</th>\n",
              "      <td>4381.0</td>\n",
              "      <td>4344.91</td>\n",
              "    </tr>\n",
              "    <tr>\n",
              "      <th>4272</th>\n",
              "      <td>21772.0</td>\n",
              "      <td>21650.79</td>\n",
              "    </tr>\n",
              "    <tr>\n",
              "      <th>322</th>\n",
              "      <td>0.0</td>\n",
              "      <td>0.01</td>\n",
              "    </tr>\n",
              "    <tr>\n",
              "      <th>10327</th>\n",
              "      <td>15276.0</td>\n",
              "      <td>15267.20</td>\n",
              "    </tr>\n",
              "    <tr>\n",
              "      <th>9400</th>\n",
              "      <td>606340.0</td>\n",
              "      <td>607552.72</td>\n",
              "    </tr>\n",
              "    <tr>\n",
              "      <th>...</th>\n",
              "      <td>...</td>\n",
              "      <td>...</td>\n",
              "    </tr>\n",
              "    <tr>\n",
              "      <th>897</th>\n",
              "      <td>0.0</td>\n",
              "      <td>0.02</td>\n",
              "    </tr>\n",
              "    <tr>\n",
              "      <th>5998</th>\n",
              "      <td>332155.0</td>\n",
              "      <td>332402.14</td>\n",
              "    </tr>\n",
              "    <tr>\n",
              "      <th>3949</th>\n",
              "      <td>16775.0</td>\n",
              "      <td>16566.83</td>\n",
              "    </tr>\n",
              "    <tr>\n",
              "      <th>2235</th>\n",
              "      <td>1563.0</td>\n",
              "      <td>1598.24</td>\n",
              "    </tr>\n",
              "    <tr>\n",
              "      <th>292</th>\n",
              "      <td>0.0</td>\n",
              "      <td>0.00</td>\n",
              "    </tr>\n",
              "  </tbody>\n",
              "</table>\n",
              "<p>2890 rows × 2 columns</p>\n",
              "</div>"
            ],
            "text/plain": [
              "         Actual  Predicted\n",
              "4292     4381.0    4344.91\n",
              "4272    21772.0   21650.79\n",
              "322         0.0       0.01\n",
              "10327   15276.0   15267.20\n",
              "9400   606340.0  607552.72\n",
              "...         ...        ...\n",
              "897         0.0       0.02\n",
              "5998   332155.0  332402.14\n",
              "3949    16775.0   16566.83\n",
              "2235     1563.0    1598.24\n",
              "292         0.0       0.00\n",
              "\n",
              "[2890 rows x 2 columns]"
            ]
          },
          "metadata": {},
          "execution_count": 413
        }
      ]
    },
    {
      "cell_type": "code",
      "metadata": {
        "colab": {
          "base_uri": "https://localhost:8080/"
        },
        "id": "jiejn0vO1PVM",
        "outputId": "5b434444-e4fa-43a5-f07b-401a5d80c9ec"
      },
      "source": [
        "from sklearn import metrics\n",
        "print('Mean Absolute Error (MAE):', metrics.mean_absolute_error(y_test, y_pred))\n",
        "print('median_absolute_error (MAD):', metrics.median_absolute_error(y_test, y_pred))\n",
        "print('Root Mean Squared Error (RMSE):', np.sqrt(metrics.mean_squared_error(y_test, y_pred)))\n",
        "print('mean_absolute_percentage_error (MAPE):', metrics.mean_absolute_percentage_error(y_test, y_pred))\n",
        "print('max_error(MAX_ERROR):', metrics.max_error(y_test, y_pred))\n",
        "print('explained_variance_score (EXPL):', metrics.explained_variance_score(y_test, y_pred, multioutput='uniform_average'))\n",
        "print('R2_SCORE:', metrics.r2_score(y_test, y_pred))"
      ],
      "execution_count": null,
      "outputs": [
        {
          "output_type": "stream",
          "name": "stdout",
          "text": [
            "Mean Absolute Error (MAE): 482.6335432525953\n",
            "median_absolute_error (MAD): 76.30499999999302\n",
            "Root Mean Squared Error (RMSE): 1288.889777758966\n",
            "mean_absolute_percentage_error (MAPE): 26367095396231.453\n",
            "max_error(MAX_ERROR): 15715.160000000003\n",
            "explained_variance_score (EXPL): 0.9999273427396446\n",
            "R2_SCORE: 0.9999273118275881\n"
          ]
        }
      ]
    },
    {
      "cell_type": "markdown",
      "metadata": {
        "id": "RIpDQ5Lm1TdI"
      },
      "source": [
        "**APLICAMOS GRADIENT BOOSTING - CONFIRMADOS**"
      ]
    },
    {
      "cell_type": "code",
      "metadata": {
        "colab": {
          "base_uri": "https://localhost:8080/"
        },
        "id": "U8MQ0avW1Vl5",
        "outputId": "2d388096-2589-4443-9fec-9a465341614a"
      },
      "source": [
        "regressor = GradientBoostingRegressor()\n",
        "regressor.fit(X_train, y_train)"
      ],
      "execution_count": null,
      "outputs": [
        {
          "output_type": "execute_result",
          "data": {
            "text/plain": [
              "GradientBoostingRegressor()"
            ]
          },
          "metadata": {},
          "execution_count": 415
        }
      ]
    },
    {
      "cell_type": "code",
      "metadata": {
        "colab": {
          "base_uri": "https://localhost:8080/"
        },
        "id": "TA0BUIzN1X1g",
        "outputId": "1c84fb7e-6762-4732-a646-51b62031c06a"
      },
      "source": [
        "y_pred = regressor.predict(X_test)\n",
        "y_pred"
      ],
      "execution_count": null,
      "outputs": [
        {
          "output_type": "execute_result",
          "data": {
            "text/plain": [
              "array([ 5152.62488754, 19242.1079592 , -1281.88405181, ...,\n",
              "       16199.01951494,  2355.0289023 , -1186.47521046])"
            ]
          },
          "metadata": {},
          "execution_count": 416
        }
      ]
    },
    {
      "cell_type": "code",
      "metadata": {
        "colab": {
          "base_uri": "https://localhost:8080/"
        },
        "id": "NNz38t5t1aau",
        "outputId": "e7ca8fc1-332a-4431-900b-742087547c3a"
      },
      "source": [
        "from numpy import random\n",
        "import pandas as pd\n",
        "\n",
        "print(\"NumPy Data Array is:\")\n",
        "print(y_pred)\n",
        "\n",
        "print(\"\")\n",
        "\n",
        "data_df = pd.DataFrame(y_pred)\n",
        "print(\"The DataFrame generated from the NumPy array is:\")\n",
        "print(data_df)"
      ],
      "execution_count": null,
      "outputs": [
        {
          "output_type": "stream",
          "name": "stdout",
          "text": [
            "NumPy Data Array is:\n",
            "[ 5152.62488754 19242.1079592  -1281.88405181 ... 16199.01951494\n",
            "  2355.0289023  -1186.47521046]\n",
            "\n",
            "The DataFrame generated from the NumPy array is:\n",
            "                  0\n",
            "0       5152.624888\n",
            "1      19242.107959\n",
            "2      -1281.884052\n",
            "3      15669.869447\n",
            "4     606173.362190\n",
            "...             ...\n",
            "2885   -1281.884052\n",
            "2886  326042.169791\n",
            "2887   16199.019515\n",
            "2888    2355.028902\n",
            "2889   -1186.475210\n",
            "\n",
            "[2890 rows x 1 columns]\n"
          ]
        }
      ]
    },
    {
      "cell_type": "code",
      "metadata": {
        "colab": {
          "base_uri": "https://localhost:8080/",
          "height": 417
        },
        "id": "2nUnL4gL1b6k",
        "outputId": "adef699d-edbc-4de8-8d11-2e0efc87f775"
      },
      "source": [
        "df = pd.DataFrame({'Actual': y_test, 'Predicted': y_pred})\n",
        "df"
      ],
      "execution_count": null,
      "outputs": [
        {
          "output_type": "execute_result",
          "data": {
            "text/html": [
              "<div>\n",
              "<style scoped>\n",
              "    .dataframe tbody tr th:only-of-type {\n",
              "        vertical-align: middle;\n",
              "    }\n",
              "\n",
              "    .dataframe tbody tr th {\n",
              "        vertical-align: top;\n",
              "    }\n",
              "\n",
              "    .dataframe thead th {\n",
              "        text-align: right;\n",
              "    }\n",
              "</style>\n",
              "<table border=\"1\" class=\"dataframe\">\n",
              "  <thead>\n",
              "    <tr style=\"text-align: right;\">\n",
              "      <th></th>\n",
              "      <th>Actual</th>\n",
              "      <th>Predicted</th>\n",
              "    </tr>\n",
              "  </thead>\n",
              "  <tbody>\n",
              "    <tr>\n",
              "      <th>4292</th>\n",
              "      <td>4381.0</td>\n",
              "      <td>5152.624888</td>\n",
              "    </tr>\n",
              "    <tr>\n",
              "      <th>4272</th>\n",
              "      <td>21772.0</td>\n",
              "      <td>19242.107959</td>\n",
              "    </tr>\n",
              "    <tr>\n",
              "      <th>322</th>\n",
              "      <td>0.0</td>\n",
              "      <td>-1281.884052</td>\n",
              "    </tr>\n",
              "    <tr>\n",
              "      <th>10327</th>\n",
              "      <td>15276.0</td>\n",
              "      <td>15669.869447</td>\n",
              "    </tr>\n",
              "    <tr>\n",
              "      <th>9400</th>\n",
              "      <td>606340.0</td>\n",
              "      <td>606173.362190</td>\n",
              "    </tr>\n",
              "    <tr>\n",
              "      <th>...</th>\n",
              "      <td>...</td>\n",
              "      <td>...</td>\n",
              "    </tr>\n",
              "    <tr>\n",
              "      <th>897</th>\n",
              "      <td>0.0</td>\n",
              "      <td>-1281.884052</td>\n",
              "    </tr>\n",
              "    <tr>\n",
              "      <th>5998</th>\n",
              "      <td>332155.0</td>\n",
              "      <td>326042.169791</td>\n",
              "    </tr>\n",
              "    <tr>\n",
              "      <th>3949</th>\n",
              "      <td>16775.0</td>\n",
              "      <td>16199.019515</td>\n",
              "    </tr>\n",
              "    <tr>\n",
              "      <th>2235</th>\n",
              "      <td>1563.0</td>\n",
              "      <td>2355.028902</td>\n",
              "    </tr>\n",
              "    <tr>\n",
              "      <th>292</th>\n",
              "      <td>0.0</td>\n",
              "      <td>-1186.475210</td>\n",
              "    </tr>\n",
              "  </tbody>\n",
              "</table>\n",
              "<p>2890 rows × 2 columns</p>\n",
              "</div>"
            ],
            "text/plain": [
              "         Actual      Predicted\n",
              "4292     4381.0    5152.624888\n",
              "4272    21772.0   19242.107959\n",
              "322         0.0   -1281.884052\n",
              "10327   15276.0   15669.869447\n",
              "9400   606340.0  606173.362190\n",
              "...         ...            ...\n",
              "897         0.0   -1281.884052\n",
              "5998   332155.0  326042.169791\n",
              "3949    16775.0   16199.019515\n",
              "2235     1563.0    2355.028902\n",
              "292         0.0   -1186.475210\n",
              "\n",
              "[2890 rows x 2 columns]"
            ]
          },
          "metadata": {},
          "execution_count": 418
        }
      ]
    },
    {
      "cell_type": "code",
      "metadata": {
        "colab": {
          "base_uri": "https://localhost:8080/"
        },
        "id": "7m8yO-zb1d3z",
        "outputId": "acb3c187-71d0-43e3-e46c-429151aac85d"
      },
      "source": [
        "from sklearn import metrics\n",
        "print('Mean Absolute Error (MAE):', metrics.mean_absolute_error(y_test, y_pred))\n",
        "print('median_absolute_error (MAD):', metrics.median_absolute_error(y_test, y_pred))\n",
        "print('Root Mean Squared Error (RMSE):', np.sqrt(metrics.mean_squared_error(y_test, y_pred)))\n",
        "print('mean_absolute_percentage_error (MAPE):', metrics.mean_absolute_percentage_error(y_test, y_pred))\n",
        "print('max_error(MAX_ERROR):', metrics.max_error(y_test, y_pred))\n",
        "print('explained_variance_score (EXPL):', metrics.explained_variance_score(y_test, y_pred, multioutput='uniform_average'))\n",
        "print('R2_SCORE:', metrics.r2_score(y_test, y_pred))"
      ],
      "execution_count": null,
      "outputs": [
        {
          "output_type": "stream",
          "name": "stdout",
          "text": [
            "Mean Absolute Error (MAE): 3911.447893546117\n",
            "median_absolute_error (MAD): 2385.588203855017\n",
            "Root Mean Squared Error (RMSE): 5872.615078581072\n",
            "mean_absolute_percentage_error (MAPE): 6.272725930258216e+17\n",
            "max_error(MAX_ERROR): 59311.42358944181\n",
            "explained_variance_score (EXPL): 0.9984910574325714\n",
            "R2_SCORE: 0.9984909790723788\n"
          ]
        }
      ]
    },
    {
      "cell_type": "markdown",
      "metadata": {
        "id": "7-aoO8M81fcV"
      },
      "source": [
        "**APLICAMOS ADA BOOST - CONFIRMADOS**"
      ]
    },
    {
      "cell_type": "code",
      "metadata": {
        "colab": {
          "base_uri": "https://localhost:8080/"
        },
        "id": "GhBguamZ1hpk",
        "outputId": "2574d68a-359b-4e6b-8419-29a7ff84e1bf"
      },
      "source": [
        "regressor = AdaBoostRegressor()\n",
        "regressor.fit(X_train, y_train)"
      ],
      "execution_count": null,
      "outputs": [
        {
          "output_type": "execute_result",
          "data": {
            "text/plain": [
              "AdaBoostRegressor()"
            ]
          },
          "metadata": {},
          "execution_count": 420
        }
      ]
    },
    {
      "cell_type": "code",
      "metadata": {
        "colab": {
          "base_uri": "https://localhost:8080/"
        },
        "id": "3SLcNvr-1jru",
        "outputId": "d291f89a-92bf-48bb-b8d8-26ccd4b5ad86"
      },
      "source": [
        "y_pred = regressor.predict(X_test)\n",
        "y_pred"
      ],
      "execution_count": null,
      "outputs": [
        {
          "output_type": "execute_result",
          "data": {
            "text/plain": [
              "array([37978.38287865, 40013.31152529, 37978.38287865, ...,\n",
              "       40013.31152529, 37978.38287865, 37978.38287865])"
            ]
          },
          "metadata": {},
          "execution_count": 421
        }
      ]
    },
    {
      "cell_type": "code",
      "metadata": {
        "colab": {
          "base_uri": "https://localhost:8080/"
        },
        "id": "LVx6nAOD1me4",
        "outputId": "5b9a1711-b1be-4070-dde4-6771c72253eb"
      },
      "source": [
        "from numpy import random\n",
        "import pandas as pd\n",
        "\n",
        "print(\"NumPy Data Array is:\")\n",
        "print(y_pred)\n",
        "\n",
        "print(\"\")\n",
        "\n",
        "data_df = pd.DataFrame(y_pred)\n",
        "print(\"The DataFrame generated from the NumPy array is:\")\n",
        "print(data_df)"
      ],
      "execution_count": null,
      "outputs": [
        {
          "output_type": "stream",
          "name": "stdout",
          "text": [
            "NumPy Data Array is:\n",
            "[37978.38287865 40013.31152529 37978.38287865 ... 40013.31152529\n",
            " 37978.38287865 37978.38287865]\n",
            "\n",
            "The DataFrame generated from the NumPy array is:\n",
            "                  0\n",
            "0      37978.382879\n",
            "1      40013.311525\n",
            "2      37978.382879\n",
            "3      48802.282625\n",
            "4     613160.599593\n",
            "...             ...\n",
            "2885   37978.382879\n",
            "2886  340085.029091\n",
            "2887   40013.311525\n",
            "2888   37978.382879\n",
            "2889   37978.382879\n",
            "\n",
            "[2890 rows x 1 columns]\n"
          ]
        }
      ]
    },
    {
      "cell_type": "code",
      "metadata": {
        "colab": {
          "base_uri": "https://localhost:8080/",
          "height": 417
        },
        "id": "d8Ayi8zJ1oFw",
        "outputId": "c4c02fe7-2b7a-4484-f680-45dc30081db2"
      },
      "source": [
        "df = pd.DataFrame({'Actual': y_test, 'Predicted': y_pred})\n",
        "df"
      ],
      "execution_count": null,
      "outputs": [
        {
          "output_type": "execute_result",
          "data": {
            "text/html": [
              "<div>\n",
              "<style scoped>\n",
              "    .dataframe tbody tr th:only-of-type {\n",
              "        vertical-align: middle;\n",
              "    }\n",
              "\n",
              "    .dataframe tbody tr th {\n",
              "        vertical-align: top;\n",
              "    }\n",
              "\n",
              "    .dataframe thead th {\n",
              "        text-align: right;\n",
              "    }\n",
              "</style>\n",
              "<table border=\"1\" class=\"dataframe\">\n",
              "  <thead>\n",
              "    <tr style=\"text-align: right;\">\n",
              "      <th></th>\n",
              "      <th>Actual</th>\n",
              "      <th>Predicted</th>\n",
              "    </tr>\n",
              "  </thead>\n",
              "  <tbody>\n",
              "    <tr>\n",
              "      <th>4292</th>\n",
              "      <td>4381.0</td>\n",
              "      <td>37978.382879</td>\n",
              "    </tr>\n",
              "    <tr>\n",
              "      <th>4272</th>\n",
              "      <td>21772.0</td>\n",
              "      <td>40013.311525</td>\n",
              "    </tr>\n",
              "    <tr>\n",
              "      <th>322</th>\n",
              "      <td>0.0</td>\n",
              "      <td>37978.382879</td>\n",
              "    </tr>\n",
              "    <tr>\n",
              "      <th>10327</th>\n",
              "      <td>15276.0</td>\n",
              "      <td>48802.282625</td>\n",
              "    </tr>\n",
              "    <tr>\n",
              "      <th>9400</th>\n",
              "      <td>606340.0</td>\n",
              "      <td>613160.599593</td>\n",
              "    </tr>\n",
              "    <tr>\n",
              "      <th>...</th>\n",
              "      <td>...</td>\n",
              "      <td>...</td>\n",
              "    </tr>\n",
              "    <tr>\n",
              "      <th>897</th>\n",
              "      <td>0.0</td>\n",
              "      <td>37978.382879</td>\n",
              "    </tr>\n",
              "    <tr>\n",
              "      <th>5998</th>\n",
              "      <td>332155.0</td>\n",
              "      <td>340085.029091</td>\n",
              "    </tr>\n",
              "    <tr>\n",
              "      <th>3949</th>\n",
              "      <td>16775.0</td>\n",
              "      <td>40013.311525</td>\n",
              "    </tr>\n",
              "    <tr>\n",
              "      <th>2235</th>\n",
              "      <td>1563.0</td>\n",
              "      <td>37978.382879</td>\n",
              "    </tr>\n",
              "    <tr>\n",
              "      <th>292</th>\n",
              "      <td>0.0</td>\n",
              "      <td>37978.382879</td>\n",
              "    </tr>\n",
              "  </tbody>\n",
              "</table>\n",
              "<p>2890 rows × 2 columns</p>\n",
              "</div>"
            ],
            "text/plain": [
              "         Actual      Predicted\n",
              "4292     4381.0   37978.382879\n",
              "4272    21772.0   40013.311525\n",
              "322         0.0   37978.382879\n",
              "10327   15276.0   48802.282625\n",
              "9400   606340.0  613160.599593\n",
              "...         ...            ...\n",
              "897         0.0   37978.382879\n",
              "5998   332155.0  340085.029091\n",
              "3949    16775.0   40013.311525\n",
              "2235     1563.0   37978.382879\n",
              "292         0.0   37978.382879\n",
              "\n",
              "[2890 rows x 2 columns]"
            ]
          },
          "metadata": {},
          "execution_count": 423
        }
      ]
    },
    {
      "cell_type": "code",
      "metadata": {
        "colab": {
          "base_uri": "https://localhost:8080/"
        },
        "id": "nw8o4zYN1tsT",
        "outputId": "f85770c8-5ae5-4741-988e-c5e90826540a"
      },
      "source": [
        "from sklearn import metrics\n",
        "print('Mean Absolute Error (MAE):', metrics.mean_absolute_error(y_test, y_pred))\n",
        "print('median_absolute_error (MAD):', metrics.median_absolute_error(y_test, y_pred))\n",
        "print('Root Mean Squared Error (RMSE):', np.sqrt(metrics.mean_squared_error(y_test, y_pred)))\n",
        "print('mean_absolute_percentage_error (MAPE):', metrics.mean_absolute_percentage_error(y_test, y_pred))\n",
        "print('max_error(MAX_ERROR):', metrics.max_error(y_test, y_pred))\n",
        "print('explained_variance_score (EXPL):', metrics.explained_variance_score(y_test, y_pred, multioutput='uniform_average'))\n",
        "print('R2_SCORE:', metrics.r2_score(y_test, y_pred))"
      ],
      "execution_count": null,
      "outputs": [
        {
          "output_type": "stream",
          "name": "stdout",
          "text": [
            "Mean Absolute Error (MAE): 27657.062202960522\n",
            "median_absolute_error (MAD): 32227.868032844093\n",
            "Root Mean Squared Error (RMSE): 30840.992551285253\n",
            "mean_absolute_percentage_error (MAPE): 1.5565180051157619e+19\n",
            "max_error(MAX_ERROR): 85811.92156862744\n",
            "explained_variance_score (EXPL): 0.9732728903822212\n",
            "R2_SCORE: 0.9583812642166107\n"
          ]
        }
      ]
    },
    {
      "cell_type": "markdown",
      "metadata": {
        "id": "ubOX-X9N1ymh"
      },
      "source": [
        "**APLICAMOS SUPPORT VECTOR MACHINE - CONFIRMADOS**"
      ]
    },
    {
      "cell_type": "code",
      "metadata": {
        "id": "D3NWFPnW1zxr",
        "colab": {
          "base_uri": "https://localhost:8080/"
        },
        "outputId": "7b626b82-84d1-48bc-e665-47eba3b51baf"
      },
      "source": [
        "regressor = svm.SVR()\n",
        "regressor.fit(X_train, y_train)"
      ],
      "execution_count": null,
      "outputs": [
        {
          "output_type": "execute_result",
          "data": {
            "text/plain": [
              "SVR()"
            ]
          },
          "metadata": {},
          "execution_count": 425
        }
      ]
    },
    {
      "cell_type": "code",
      "metadata": {
        "id": "2eLIEypA12XC",
        "colab": {
          "base_uri": "https://localhost:8080/"
        },
        "outputId": "e988d42e-f1a3-48fa-c87f-a5810c7f14d2"
      },
      "source": [
        "y_pred = regressor.predict(X_test)\n",
        "y_pred"
      ],
      "execution_count": null,
      "outputs": [
        {
          "output_type": "execute_result",
          "data": {
            "text/plain": [
              "array([24229.99860883, 24230.00067347, 24229.99803866, ...,\n",
              "       24230.00055731, 24229.99836623, 24229.99802969])"
            ]
          },
          "metadata": {},
          "execution_count": 426
        }
      ]
    },
    {
      "cell_type": "code",
      "metadata": {
        "id": "HhwWDl7C14DG",
        "colab": {
          "base_uri": "https://localhost:8080/"
        },
        "outputId": "c5ceba71-c666-4439-d855-806e1647cdf9"
      },
      "source": [
        "from numpy import random\n",
        "import pandas as pd\n",
        "\n",
        "print(\"NumPy Data Array is:\")\n",
        "print(y_pred)\n",
        "\n",
        "print(\"\")\n",
        "\n",
        "data_df = pd.DataFrame(y_pred)\n",
        "print(\"The DataFrame generated from the NumPy array is:\")\n",
        "print(data_df)"
      ],
      "execution_count": null,
      "outputs": [
        {
          "output_type": "stream",
          "name": "stdout",
          "text": [
            "NumPy Data Array is:\n",
            "[24229.99860883 24230.00067347 24229.99803866 ... 24230.00055731\n",
            " 24229.99836623 24229.99802969]\n",
            "\n",
            "The DataFrame generated from the NumPy array is:\n",
            "                 0\n",
            "0     24229.998609\n",
            "1     24230.000673\n",
            "2     24229.998039\n",
            "3     24230.000023\n",
            "4     24230.018228\n",
            "...            ...\n",
            "2885  24229.998042\n",
            "2886  24230.028003\n",
            "2887  24230.000557\n",
            "2888  24229.998366\n",
            "2889  24229.998030\n",
            "\n",
            "[2890 rows x 1 columns]\n"
          ]
        }
      ]
    },
    {
      "cell_type": "code",
      "metadata": {
        "id": "ThK55Q7Y16Ad",
        "colab": {
          "base_uri": "https://localhost:8080/",
          "height": 417
        },
        "outputId": "9644bfa5-c7e8-4efc-ff36-5435e54b1e57"
      },
      "source": [
        "df = pd.DataFrame({'Actual': y_test, 'Predicted': y_pred})\n",
        "df"
      ],
      "execution_count": null,
      "outputs": [
        {
          "output_type": "execute_result",
          "data": {
            "text/html": [
              "<div>\n",
              "<style scoped>\n",
              "    .dataframe tbody tr th:only-of-type {\n",
              "        vertical-align: middle;\n",
              "    }\n",
              "\n",
              "    .dataframe tbody tr th {\n",
              "        vertical-align: top;\n",
              "    }\n",
              "\n",
              "    .dataframe thead th {\n",
              "        text-align: right;\n",
              "    }\n",
              "</style>\n",
              "<table border=\"1\" class=\"dataframe\">\n",
              "  <thead>\n",
              "    <tr style=\"text-align: right;\">\n",
              "      <th></th>\n",
              "      <th>Actual</th>\n",
              "      <th>Predicted</th>\n",
              "    </tr>\n",
              "  </thead>\n",
              "  <tbody>\n",
              "    <tr>\n",
              "      <th>4292</th>\n",
              "      <td>4381.0</td>\n",
              "      <td>24229.998609</td>\n",
              "    </tr>\n",
              "    <tr>\n",
              "      <th>4272</th>\n",
              "      <td>21772.0</td>\n",
              "      <td>24230.000673</td>\n",
              "    </tr>\n",
              "    <tr>\n",
              "      <th>322</th>\n",
              "      <td>0.0</td>\n",
              "      <td>24229.998039</td>\n",
              "    </tr>\n",
              "    <tr>\n",
              "      <th>10327</th>\n",
              "      <td>15276.0</td>\n",
              "      <td>24230.000023</td>\n",
              "    </tr>\n",
              "    <tr>\n",
              "      <th>9400</th>\n",
              "      <td>606340.0</td>\n",
              "      <td>24230.018228</td>\n",
              "    </tr>\n",
              "    <tr>\n",
              "      <th>...</th>\n",
              "      <td>...</td>\n",
              "      <td>...</td>\n",
              "    </tr>\n",
              "    <tr>\n",
              "      <th>897</th>\n",
              "      <td>0.0</td>\n",
              "      <td>24229.998042</td>\n",
              "    </tr>\n",
              "    <tr>\n",
              "      <th>5998</th>\n",
              "      <td>332155.0</td>\n",
              "      <td>24230.028003</td>\n",
              "    </tr>\n",
              "    <tr>\n",
              "      <th>3949</th>\n",
              "      <td>16775.0</td>\n",
              "      <td>24230.000557</td>\n",
              "    </tr>\n",
              "    <tr>\n",
              "      <th>2235</th>\n",
              "      <td>1563.0</td>\n",
              "      <td>24229.998366</td>\n",
              "    </tr>\n",
              "    <tr>\n",
              "      <th>292</th>\n",
              "      <td>0.0</td>\n",
              "      <td>24229.998030</td>\n",
              "    </tr>\n",
              "  </tbody>\n",
              "</table>\n",
              "<p>2890 rows × 2 columns</p>\n",
              "</div>"
            ],
            "text/plain": [
              "         Actual     Predicted\n",
              "4292     4381.0  24229.998609\n",
              "4272    21772.0  24230.000673\n",
              "322         0.0  24229.998039\n",
              "10327   15276.0  24230.000023\n",
              "9400   606340.0  24230.018228\n",
              "...         ...           ...\n",
              "897         0.0  24229.998042\n",
              "5998   332155.0  24230.028003\n",
              "3949    16775.0  24230.000557\n",
              "2235     1563.0  24229.998366\n",
              "292         0.0  24229.998030\n",
              "\n",
              "[2890 rows x 2 columns]"
            ]
          },
          "metadata": {},
          "execution_count": 428
        }
      ]
    },
    {
      "cell_type": "code",
      "metadata": {
        "id": "k6DG0mGc17z2",
        "colab": {
          "base_uri": "https://localhost:8080/"
        },
        "outputId": "393776f2-d3a4-4d3e-bca6-e503973897f2"
      },
      "source": [
        "from sklearn import metrics\n",
        "print('Mean Absolute Error (MAE):', metrics.mean_absolute_error(y_test, y_pred))\n",
        "print('median_absolute_error (MAD):', metrics.median_absolute_error(y_test, y_pred))\n",
        "print('Root Mean Squared Error (RMSE):', np.sqrt(metrics.mean_squared_error(y_test, y_pred)))\n",
        "print('mean_absolute_percentage_error (MAPE):', metrics.mean_absolute_percentage_error(y_test, y_pred))\n",
        "print('max_error(MAX_ERROR):', metrics.max_error(y_test, y_pred))\n",
        "print('explained_variance_score (EXPL):', metrics.explained_variance_score(y_test, y_pred, multioutput='uniform_average'))\n",
        "print('R2_SCORE:', metrics.r2_score(y_test, y_pred))"
      ],
      "execution_count": null,
      "outputs": [
        {
          "output_type": "stream",
          "name": "stdout",
          "text": [
            "Mean Absolute Error (MAE): 79312.78984815646\n",
            "median_absolute_error (MAD): 24211.498067009205\n",
            "Root Mean Squared Error (RMSE): 163234.83398465818\n",
            "mean_absolute_percentage_error (MAPE): 9.930498707923261e+18\n",
            "max_error(MAX_ERROR): 864735.9797876196\n",
            "explained_variance_score (EXPL): 9.276329981933173e-08\n",
            "R2_SCORE: -0.16589079849600918\n"
          ]
        }
      ]
    },
    {
      "cell_type": "markdown",
      "metadata": {
        "id": "GTX42LLg1-i1"
      },
      "source": [
        "**APLICAMOS MULTILAYER PERCEPTRON REGRESSOR - CONFIRMADOS**"
      ]
    },
    {
      "cell_type": "code",
      "metadata": {
        "id": "FXz1zHra2CLm",
        "colab": {
          "base_uri": "https://localhost:8080/"
        },
        "outputId": "3d4420ea-8324-4f0b-f2a2-bc0e78452167"
      },
      "source": [
        "regressor = MLPRegressor()\n",
        "regressor.fit(X_train, y_train)"
      ],
      "execution_count": null,
      "outputs": [
        {
          "output_type": "execute_result",
          "data": {
            "text/plain": [
              "MLPRegressor()"
            ]
          },
          "metadata": {},
          "execution_count": 430
        }
      ]
    },
    {
      "cell_type": "code",
      "metadata": {
        "id": "IKmpHqwQ2Dxa",
        "colab": {
          "base_uri": "https://localhost:8080/"
        },
        "outputId": "06d448c0-d403-44ad-9be0-ad2ce352bd23"
      },
      "source": [
        "y_pred = regressor.predict(X_test)\n",
        "y_pred"
      ],
      "execution_count": null,
      "outputs": [
        {
          "output_type": "execute_result",
          "data": {
            "text/plain": [
              "array([45885.74929355, 90784.97040728, 34603.59193027, ...,\n",
              "       88989.12985869, 41077.51525897, 34518.53063525])"
            ]
          },
          "metadata": {},
          "execution_count": 431
        }
      ]
    },
    {
      "cell_type": "code",
      "metadata": {
        "id": "pLpVtlZj2GDz",
        "colab": {
          "base_uri": "https://localhost:8080/"
        },
        "outputId": "8b4965d3-e1ba-4cc6-f4f4-bea0e8fe8e47"
      },
      "source": [
        "from numpy import random\n",
        "import pandas as pd\n",
        "\n",
        "print(\"NumPy Data Array is:\")\n",
        "print(y_pred)\n",
        "\n",
        "print(\"\")\n",
        "\n",
        "data_df = pd.DataFrame(y_pred)\n",
        "print(\"The DataFrame generated from the NumPy array is:\")\n",
        "print(data_df)"
      ],
      "execution_count": null,
      "outputs": [
        {
          "output_type": "stream",
          "name": "stdout",
          "text": [
            "NumPy Data Array is:\n",
            "[45885.74929355 90784.97040728 34603.59193027 ... 88989.12985869\n",
            " 41077.51525897 34518.53063525]\n",
            "\n",
            "The DataFrame generated from the NumPy array is:\n",
            "                  0\n",
            "0      45885.749294\n",
            "1      90784.970407\n",
            "2      34603.591930\n",
            "3      45516.326548\n",
            "4     485184.902054\n",
            "...             ...\n",
            "2885   34511.831788\n",
            "2886  586061.599280\n",
            "2887   88989.129859\n",
            "2888   41077.515259\n",
            "2889   34518.530635\n",
            "\n",
            "[2890 rows x 1 columns]\n"
          ]
        }
      ]
    },
    {
      "cell_type": "code",
      "metadata": {
        "id": "z22ytDKe4-9n"
      },
      "source": [
        ""
      ],
      "execution_count": null,
      "outputs": []
    },
    {
      "cell_type": "code",
      "metadata": {
        "id": "iC5o6xSB2Hv8",
        "colab": {
          "base_uri": "https://localhost:8080/",
          "height": 417
        },
        "outputId": "8b493447-3448-4d4d-9ef0-e9980d2afecf"
      },
      "source": [
        "df = pd.DataFrame({'Actual': y_test, 'Predicted': y_pred})\n",
        "df"
      ],
      "execution_count": null,
      "outputs": [
        {
          "output_type": "execute_result",
          "data": {
            "text/html": [
              "<div>\n",
              "<style scoped>\n",
              "    .dataframe tbody tr th:only-of-type {\n",
              "        vertical-align: middle;\n",
              "    }\n",
              "\n",
              "    .dataframe tbody tr th {\n",
              "        vertical-align: top;\n",
              "    }\n",
              "\n",
              "    .dataframe thead th {\n",
              "        text-align: right;\n",
              "    }\n",
              "</style>\n",
              "<table border=\"1\" class=\"dataframe\">\n",
              "  <thead>\n",
              "    <tr style=\"text-align: right;\">\n",
              "      <th></th>\n",
              "      <th>Actual</th>\n",
              "      <th>Predicted</th>\n",
              "    </tr>\n",
              "  </thead>\n",
              "  <tbody>\n",
              "    <tr>\n",
              "      <th>4292</th>\n",
              "      <td>4381.0</td>\n",
              "      <td>45885.749294</td>\n",
              "    </tr>\n",
              "    <tr>\n",
              "      <th>4272</th>\n",
              "      <td>21772.0</td>\n",
              "      <td>90784.970407</td>\n",
              "    </tr>\n",
              "    <tr>\n",
              "      <th>322</th>\n",
              "      <td>0.0</td>\n",
              "      <td>34603.591930</td>\n",
              "    </tr>\n",
              "    <tr>\n",
              "      <th>10327</th>\n",
              "      <td>15276.0</td>\n",
              "      <td>45516.326548</td>\n",
              "    </tr>\n",
              "    <tr>\n",
              "      <th>9400</th>\n",
              "      <td>606340.0</td>\n",
              "      <td>485184.902054</td>\n",
              "    </tr>\n",
              "    <tr>\n",
              "      <th>...</th>\n",
              "      <td>...</td>\n",
              "      <td>...</td>\n",
              "    </tr>\n",
              "    <tr>\n",
              "      <th>897</th>\n",
              "      <td>0.0</td>\n",
              "      <td>34511.831788</td>\n",
              "    </tr>\n",
              "    <tr>\n",
              "      <th>5998</th>\n",
              "      <td>332155.0</td>\n",
              "      <td>586061.599280</td>\n",
              "    </tr>\n",
              "    <tr>\n",
              "      <th>3949</th>\n",
              "      <td>16775.0</td>\n",
              "      <td>88989.129859</td>\n",
              "    </tr>\n",
              "    <tr>\n",
              "      <th>2235</th>\n",
              "      <td>1563.0</td>\n",
              "      <td>41077.515259</td>\n",
              "    </tr>\n",
              "    <tr>\n",
              "      <th>292</th>\n",
              "      <td>0.0</td>\n",
              "      <td>34518.530635</td>\n",
              "    </tr>\n",
              "  </tbody>\n",
              "</table>\n",
              "<p>2890 rows × 2 columns</p>\n",
              "</div>"
            ],
            "text/plain": [
              "         Actual      Predicted\n",
              "4292     4381.0   45885.749294\n",
              "4272    21772.0   90784.970407\n",
              "322         0.0   34603.591930\n",
              "10327   15276.0   45516.326548\n",
              "9400   606340.0  485184.902054\n",
              "...         ...            ...\n",
              "897         0.0   34511.831788\n",
              "5998   332155.0  586061.599280\n",
              "3949    16775.0   88989.129859\n",
              "2235     1563.0   41077.515259\n",
              "292         0.0   34518.530635\n",
              "\n",
              "[2890 rows x 2 columns]"
            ]
          },
          "metadata": {},
          "execution_count": 433
        }
      ]
    },
    {
      "cell_type": "code",
      "metadata": {
        "id": "vxW4HTWx2Jar",
        "colab": {
          "base_uri": "https://localhost:8080/"
        },
        "outputId": "b8f851c8-619d-403c-c977-3a3ee08d46ae"
      },
      "source": [
        "from sklearn import metrics\n",
        "print('Mean Absolute Error (MAE):', metrics.mean_absolute_error(y_test, y_pred))\n",
        "print('median_absolute_error (MAD):', metrics.median_absolute_error(y_test, y_pred))\n",
        "print('Root Mean Squared Error (RMSE):', np.sqrt(metrics.mean_squared_error(y_test, y_pred)))\n",
        "print('mean_absolute_percentage_error (MAPE):', metrics.mean_absolute_percentage_error(y_test, y_pred))\n",
        "print('max_error(MAX_ERROR):', metrics.max_error(y_test, y_pred))\n",
        "print('explained_variance_score (EXPL):', metrics.explained_variance_score(y_test, y_pred, multioutput='uniform_average'))\n",
        "print('R2_SCORE:', metrics.r2_score(y_test, y_pred))"
      ],
      "execution_count": null,
      "outputs": [
        {
          "output_type": "stream",
          "name": "stdout",
          "text": [
            "Mean Absolute Error (MAE): 55579.79942358434\n",
            "median_absolute_error (MAD): 38138.081077868854\n",
            "Root Mean Squared Error (RMSE): 77006.06644124244\n",
            "mean_absolute_percentage_error (MAPE): 1.4109554804148791e+19\n",
            "max_error(MAX_ERROR): 371820.67184761877\n",
            "explained_variance_score (EXPL): 0.8324571841702395\n",
            "R2_SCORE: 0.7405330358954998\n"
          ]
        }
      ]
    },
    {
      "cell_type": "code",
      "metadata": {
        "id": "U8bctJul6K4X"
      },
      "source": [
        ""
      ],
      "execution_count": null,
      "outputs": []
    },
    {
      "cell_type": "markdown",
      "metadata": {
        "id": "zs_zFt-36LEw"
      },
      "source": [
        "**ANÁLISIS HOSPITALIZADOS**"
      ]
    },
    {
      "cell_type": "code",
      "metadata": {
        "colab": {
          "base_uri": "https://localhost:8080/",
          "height": 142
        },
        "id": "MbQpPWSx9aDD",
        "outputId": "e1492c94-76d6-45e2-b392-449145ada3d8"
      },
      "source": [
        "datos = df_final_clima\n",
        "datos.head(3)"
      ],
      "execution_count": null,
      "outputs": [
        {
          "output_type": "execute_result",
          "data": {
            "text/html": [
              "<div>\n",
              "<style scoped>\n",
              "    .dataframe tbody tr th:only-of-type {\n",
              "        vertical-align: middle;\n",
              "    }\n",
              "\n",
              "    .dataframe tbody tr th {\n",
              "        vertical-align: top;\n",
              "    }\n",
              "\n",
              "    .dataframe thead th {\n",
              "        text-align: right;\n",
              "    }\n",
              "</style>\n",
              "<table border=\"1\" class=\"dataframe\">\n",
              "  <thead>\n",
              "    <tr style=\"text-align: right;\">\n",
              "      <th></th>\n",
              "      <th>average_temperature</th>\n",
              "      <th>minimum_temperature</th>\n",
              "      <th>maximum_temperature</th>\n",
              "      <th>rainfall</th>\n",
              "      <th>snowfall</th>\n",
              "      <th>dew_point</th>\n",
              "      <th>relative_humidity</th>\n",
              "      <th>fecha</th>\n",
              "      <th>ccaa</th>\n",
              "      <th>confirmados</th>\n",
              "      <th>hospitalizados</th>\n",
              "      <th>uci</th>\n",
              "      <th>fallecidos</th>\n",
              "    </tr>\n",
              "  </thead>\n",
              "  <tbody>\n",
              "    <tr>\n",
              "      <th>0</th>\n",
              "      <td>8.402778</td>\n",
              "      <td>2.812500</td>\n",
              "      <td>16.409722</td>\n",
              "      <td>0.00000</td>\n",
              "      <td>0.0</td>\n",
              "      <td>4.562500</td>\n",
              "      <td>76.986560</td>\n",
              "      <td>20200101</td>\n",
              "      <td>0</td>\n",
              "      <td>0.0</td>\n",
              "      <td>3.0</td>\n",
              "      <td>0.0</td>\n",
              "      <td>0.0</td>\n",
              "    </tr>\n",
              "    <tr>\n",
              "      <th>1</th>\n",
              "      <td>1.097222</td>\n",
              "      <td>-1.854167</td>\n",
              "      <td>7.493056</td>\n",
              "      <td>0.00000</td>\n",
              "      <td>0.0</td>\n",
              "      <td>-1.571429</td>\n",
              "      <td>83.099552</td>\n",
              "      <td>20200101</td>\n",
              "      <td>1</td>\n",
              "      <td>0.0</td>\n",
              "      <td>0.0</td>\n",
              "      <td>0.0</td>\n",
              "      <td>0.0</td>\n",
              "    </tr>\n",
              "    <tr>\n",
              "      <th>2</th>\n",
              "      <td>4.319444</td>\n",
              "      <td>0.270833</td>\n",
              "      <td>10.152778</td>\n",
              "      <td>0.03175</td>\n",
              "      <td>0.0</td>\n",
              "      <td>2.381944</td>\n",
              "      <td>87.497387</td>\n",
              "      <td>20200101</td>\n",
              "      <td>2</td>\n",
              "      <td>0.0</td>\n",
              "      <td>0.0</td>\n",
              "      <td>0.0</td>\n",
              "      <td>0.0</td>\n",
              "    </tr>\n",
              "  </tbody>\n",
              "</table>\n",
              "</div>"
            ],
            "text/plain": [
              "   average_temperature  minimum_temperature  ...  uci  fallecidos\n",
              "0             8.402778             2.812500  ...  0.0         0.0\n",
              "1             1.097222            -1.854167  ...  0.0         0.0\n",
              "2             4.319444             0.270833  ...  0.0         0.0\n",
              "\n",
              "[3 rows x 13 columns]"
            ]
          },
          "metadata": {},
          "execution_count": 435
        }
      ]
    },
    {
      "cell_type": "code",
      "metadata": {
        "id": "hwMr4z9R6LEw"
      },
      "source": [
        "# División de los datos en train y test\n",
        "# ------------------------------------------------------------------------------\n",
        "X_train, X_test, y_train, y_test = train_test_split(\n",
        "                                        datos.drop(columns = \"hospitalizados\"),\n",
        "                                        datos['hospitalizados'],\n",
        "                                        random_state = 123\n",
        "                                    )"
      ],
      "execution_count": null,
      "outputs": []
    },
    {
      "cell_type": "markdown",
      "metadata": {
        "id": "zgs0GGdz6LEw"
      },
      "source": [
        "**ARBOL DE DECISIÓN - HOSPITALIZADOS**"
      ]
    },
    {
      "cell_type": "code",
      "metadata": {
        "id": "D6ppsKpl6LEw",
        "colab": {
          "base_uri": "https://localhost:8080/"
        },
        "outputId": "cda9032d-2b4e-46fa-b0b6-ce02a5344a4f"
      },
      "source": [
        "regressor = DecisionTreeRegressor ()\n",
        "regressor.fit(X_train, y_train)"
      ],
      "execution_count": null,
      "outputs": [
        {
          "output_type": "execute_result",
          "data": {
            "text/plain": [
              "DecisionTreeRegressor()"
            ]
          },
          "metadata": {},
          "execution_count": 437
        }
      ]
    },
    {
      "cell_type": "code",
      "metadata": {
        "id": "WhgoFeo16LEx",
        "colab": {
          "base_uri": "https://localhost:8080/"
        },
        "outputId": "b56c53e0-6eeb-42e7-fe92-2936a90ee4f6"
      },
      "source": [
        "y_pred = regressor.predict(X_test)\n",
        "y_pred"
      ],
      "execution_count": null,
      "outputs": [
        {
          "output_type": "execute_result",
          "data": {
            "text/plain": [
              "array([1.064e+03, 5.716e+03, 2.500e+01, ..., 5.426e+03, 6.600e+02,\n",
              "       4.000e+00])"
            ]
          },
          "metadata": {},
          "execution_count": 438
        }
      ]
    },
    {
      "cell_type": "code",
      "metadata": {
        "id": "Tqj3BBTs6LEx",
        "colab": {
          "base_uri": "https://localhost:8080/"
        },
        "outputId": "951324a6-960d-4eb0-9b17-9fccb1bf044b"
      },
      "source": [
        "from numpy import random\n",
        "import pandas as pd\n",
        "\n",
        "print(\"NumPy Data Array is:\")\n",
        "print(y_pred)\n",
        "\n",
        "print(\"\")\n",
        "\n",
        "data_df = pd.DataFrame(y_pred)\n",
        "print(\"The DataFrame generated from the NumPy array is:\")\n",
        "print(data_df)"
      ],
      "execution_count": null,
      "outputs": [
        {
          "output_type": "stream",
          "name": "stdout",
          "text": [
            "NumPy Data Array is:\n",
            "[1.064e+03 5.716e+03 2.500e+01 ... 5.426e+03 6.600e+02 4.000e+00]\n",
            "\n",
            "The DataFrame generated from the NumPy array is:\n",
            "            0\n",
            "0      1064.0\n",
            "1      5716.0\n",
            "2        25.0\n",
            "3      1104.0\n",
            "4     41101.0\n",
            "...       ...\n",
            "2885      0.0\n",
            "2886  68312.0\n",
            "2887   5426.0\n",
            "2888    660.0\n",
            "2889      4.0\n",
            "\n",
            "[2890 rows x 1 columns]\n"
          ]
        }
      ]
    },
    {
      "cell_type": "code",
      "metadata": {
        "id": "_OT5dmZD6LEx",
        "colab": {
          "base_uri": "https://localhost:8080/",
          "height": 417
        },
        "outputId": "c69dbec1-aafa-4da2-9035-88a44444e161"
      },
      "source": [
        "df = pd.DataFrame({'Actual': y_test, 'Predicted': y_pred})\n",
        "df"
      ],
      "execution_count": null,
      "outputs": [
        {
          "output_type": "execute_result",
          "data": {
            "text/html": [
              "<div>\n",
              "<style scoped>\n",
              "    .dataframe tbody tr th:only-of-type {\n",
              "        vertical-align: middle;\n",
              "    }\n",
              "\n",
              "    .dataframe tbody tr th {\n",
              "        vertical-align: top;\n",
              "    }\n",
              "\n",
              "    .dataframe thead th {\n",
              "        text-align: right;\n",
              "    }\n",
              "</style>\n",
              "<table border=\"1\" class=\"dataframe\">\n",
              "  <thead>\n",
              "    <tr style=\"text-align: right;\">\n",
              "      <th></th>\n",
              "      <th>Actual</th>\n",
              "      <th>Predicted</th>\n",
              "    </tr>\n",
              "  </thead>\n",
              "  <tbody>\n",
              "    <tr>\n",
              "      <th>4292</th>\n",
              "      <td>1057.0</td>\n",
              "      <td>1064.0</td>\n",
              "    </tr>\n",
              "    <tr>\n",
              "      <th>4272</th>\n",
              "      <td>5681.0</td>\n",
              "      <td>5716.0</td>\n",
              "    </tr>\n",
              "    <tr>\n",
              "      <th>322</th>\n",
              "      <td>25.0</td>\n",
              "      <td>25.0</td>\n",
              "    </tr>\n",
              "    <tr>\n",
              "      <th>10327</th>\n",
              "      <td>1104.0</td>\n",
              "      <td>1104.0</td>\n",
              "    </tr>\n",
              "    <tr>\n",
              "      <th>9400</th>\n",
              "      <td>41030.0</td>\n",
              "      <td>41101.0</td>\n",
              "    </tr>\n",
              "    <tr>\n",
              "      <th>...</th>\n",
              "      <td>...</td>\n",
              "      <td>...</td>\n",
              "    </tr>\n",
              "    <tr>\n",
              "      <th>897</th>\n",
              "      <td>0.0</td>\n",
              "      <td>0.0</td>\n",
              "    </tr>\n",
              "    <tr>\n",
              "      <th>5998</th>\n",
              "      <td>68137.0</td>\n",
              "      <td>68312.0</td>\n",
              "    </tr>\n",
              "    <tr>\n",
              "      <th>3949</th>\n",
              "      <td>5438.0</td>\n",
              "      <td>5426.0</td>\n",
              "    </tr>\n",
              "    <tr>\n",
              "      <th>2235</th>\n",
              "      <td>660.0</td>\n",
              "      <td>660.0</td>\n",
              "    </tr>\n",
              "    <tr>\n",
              "      <th>292</th>\n",
              "      <td>4.0</td>\n",
              "      <td>4.0</td>\n",
              "    </tr>\n",
              "  </tbody>\n",
              "</table>\n",
              "<p>2890 rows × 2 columns</p>\n",
              "</div>"
            ],
            "text/plain": [
              "        Actual  Predicted\n",
              "4292    1057.0     1064.0\n",
              "4272    5681.0     5716.0\n",
              "322       25.0       25.0\n",
              "10327   1104.0     1104.0\n",
              "9400   41030.0    41101.0\n",
              "...        ...        ...\n",
              "897        0.0        0.0\n",
              "5998   68137.0    68312.0\n",
              "3949    5438.0     5426.0\n",
              "2235     660.0      660.0\n",
              "292        4.0        4.0\n",
              "\n",
              "[2890 rows x 2 columns]"
            ]
          },
          "metadata": {},
          "execution_count": 440
        }
      ]
    },
    {
      "cell_type": "code",
      "metadata": {
        "id": "BtmpTqQv6LEx",
        "colab": {
          "base_uri": "https://localhost:8080/"
        },
        "outputId": "84730bf5-b5f3-4255-99df-2910ca44d99b"
      },
      "source": [
        "from sklearn import metrics\n",
        "print('Mean Absolute Error (MAE):', metrics.mean_absolute_error(y_test, y_pred))\n",
        "print('median_absolute_error (MAD):', metrics.median_absolute_error(y_test, y_pred))\n",
        "print('Root Mean Squared Error (RMSE):', np.sqrt(metrics.mean_squared_error(y_test, y_pred)))\n",
        "print('mean_absolute_percentage_error (MAPE):', metrics.mean_absolute_percentage_error(y_test, y_pred))\n",
        "print('max_error(MAX_ERROR):', metrics.max_error(y_test, y_pred))\n",
        "print('explained_variance_score (EXPL):', metrics.explained_variance_score(y_test, y_pred, multioutput='uniform_average'))\n",
        "print('R2_SCORE:', metrics.r2_score(y_test, y_pred))"
      ],
      "execution_count": null,
      "outputs": [
        {
          "output_type": "stream",
          "name": "stdout",
          "text": [
            "Mean Absolute Error (MAE): 65.64948096885813\n",
            "median_absolute_error (MAD): 14.0\n",
            "Root Mean Squared Error (RMSE): 194.04656185073202\n",
            "mean_absolute_percentage_error (MAPE): 37400135313803.47\n",
            "max_error(MAX_ERROR): 2890.0\n",
            "explained_variance_score (EXPL): 0.9998700071849752\n",
            "R2_SCORE: 0.9998699916255743\n"
          ]
        }
      ]
    },
    {
      "cell_type": "markdown",
      "metadata": {
        "id": "_TXB-RJn6LEx"
      },
      "source": [
        "**KNEIGHBOURS REGRESSOR - HOSPITALIZADOS**"
      ]
    },
    {
      "cell_type": "code",
      "metadata": {
        "id": "TlcCMMYZ6LEx",
        "colab": {
          "base_uri": "https://localhost:8080/"
        },
        "outputId": "50535f7c-b176-4cbc-e50e-f1e8d2d91e1f"
      },
      "source": [
        "regressor = KNeighborsRegressor()\n",
        "regressor.fit(X_train, y_train)"
      ],
      "execution_count": null,
      "outputs": [
        {
          "output_type": "execute_result",
          "data": {
            "text/plain": [
              "KNeighborsRegressor()"
            ]
          },
          "metadata": {},
          "execution_count": 442
        }
      ]
    },
    {
      "cell_type": "code",
      "metadata": {
        "id": "E-7M1T2h6LEx",
        "colab": {
          "base_uri": "https://localhost:8080/"
        },
        "outputId": "27c41a9e-b110-4ce4-c91f-e41332d06e45"
      },
      "source": [
        "y_pred = regressor.predict(X_test)\n",
        "y_pred"
      ],
      "execution_count": null,
      "outputs": [
        {
          "output_type": "execute_result",
          "data": {
            "text/plain": [
              "array([1.0918e+03, 5.3414e+03, 1.5000e+01, ..., 5.4378e+03, 6.5740e+02,\n",
              "       3.8000e+00])"
            ]
          },
          "metadata": {},
          "execution_count": 443
        }
      ]
    },
    {
      "cell_type": "code",
      "metadata": {
        "id": "UgKnOPlY6LEx",
        "colab": {
          "base_uri": "https://localhost:8080/"
        },
        "outputId": "b5385c7b-e681-41b5-bc22-0a55cb03d7cd"
      },
      "source": [
        "from numpy import random\n",
        "import pandas as pd\n",
        "\n",
        "print(\"NumPy Data Array is:\")\n",
        "print(y_pred)\n",
        "\n",
        "print(\"\")\n",
        "\n",
        "print(\"The DataFrame generated from the NumPy array is:\")\n",
        "print(data_df)"
      ],
      "execution_count": null,
      "outputs": [
        {
          "output_type": "stream",
          "name": "stdout",
          "text": [
            "NumPy Data Array is:\n",
            "[1.0918e+03 5.3414e+03 1.5000e+01 ... 5.4378e+03 6.5740e+02 3.8000e+00]\n",
            "\n",
            "The DataFrame generated from the NumPy array is:\n",
            "            0\n",
            "0      1064.0\n",
            "1      5716.0\n",
            "2        25.0\n",
            "3      1104.0\n",
            "4     41101.0\n",
            "...       ...\n",
            "2885      0.0\n",
            "2886  68312.0\n",
            "2887   5426.0\n",
            "2888    660.0\n",
            "2889      4.0\n",
            "\n",
            "[2890 rows x 1 columns]\n"
          ]
        }
      ]
    },
    {
      "cell_type": "code",
      "metadata": {
        "id": "69xe8Krr6LEx",
        "colab": {
          "base_uri": "https://localhost:8080/",
          "height": 417
        },
        "outputId": "34f9d8f3-59ee-4cc6-a752-14ba0de5a51b"
      },
      "source": [
        "df = pd.DataFrame({'Actual': y_test, 'Predicted': y_pred})\n",
        "df"
      ],
      "execution_count": null,
      "outputs": [
        {
          "output_type": "execute_result",
          "data": {
            "text/html": [
              "<div>\n",
              "<style scoped>\n",
              "    .dataframe tbody tr th:only-of-type {\n",
              "        vertical-align: middle;\n",
              "    }\n",
              "\n",
              "    .dataframe tbody tr th {\n",
              "        vertical-align: top;\n",
              "    }\n",
              "\n",
              "    .dataframe thead th {\n",
              "        text-align: right;\n",
              "    }\n",
              "</style>\n",
              "<table border=\"1\" class=\"dataframe\">\n",
              "  <thead>\n",
              "    <tr style=\"text-align: right;\">\n",
              "      <th></th>\n",
              "      <th>Actual</th>\n",
              "      <th>Predicted</th>\n",
              "    </tr>\n",
              "  </thead>\n",
              "  <tbody>\n",
              "    <tr>\n",
              "      <th>4292</th>\n",
              "      <td>1057.0</td>\n",
              "      <td>1091.8</td>\n",
              "    </tr>\n",
              "    <tr>\n",
              "      <th>4272</th>\n",
              "      <td>5681.0</td>\n",
              "      <td>5341.4</td>\n",
              "    </tr>\n",
              "    <tr>\n",
              "      <th>322</th>\n",
              "      <td>25.0</td>\n",
              "      <td>15.0</td>\n",
              "    </tr>\n",
              "    <tr>\n",
              "      <th>10327</th>\n",
              "      <td>1104.0</td>\n",
              "      <td>1103.8</td>\n",
              "    </tr>\n",
              "    <tr>\n",
              "      <th>9400</th>\n",
              "      <td>41030.0</td>\n",
              "      <td>50897.8</td>\n",
              "    </tr>\n",
              "    <tr>\n",
              "      <th>...</th>\n",
              "      <td>...</td>\n",
              "      <td>...</td>\n",
              "    </tr>\n",
              "    <tr>\n",
              "      <th>897</th>\n",
              "      <td>0.0</td>\n",
              "      <td>0.0</td>\n",
              "    </tr>\n",
              "    <tr>\n",
              "      <th>5998</th>\n",
              "      <td>68137.0</td>\n",
              "      <td>44991.8</td>\n",
              "    </tr>\n",
              "    <tr>\n",
              "      <th>3949</th>\n",
              "      <td>5438.0</td>\n",
              "      <td>5437.8</td>\n",
              "    </tr>\n",
              "    <tr>\n",
              "      <th>2235</th>\n",
              "      <td>660.0</td>\n",
              "      <td>657.4</td>\n",
              "    </tr>\n",
              "    <tr>\n",
              "      <th>292</th>\n",
              "      <td>4.0</td>\n",
              "      <td>3.8</td>\n",
              "    </tr>\n",
              "  </tbody>\n",
              "</table>\n",
              "<p>2890 rows × 2 columns</p>\n",
              "</div>"
            ],
            "text/plain": [
              "        Actual  Predicted\n",
              "4292    1057.0     1091.8\n",
              "4272    5681.0     5341.4\n",
              "322       25.0       15.0\n",
              "10327   1104.0     1103.8\n",
              "9400   41030.0    50897.8\n",
              "...        ...        ...\n",
              "897        0.0        0.0\n",
              "5998   68137.0    44991.8\n",
              "3949    5438.0     5437.8\n",
              "2235     660.0      657.4\n",
              "292        4.0        3.8\n",
              "\n",
              "[2890 rows x 2 columns]"
            ]
          },
          "metadata": {},
          "execution_count": 445
        }
      ]
    },
    {
      "cell_type": "code",
      "metadata": {
        "id": "4Y9TCkwm6LEx",
        "colab": {
          "base_uri": "https://localhost:8080/"
        },
        "outputId": "3d31b257-5dd2-4c0a-ab07-ed71a65c4e3a"
      },
      "source": [
        "from sklearn import metrics\n",
        "print('Mean Absolute Error (MAE):', metrics.mean_absolute_error(y_test, y_pred))\n",
        "print('median_absolute_error (MAD):', metrics.median_absolute_error(y_test, y_pred))\n",
        "print('Root Mean Squared Error (RMSE):', np.sqrt(metrics.mean_squared_error(y_test, y_pred)))\n",
        "print('mean_absolute_percentage_error (MAPE):', metrics.mean_absolute_percentage_error(y_test, y_pred))\n",
        "print('max_error(MAX_ERROR):', metrics.max_error(y_test, y_pred))\n",
        "print('explained_variance_score (EXPL):', metrics.explained_variance_score(y_test, y_pred, multioutput='uniform_average'))\n",
        "print('R2_SCORE:', metrics.r2_score(y_test, y_pred))"
      ],
      "execution_count": null,
      "outputs": [
        {
          "output_type": "stream",
          "name": "stdout",
          "text": [
            "Mean Absolute Error (MAE): 1263.6226297577855\n",
            "median_absolute_error (MAD): 22.0\n",
            "Root Mean Squared Error (RMSE): 4735.9321185502195\n",
            "mean_absolute_percentage_error (MAPE): 1442710219729967.2\n",
            "max_error(MAX_ERROR): 46029.0\n",
            "explained_variance_score (EXPL): 0.9226685479263199\n",
            "R2_SCORE: 0.9225591053887321\n"
          ]
        }
      ]
    },
    {
      "cell_type": "markdown",
      "metadata": {
        "id": "X4KCTI1S6LEy"
      },
      "source": [
        "**MULTIPLE LINEAR REGRESSION - HOSPITALIZADOS**"
      ]
    },
    {
      "cell_type": "code",
      "metadata": {
        "id": "M-WFIIXi6LEy"
      },
      "source": [
        "from sklearn.linear_model import LinearRegression\n",
        "from sklearn.linear_model import BayesianRidge"
      ],
      "execution_count": null,
      "outputs": []
    },
    {
      "cell_type": "code",
      "metadata": {
        "id": "Tdu_cmK56LEy",
        "colab": {
          "base_uri": "https://localhost:8080/"
        },
        "outputId": "cb92387d-0165-483b-8ab4-7083f00468dd"
      },
      "source": [
        "regressor = LinearRegression()\n",
        "regressor.fit(X_train, y_train)"
      ],
      "execution_count": null,
      "outputs": [
        {
          "output_type": "execute_result",
          "data": {
            "text/plain": [
              "LinearRegression()"
            ]
          },
          "metadata": {},
          "execution_count": 448
        }
      ]
    },
    {
      "cell_type": "code",
      "metadata": {
        "id": "Co7Uksy36LEy",
        "colab": {
          "base_uri": "https://localhost:8080/"
        },
        "outputId": "50d19200-f68e-46e0-dd89-8d0bec08b591"
      },
      "source": [
        "y_pred = regressor.predict(X_test)\n",
        "y_pred"
      ],
      "execution_count": null,
      "outputs": [
        {
          "output_type": "execute_result",
          "data": {
            "text/plain": [
              "array([   76.14819434,  4970.82195975,  -493.28093356, ...,\n",
              "        5737.58016114,  1161.66513926, -1468.48654417])"
            ]
          },
          "metadata": {},
          "execution_count": 449
        }
      ]
    },
    {
      "cell_type": "code",
      "metadata": {
        "id": "nCaqCk8S6LEy",
        "colab": {
          "base_uri": "https://localhost:8080/"
        },
        "outputId": "9bce369b-8947-4610-e8df-b0ea11d15af4"
      },
      "source": [
        "from numpy import random\n",
        "import pandas as pd\n",
        "\n",
        "print(\"NumPy Data Array is:\")\n",
        "print(y_pred)\n",
        "\n",
        "print(\"\")\n",
        "\n",
        "data_df = pd.DataFrame(y_pred)\n",
        "print(\"The DataFrame generated from the NumPy array is:\")\n",
        "print(data_df)"
      ],
      "execution_count": null,
      "outputs": [
        {
          "output_type": "stream",
          "name": "stdout",
          "text": [
            "NumPy Data Array is:\n",
            "[   76.14819434  4970.82195975  -493.28093356 ...  5737.58016114\n",
            "  1161.66513926 -1468.48654417]\n",
            "\n",
            "The DataFrame generated from the NumPy array is:\n",
            "                 0\n",
            "0        76.148194\n",
            "1      4970.821960\n",
            "2      -493.280934\n",
            "3      -980.644053\n",
            "4     43614.515091\n",
            "...            ...\n",
            "2885   -827.626632\n",
            "2886  63765.343682\n",
            "2887   5737.580161\n",
            "2888   1161.665139\n",
            "2889  -1468.486544\n",
            "\n",
            "[2890 rows x 1 columns]\n"
          ]
        }
      ]
    },
    {
      "cell_type": "code",
      "metadata": {
        "id": "THwiNw9Z6LEy",
        "colab": {
          "base_uri": "https://localhost:8080/",
          "height": 417
        },
        "outputId": "d0bf1b47-5282-411e-9b7f-51fa1dd11526"
      },
      "source": [
        "df = pd.DataFrame({'Actual': y_test, 'Predicted': y_pred})\n",
        "df"
      ],
      "execution_count": null,
      "outputs": [
        {
          "output_type": "execute_result",
          "data": {
            "text/html": [
              "<div>\n",
              "<style scoped>\n",
              "    .dataframe tbody tr th:only-of-type {\n",
              "        vertical-align: middle;\n",
              "    }\n",
              "\n",
              "    .dataframe tbody tr th {\n",
              "        vertical-align: top;\n",
              "    }\n",
              "\n",
              "    .dataframe thead th {\n",
              "        text-align: right;\n",
              "    }\n",
              "</style>\n",
              "<table border=\"1\" class=\"dataframe\">\n",
              "  <thead>\n",
              "    <tr style=\"text-align: right;\">\n",
              "      <th></th>\n",
              "      <th>Actual</th>\n",
              "      <th>Predicted</th>\n",
              "    </tr>\n",
              "  </thead>\n",
              "  <tbody>\n",
              "    <tr>\n",
              "      <th>4292</th>\n",
              "      <td>1057.0</td>\n",
              "      <td>76.148194</td>\n",
              "    </tr>\n",
              "    <tr>\n",
              "      <th>4272</th>\n",
              "      <td>5681.0</td>\n",
              "      <td>4970.821960</td>\n",
              "    </tr>\n",
              "    <tr>\n",
              "      <th>322</th>\n",
              "      <td>25.0</td>\n",
              "      <td>-493.280934</td>\n",
              "    </tr>\n",
              "    <tr>\n",
              "      <th>10327</th>\n",
              "      <td>1104.0</td>\n",
              "      <td>-980.644053</td>\n",
              "    </tr>\n",
              "    <tr>\n",
              "      <th>9400</th>\n",
              "      <td>41030.0</td>\n",
              "      <td>43614.515091</td>\n",
              "    </tr>\n",
              "    <tr>\n",
              "      <th>...</th>\n",
              "      <td>...</td>\n",
              "      <td>...</td>\n",
              "    </tr>\n",
              "    <tr>\n",
              "      <th>897</th>\n",
              "      <td>0.0</td>\n",
              "      <td>-827.626632</td>\n",
              "    </tr>\n",
              "    <tr>\n",
              "      <th>5998</th>\n",
              "      <td>68137.0</td>\n",
              "      <td>63765.343682</td>\n",
              "    </tr>\n",
              "    <tr>\n",
              "      <th>3949</th>\n",
              "      <td>5438.0</td>\n",
              "      <td>5737.580161</td>\n",
              "    </tr>\n",
              "    <tr>\n",
              "      <th>2235</th>\n",
              "      <td>660.0</td>\n",
              "      <td>1161.665139</td>\n",
              "    </tr>\n",
              "    <tr>\n",
              "      <th>292</th>\n",
              "      <td>4.0</td>\n",
              "      <td>-1468.486544</td>\n",
              "    </tr>\n",
              "  </tbody>\n",
              "</table>\n",
              "<p>2890 rows × 2 columns</p>\n",
              "</div>"
            ],
            "text/plain": [
              "        Actual     Predicted\n",
              "4292    1057.0     76.148194\n",
              "4272    5681.0   4970.821960\n",
              "322       25.0   -493.280934\n",
              "10327   1104.0   -980.644053\n",
              "9400   41030.0  43614.515091\n",
              "...        ...           ...\n",
              "897        0.0   -827.626632\n",
              "5998   68137.0  63765.343682\n",
              "3949    5438.0   5737.580161\n",
              "2235     660.0   1161.665139\n",
              "292        4.0  -1468.486544\n",
              "\n",
              "[2890 rows x 2 columns]"
            ]
          },
          "metadata": {},
          "execution_count": 451
        }
      ]
    },
    {
      "cell_type": "code",
      "metadata": {
        "id": "7Jap8ncD6LEy",
        "colab": {
          "base_uri": "https://localhost:8080/"
        },
        "outputId": "7c71c1ab-6f92-4d63-8acc-0c0a410f1ec3"
      },
      "source": [
        "from sklearn import metrics\n",
        "print('Mean Absolute Error (MAE):', metrics.mean_absolute_error(y_test, y_pred))\n",
        "print('median_absolute_error (MAD):', metrics.median_absolute_error(y_test, y_pred))\n",
        "print('Root Mean Squared Error (RMSE):', np.sqrt(metrics.mean_squared_error(y_test, y_pred)))\n",
        "print('mean_absolute_percentage_error (MAPE):', metrics.mean_absolute_percentage_error(y_test, y_pred))\n",
        "print('max_error(MAX_ERROR):', metrics.max_error(y_test, y_pred))\n",
        "print('explained_variance_score (EXPL):', metrics.explained_variance_score(y_test, y_pred, multioutput='uniform_average'))\n",
        "print('R2_SCORE:', metrics.r2_score(y_test, y_pred))"
      ],
      "execution_count": null,
      "outputs": [
        {
          "output_type": "stream",
          "name": "stdout",
          "text": [
            "Mean Absolute Error (MAE): 1734.3248393299555\n",
            "median_absolute_error (MAD): 1269.8759175429586\n",
            "Root Mean Squared Error (RMSE): 2532.1102843739473\n",
            "mean_absolute_percentage_error (MAPE): 1.3837562408902043e+17\n",
            "max_error(MAX_ERROR): 13209.951385255437\n",
            "explained_variance_score (EXPL): 0.9778627200663191\n",
            "R2_SCORE: 0.9778626996255819\n"
          ]
        }
      ]
    },
    {
      "cell_type": "markdown",
      "metadata": {
        "id": "Mau7DKHU6LEy"
      },
      "source": [
        "**APLICAMOS BAYESIAN RIDGE REGRESSION - HOSPITALIZADOS**"
      ]
    },
    {
      "cell_type": "code",
      "metadata": {
        "id": "LH_fEymQ6LEy",
        "colab": {
          "base_uri": "https://localhost:8080/"
        },
        "outputId": "f732ae41-d682-4a7a-f8eb-ae3e3209735b"
      },
      "source": [
        "regressor = BayesianRidge()\n",
        "regressor.fit(X_train, y_train)"
      ],
      "execution_count": null,
      "outputs": [
        {
          "output_type": "execute_result",
          "data": {
            "text/plain": [
              "BayesianRidge()"
            ]
          },
          "metadata": {},
          "execution_count": 453
        }
      ]
    },
    {
      "cell_type": "code",
      "metadata": {
        "id": "WtI7IK3J6LEy",
        "colab": {
          "base_uri": "https://localhost:8080/"
        },
        "outputId": "8f46dfd8-1fef-40c5-ba9b-85ef12b5f4f6"
      },
      "source": [
        "y_pred = regressor.predict(X_test)\n",
        "y_pred"
      ],
      "execution_count": null,
      "outputs": [
        {
          "output_type": "execute_result",
          "data": {
            "text/plain": [
              "array([  143.14078358,  5074.17022928,  -484.8966927 , ...,\n",
              "        5744.67951106,  1195.86363769, -1469.63378358])"
            ]
          },
          "metadata": {},
          "execution_count": 454
        }
      ]
    },
    {
      "cell_type": "code",
      "metadata": {
        "id": "AOKeuUuV6LEy",
        "colab": {
          "base_uri": "https://localhost:8080/"
        },
        "outputId": "238b0271-c56f-449b-f9e9-4e9c085e77e0"
      },
      "source": [
        "from numpy import random\n",
        "import pandas as pd\n",
        "\n",
        "print(\"NumPy Data Array is:\")\n",
        "print(y_pred)\n",
        "\n",
        "print(\"\")\n",
        "\n",
        "data_df = pd.DataFrame(y_pred)\n",
        "print(\"The DataFrame generated from the NumPy array is:\")\n",
        "print(data_df)"
      ],
      "execution_count": null,
      "outputs": [
        {
          "output_type": "stream",
          "name": "stdout",
          "text": [
            "NumPy Data Array is:\n",
            "[  143.14078358  5074.17022928  -484.8966927  ...  5744.67951106\n",
            "  1195.86363769 -1469.63378358]\n",
            "\n",
            "The DataFrame generated from the NumPy array is:\n",
            "                 0\n",
            "0       143.140784\n",
            "1      5074.170229\n",
            "2      -484.896693\n",
            "3     -1033.005604\n",
            "4     43665.771820\n",
            "...            ...\n",
            "2885   -882.994451\n",
            "2886  63769.135357\n",
            "2887   5744.679511\n",
            "2888   1195.863638\n",
            "2889  -1469.633784\n",
            "\n",
            "[2890 rows x 1 columns]\n"
          ]
        }
      ]
    },
    {
      "cell_type": "code",
      "metadata": {
        "id": "SFADgLks6LEy",
        "colab": {
          "base_uri": "https://localhost:8080/",
          "height": 417
        },
        "outputId": "b40e837b-ca0f-43b2-81a2-0a063fa64105"
      },
      "source": [
        "df = pd.DataFrame({'Actual': y_test, 'Predicted': y_pred})\n",
        "df"
      ],
      "execution_count": null,
      "outputs": [
        {
          "output_type": "execute_result",
          "data": {
            "text/html": [
              "<div>\n",
              "<style scoped>\n",
              "    .dataframe tbody tr th:only-of-type {\n",
              "        vertical-align: middle;\n",
              "    }\n",
              "\n",
              "    .dataframe tbody tr th {\n",
              "        vertical-align: top;\n",
              "    }\n",
              "\n",
              "    .dataframe thead th {\n",
              "        text-align: right;\n",
              "    }\n",
              "</style>\n",
              "<table border=\"1\" class=\"dataframe\">\n",
              "  <thead>\n",
              "    <tr style=\"text-align: right;\">\n",
              "      <th></th>\n",
              "      <th>Actual</th>\n",
              "      <th>Predicted</th>\n",
              "    </tr>\n",
              "  </thead>\n",
              "  <tbody>\n",
              "    <tr>\n",
              "      <th>4292</th>\n",
              "      <td>1057.0</td>\n",
              "      <td>143.140784</td>\n",
              "    </tr>\n",
              "    <tr>\n",
              "      <th>4272</th>\n",
              "      <td>5681.0</td>\n",
              "      <td>5074.170229</td>\n",
              "    </tr>\n",
              "    <tr>\n",
              "      <th>322</th>\n",
              "      <td>25.0</td>\n",
              "      <td>-484.896693</td>\n",
              "    </tr>\n",
              "    <tr>\n",
              "      <th>10327</th>\n",
              "      <td>1104.0</td>\n",
              "      <td>-1033.005604</td>\n",
              "    </tr>\n",
              "    <tr>\n",
              "      <th>9400</th>\n",
              "      <td>41030.0</td>\n",
              "      <td>43665.771820</td>\n",
              "    </tr>\n",
              "    <tr>\n",
              "      <th>...</th>\n",
              "      <td>...</td>\n",
              "      <td>...</td>\n",
              "    </tr>\n",
              "    <tr>\n",
              "      <th>897</th>\n",
              "      <td>0.0</td>\n",
              "      <td>-882.994451</td>\n",
              "    </tr>\n",
              "    <tr>\n",
              "      <th>5998</th>\n",
              "      <td>68137.0</td>\n",
              "      <td>63769.135357</td>\n",
              "    </tr>\n",
              "    <tr>\n",
              "      <th>3949</th>\n",
              "      <td>5438.0</td>\n",
              "      <td>5744.679511</td>\n",
              "    </tr>\n",
              "    <tr>\n",
              "      <th>2235</th>\n",
              "      <td>660.0</td>\n",
              "      <td>1195.863638</td>\n",
              "    </tr>\n",
              "    <tr>\n",
              "      <th>292</th>\n",
              "      <td>4.0</td>\n",
              "      <td>-1469.633784</td>\n",
              "    </tr>\n",
              "  </tbody>\n",
              "</table>\n",
              "<p>2890 rows × 2 columns</p>\n",
              "</div>"
            ],
            "text/plain": [
              "        Actual     Predicted\n",
              "4292    1057.0    143.140784\n",
              "4272    5681.0   5074.170229\n",
              "322       25.0   -484.896693\n",
              "10327   1104.0  -1033.005604\n",
              "9400   41030.0  43665.771820\n",
              "...        ...           ...\n",
              "897        0.0   -882.994451\n",
              "5998   68137.0  63769.135357\n",
              "3949    5438.0   5744.679511\n",
              "2235     660.0   1195.863638\n",
              "292        4.0  -1469.633784\n",
              "\n",
              "[2890 rows x 2 columns]"
            ]
          },
          "metadata": {},
          "execution_count": 456
        }
      ]
    },
    {
      "cell_type": "code",
      "metadata": {
        "id": "UCLo1-rh6LEy",
        "colab": {
          "base_uri": "https://localhost:8080/"
        },
        "outputId": "37581794-7057-44d7-aa01-c8cd15d4bd12"
      },
      "source": [
        "from sklearn import metrics\n",
        "print('Mean Absolute Error (MAE):', metrics.mean_absolute_error(y_test, y_pred))\n",
        "print('median_absolute_error (MAD):', metrics.median_absolute_error(y_test, y_pred))\n",
        "print('Root Mean Squared Error (RMSE):', np.sqrt(metrics.mean_squared_error(y_test, y_pred)))\n",
        "print('mean_absolute_percentage_error (MAPE):', metrics.mean_absolute_percentage_error(y_test, y_pred))\n",
        "print('max_error(MAX_ERROR):', metrics.max_error(y_test, y_pred))\n",
        "print('explained_variance_score (EXPL):', metrics.explained_variance_score(y_test, y_pred, multioutput='uniform_average'))\n",
        "print('R2_SCORE:', metrics.r2_score(y_test, y_pred))"
      ],
      "execution_count": null,
      "outputs": [
        {
          "output_type": "stream",
          "name": "stdout",
          "text": [
            "Mean Absolute Error (MAE): 1734.117054115017\n",
            "median_absolute_error (MAD): 1273.582047920907\n",
            "Root Mean Squared Error (RMSE): 2533.530896867716\n",
            "mean_absolute_percentage_error (MAPE): 1.3918830869424184e+17\n",
            "max_error(MAX_ERROR): 13243.158405246679\n",
            "explained_variance_score (EXPL): 0.9778378892499233\n",
            "R2_SCORE: 0.9778378528820508\n"
          ]
        }
      ]
    },
    {
      "cell_type": "markdown",
      "metadata": {
        "id": "iVNW_BVk6LEy"
      },
      "source": [
        "**APLICAMOS RANDOM FOREST REGRESSOR - HOSPITALIZADOS**"
      ]
    },
    {
      "cell_type": "code",
      "metadata": {
        "id": "Z5dTEY2N6LEy",
        "colab": {
          "base_uri": "https://localhost:8080/"
        },
        "outputId": "3d237b24-f1f9-460b-dced-e5a53ab149ff"
      },
      "source": [
        "regressor = RandomForestRegressor()\n",
        "regressor.fit(X_train, y_train)"
      ],
      "execution_count": null,
      "outputs": [
        {
          "output_type": "execute_result",
          "data": {
            "text/plain": [
              "RandomForestRegressor()"
            ]
          },
          "metadata": {},
          "execution_count": 458
        }
      ]
    },
    {
      "cell_type": "code",
      "metadata": {
        "id": "sNeyIuJ56LEz",
        "colab": {
          "base_uri": "https://localhost:8080/"
        },
        "outputId": "b93cfca4-a6b3-4e27-e822-88be093a0b36"
      },
      "source": [
        "y_pred = regressor.predict(X_test)\n",
        "y_pred"
      ],
      "execution_count": null,
      "outputs": [
        {
          "output_type": "execute_result",
          "data": {
            "text/plain": [
              "array([1.05762e+03, 5.67724e+03, 2.09200e+01, ..., 5.43640e+03,\n",
              "       6.59480e+02, 3.81000e+00])"
            ]
          },
          "metadata": {},
          "execution_count": 459
        }
      ]
    },
    {
      "cell_type": "code",
      "metadata": {
        "id": "wx_LPj1w6LEz",
        "colab": {
          "base_uri": "https://localhost:8080/"
        },
        "outputId": "898fa75a-fb1b-4a35-acfb-ee2fcbaa624a"
      },
      "source": [
        "from numpy import random\n",
        "import pandas as pd\n",
        "\n",
        "print(\"NumPy Data Array is:\")\n",
        "print(y_pred)\n",
        "\n",
        "print(\"\")\n",
        "\n",
        "data_df = pd.DataFrame(y_pred)\n",
        "print(\"The DataFrame generated from the NumPy array is:\")\n",
        "print(data_df)"
      ],
      "execution_count": null,
      "outputs": [
        {
          "output_type": "stream",
          "name": "stdout",
          "text": [
            "NumPy Data Array is:\n",
            "[1.05762e+03 5.67724e+03 2.09200e+01 ... 5.43640e+03 6.59480e+02\n",
            " 3.81000e+00]\n",
            "\n",
            "The DataFrame generated from the NumPy array is:\n",
            "             0\n",
            "0      1057.62\n",
            "1      5677.24\n",
            "2        20.92\n",
            "3      1103.90\n",
            "4     40740.93\n",
            "...        ...\n",
            "2885      0.07\n",
            "2886  68333.09\n",
            "2887   5436.40\n",
            "2888    659.48\n",
            "2889      3.81\n",
            "\n",
            "[2890 rows x 1 columns]\n"
          ]
        }
      ]
    },
    {
      "cell_type": "code",
      "metadata": {
        "id": "wg2SkH0S6LEz",
        "colab": {
          "base_uri": "https://localhost:8080/",
          "height": 417
        },
        "outputId": "a49e9873-5a40-4e0b-e9b6-0908d23f5013"
      },
      "source": [
        "df = pd.DataFrame({'Actual': y_test, 'Predicted': y_pred})\n",
        "df"
      ],
      "execution_count": null,
      "outputs": [
        {
          "output_type": "execute_result",
          "data": {
            "text/html": [
              "<div>\n",
              "<style scoped>\n",
              "    .dataframe tbody tr th:only-of-type {\n",
              "        vertical-align: middle;\n",
              "    }\n",
              "\n",
              "    .dataframe tbody tr th {\n",
              "        vertical-align: top;\n",
              "    }\n",
              "\n",
              "    .dataframe thead th {\n",
              "        text-align: right;\n",
              "    }\n",
              "</style>\n",
              "<table border=\"1\" class=\"dataframe\">\n",
              "  <thead>\n",
              "    <tr style=\"text-align: right;\">\n",
              "      <th></th>\n",
              "      <th>Actual</th>\n",
              "      <th>Predicted</th>\n",
              "    </tr>\n",
              "  </thead>\n",
              "  <tbody>\n",
              "    <tr>\n",
              "      <th>4292</th>\n",
              "      <td>1057.0</td>\n",
              "      <td>1057.62</td>\n",
              "    </tr>\n",
              "    <tr>\n",
              "      <th>4272</th>\n",
              "      <td>5681.0</td>\n",
              "      <td>5677.24</td>\n",
              "    </tr>\n",
              "    <tr>\n",
              "      <th>322</th>\n",
              "      <td>25.0</td>\n",
              "      <td>20.92</td>\n",
              "    </tr>\n",
              "    <tr>\n",
              "      <th>10327</th>\n",
              "      <td>1104.0</td>\n",
              "      <td>1103.90</td>\n",
              "    </tr>\n",
              "    <tr>\n",
              "      <th>9400</th>\n",
              "      <td>41030.0</td>\n",
              "      <td>40740.93</td>\n",
              "    </tr>\n",
              "    <tr>\n",
              "      <th>...</th>\n",
              "      <td>...</td>\n",
              "      <td>...</td>\n",
              "    </tr>\n",
              "    <tr>\n",
              "      <th>897</th>\n",
              "      <td>0.0</td>\n",
              "      <td>0.07</td>\n",
              "    </tr>\n",
              "    <tr>\n",
              "      <th>5998</th>\n",
              "      <td>68137.0</td>\n",
              "      <td>68333.09</td>\n",
              "    </tr>\n",
              "    <tr>\n",
              "      <th>3949</th>\n",
              "      <td>5438.0</td>\n",
              "      <td>5436.40</td>\n",
              "    </tr>\n",
              "    <tr>\n",
              "      <th>2235</th>\n",
              "      <td>660.0</td>\n",
              "      <td>659.48</td>\n",
              "    </tr>\n",
              "    <tr>\n",
              "      <th>292</th>\n",
              "      <td>4.0</td>\n",
              "      <td>3.81</td>\n",
              "    </tr>\n",
              "  </tbody>\n",
              "</table>\n",
              "<p>2890 rows × 2 columns</p>\n",
              "</div>"
            ],
            "text/plain": [
              "        Actual  Predicted\n",
              "4292    1057.0    1057.62\n",
              "4272    5681.0    5677.24\n",
              "322       25.0      20.92\n",
              "10327   1104.0    1103.90\n",
              "9400   41030.0   40740.93\n",
              "...        ...        ...\n",
              "897        0.0       0.07\n",
              "5998   68137.0   68333.09\n",
              "3949    5438.0    5436.40\n",
              "2235     660.0     659.48\n",
              "292        4.0       3.81\n",
              "\n",
              "[2890 rows x 2 columns]"
            ]
          },
          "metadata": {},
          "execution_count": 461
        }
      ]
    },
    {
      "cell_type": "code",
      "metadata": {
        "id": "y5_aEKp86LEz",
        "colab": {
          "base_uri": "https://localhost:8080/"
        },
        "outputId": "b423bbc2-373d-472a-8657-0c0fa5079892"
      },
      "source": [
        "from sklearn import metrics\n",
        "print('Mean Absolute Error (MAE):', metrics.mean_absolute_error(y_test, y_pred))\n",
        "print('median_absolute_error (MAD):', metrics.median_absolute_error(y_test, y_pred))\n",
        "print('Root Mean Squared Error (RMSE):', np.sqrt(metrics.mean_squared_error(y_test, y_pred)))\n",
        "print('mean_absolute_percentage_error (MAPE):', metrics.mean_absolute_percentage_error(y_test, y_pred))\n",
        "print('max_error(MAX_ERROR):', metrics.max_error(y_test, y_pred))\n",
        "print('explained_variance_score (EXPL):', metrics.explained_variance_score(y_test, y_pred, multioutput='uniform_average'))\n",
        "print('R2_SCORE:', metrics.r2_score(y_test, y_pred))"
      ],
      "execution_count": null,
      "outputs": [
        {
          "output_type": "stream",
          "name": "stdout",
          "text": [
            "Mean Absolute Error (MAE): 50.1638096885813\n",
            "median_absolute_error (MAD): 7.220000000000128\n",
            "Root Mean Squared Error (RMSE): 192.54369795821827\n",
            "mean_absolute_percentage_error (MAPE): 292780725948224.56\n",
            "max_error(MAX_ERROR): 4876.57\n",
            "explained_variance_score (EXPL): 0.9998725437491802\n",
            "R2_SCORE: 0.9998719976211998\n"
          ]
        }
      ]
    },
    {
      "cell_type": "markdown",
      "metadata": {
        "id": "yaHFzThX6LEz"
      },
      "source": [
        "**APLICAMOS GRADIENT BOOSTING - HOSPITALIZADOS**"
      ]
    },
    {
      "cell_type": "code",
      "metadata": {
        "id": "Axupg7PI6LE0",
        "colab": {
          "base_uri": "https://localhost:8080/"
        },
        "outputId": "6c39fb2c-3128-497e-b800-ecf75b382d19"
      },
      "source": [
        "regressor = GradientBoostingRegressor()\n",
        "regressor.fit(X_train, y_train)"
      ],
      "execution_count": null,
      "outputs": [
        {
          "output_type": "execute_result",
          "data": {
            "text/plain": [
              "GradientBoostingRegressor()"
            ]
          },
          "metadata": {},
          "execution_count": 463
        }
      ]
    },
    {
      "cell_type": "code",
      "metadata": {
        "id": "zCrbXCQq6LE0",
        "colab": {
          "base_uri": "https://localhost:8080/"
        },
        "outputId": "ed8b9e62-caec-43af-8718-edce6e44f9c4"
      },
      "source": [
        "y_pred = regressor.predict(X_test)\n",
        "y_pred"
      ],
      "execution_count": null,
      "outputs": [
        {
          "output_type": "execute_result",
          "data": {
            "text/plain": [
              "array([1018.84263541, 5940.53851043,   42.5638348 , ..., 5579.66602117,\n",
              "        746.67375634,  -14.67882103])"
            ]
          },
          "metadata": {},
          "execution_count": 464
        }
      ]
    },
    {
      "cell_type": "code",
      "metadata": {
        "id": "jEK3M5bf6LE0",
        "colab": {
          "base_uri": "https://localhost:8080/"
        },
        "outputId": "7bb2a63a-74e5-4ec9-a2e7-e6e58206e182"
      },
      "source": [
        "from numpy import random\n",
        "import pandas as pd\n",
        "\n",
        "print(\"NumPy Data Array is:\")\n",
        "print(y_pred)\n",
        "\n",
        "print(\"\")\n",
        "\n",
        "data_df = pd.DataFrame(y_pred)\n",
        "print(\"The DataFrame generated from the NumPy array is:\")\n",
        "print(data_df)"
      ],
      "execution_count": null,
      "outputs": [
        {
          "output_type": "stream",
          "name": "stdout",
          "text": [
            "NumPy Data Array is:\n",
            "[1018.84263541 5940.53851043   42.5638348  ... 5579.66602117  746.67375634\n",
            "  -14.67882103]\n",
            "\n",
            "The DataFrame generated from the NumPy array is:\n",
            "                 0\n",
            "0      1018.842635\n",
            "1      5940.538510\n",
            "2        42.563835\n",
            "3      1079.821008\n",
            "4     40350.505941\n",
            "...            ...\n",
            "2885     34.643785\n",
            "2886  67403.972910\n",
            "2887   5579.666021\n",
            "2888    746.673756\n",
            "2889    -14.678821\n",
            "\n",
            "[2890 rows x 1 columns]\n"
          ]
        }
      ]
    },
    {
      "cell_type": "code",
      "metadata": {
        "id": "lz9kQEFm6LE2",
        "colab": {
          "base_uri": "https://localhost:8080/",
          "height": 417
        },
        "outputId": "392de1ca-a6c8-4677-8745-0204b633f8c6"
      },
      "source": [
        "df = pd.DataFrame({'Actual': y_test, 'Predicted': y_pred})\n",
        "df"
      ],
      "execution_count": null,
      "outputs": [
        {
          "output_type": "execute_result",
          "data": {
            "text/html": [
              "<div>\n",
              "<style scoped>\n",
              "    .dataframe tbody tr th:only-of-type {\n",
              "        vertical-align: middle;\n",
              "    }\n",
              "\n",
              "    .dataframe tbody tr th {\n",
              "        vertical-align: top;\n",
              "    }\n",
              "\n",
              "    .dataframe thead th {\n",
              "        text-align: right;\n",
              "    }\n",
              "</style>\n",
              "<table border=\"1\" class=\"dataframe\">\n",
              "  <thead>\n",
              "    <tr style=\"text-align: right;\">\n",
              "      <th></th>\n",
              "      <th>Actual</th>\n",
              "      <th>Predicted</th>\n",
              "    </tr>\n",
              "  </thead>\n",
              "  <tbody>\n",
              "    <tr>\n",
              "      <th>4292</th>\n",
              "      <td>1057.0</td>\n",
              "      <td>1018.842635</td>\n",
              "    </tr>\n",
              "    <tr>\n",
              "      <th>4272</th>\n",
              "      <td>5681.0</td>\n",
              "      <td>5940.538510</td>\n",
              "    </tr>\n",
              "    <tr>\n",
              "      <th>322</th>\n",
              "      <td>25.0</td>\n",
              "      <td>42.563835</td>\n",
              "    </tr>\n",
              "    <tr>\n",
              "      <th>10327</th>\n",
              "      <td>1104.0</td>\n",
              "      <td>1079.821008</td>\n",
              "    </tr>\n",
              "    <tr>\n",
              "      <th>9400</th>\n",
              "      <td>41030.0</td>\n",
              "      <td>40350.505941</td>\n",
              "    </tr>\n",
              "    <tr>\n",
              "      <th>...</th>\n",
              "      <td>...</td>\n",
              "      <td>...</td>\n",
              "    </tr>\n",
              "    <tr>\n",
              "      <th>897</th>\n",
              "      <td>0.0</td>\n",
              "      <td>34.643785</td>\n",
              "    </tr>\n",
              "    <tr>\n",
              "      <th>5998</th>\n",
              "      <td>68137.0</td>\n",
              "      <td>67403.972910</td>\n",
              "    </tr>\n",
              "    <tr>\n",
              "      <th>3949</th>\n",
              "      <td>5438.0</td>\n",
              "      <td>5579.666021</td>\n",
              "    </tr>\n",
              "    <tr>\n",
              "      <th>2235</th>\n",
              "      <td>660.0</td>\n",
              "      <td>746.673756</td>\n",
              "    </tr>\n",
              "    <tr>\n",
              "      <th>292</th>\n",
              "      <td>4.0</td>\n",
              "      <td>-14.678821</td>\n",
              "    </tr>\n",
              "  </tbody>\n",
              "</table>\n",
              "<p>2890 rows × 2 columns</p>\n",
              "</div>"
            ],
            "text/plain": [
              "        Actual     Predicted\n",
              "4292    1057.0   1018.842635\n",
              "4272    5681.0   5940.538510\n",
              "322       25.0     42.563835\n",
              "10327   1104.0   1079.821008\n",
              "9400   41030.0  40350.505941\n",
              "...        ...           ...\n",
              "897        0.0     34.643785\n",
              "5998   68137.0  67403.972910\n",
              "3949    5438.0   5579.666021\n",
              "2235     660.0    746.673756\n",
              "292        4.0    -14.678821\n",
              "\n",
              "[2890 rows x 2 columns]"
            ]
          },
          "metadata": {},
          "execution_count": 466
        }
      ]
    },
    {
      "cell_type": "code",
      "metadata": {
        "id": "iycAn0P36LE2",
        "colab": {
          "base_uri": "https://localhost:8080/"
        },
        "outputId": "5420bf8c-8f37-4887-89c0-88790b6f8727"
      },
      "source": [
        "from sklearn import metrics\n",
        "print('Mean Absolute Error (MAE):', metrics.mean_absolute_error(y_test, y_pred))\n",
        "print('median_absolute_error (MAD):', metrics.median_absolute_error(y_test, y_pred))\n",
        "print('Root Mean Squared Error (RMSE):', np.sqrt(metrics.mean_squared_error(y_test, y_pred)))\n",
        "print('mean_absolute_percentage_error (MAPE):', metrics.mean_absolute_percentage_error(y_test, y_pred))\n",
        "print('max_error(MAX_ERROR):', metrics.max_error(y_test, y_pred))\n",
        "print('explained_variance_score (EXPL):', metrics.explained_variance_score(y_test, y_pred, multioutput='uniform_average'))\n",
        "print('R2_SCORE:', metrics.r2_score(y_test, y_pred))"
      ],
      "execution_count": null,
      "outputs": [
        {
          "output_type": "stream",
          "name": "stdout",
          "text": [
            "Mean Absolute Error (MAE): 266.5415506561748\n",
            "median_absolute_error (MAD): 141.73966008186596\n",
            "Root Mean Squared Error (RMSE): 471.2587670956522\n",
            "mean_absolute_percentage_error (MAPE): 1.0196284095883748e+16\n",
            "max_error(MAX_ERROR): 8016.167450582841\n",
            "explained_variance_score (EXPL): 0.9992332438718191\n",
            "R2_SCORE: 0.9992332067008296\n"
          ]
        }
      ]
    },
    {
      "cell_type": "markdown",
      "metadata": {
        "id": "cRvblBpq6LE2"
      },
      "source": [
        "**APLICAMOS ADA BOOST - HOSPITALIZADOS**"
      ]
    },
    {
      "cell_type": "code",
      "metadata": {
        "id": "cgLMEKzl6LE2",
        "colab": {
          "base_uri": "https://localhost:8080/"
        },
        "outputId": "dc37dbbc-0401-4d7c-d456-047ef00ab17e"
      },
      "source": [
        "regressor = AdaBoostRegressor()\n",
        "regressor.fit(X_train, y_train)"
      ],
      "execution_count": null,
      "outputs": [
        {
          "output_type": "execute_result",
          "data": {
            "text/plain": [
              "AdaBoostRegressor()"
            ]
          },
          "metadata": {},
          "execution_count": 468
        }
      ]
    },
    {
      "cell_type": "code",
      "metadata": {
        "id": "Z-AAU0h66LE2",
        "colab": {
          "base_uri": "https://localhost:8080/"
        },
        "outputId": "50a16f9c-5232-4901-bd10-207e36ffe637"
      },
      "source": [
        "y_pred = regressor.predict(X_test)\n",
        "y_pred"
      ],
      "execution_count": null,
      "outputs": [
        {
          "output_type": "execute_result",
          "data": {
            "text/plain": [
              "array([2893.98337292, 7145.89249493, 2893.98337292, ..., 7145.89249493,\n",
              "       2893.98337292, 2893.98337292])"
            ]
          },
          "metadata": {},
          "execution_count": 469
        }
      ]
    },
    {
      "cell_type": "code",
      "metadata": {
        "id": "gzkFlYgI6LE2",
        "colab": {
          "base_uri": "https://localhost:8080/"
        },
        "outputId": "6d357239-5b4b-42d4-dcb7-69fb4f0f088e"
      },
      "source": [
        "from numpy import random\n",
        "import pandas as pd\n",
        "\n",
        "print(\"NumPy Data Array is:\")\n",
        "print(y_pred)\n",
        "\n",
        "print(\"\")\n",
        "\n",
        "data_df = pd.DataFrame(y_pred)\n",
        "print(\"The DataFrame generated from the NumPy array is:\")\n",
        "print(data_df)"
      ],
      "execution_count": null,
      "outputs": [
        {
          "output_type": "stream",
          "name": "stdout",
          "text": [
            "NumPy Data Array is:\n",
            "[2893.98337292 7145.89249493 2893.98337292 ... 7145.89249493 2893.98337292\n",
            " 2893.98337292]\n",
            "\n",
            "The DataFrame generated from the NumPy array is:\n",
            "                 0\n",
            "0      2893.983373\n",
            "1      7145.892495\n",
            "2      2893.983373\n",
            "3      2893.983373\n",
            "4     39070.899110\n",
            "...            ...\n",
            "2885   2893.983373\n",
            "2886  66458.742268\n",
            "2887   7145.892495\n",
            "2888   2893.983373\n",
            "2889   2893.983373\n",
            "\n",
            "[2890 rows x 1 columns]\n"
          ]
        }
      ]
    },
    {
      "cell_type": "code",
      "metadata": {
        "id": "dx8lEJPg6LE2",
        "colab": {
          "base_uri": "https://localhost:8080/",
          "height": 417
        },
        "outputId": "6ece4c8a-9889-4044-dd99-a3200d504b97"
      },
      "source": [
        "df = pd.DataFrame({'Actual': y_test, 'Predicted': y_pred})\n",
        "df"
      ],
      "execution_count": null,
      "outputs": [
        {
          "output_type": "execute_result",
          "data": {
            "text/html": [
              "<div>\n",
              "<style scoped>\n",
              "    .dataframe tbody tr th:only-of-type {\n",
              "        vertical-align: middle;\n",
              "    }\n",
              "\n",
              "    .dataframe tbody tr th {\n",
              "        vertical-align: top;\n",
              "    }\n",
              "\n",
              "    .dataframe thead th {\n",
              "        text-align: right;\n",
              "    }\n",
              "</style>\n",
              "<table border=\"1\" class=\"dataframe\">\n",
              "  <thead>\n",
              "    <tr style=\"text-align: right;\">\n",
              "      <th></th>\n",
              "      <th>Actual</th>\n",
              "      <th>Predicted</th>\n",
              "    </tr>\n",
              "  </thead>\n",
              "  <tbody>\n",
              "    <tr>\n",
              "      <th>4292</th>\n",
              "      <td>1057.0</td>\n",
              "      <td>2893.983373</td>\n",
              "    </tr>\n",
              "    <tr>\n",
              "      <th>4272</th>\n",
              "      <td>5681.0</td>\n",
              "      <td>7145.892495</td>\n",
              "    </tr>\n",
              "    <tr>\n",
              "      <th>322</th>\n",
              "      <td>25.0</td>\n",
              "      <td>2893.983373</td>\n",
              "    </tr>\n",
              "    <tr>\n",
              "      <th>10327</th>\n",
              "      <td>1104.0</td>\n",
              "      <td>2893.983373</td>\n",
              "    </tr>\n",
              "    <tr>\n",
              "      <th>9400</th>\n",
              "      <td>41030.0</td>\n",
              "      <td>39070.899110</td>\n",
              "    </tr>\n",
              "    <tr>\n",
              "      <th>...</th>\n",
              "      <td>...</td>\n",
              "      <td>...</td>\n",
              "    </tr>\n",
              "    <tr>\n",
              "      <th>897</th>\n",
              "      <td>0.0</td>\n",
              "      <td>2893.983373</td>\n",
              "    </tr>\n",
              "    <tr>\n",
              "      <th>5998</th>\n",
              "      <td>68137.0</td>\n",
              "      <td>66458.742268</td>\n",
              "    </tr>\n",
              "    <tr>\n",
              "      <th>3949</th>\n",
              "      <td>5438.0</td>\n",
              "      <td>7145.892495</td>\n",
              "    </tr>\n",
              "    <tr>\n",
              "      <th>2235</th>\n",
              "      <td>660.0</td>\n",
              "      <td>2893.983373</td>\n",
              "    </tr>\n",
              "    <tr>\n",
              "      <th>292</th>\n",
              "      <td>4.0</td>\n",
              "      <td>2893.983373</td>\n",
              "    </tr>\n",
              "  </tbody>\n",
              "</table>\n",
              "<p>2890 rows × 2 columns</p>\n",
              "</div>"
            ],
            "text/plain": [
              "        Actual     Predicted\n",
              "4292    1057.0   2893.983373\n",
              "4272    5681.0   7145.892495\n",
              "322       25.0   2893.983373\n",
              "10327   1104.0   2893.983373\n",
              "9400   41030.0  39070.899110\n",
              "...        ...           ...\n",
              "897        0.0   2893.983373\n",
              "5998   68137.0  66458.742268\n",
              "3949    5438.0   7145.892495\n",
              "2235     660.0   2893.983373\n",
              "292        4.0   2893.983373\n",
              "\n",
              "[2890 rows x 2 columns]"
            ]
          },
          "metadata": {},
          "execution_count": 471
        }
      ]
    },
    {
      "cell_type": "code",
      "metadata": {
        "id": "Jm5_fCpZ6LE2",
        "colab": {
          "base_uri": "https://localhost:8080/"
        },
        "outputId": "1d5dab68-3fc4-4311-c314-77bb1f471b8e"
      },
      "source": [
        "from sklearn import metrics\n",
        "print('Mean Absolute Error (MAE):', metrics.mean_absolute_error(y_test, y_pred))\n",
        "print('median_absolute_error (MAD):', metrics.median_absolute_error(y_test, y_pred))\n",
        "print('Root Mean Squared Error (RMSE):', np.sqrt(metrics.mean_squared_error(y_test, y_pred)))\n",
        "print('mean_absolute_percentage_error (MAPE):', metrics.mean_absolute_percentage_error(y_test, y_pred))\n",
        "print('max_error(MAX_ERROR):', metrics.max_error(y_test, y_pred))\n",
        "print('explained_variance_score (EXPL):', metrics.explained_variance_score(y_test, y_pred, multioutput='uniform_average'))\n",
        "print('R2_SCORE:', metrics.r2_score(y_test, y_pred))"
      ],
      "execution_count": null,
      "outputs": [
        {
          "output_type": "stream",
          "name": "stdout",
          "text": [
            "Mean Absolute Error (MAE): 1602.676647653286\n",
            "median_absolute_error (MAD): 1545.9833729216152\n",
            "Root Mean Squared Error (RMSE): 1961.3050627562066\n",
            "mean_absolute_percentage_error (MAPE): 4.780395496989816e+17\n",
            "max_error(MAX_ERROR): 7242.438177874188\n",
            "explained_variance_score (EXPL): 0.9897703059840605\n",
            "R2_SCORE: 0.9867184206168756\n"
          ]
        }
      ]
    },
    {
      "cell_type": "markdown",
      "metadata": {
        "id": "J7g9iSkH6LE2"
      },
      "source": [
        "**APLICAMOS SUPPORT VECTOR MACHINE - HOSPITALIZADOS**"
      ]
    },
    {
      "cell_type": "code",
      "metadata": {
        "id": "nT5gUcSr6LE2",
        "colab": {
          "base_uri": "https://localhost:8080/"
        },
        "outputId": "627cbced-ac85-4329-e12b-274e8515a399"
      },
      "source": [
        "regressor = svm.SVR()\n",
        "regressor.fit(X_train, y_train)"
      ],
      "execution_count": null,
      "outputs": [
        {
          "output_type": "execute_result",
          "data": {
            "text/plain": [
              "SVR()"
            ]
          },
          "metadata": {},
          "execution_count": 473
        }
      ]
    },
    {
      "cell_type": "code",
      "metadata": {
        "id": "mhGSHJmQ6LE2",
        "colab": {
          "base_uri": "https://localhost:8080/"
        },
        "outputId": "42ae2475-d673-4ef2-fa6b-f45f54baeaff"
      },
      "source": [
        "y_pred = regressor.predict(X_test)\n",
        "y_pred"
      ],
      "execution_count": null,
      "outputs": [
        {
          "output_type": "execute_result",
          "data": {
            "text/plain": [
              "array([4355.39644073, 4355.46454276, 4355.37921004, ..., 4355.44500188,\n",
              "       4355.38536686, 4355.37920994])"
            ]
          },
          "metadata": {},
          "execution_count": 474
        }
      ]
    },
    {
      "cell_type": "code",
      "metadata": {
        "id": "uww0AecI6LE2",
        "colab": {
          "base_uri": "https://localhost:8080/"
        },
        "outputId": "117a198b-db87-47ef-ff35-ef48a1fd2fde"
      },
      "source": [
        "from numpy import random\n",
        "import pandas as pd\n",
        "\n",
        "print(\"NumPy Data Array is:\")\n",
        "print(y_pred)\n",
        "\n",
        "print(\"\")\n",
        "\n",
        "data_df = pd.DataFrame(y_pred)\n",
        "print(\"The DataFrame generated from the NumPy array is:\")\n",
        "print(data_df)"
      ],
      "execution_count": null,
      "outputs": [
        {
          "output_type": "stream",
          "name": "stdout",
          "text": [
            "NumPy Data Array is:\n",
            "[4355.39644073 4355.46454276 4355.37921004 ... 4355.44500188 4355.38536686\n",
            " 4355.37920994]\n",
            "\n",
            "The DataFrame generated from the NumPy array is:\n",
            "                0\n",
            "0     4355.396441\n",
            "1     4355.464543\n",
            "2     4355.379210\n",
            "3     4355.439982\n",
            "4     4357.751619\n",
            "...           ...\n",
            "2885  4355.379220\n",
            "2886  4356.679085\n",
            "2887  4355.445002\n",
            "2888  4355.385367\n",
            "2889  4355.379210\n",
            "\n",
            "[2890 rows x 1 columns]\n"
          ]
        }
      ]
    },
    {
      "cell_type": "code",
      "metadata": {
        "id": "blUGYsqw6LE2",
        "colab": {
          "base_uri": "https://localhost:8080/",
          "height": 417
        },
        "outputId": "64acd2d8-4d87-4314-d160-c38bf3f0fae5"
      },
      "source": [
        "df = pd.DataFrame({'Actual': y_test, 'Predicted': y_pred})\n",
        "df"
      ],
      "execution_count": null,
      "outputs": [
        {
          "output_type": "execute_result",
          "data": {
            "text/html": [
              "<div>\n",
              "<style scoped>\n",
              "    .dataframe tbody tr th:only-of-type {\n",
              "        vertical-align: middle;\n",
              "    }\n",
              "\n",
              "    .dataframe tbody tr th {\n",
              "        vertical-align: top;\n",
              "    }\n",
              "\n",
              "    .dataframe thead th {\n",
              "        text-align: right;\n",
              "    }\n",
              "</style>\n",
              "<table border=\"1\" class=\"dataframe\">\n",
              "  <thead>\n",
              "    <tr style=\"text-align: right;\">\n",
              "      <th></th>\n",
              "      <th>Actual</th>\n",
              "      <th>Predicted</th>\n",
              "    </tr>\n",
              "  </thead>\n",
              "  <tbody>\n",
              "    <tr>\n",
              "      <th>4292</th>\n",
              "      <td>1057.0</td>\n",
              "      <td>4355.396441</td>\n",
              "    </tr>\n",
              "    <tr>\n",
              "      <th>4272</th>\n",
              "      <td>5681.0</td>\n",
              "      <td>4355.464543</td>\n",
              "    </tr>\n",
              "    <tr>\n",
              "      <th>322</th>\n",
              "      <td>25.0</td>\n",
              "      <td>4355.379210</td>\n",
              "    </tr>\n",
              "    <tr>\n",
              "      <th>10327</th>\n",
              "      <td>1104.0</td>\n",
              "      <td>4355.439982</td>\n",
              "    </tr>\n",
              "    <tr>\n",
              "      <th>9400</th>\n",
              "      <td>41030.0</td>\n",
              "      <td>4357.751619</td>\n",
              "    </tr>\n",
              "    <tr>\n",
              "      <th>...</th>\n",
              "      <td>...</td>\n",
              "      <td>...</td>\n",
              "    </tr>\n",
              "    <tr>\n",
              "      <th>897</th>\n",
              "      <td>0.0</td>\n",
              "      <td>4355.379220</td>\n",
              "    </tr>\n",
              "    <tr>\n",
              "      <th>5998</th>\n",
              "      <td>68137.0</td>\n",
              "      <td>4356.679085</td>\n",
              "    </tr>\n",
              "    <tr>\n",
              "      <th>3949</th>\n",
              "      <td>5438.0</td>\n",
              "      <td>4355.445002</td>\n",
              "    </tr>\n",
              "    <tr>\n",
              "      <th>2235</th>\n",
              "      <td>660.0</td>\n",
              "      <td>4355.385367</td>\n",
              "    </tr>\n",
              "    <tr>\n",
              "      <th>292</th>\n",
              "      <td>4.0</td>\n",
              "      <td>4355.379210</td>\n",
              "    </tr>\n",
              "  </tbody>\n",
              "</table>\n",
              "<p>2890 rows × 2 columns</p>\n",
              "</div>"
            ],
            "text/plain": [
              "        Actual    Predicted\n",
              "4292    1057.0  4355.396441\n",
              "4272    5681.0  4355.464543\n",
              "322       25.0  4355.379210\n",
              "10327   1104.0  4355.439982\n",
              "9400   41030.0  4357.751619\n",
              "...        ...          ...\n",
              "897        0.0  4355.379220\n",
              "5998   68137.0  4356.679085\n",
              "3949    5438.0  4355.445002\n",
              "2235     660.0  4355.385367\n",
              "292        4.0  4355.379210\n",
              "\n",
              "[2890 rows x 2 columns]"
            ]
          },
          "metadata": {},
          "execution_count": 476
        }
      ]
    },
    {
      "cell_type": "code",
      "metadata": {
        "id": "WSX7lY1H6LE2",
        "colab": {
          "base_uri": "https://localhost:8080/"
        },
        "outputId": "6c9646c9-57d0-4669-8af2-957a4fa7e7e7"
      },
      "source": [
        "from sklearn import metrics\n",
        "print('Mean Absolute Error (MAE):', metrics.mean_absolute_error(y_test, y_pred))\n",
        "print('median_absolute_error (MAD):', metrics.median_absolute_error(y_test, y_pred))\n",
        "print('Root Mean Squared Error (RMSE):', np.sqrt(metrics.mean_squared_error(y_test, y_pred)))\n",
        "print('mean_absolute_percentage_error (MAPE):', metrics.mean_absolute_percentage_error(y_test, y_pred))\n",
        "print('max_error(MAX_ERROR):', metrics.max_error(y_test, y_pred))\n",
        "print('explained_variance_score (EXPL):', metrics.explained_variance_score(y_test, y_pred, multioutput='uniform_average'))\n",
        "print('R2_SCORE:', metrics.r2_score(y_test, y_pred))"
      ],
      "execution_count": null,
      "outputs": [
        {
          "output_type": "stream",
          "name": "stdout",
          "text": [
            "Mean Absolute Error (MAE): 9126.450918706496\n",
            "median_absolute_error (MAD): 3996.3863024732914\n",
            "Root Mean Squared Error (RMSE): 18043.137317094206\n",
            "mean_absolute_percentage_error (MAPE): 7.194386594823487e+17\n",
            "max_error(MAX_ERROR): 104825.1977617093\n",
            "explained_variance_score (EXPL): 6.166026297194094e-05\n",
            "R2_SCORE: -0.12404457068202146\n"
          ]
        }
      ]
    },
    {
      "cell_type": "markdown",
      "metadata": {
        "id": "wDNFcD1z6LE3"
      },
      "source": [
        "**APLICAMOS MULTILAYER PERCEPTRON REGRESSOR - HOSPITALIZADOS**"
      ]
    },
    {
      "cell_type": "code",
      "metadata": {
        "id": "lYuymBHR6LE3",
        "colab": {
          "base_uri": "https://localhost:8080/"
        },
        "outputId": "81eca5f1-e050-4ed4-bba4-4c2a7b1de883"
      },
      "source": [
        "regressor = MLPRegressor()\n",
        "regressor.fit(X_train, y_train)"
      ],
      "execution_count": null,
      "outputs": [
        {
          "output_type": "execute_result",
          "data": {
            "text/plain": [
              "MLPRegressor()"
            ]
          },
          "metadata": {},
          "execution_count": 478
        }
      ]
    },
    {
      "cell_type": "code",
      "metadata": {
        "id": "Vst54gzP6LE3",
        "colab": {
          "base_uri": "https://localhost:8080/"
        },
        "outputId": "b6ef8c4d-4d14-49f2-f1c0-a67894256c28"
      },
      "source": [
        "y_pred = regressor.predict(X_test)\n",
        "y_pred"
      ],
      "execution_count": null,
      "outputs": [
        {
          "output_type": "execute_result",
          "data": {
            "text/plain": [
              "array([2705.55690114, 7316.31283039, 1357.511611  , ..., 7192.722934  ,\n",
              "       2348.74377873, 1346.86004173])"
            ]
          },
          "metadata": {},
          "execution_count": 479
        }
      ]
    },
    {
      "cell_type": "code",
      "metadata": {
        "id": "HLZyiuLP6LE3",
        "colab": {
          "base_uri": "https://localhost:8080/"
        },
        "outputId": "31b88e46-8690-46a9-ed7a-4efac9fee121"
      },
      "source": [
        "from numpy import random\n",
        "import pandas as pd\n",
        "\n",
        "print(\"NumPy Data Array is:\")\n",
        "print(y_pred)\n",
        "\n",
        "print(\"\")\n",
        "\n",
        "data_df = pd.DataFrame(y_pred)\n",
        "print(\"The DataFrame generated from the NumPy array is:\")\n",
        "print(data_df)"
      ],
      "execution_count": null,
      "outputs": [
        {
          "output_type": "stream",
          "name": "stdout",
          "text": [
            "NumPy Data Array is:\n",
            "[2705.55690114 7316.31283039 1357.511611   ... 7192.722934   2348.74377873\n",
            " 1346.86004173]\n",
            "\n",
            "The DataFrame generated from the NumPy array is:\n",
            "                 0\n",
            "0      2705.556901\n",
            "1      7316.312830\n",
            "2      1357.511611\n",
            "3      2820.063993\n",
            "4     58043.517065\n",
            "...            ...\n",
            "2885   1348.588466\n",
            "2886  56184.516765\n",
            "2887   7192.722934\n",
            "2888   2348.743779\n",
            "2889   1346.860042\n",
            "\n",
            "[2890 rows x 1 columns]\n"
          ]
        }
      ]
    },
    {
      "cell_type": "code",
      "metadata": {
        "id": "UXZIofAJ6LE3"
      },
      "source": [
        ""
      ],
      "execution_count": null,
      "outputs": []
    },
    {
      "cell_type": "code",
      "metadata": {
        "id": "hq7I5sMp6LE3",
        "colab": {
          "base_uri": "https://localhost:8080/",
          "height": 417
        },
        "outputId": "38c26d69-e1bc-45e8-cf1e-a0822f4876af"
      },
      "source": [
        "df = pd.DataFrame({'Actual': y_test, 'Predicted': y_pred})\n",
        "df"
      ],
      "execution_count": null,
      "outputs": [
        {
          "output_type": "execute_result",
          "data": {
            "text/html": [
              "<div>\n",
              "<style scoped>\n",
              "    .dataframe tbody tr th:only-of-type {\n",
              "        vertical-align: middle;\n",
              "    }\n",
              "\n",
              "    .dataframe tbody tr th {\n",
              "        vertical-align: top;\n",
              "    }\n",
              "\n",
              "    .dataframe thead th {\n",
              "        text-align: right;\n",
              "    }\n",
              "</style>\n",
              "<table border=\"1\" class=\"dataframe\">\n",
              "  <thead>\n",
              "    <tr style=\"text-align: right;\">\n",
              "      <th></th>\n",
              "      <th>Actual</th>\n",
              "      <th>Predicted</th>\n",
              "    </tr>\n",
              "  </thead>\n",
              "  <tbody>\n",
              "    <tr>\n",
              "      <th>4292</th>\n",
              "      <td>1057.0</td>\n",
              "      <td>2705.556901</td>\n",
              "    </tr>\n",
              "    <tr>\n",
              "      <th>4272</th>\n",
              "      <td>5681.0</td>\n",
              "      <td>7316.312830</td>\n",
              "    </tr>\n",
              "    <tr>\n",
              "      <th>322</th>\n",
              "      <td>25.0</td>\n",
              "      <td>1357.511611</td>\n",
              "    </tr>\n",
              "    <tr>\n",
              "      <th>10327</th>\n",
              "      <td>1104.0</td>\n",
              "      <td>2820.063993</td>\n",
              "    </tr>\n",
              "    <tr>\n",
              "      <th>9400</th>\n",
              "      <td>41030.0</td>\n",
              "      <td>58043.517065</td>\n",
              "    </tr>\n",
              "    <tr>\n",
              "      <th>...</th>\n",
              "      <td>...</td>\n",
              "      <td>...</td>\n",
              "    </tr>\n",
              "    <tr>\n",
              "      <th>897</th>\n",
              "      <td>0.0</td>\n",
              "      <td>1348.588466</td>\n",
              "    </tr>\n",
              "    <tr>\n",
              "      <th>5998</th>\n",
              "      <td>68137.0</td>\n",
              "      <td>56184.516765</td>\n",
              "    </tr>\n",
              "    <tr>\n",
              "      <th>3949</th>\n",
              "      <td>5438.0</td>\n",
              "      <td>7192.722934</td>\n",
              "    </tr>\n",
              "    <tr>\n",
              "      <th>2235</th>\n",
              "      <td>660.0</td>\n",
              "      <td>2348.743779</td>\n",
              "    </tr>\n",
              "    <tr>\n",
              "      <th>292</th>\n",
              "      <td>4.0</td>\n",
              "      <td>1346.860042</td>\n",
              "    </tr>\n",
              "  </tbody>\n",
              "</table>\n",
              "<p>2890 rows × 2 columns</p>\n",
              "</div>"
            ],
            "text/plain": [
              "        Actual     Predicted\n",
              "4292    1057.0   2705.556901\n",
              "4272    5681.0   7316.312830\n",
              "322       25.0   1357.511611\n",
              "10327   1104.0   2820.063993\n",
              "9400   41030.0  58043.517065\n",
              "...        ...           ...\n",
              "897        0.0   1348.588466\n",
              "5998   68137.0  56184.516765\n",
              "3949    5438.0   7192.722934\n",
              "2235     660.0   2348.743779\n",
              "292        4.0   1346.860042\n",
              "\n",
              "[2890 rows x 2 columns]"
            ]
          },
          "metadata": {},
          "execution_count": 481
        }
      ]
    },
    {
      "cell_type": "code",
      "metadata": {
        "id": "Im1KwV1P6LE3",
        "colab": {
          "base_uri": "https://localhost:8080/"
        },
        "outputId": "46e76c59-7d22-4d44-ecec-a774b7a03682"
      },
      "source": [
        "from sklearn import metrics\n",
        "print('Mean Absolute Error (MAE):', metrics.mean_absolute_error(y_test, y_pred))\n",
        "print('median_absolute_error (MAD):', metrics.median_absolute_error(y_test, y_pred))\n",
        "print('Root Mean Squared Error (RMSE):', np.sqrt(metrics.mean_squared_error(y_test, y_pred)))\n",
        "print('mean_absolute_percentage_error (MAPE):', metrics.mean_absolute_percentage_error(y_test, y_pred))\n",
        "print('max_error(MAX_ERROR):', metrics.max_error(y_test, y_pred))\n",
        "print('explained_variance_score (EXPL):', metrics.explained_variance_score(y_test, y_pred, multioutput='uniform_average'))\n",
        "print('R2_SCORE:', metrics.r2_score(y_test, y_pred))"
      ],
      "execution_count": null,
      "outputs": [
        {
          "output_type": "stream",
          "name": "stdout",
          "text": [
            "Mean Absolute Error (MAE): 3055.9904673900182\n",
            "median_absolute_error (MAD): 1889.8140349276525\n",
            "Root Mean Squared Error (RMSE): 4458.236432187049\n",
            "mean_absolute_percentage_error (MAPE): 2.3261109330996912e+17\n",
            "max_error(MAX_ERROR): 21197.797954470603\n",
            "explained_variance_score (EXPL): 0.9468791057286323\n",
            "R2_SCORE: 0.9313744849904972\n"
          ]
        }
      ]
    },
    {
      "cell_type": "code",
      "metadata": {
        "id": "7SVLqsrj6onS"
      },
      "source": [
        ""
      ],
      "execution_count": null,
      "outputs": []
    },
    {
      "cell_type": "markdown",
      "metadata": {
        "id": "TS6tbim16pCQ"
      },
      "source": [
        "**ANÁLISIS FALLECIDOS**"
      ]
    },
    {
      "cell_type": "code",
      "metadata": {
        "colab": {
          "base_uri": "https://localhost:8080/",
          "height": 142
        },
        "id": "wsG36Qhm9gOY",
        "outputId": "2c2b8155-0ebc-47af-a88a-48828fb092f6"
      },
      "source": [
        "datos = df_final_clima\n",
        "datos.head(3)"
      ],
      "execution_count": null,
      "outputs": [
        {
          "output_type": "execute_result",
          "data": {
            "text/html": [
              "<div>\n",
              "<style scoped>\n",
              "    .dataframe tbody tr th:only-of-type {\n",
              "        vertical-align: middle;\n",
              "    }\n",
              "\n",
              "    .dataframe tbody tr th {\n",
              "        vertical-align: top;\n",
              "    }\n",
              "\n",
              "    .dataframe thead th {\n",
              "        text-align: right;\n",
              "    }\n",
              "</style>\n",
              "<table border=\"1\" class=\"dataframe\">\n",
              "  <thead>\n",
              "    <tr style=\"text-align: right;\">\n",
              "      <th></th>\n",
              "      <th>average_temperature</th>\n",
              "      <th>minimum_temperature</th>\n",
              "      <th>maximum_temperature</th>\n",
              "      <th>rainfall</th>\n",
              "      <th>snowfall</th>\n",
              "      <th>dew_point</th>\n",
              "      <th>relative_humidity</th>\n",
              "      <th>fecha</th>\n",
              "      <th>ccaa</th>\n",
              "      <th>confirmados</th>\n",
              "      <th>hospitalizados</th>\n",
              "      <th>uci</th>\n",
              "      <th>fallecidos</th>\n",
              "    </tr>\n",
              "  </thead>\n",
              "  <tbody>\n",
              "    <tr>\n",
              "      <th>0</th>\n",
              "      <td>8.402778</td>\n",
              "      <td>2.812500</td>\n",
              "      <td>16.409722</td>\n",
              "      <td>0.00000</td>\n",
              "      <td>0.0</td>\n",
              "      <td>4.562500</td>\n",
              "      <td>76.986560</td>\n",
              "      <td>20200101</td>\n",
              "      <td>0</td>\n",
              "      <td>0.0</td>\n",
              "      <td>3.0</td>\n",
              "      <td>0.0</td>\n",
              "      <td>0.0</td>\n",
              "    </tr>\n",
              "    <tr>\n",
              "      <th>1</th>\n",
              "      <td>1.097222</td>\n",
              "      <td>-1.854167</td>\n",
              "      <td>7.493056</td>\n",
              "      <td>0.00000</td>\n",
              "      <td>0.0</td>\n",
              "      <td>-1.571429</td>\n",
              "      <td>83.099552</td>\n",
              "      <td>20200101</td>\n",
              "      <td>1</td>\n",
              "      <td>0.0</td>\n",
              "      <td>0.0</td>\n",
              "      <td>0.0</td>\n",
              "      <td>0.0</td>\n",
              "    </tr>\n",
              "    <tr>\n",
              "      <th>2</th>\n",
              "      <td>4.319444</td>\n",
              "      <td>0.270833</td>\n",
              "      <td>10.152778</td>\n",
              "      <td>0.03175</td>\n",
              "      <td>0.0</td>\n",
              "      <td>2.381944</td>\n",
              "      <td>87.497387</td>\n",
              "      <td>20200101</td>\n",
              "      <td>2</td>\n",
              "      <td>0.0</td>\n",
              "      <td>0.0</td>\n",
              "      <td>0.0</td>\n",
              "      <td>0.0</td>\n",
              "    </tr>\n",
              "  </tbody>\n",
              "</table>\n",
              "</div>"
            ],
            "text/plain": [
              "   average_temperature  minimum_temperature  ...  uci  fallecidos\n",
              "0             8.402778             2.812500  ...  0.0         0.0\n",
              "1             1.097222            -1.854167  ...  0.0         0.0\n",
              "2             4.319444             0.270833  ...  0.0         0.0\n",
              "\n",
              "[3 rows x 13 columns]"
            ]
          },
          "metadata": {},
          "execution_count": 483
        }
      ]
    },
    {
      "cell_type": "code",
      "metadata": {
        "id": "Ls77PRN86pCR"
      },
      "source": [
        "# División de los datos en train y test\n",
        "# ------------------------------------------------------------------------------\n",
        "X_train, X_test, y_train, y_test = train_test_split(\n",
        "                                        datos.drop(columns = \"fallecidos\"),\n",
        "                                        datos['fallecidos'],\n",
        "                                        random_state = 123\n",
        "                                    )"
      ],
      "execution_count": null,
      "outputs": []
    },
    {
      "cell_type": "markdown",
      "metadata": {
        "id": "zGvqOiHt6pCR"
      },
      "source": [
        "**ARBOL DE DECISIÓN - FALLECIDOS**"
      ]
    },
    {
      "cell_type": "code",
      "metadata": {
        "id": "ggtodokl6pCR",
        "colab": {
          "base_uri": "https://localhost:8080/"
        },
        "outputId": "276130d1-a42d-4341-bc21-9398fb218e4e"
      },
      "source": [
        "regressor = DecisionTreeRegressor ()\n",
        "regressor.fit(X_train, y_train)"
      ],
      "execution_count": null,
      "outputs": [
        {
          "output_type": "execute_result",
          "data": {
            "text/plain": [
              "DecisionTreeRegressor()"
            ]
          },
          "metadata": {},
          "execution_count": 485
        }
      ]
    },
    {
      "cell_type": "code",
      "metadata": {
        "id": "we-UlFyK6pCR",
        "colab": {
          "base_uri": "https://localhost:8080/"
        },
        "outputId": "90339623-53dd-4953-b608-34b36411c9bc"
      },
      "source": [
        "y_pred = regressor.predict(X_test)\n",
        "y_pred"
      ],
      "execution_count": null,
      "outputs": [
        {
          "output_type": "execute_result",
          "data": {
            "text/plain": [
              "array([ 369., 1575.,    0., ..., 1564.,  134.,    0.])"
            ]
          },
          "metadata": {},
          "execution_count": 486
        }
      ]
    },
    {
      "cell_type": "code",
      "metadata": {
        "id": "iItuSYOg6pCR",
        "colab": {
          "base_uri": "https://localhost:8080/"
        },
        "outputId": "622a52e0-8a15-473b-de79-1e0785cfdae3"
      },
      "source": [
        "from numpy import random\n",
        "import pandas as pd\n",
        "\n",
        "print(\"NumPy Data Array is:\")\n",
        "print(y_pred)\n",
        "\n",
        "print(\"\")\n",
        "\n",
        "data_df = pd.DataFrame(y_pred)\n",
        "print(\"The DataFrame generated from the NumPy array is:\")\n",
        "print(data_df)"
      ],
      "execution_count": null,
      "outputs": [
        {
          "output_type": "stream",
          "name": "stdout",
          "text": [
            "NumPy Data Array is:\n",
            "[ 369. 1575.    0. ... 1564.  134.    0.]\n",
            "\n",
            "The DataFrame generated from the NumPy array is:\n",
            "            0\n",
            "0       369.0\n",
            "1      1575.0\n",
            "2         0.0\n",
            "3       213.0\n",
            "4     14481.0\n",
            "...       ...\n",
            "2885      0.0\n",
            "2886  11212.0\n",
            "2887   1564.0\n",
            "2888    134.0\n",
            "2889      0.0\n",
            "\n",
            "[2890 rows x 1 columns]\n"
          ]
        }
      ]
    },
    {
      "cell_type": "code",
      "metadata": {
        "id": "UHiCSzlD6pCR",
        "colab": {
          "base_uri": "https://localhost:8080/",
          "height": 417
        },
        "outputId": "5d91b45c-2aa8-43ad-d517-89819bbd8bc0"
      },
      "source": [
        "df = pd.DataFrame({'Actual': y_test, 'Predicted': y_pred})\n",
        "df"
      ],
      "execution_count": null,
      "outputs": [
        {
          "output_type": "execute_result",
          "data": {
            "text/html": [
              "<div>\n",
              "<style scoped>\n",
              "    .dataframe tbody tr th:only-of-type {\n",
              "        vertical-align: middle;\n",
              "    }\n",
              "\n",
              "    .dataframe tbody tr th {\n",
              "        vertical-align: top;\n",
              "    }\n",
              "\n",
              "    .dataframe thead th {\n",
              "        text-align: right;\n",
              "    }\n",
              "</style>\n",
              "<table border=\"1\" class=\"dataframe\">\n",
              "  <thead>\n",
              "    <tr style=\"text-align: right;\">\n",
              "      <th></th>\n",
              "      <th>Actual</th>\n",
              "      <th>Predicted</th>\n",
              "    </tr>\n",
              "  </thead>\n",
              "  <tbody>\n",
              "    <tr>\n",
              "      <th>4292</th>\n",
              "      <td>369.0</td>\n",
              "      <td>369.0</td>\n",
              "    </tr>\n",
              "    <tr>\n",
              "      <th>4272</th>\n",
              "      <td>1578.0</td>\n",
              "      <td>1575.0</td>\n",
              "    </tr>\n",
              "    <tr>\n",
              "      <th>322</th>\n",
              "      <td>0.0</td>\n",
              "      <td>0.0</td>\n",
              "    </tr>\n",
              "    <tr>\n",
              "      <th>10327</th>\n",
              "      <td>213.0</td>\n",
              "      <td>213.0</td>\n",
              "    </tr>\n",
              "    <tr>\n",
              "      <th>9400</th>\n",
              "      <td>14545.0</td>\n",
              "      <td>14481.0</td>\n",
              "    </tr>\n",
              "    <tr>\n",
              "      <th>...</th>\n",
              "      <td>...</td>\n",
              "      <td>...</td>\n",
              "    </tr>\n",
              "    <tr>\n",
              "      <th>897</th>\n",
              "      <td>0.0</td>\n",
              "      <td>0.0</td>\n",
              "    </tr>\n",
              "    <tr>\n",
              "      <th>5998</th>\n",
              "      <td>11192.0</td>\n",
              "      <td>11212.0</td>\n",
              "    </tr>\n",
              "    <tr>\n",
              "      <th>3949</th>\n",
              "      <td>1564.0</td>\n",
              "      <td>1564.0</td>\n",
              "    </tr>\n",
              "    <tr>\n",
              "      <th>2235</th>\n",
              "      <td>134.0</td>\n",
              "      <td>134.0</td>\n",
              "    </tr>\n",
              "    <tr>\n",
              "      <th>292</th>\n",
              "      <td>0.0</td>\n",
              "      <td>0.0</td>\n",
              "    </tr>\n",
              "  </tbody>\n",
              "</table>\n",
              "<p>2890 rows × 2 columns</p>\n",
              "</div>"
            ],
            "text/plain": [
              "        Actual  Predicted\n",
              "4292     369.0      369.0\n",
              "4272    1578.0     1575.0\n",
              "322        0.0        0.0\n",
              "10327    213.0      213.0\n",
              "9400   14545.0    14481.0\n",
              "...        ...        ...\n",
              "897        0.0        0.0\n",
              "5998   11192.0    11212.0\n",
              "3949    1564.0     1564.0\n",
              "2235     134.0      134.0\n",
              "292        0.0        0.0\n",
              "\n",
              "[2890 rows x 2 columns]"
            ]
          },
          "metadata": {},
          "execution_count": 488
        }
      ]
    },
    {
      "cell_type": "code",
      "metadata": {
        "id": "-EI8ckUK6pCR",
        "colab": {
          "base_uri": "https://localhost:8080/"
        },
        "outputId": "5e287a56-d846-4109-abea-ba0e077412fe"
      },
      "source": [
        "from sklearn import metrics\n",
        "print('Mean Absolute Error (MAE):', metrics.mean_absolute_error(y_test, y_pred))\n",
        "print('median_absolute_error (MAD):', metrics.median_absolute_error(y_test, y_pred))\n",
        "print('Root Mean Squared Error (RMSE):', np.sqrt(metrics.mean_squared_error(y_test, y_pred)))\n",
        "print('mean_absolute_percentage_error (MAPE):', metrics.mean_absolute_percentage_error(y_test, y_pred))\n",
        "print('max_error(MAX_ERROR):', metrics.max_error(y_test, y_pred))\n",
        "print('explained_variance_score (EXPL):', metrics.explained_variance_score(y_test, y_pred, multioutput='uniform_average'))\n",
        "print('R2_SCORE:', metrics.r2_score(y_test, y_pred))"
      ],
      "execution_count": null,
      "outputs": [
        {
          "output_type": "stream",
          "name": "stdout",
          "text": [
            "Mean Absolute Error (MAE): 27.57128027681661\n",
            "median_absolute_error (MAD): 2.0\n",
            "Root Mean Squared Error (RMSE): 205.92229780566265\n",
            "mean_absolute_percentage_error (MAPE): 18700067656901.758\n",
            "max_error(MAX_ERROR): 5177.0\n",
            "explained_variance_score (EXPL): 0.9964439233146123\n",
            "R2_SCORE: 0.9964399566087939\n"
          ]
        }
      ]
    },
    {
      "cell_type": "markdown",
      "metadata": {
        "id": "Hfqw2eMp6pCR"
      },
      "source": [
        "**KNEIGHBOURS REGRESSOR - FALLECIDOS**"
      ]
    },
    {
      "cell_type": "code",
      "metadata": {
        "id": "I8iubKnc6pCR",
        "colab": {
          "base_uri": "https://localhost:8080/"
        },
        "outputId": "b4160718-3fb1-4016-80ef-cf7d2133ce47"
      },
      "source": [
        "regressor = KNeighborsRegressor()\n",
        "regressor.fit(X_train, y_train)"
      ],
      "execution_count": null,
      "outputs": [
        {
          "output_type": "execute_result",
          "data": {
            "text/plain": [
              "KNeighborsRegressor()"
            ]
          },
          "metadata": {},
          "execution_count": 490
        }
      ]
    },
    {
      "cell_type": "code",
      "metadata": {
        "id": "M8dl_c0K6pCS",
        "colab": {
          "base_uri": "https://localhost:8080/"
        },
        "outputId": "7cf79035-3ee6-48a1-e87e-d51fe0a8fe03"
      },
      "source": [
        "y_pred = regressor.predict(X_test)\n",
        "y_pred"
      ],
      "execution_count": null,
      "outputs": [
        {
          "output_type": "execute_result",
          "data": {
            "text/plain": [
              "array([ 369. , 1540.2,    0. , ..., 1564. ,  132.6,    0. ])"
            ]
          },
          "metadata": {},
          "execution_count": 491
        }
      ]
    },
    {
      "cell_type": "code",
      "metadata": {
        "id": "JqezvzAU6pCS",
        "colab": {
          "base_uri": "https://localhost:8080/"
        },
        "outputId": "312e6cf8-eae1-4572-f63d-bd537c12debe"
      },
      "source": [
        "from numpy import random\n",
        "import pandas as pd\n",
        "\n",
        "print(\"NumPy Data Array is:\")\n",
        "print(y_pred)\n",
        "\n",
        "print(\"\")\n",
        "\n",
        "print(\"The DataFrame generated from the NumPy array is:\")\n",
        "print(data_df)"
      ],
      "execution_count": null,
      "outputs": [
        {
          "output_type": "stream",
          "name": "stdout",
          "text": [
            "NumPy Data Array is:\n",
            "[ 369.  1540.2    0.  ... 1564.   132.6    0. ]\n",
            "\n",
            "The DataFrame generated from the NumPy array is:\n",
            "            0\n",
            "0       369.0\n",
            "1      1575.0\n",
            "2         0.0\n",
            "3       213.0\n",
            "4     14481.0\n",
            "...       ...\n",
            "2885      0.0\n",
            "2886  11212.0\n",
            "2887   1564.0\n",
            "2888    134.0\n",
            "2889      0.0\n",
            "\n",
            "[2890 rows x 1 columns]\n"
          ]
        }
      ]
    },
    {
      "cell_type": "code",
      "metadata": {
        "id": "35M3Xd5p6pCS",
        "colab": {
          "base_uri": "https://localhost:8080/",
          "height": 417
        },
        "outputId": "caa12810-29b9-4d4d-d43c-a272d77200c9"
      },
      "source": [
        "df = pd.DataFrame({'Actual': y_test, 'Predicted': y_pred})\n",
        "df"
      ],
      "execution_count": null,
      "outputs": [
        {
          "output_type": "execute_result",
          "data": {
            "text/html": [
              "<div>\n",
              "<style scoped>\n",
              "    .dataframe tbody tr th:only-of-type {\n",
              "        vertical-align: middle;\n",
              "    }\n",
              "\n",
              "    .dataframe tbody tr th {\n",
              "        vertical-align: top;\n",
              "    }\n",
              "\n",
              "    .dataframe thead th {\n",
              "        text-align: right;\n",
              "    }\n",
              "</style>\n",
              "<table border=\"1\" class=\"dataframe\">\n",
              "  <thead>\n",
              "    <tr style=\"text-align: right;\">\n",
              "      <th></th>\n",
              "      <th>Actual</th>\n",
              "      <th>Predicted</th>\n",
              "    </tr>\n",
              "  </thead>\n",
              "  <tbody>\n",
              "    <tr>\n",
              "      <th>4292</th>\n",
              "      <td>369.0</td>\n",
              "      <td>369.0</td>\n",
              "    </tr>\n",
              "    <tr>\n",
              "      <th>4272</th>\n",
              "      <td>1578.0</td>\n",
              "      <td>1540.2</td>\n",
              "    </tr>\n",
              "    <tr>\n",
              "      <th>322</th>\n",
              "      <td>0.0</td>\n",
              "      <td>0.0</td>\n",
              "    </tr>\n",
              "    <tr>\n",
              "      <th>10327</th>\n",
              "      <td>213.0</td>\n",
              "      <td>213.0</td>\n",
              "    </tr>\n",
              "    <tr>\n",
              "      <th>9400</th>\n",
              "      <td>14545.0</td>\n",
              "      <td>14542.2</td>\n",
              "    </tr>\n",
              "    <tr>\n",
              "      <th>...</th>\n",
              "      <td>...</td>\n",
              "      <td>...</td>\n",
              "    </tr>\n",
              "    <tr>\n",
              "      <th>897</th>\n",
              "      <td>0.0</td>\n",
              "      <td>0.0</td>\n",
              "    </tr>\n",
              "    <tr>\n",
              "      <th>5998</th>\n",
              "      <td>11192.0</td>\n",
              "      <td>11216.4</td>\n",
              "    </tr>\n",
              "    <tr>\n",
              "      <th>3949</th>\n",
              "      <td>1564.0</td>\n",
              "      <td>1564.0</td>\n",
              "    </tr>\n",
              "    <tr>\n",
              "      <th>2235</th>\n",
              "      <td>134.0</td>\n",
              "      <td>132.6</td>\n",
              "    </tr>\n",
              "    <tr>\n",
              "      <th>292</th>\n",
              "      <td>0.0</td>\n",
              "      <td>0.0</td>\n",
              "    </tr>\n",
              "  </tbody>\n",
              "</table>\n",
              "<p>2890 rows × 2 columns</p>\n",
              "</div>"
            ],
            "text/plain": [
              "        Actual  Predicted\n",
              "4292     369.0      369.0\n",
              "4272    1578.0     1540.2\n",
              "322        0.0        0.0\n",
              "10327    213.0      213.0\n",
              "9400   14545.0    14542.2\n",
              "...        ...        ...\n",
              "897        0.0        0.0\n",
              "5998   11192.0    11216.4\n",
              "3949    1564.0     1564.0\n",
              "2235     134.0      132.6\n",
              "292        0.0        0.0\n",
              "\n",
              "[2890 rows x 2 columns]"
            ]
          },
          "metadata": {},
          "execution_count": 493
        }
      ]
    },
    {
      "cell_type": "code",
      "metadata": {
        "id": "fIn3aIcb6pCS",
        "colab": {
          "base_uri": "https://localhost:8080/"
        },
        "outputId": "afd9f725-4034-4147-ffc0-0c01efa1dd26"
      },
      "source": [
        "from sklearn import metrics\n",
        "print('Mean Absolute Error (MAE):', metrics.mean_absolute_error(y_test, y_pred))\n",
        "print('median_absolute_error (MAD):', metrics.median_absolute_error(y_test, y_pred))\n",
        "print('Root Mean Squared Error (RMSE):', np.sqrt(metrics.mean_squared_error(y_test, y_pred)))\n",
        "print('mean_absolute_percentage_error (MAPE):', metrics.mean_absolute_percentage_error(y_test, y_pred))\n",
        "print('max_error(MAX_ERROR):', metrics.max_error(y_test, y_pred))\n",
        "print('explained_variance_score (EXPL):', metrics.explained_variance_score(y_test, y_pred, multioutput='uniform_average'))\n",
        "print('R2_SCORE:', metrics.r2_score(y_test, y_pred))"
      ],
      "execution_count": null,
      "outputs": [
        {
          "output_type": "stream",
          "name": "stdout",
          "text": [
            "Mean Absolute Error (MAE): 113.38256055363321\n",
            "median_absolute_error (MAD): 2.3999999999999773\n",
            "Root Mean Squared Error (RMSE): 384.41824458285805\n",
            "mean_absolute_percentage_error (MAPE): 21193410011155.36\n",
            "max_error(MAX_ERROR): 4531.0\n",
            "explained_variance_score (EXPL): 0.9875986556544865\n",
            "R2_SCORE: 0.9875932931023901\n"
          ]
        }
      ]
    },
    {
      "cell_type": "markdown",
      "metadata": {
        "id": "RYsOEoe66pCS"
      },
      "source": [
        "**MULTIPLE LINEAR REGRESSION - FALLECIDOS**"
      ]
    },
    {
      "cell_type": "code",
      "metadata": {
        "id": "2Y2HdIW56pCS"
      },
      "source": [
        "from sklearn.linear_model import LinearRegression\n",
        "from sklearn.linear_model import BayesianRidge"
      ],
      "execution_count": null,
      "outputs": []
    },
    {
      "cell_type": "code",
      "metadata": {
        "id": "c4yU3-ZS6pCS",
        "colab": {
          "base_uri": "https://localhost:8080/"
        },
        "outputId": "8f501083-e0b1-4a8e-b548-355701df903b"
      },
      "source": [
        "regressor = LinearRegression()\n",
        "regressor.fit(X_train, y_train)"
      ],
      "execution_count": null,
      "outputs": [
        {
          "output_type": "execute_result",
          "data": {
            "text/plain": [
              "LinearRegression()"
            ]
          },
          "metadata": {},
          "execution_count": 496
        }
      ]
    },
    {
      "cell_type": "code",
      "metadata": {
        "id": "NdD-YgQu6pCS",
        "colab": {
          "base_uri": "https://localhost:8080/"
        },
        "outputId": "80c950a9-dc71-4f83-850d-0723d59f20fa"
      },
      "source": [
        "y_pred = regressor.predict(X_test)\n",
        "y_pred"
      ],
      "execution_count": null,
      "outputs": [
        {
          "output_type": "execute_result",
          "data": {
            "text/plain": [
              "array([ 584.95621719, 1118.15983043,  653.43604359, ...,  955.69142255,\n",
              "        254.05285332,  796.17311739])"
            ]
          },
          "metadata": {},
          "execution_count": 497
        }
      ]
    },
    {
      "cell_type": "code",
      "metadata": {
        "id": "I9keeUiq6pCS",
        "colab": {
          "base_uri": "https://localhost:8080/"
        },
        "outputId": "2e61231d-51a1-4958-d8ae-0db45ef2679e"
      },
      "source": [
        "from numpy import random\n",
        "import pandas as pd\n",
        "\n",
        "print(\"NumPy Data Array is:\")\n",
        "print(y_pred)\n",
        "\n",
        "print(\"\")\n",
        "\n",
        "data_df = pd.DataFrame(y_pred)\n",
        "print(\"The DataFrame generated from the NumPy array is:\")\n",
        "print(data_df)"
      ],
      "execution_count": null,
      "outputs": [
        {
          "output_type": "stream",
          "name": "stdout",
          "text": [
            "NumPy Data Array is:\n",
            "[ 584.95621719 1118.15983043  653.43604359 ...  955.69142255  254.05285332\n",
            "  796.17311739]\n",
            "\n",
            "The DataFrame generated from the NumPy array is:\n",
            "                 0\n",
            "0       584.956217\n",
            "1      1118.159830\n",
            "2       653.436044\n",
            "3       592.058526\n",
            "4     11299.884371\n",
            "...            ...\n",
            "2885    369.202385\n",
            "2886  10953.095707\n",
            "2887    955.691423\n",
            "2888    254.052853\n",
            "2889    796.173117\n",
            "\n",
            "[2890 rows x 1 columns]\n"
          ]
        }
      ]
    },
    {
      "cell_type": "code",
      "metadata": {
        "id": "_SdpAZfH6pCS",
        "colab": {
          "base_uri": "https://localhost:8080/",
          "height": 417
        },
        "outputId": "75eeabc2-a144-4cdb-da0f-e5b6eb4fac8d"
      },
      "source": [
        "df = pd.DataFrame({'Actual': y_test, 'Predicted': y_pred})\n",
        "df"
      ],
      "execution_count": null,
      "outputs": [
        {
          "output_type": "execute_result",
          "data": {
            "text/html": [
              "<div>\n",
              "<style scoped>\n",
              "    .dataframe tbody tr th:only-of-type {\n",
              "        vertical-align: middle;\n",
              "    }\n",
              "\n",
              "    .dataframe tbody tr th {\n",
              "        vertical-align: top;\n",
              "    }\n",
              "\n",
              "    .dataframe thead th {\n",
              "        text-align: right;\n",
              "    }\n",
              "</style>\n",
              "<table border=\"1\" class=\"dataframe\">\n",
              "  <thead>\n",
              "    <tr style=\"text-align: right;\">\n",
              "      <th></th>\n",
              "      <th>Actual</th>\n",
              "      <th>Predicted</th>\n",
              "    </tr>\n",
              "  </thead>\n",
              "  <tbody>\n",
              "    <tr>\n",
              "      <th>4292</th>\n",
              "      <td>369.0</td>\n",
              "      <td>584.956217</td>\n",
              "    </tr>\n",
              "    <tr>\n",
              "      <th>4272</th>\n",
              "      <td>1578.0</td>\n",
              "      <td>1118.159830</td>\n",
              "    </tr>\n",
              "    <tr>\n",
              "      <th>322</th>\n",
              "      <td>0.0</td>\n",
              "      <td>653.436044</td>\n",
              "    </tr>\n",
              "    <tr>\n",
              "      <th>10327</th>\n",
              "      <td>213.0</td>\n",
              "      <td>592.058526</td>\n",
              "    </tr>\n",
              "    <tr>\n",
              "      <th>9400</th>\n",
              "      <td>14545.0</td>\n",
              "      <td>11299.884371</td>\n",
              "    </tr>\n",
              "    <tr>\n",
              "      <th>...</th>\n",
              "      <td>...</td>\n",
              "      <td>...</td>\n",
              "    </tr>\n",
              "    <tr>\n",
              "      <th>897</th>\n",
              "      <td>0.0</td>\n",
              "      <td>369.202385</td>\n",
              "    </tr>\n",
              "    <tr>\n",
              "      <th>5998</th>\n",
              "      <td>11192.0</td>\n",
              "      <td>10953.095707</td>\n",
              "    </tr>\n",
              "    <tr>\n",
              "      <th>3949</th>\n",
              "      <td>1564.0</td>\n",
              "      <td>955.691423</td>\n",
              "    </tr>\n",
              "    <tr>\n",
              "      <th>2235</th>\n",
              "      <td>134.0</td>\n",
              "      <td>254.052853</td>\n",
              "    </tr>\n",
              "    <tr>\n",
              "      <th>292</th>\n",
              "      <td>0.0</td>\n",
              "      <td>796.173117</td>\n",
              "    </tr>\n",
              "  </tbody>\n",
              "</table>\n",
              "<p>2890 rows × 2 columns</p>\n",
              "</div>"
            ],
            "text/plain": [
              "        Actual     Predicted\n",
              "4292     369.0    584.956217\n",
              "4272    1578.0   1118.159830\n",
              "322        0.0    653.436044\n",
              "10327    213.0    592.058526\n",
              "9400   14545.0  11299.884371\n",
              "...        ...           ...\n",
              "897        0.0    369.202385\n",
              "5998   11192.0  10953.095707\n",
              "3949    1564.0    955.691423\n",
              "2235     134.0    254.052853\n",
              "292        0.0    796.173117\n",
              "\n",
              "[2890 rows x 2 columns]"
            ]
          },
          "metadata": {},
          "execution_count": 499
        }
      ]
    },
    {
      "cell_type": "code",
      "metadata": {
        "id": "gWAZO58Q6pCS",
        "colab": {
          "base_uri": "https://localhost:8080/"
        },
        "outputId": "c82f711e-879b-4e55-ac2e-f0b8f1e145d2"
      },
      "source": [
        "from sklearn import metrics\n",
        "print('Mean Absolute Error (MAE):', metrics.mean_absolute_error(y_test, y_pred))\n",
        "print('median_absolute_error (MAD):', metrics.median_absolute_error(y_test, y_pred))\n",
        "print('Root Mean Squared Error (RMSE):', np.sqrt(metrics.mean_squared_error(y_test, y_pred)))\n",
        "print('mean_absolute_percentage_error (MAPE):', metrics.mean_absolute_percentage_error(y_test, y_pred))\n",
        "print('max_error(MAX_ERROR):', metrics.max_error(y_test, y_pred))\n",
        "print('explained_variance_score (EXPL):', metrics.explained_variance_score(y_test, y_pred, multioutput='uniform_average'))\n",
        "print('R2_SCORE:', metrics.r2_score(y_test, y_pred))"
      ],
      "execution_count": null,
      "outputs": [
        {
          "output_type": "stream",
          "name": "stdout",
          "text": [
            "Mean Absolute Error (MAE): 602.8786713369749\n",
            "median_absolute_error (MAD): 383.1085734335502\n",
            "Root Mean Squared Error (RMSE): 1001.5712816561073\n",
            "mean_absolute_percentage_error (MAPE): 2.633167854367062e+17\n",
            "max_error(MAX_ERROR): 5215.84638937359\n",
            "explained_variance_score (EXPL): 0.9159460421054655\n",
            "R2_SCORE: 0.9157805760207518\n"
          ]
        }
      ]
    },
    {
      "cell_type": "markdown",
      "metadata": {
        "id": "x-0c55Ab6pCS"
      },
      "source": [
        "**APLICAMOS BAYESIAN RIDGE REGRESSION - FALLECIDOS**"
      ]
    },
    {
      "cell_type": "code",
      "metadata": {
        "id": "1GhzuVfL6pCS",
        "colab": {
          "base_uri": "https://localhost:8080/"
        },
        "outputId": "7989f32f-5d69-44f5-9ce7-237b94332e98"
      },
      "source": [
        "regressor = BayesianRidge()\n",
        "regressor.fit(X_train, y_train)"
      ],
      "execution_count": null,
      "outputs": [
        {
          "output_type": "execute_result",
          "data": {
            "text/plain": [
              "BayesianRidge()"
            ]
          },
          "metadata": {},
          "execution_count": 501
        }
      ]
    },
    {
      "cell_type": "code",
      "metadata": {
        "id": "guu_htQP6pCS",
        "colab": {
          "base_uri": "https://localhost:8080/"
        },
        "outputId": "333462ff-4e44-4b81-f2ca-df5a83421704"
      },
      "source": [
        "y_pred = regressor.predict(X_test)\n",
        "y_pred"
      ],
      "execution_count": null,
      "outputs": [
        {
          "output_type": "execute_result",
          "data": {
            "text/plain": [
              "array([ 554.65595618, 1078.77348761,  644.19475695, ...,  948.66426795,\n",
              "        242.32412866,  812.1729064 ])"
            ]
          },
          "metadata": {},
          "execution_count": 502
        }
      ]
    },
    {
      "cell_type": "code",
      "metadata": {
        "id": "tyUmBsZZ6pCS",
        "colab": {
          "base_uri": "https://localhost:8080/"
        },
        "outputId": "a131466e-f7ee-404e-d0f4-761eb628a24c"
      },
      "source": [
        "from numpy import random\n",
        "import pandas as pd\n",
        "\n",
        "print(\"NumPy Data Array is:\")\n",
        "print(y_pred)\n",
        "\n",
        "print(\"\")\n",
        "\n",
        "data_df = pd.DataFrame(y_pred)\n",
        "print(\"The DataFrame generated from the NumPy array is:\")\n",
        "print(data_df)"
      ],
      "execution_count": null,
      "outputs": [
        {
          "output_type": "stream",
          "name": "stdout",
          "text": [
            "NumPy Data Array is:\n",
            "[ 554.65595618 1078.77348761  644.19475695 ...  948.66426795  242.32412866\n",
            "  812.1729064 ]\n",
            "\n",
            "The DataFrame generated from the NumPy array is:\n",
            "                 0\n",
            "0       554.655956\n",
            "1      1078.773488\n",
            "2       644.194757\n",
            "3       609.040498\n",
            "4     11278.811571\n",
            "...            ...\n",
            "2885    392.559862\n",
            "2886  10951.141981\n",
            "2887    948.664268\n",
            "2888    242.324129\n",
            "2889    812.172906\n",
            "\n",
            "[2890 rows x 1 columns]\n"
          ]
        }
      ]
    },
    {
      "cell_type": "code",
      "metadata": {
        "id": "EiMcpAO46pCT",
        "colab": {
          "base_uri": "https://localhost:8080/",
          "height": 417
        },
        "outputId": "7c26cf56-600d-4b06-8cef-4ff2fd1be03e"
      },
      "source": [
        "df = pd.DataFrame({'Actual': y_test, 'Predicted': y_pred})\n",
        "df"
      ],
      "execution_count": null,
      "outputs": [
        {
          "output_type": "execute_result",
          "data": {
            "text/html": [
              "<div>\n",
              "<style scoped>\n",
              "    .dataframe tbody tr th:only-of-type {\n",
              "        vertical-align: middle;\n",
              "    }\n",
              "\n",
              "    .dataframe tbody tr th {\n",
              "        vertical-align: top;\n",
              "    }\n",
              "\n",
              "    .dataframe thead th {\n",
              "        text-align: right;\n",
              "    }\n",
              "</style>\n",
              "<table border=\"1\" class=\"dataframe\">\n",
              "  <thead>\n",
              "    <tr style=\"text-align: right;\">\n",
              "      <th></th>\n",
              "      <th>Actual</th>\n",
              "      <th>Predicted</th>\n",
              "    </tr>\n",
              "  </thead>\n",
              "  <tbody>\n",
              "    <tr>\n",
              "      <th>4292</th>\n",
              "      <td>369.0</td>\n",
              "      <td>554.655956</td>\n",
              "    </tr>\n",
              "    <tr>\n",
              "      <th>4272</th>\n",
              "      <td>1578.0</td>\n",
              "      <td>1078.773488</td>\n",
              "    </tr>\n",
              "    <tr>\n",
              "      <th>322</th>\n",
              "      <td>0.0</td>\n",
              "      <td>644.194757</td>\n",
              "    </tr>\n",
              "    <tr>\n",
              "      <th>10327</th>\n",
              "      <td>213.0</td>\n",
              "      <td>609.040498</td>\n",
              "    </tr>\n",
              "    <tr>\n",
              "      <th>9400</th>\n",
              "      <td>14545.0</td>\n",
              "      <td>11278.811571</td>\n",
              "    </tr>\n",
              "    <tr>\n",
              "      <th>...</th>\n",
              "      <td>...</td>\n",
              "      <td>...</td>\n",
              "    </tr>\n",
              "    <tr>\n",
              "      <th>897</th>\n",
              "      <td>0.0</td>\n",
              "      <td>392.559862</td>\n",
              "    </tr>\n",
              "    <tr>\n",
              "      <th>5998</th>\n",
              "      <td>11192.0</td>\n",
              "      <td>10951.141981</td>\n",
              "    </tr>\n",
              "    <tr>\n",
              "      <th>3949</th>\n",
              "      <td>1564.0</td>\n",
              "      <td>948.664268</td>\n",
              "    </tr>\n",
              "    <tr>\n",
              "      <th>2235</th>\n",
              "      <td>134.0</td>\n",
              "      <td>242.324129</td>\n",
              "    </tr>\n",
              "    <tr>\n",
              "      <th>292</th>\n",
              "      <td>0.0</td>\n",
              "      <td>812.172906</td>\n",
              "    </tr>\n",
              "  </tbody>\n",
              "</table>\n",
              "<p>2890 rows × 2 columns</p>\n",
              "</div>"
            ],
            "text/plain": [
              "        Actual     Predicted\n",
              "4292     369.0    554.655956\n",
              "4272    1578.0   1078.773488\n",
              "322        0.0    644.194757\n",
              "10327    213.0    609.040498\n",
              "9400   14545.0  11278.811571\n",
              "...        ...           ...\n",
              "897        0.0    392.559862\n",
              "5998   11192.0  10951.141981\n",
              "3949    1564.0    948.664268\n",
              "2235     134.0    242.324129\n",
              "292        0.0    812.172906\n",
              "\n",
              "[2890 rows x 2 columns]"
            ]
          },
          "metadata": {},
          "execution_count": 504
        }
      ]
    },
    {
      "cell_type": "code",
      "metadata": {
        "id": "7VPWi8qT6pCT",
        "colab": {
          "base_uri": "https://localhost:8080/"
        },
        "outputId": "a77f76fd-5634-4a89-942e-7575735dc946"
      },
      "source": [
        "from sklearn import metrics\n",
        "print('Mean Absolute Error (MAE):', metrics.mean_absolute_error(y_test, y_pred))\n",
        "print('median_absolute_error (MAD):', metrics.median_absolute_error(y_test, y_pred))\n",
        "print('Root Mean Squared Error (RMSE):', np.sqrt(metrics.mean_squared_error(y_test, y_pred)))\n",
        "print('mean_absolute_percentage_error (MAPE):', metrics.mean_absolute_percentage_error(y_test, y_pred))\n",
        "print('max_error(MAX_ERROR):', metrics.max_error(y_test, y_pred))\n",
        "print('explained_variance_score (EXPL):', metrics.explained_variance_score(y_test, y_pred, multioutput='uniform_average'))\n",
        "print('R2_SCORE:', metrics.r2_score(y_test, y_pred))"
      ],
      "execution_count": null,
      "outputs": [
        {
          "output_type": "stream",
          "name": "stdout",
          "text": [
            "Mean Absolute Error (MAE): 603.3191971047781\n",
            "median_absolute_error (MAD): 384.312921943987\n",
            "Root Mean Squared Error (RMSE): 1003.2420105132161\n",
            "mean_absolute_percentage_error (MAPE): 2.665966256389218e+17\n",
            "max_error(MAX_ERROR): 5229.4619736255845\n",
            "explained_variance_score (EXPL): 0.915663473189614\n",
            "R2_SCORE: 0.9154993675187562\n"
          ]
        }
      ]
    },
    {
      "cell_type": "markdown",
      "metadata": {
        "id": "MXelL1ze6pCT"
      },
      "source": [
        "**APLICAMOS RANDOM FOREST REGRESSOR - FALLECIDOS**"
      ]
    },
    {
      "cell_type": "code",
      "metadata": {
        "id": "NSNQs-IK6pCT",
        "colab": {
          "base_uri": "https://localhost:8080/"
        },
        "outputId": "a6a33be6-07e4-4c48-e288-2f4145ca281e"
      },
      "source": [
        "regressor = RandomForestRegressor()\n",
        "regressor.fit(X_train, y_train)"
      ],
      "execution_count": null,
      "outputs": [
        {
          "output_type": "execute_result",
          "data": {
            "text/plain": [
              "RandomForestRegressor()"
            ]
          },
          "metadata": {},
          "execution_count": 506
        }
      ]
    },
    {
      "cell_type": "code",
      "metadata": {
        "id": "GEZnD1MA6pCT",
        "colab": {
          "base_uri": "https://localhost:8080/"
        },
        "outputId": "58e72758-c903-4bf2-9a4d-c2e4138619cd"
      },
      "source": [
        "y_pred = regressor.predict(X_test)\n",
        "y_pred"
      ],
      "execution_count": null,
      "outputs": [
        {
          "output_type": "execute_result",
          "data": {
            "text/plain": [
              "array([ 369.  , 1576.74,    0.  , ..., 1564.  ,  133.13,    0.  ])"
            ]
          },
          "metadata": {},
          "execution_count": 507
        }
      ]
    },
    {
      "cell_type": "code",
      "metadata": {
        "id": "uV5l_5E_6pCT",
        "colab": {
          "base_uri": "https://localhost:8080/"
        },
        "outputId": "4755356d-385b-43ea-a5d8-4b8a2e93cfa0"
      },
      "source": [
        "from numpy import random\n",
        "import pandas as pd\n",
        "\n",
        "print(\"NumPy Data Array is:\")\n",
        "print(y_pred)\n",
        "\n",
        "print(\"\")\n",
        "\n",
        "data_df = pd.DataFrame(y_pred)\n",
        "print(\"The DataFrame generated from the NumPy array is:\")\n",
        "print(data_df)"
      ],
      "execution_count": null,
      "outputs": [
        {
          "output_type": "stream",
          "name": "stdout",
          "text": [
            "NumPy Data Array is:\n",
            "[ 369.   1576.74    0.   ... 1564.    133.13    0.  ]\n",
            "\n",
            "The DataFrame generated from the NumPy array is:\n",
            "             0\n",
            "0       369.00\n",
            "1      1576.74\n",
            "2         0.00\n",
            "3       213.00\n",
            "4     14517.71\n",
            "...        ...\n",
            "2885      0.00\n",
            "2886  11183.93\n",
            "2887   1564.00\n",
            "2888    133.13\n",
            "2889      0.00\n",
            "\n",
            "[2890 rows x 1 columns]\n"
          ]
        }
      ]
    },
    {
      "cell_type": "code",
      "metadata": {
        "id": "fxjPdS2X6pCT",
        "colab": {
          "base_uri": "https://localhost:8080/",
          "height": 417
        },
        "outputId": "21d1624f-0ee7-42eb-ce2b-9d4e2c80bb52"
      },
      "source": [
        "df = pd.DataFrame({'Actual': y_test, 'Predicted': y_pred})\n",
        "df"
      ],
      "execution_count": null,
      "outputs": [
        {
          "output_type": "execute_result",
          "data": {
            "text/html": [
              "<div>\n",
              "<style scoped>\n",
              "    .dataframe tbody tr th:only-of-type {\n",
              "        vertical-align: middle;\n",
              "    }\n",
              "\n",
              "    .dataframe tbody tr th {\n",
              "        vertical-align: top;\n",
              "    }\n",
              "\n",
              "    .dataframe thead th {\n",
              "        text-align: right;\n",
              "    }\n",
              "</style>\n",
              "<table border=\"1\" class=\"dataframe\">\n",
              "  <thead>\n",
              "    <tr style=\"text-align: right;\">\n",
              "      <th></th>\n",
              "      <th>Actual</th>\n",
              "      <th>Predicted</th>\n",
              "    </tr>\n",
              "  </thead>\n",
              "  <tbody>\n",
              "    <tr>\n",
              "      <th>4292</th>\n",
              "      <td>369.0</td>\n",
              "      <td>369.00</td>\n",
              "    </tr>\n",
              "    <tr>\n",
              "      <th>4272</th>\n",
              "      <td>1578.0</td>\n",
              "      <td>1576.74</td>\n",
              "    </tr>\n",
              "    <tr>\n",
              "      <th>322</th>\n",
              "      <td>0.0</td>\n",
              "      <td>0.00</td>\n",
              "    </tr>\n",
              "    <tr>\n",
              "      <th>10327</th>\n",
              "      <td>213.0</td>\n",
              "      <td>213.00</td>\n",
              "    </tr>\n",
              "    <tr>\n",
              "      <th>9400</th>\n",
              "      <td>14545.0</td>\n",
              "      <td>14517.71</td>\n",
              "    </tr>\n",
              "    <tr>\n",
              "      <th>...</th>\n",
              "      <td>...</td>\n",
              "      <td>...</td>\n",
              "    </tr>\n",
              "    <tr>\n",
              "      <th>897</th>\n",
              "      <td>0.0</td>\n",
              "      <td>0.00</td>\n",
              "    </tr>\n",
              "    <tr>\n",
              "      <th>5998</th>\n",
              "      <td>11192.0</td>\n",
              "      <td>11183.93</td>\n",
              "    </tr>\n",
              "    <tr>\n",
              "      <th>3949</th>\n",
              "      <td>1564.0</td>\n",
              "      <td>1564.00</td>\n",
              "    </tr>\n",
              "    <tr>\n",
              "      <th>2235</th>\n",
              "      <td>134.0</td>\n",
              "      <td>133.13</td>\n",
              "    </tr>\n",
              "    <tr>\n",
              "      <th>292</th>\n",
              "      <td>0.0</td>\n",
              "      <td>0.00</td>\n",
              "    </tr>\n",
              "  </tbody>\n",
              "</table>\n",
              "<p>2890 rows × 2 columns</p>\n",
              "</div>"
            ],
            "text/plain": [
              "        Actual  Predicted\n",
              "4292     369.0     369.00\n",
              "4272    1578.0    1576.74\n",
              "322        0.0       0.00\n",
              "10327    213.0     213.00\n",
              "9400   14545.0   14517.71\n",
              "...        ...        ...\n",
              "897        0.0       0.00\n",
              "5998   11192.0   11183.93\n",
              "3949    1564.0    1564.00\n",
              "2235     134.0     133.13\n",
              "292        0.0       0.00\n",
              "\n",
              "[2890 rows x 2 columns]"
            ]
          },
          "metadata": {},
          "execution_count": 509
        }
      ]
    },
    {
      "cell_type": "code",
      "metadata": {
        "id": "ktPLgAfl6pCT",
        "colab": {
          "base_uri": "https://localhost:8080/"
        },
        "outputId": "74254183-a3f4-4a66-a4a9-e09609c31771"
      },
      "source": [
        "from sklearn import metrics\n",
        "print('Mean Absolute Error (MAE):', metrics.mean_absolute_error(y_test, y_pred))\n",
        "print('median_absolute_error (MAD):', metrics.median_absolute_error(y_test, y_pred))\n",
        "print('Root Mean Squared Error (RMSE):', np.sqrt(metrics.mean_squared_error(y_test, y_pred)))\n",
        "print('mean_absolute_percentage_error (MAPE):', metrics.mean_absolute_percentage_error(y_test, y_pred))\n",
        "print('max_error(MAX_ERROR):', metrics.max_error(y_test, y_pred))\n",
        "print('explained_variance_score (EXPL):', metrics.explained_variance_score(y_test, y_pred, multioutput='uniform_average'))\n",
        "print('R2_SCORE:', metrics.r2_score(y_test, y_pred))"
      ],
      "execution_count": null,
      "outputs": [
        {
          "output_type": "stream",
          "name": "stdout",
          "text": [
            "Mean Absolute Error (MAE): 19.38335294117647\n",
            "median_absolute_error (MAD): 1.4400000000000261\n",
            "Root Mean Squared Error (RMSE): 116.60125429937214\n",
            "mean_absolute_percentage_error (MAPE): 24154254056831.418\n",
            "max_error(MAX_ERROR): 3300.67\n",
            "explained_variance_score (EXPL): 0.9988589310701672\n",
            "R2_SCORE: 0.998858555014867\n"
          ]
        }
      ]
    },
    {
      "cell_type": "markdown",
      "metadata": {
        "id": "eAnpl2d-6pCT"
      },
      "source": [
        "**APLICAMOS GRADIENT BOOSTING - FALLECIDOS**"
      ]
    },
    {
      "cell_type": "code",
      "metadata": {
        "id": "o1ozCa_c6pCT",
        "colab": {
          "base_uri": "https://localhost:8080/"
        },
        "outputId": "9d4c13de-8cf6-496c-dd5f-becf85f9df75"
      },
      "source": [
        "regressor = GradientBoostingRegressor()\n",
        "regressor.fit(X_train, y_train)"
      ],
      "execution_count": null,
      "outputs": [
        {
          "output_type": "execute_result",
          "data": {
            "text/plain": [
              "GradientBoostingRegressor()"
            ]
          },
          "metadata": {},
          "execution_count": 511
        }
      ]
    },
    {
      "cell_type": "code",
      "metadata": {
        "id": "rcgjNiyW6pCT",
        "colab": {
          "base_uri": "https://localhost:8080/"
        },
        "outputId": "597f7041-c840-47ca-84e1-55b5df7fb734"
      },
      "source": [
        "y_pred = regressor.predict(X_test)\n",
        "y_pred"
      ],
      "execution_count": null,
      "outputs": [
        {
          "output_type": "execute_result",
          "data": {
            "text/plain": [
              "array([ 290.23545331, 1566.99581925,  -29.64500795, ..., 1542.59957639,\n",
              "        115.31191959,   -4.89478429])"
            ]
          },
          "metadata": {},
          "execution_count": 512
        }
      ]
    },
    {
      "cell_type": "code",
      "metadata": {
        "id": "ubX9Kz5z6pCT",
        "colab": {
          "base_uri": "https://localhost:8080/"
        },
        "outputId": "ef81dca5-4aa8-41c6-f858-7c2533d7433d"
      },
      "source": [
        "from numpy import random\n",
        "import pandas as pd\n",
        "\n",
        "print(\"NumPy Data Array is:\")\n",
        "print(y_pred)\n",
        "\n",
        "print(\"\")\n",
        "\n",
        "data_df = pd.DataFrame(y_pred)\n",
        "print(\"The DataFrame generated from the NumPy array is:\")\n",
        "print(data_df)"
      ],
      "execution_count": null,
      "outputs": [
        {
          "output_type": "stream",
          "name": "stdout",
          "text": [
            "NumPy Data Array is:\n",
            "[ 290.23545331 1566.99581925  -29.64500795 ... 1542.59957639  115.31191959\n",
            "   -4.89478429]\n",
            "\n",
            "The DataFrame generated from the NumPy array is:\n",
            "                 0\n",
            "0       290.235453\n",
            "1      1566.995819\n",
            "2       -29.645008\n",
            "3       234.393280\n",
            "4     14804.833691\n",
            "...            ...\n",
            "2885    -38.007375\n",
            "2886  11141.379500\n",
            "2887   1542.599576\n",
            "2888    115.311920\n",
            "2889     -4.894784\n",
            "\n",
            "[2890 rows x 1 columns]\n"
          ]
        }
      ]
    },
    {
      "cell_type": "code",
      "metadata": {
        "id": "KJLhdGQA6pCU",
        "colab": {
          "base_uri": "https://localhost:8080/",
          "height": 417
        },
        "outputId": "0536ad61-1f85-4542-a9df-31180feb60dc"
      },
      "source": [
        "df = pd.DataFrame({'Actual': y_test, 'Predicted': y_pred})\n",
        "df"
      ],
      "execution_count": null,
      "outputs": [
        {
          "output_type": "execute_result",
          "data": {
            "text/html": [
              "<div>\n",
              "<style scoped>\n",
              "    .dataframe tbody tr th:only-of-type {\n",
              "        vertical-align: middle;\n",
              "    }\n",
              "\n",
              "    .dataframe tbody tr th {\n",
              "        vertical-align: top;\n",
              "    }\n",
              "\n",
              "    .dataframe thead th {\n",
              "        text-align: right;\n",
              "    }\n",
              "</style>\n",
              "<table border=\"1\" class=\"dataframe\">\n",
              "  <thead>\n",
              "    <tr style=\"text-align: right;\">\n",
              "      <th></th>\n",
              "      <th>Actual</th>\n",
              "      <th>Predicted</th>\n",
              "    </tr>\n",
              "  </thead>\n",
              "  <tbody>\n",
              "    <tr>\n",
              "      <th>4292</th>\n",
              "      <td>369.0</td>\n",
              "      <td>290.235453</td>\n",
              "    </tr>\n",
              "    <tr>\n",
              "      <th>4272</th>\n",
              "      <td>1578.0</td>\n",
              "      <td>1566.995819</td>\n",
              "    </tr>\n",
              "    <tr>\n",
              "      <th>322</th>\n",
              "      <td>0.0</td>\n",
              "      <td>-29.645008</td>\n",
              "    </tr>\n",
              "    <tr>\n",
              "      <th>10327</th>\n",
              "      <td>213.0</td>\n",
              "      <td>234.393280</td>\n",
              "    </tr>\n",
              "    <tr>\n",
              "      <th>9400</th>\n",
              "      <td>14545.0</td>\n",
              "      <td>14804.833691</td>\n",
              "    </tr>\n",
              "    <tr>\n",
              "      <th>...</th>\n",
              "      <td>...</td>\n",
              "      <td>...</td>\n",
              "    </tr>\n",
              "    <tr>\n",
              "      <th>897</th>\n",
              "      <td>0.0</td>\n",
              "      <td>-38.007375</td>\n",
              "    </tr>\n",
              "    <tr>\n",
              "      <th>5998</th>\n",
              "      <td>11192.0</td>\n",
              "      <td>11141.379500</td>\n",
              "    </tr>\n",
              "    <tr>\n",
              "      <th>3949</th>\n",
              "      <td>1564.0</td>\n",
              "      <td>1542.599576</td>\n",
              "    </tr>\n",
              "    <tr>\n",
              "      <th>2235</th>\n",
              "      <td>134.0</td>\n",
              "      <td>115.311920</td>\n",
              "    </tr>\n",
              "    <tr>\n",
              "      <th>292</th>\n",
              "      <td>0.0</td>\n",
              "      <td>-4.894784</td>\n",
              "    </tr>\n",
              "  </tbody>\n",
              "</table>\n",
              "<p>2890 rows × 2 columns</p>\n",
              "</div>"
            ],
            "text/plain": [
              "        Actual     Predicted\n",
              "4292     369.0    290.235453\n",
              "4272    1578.0   1566.995819\n",
              "322        0.0    -29.645008\n",
              "10327    213.0    234.393280\n",
              "9400   14545.0  14804.833691\n",
              "...        ...           ...\n",
              "897        0.0    -38.007375\n",
              "5998   11192.0  11141.379500\n",
              "3949    1564.0   1542.599576\n",
              "2235     134.0    115.311920\n",
              "292        0.0     -4.894784\n",
              "\n",
              "[2890 rows x 2 columns]"
            ]
          },
          "metadata": {},
          "execution_count": 514
        }
      ]
    },
    {
      "cell_type": "code",
      "metadata": {
        "id": "Ia3X7wjq6pCU",
        "colab": {
          "base_uri": "https://localhost:8080/"
        },
        "outputId": "2a63ca71-234b-45a7-aaa1-2467056803a5"
      },
      "source": [
        "from sklearn import metrics\n",
        "print('Mean Absolute Error (MAE):', metrics.mean_absolute_error(y_test, y_pred))\n",
        "print('median_absolute_error (MAD):', metrics.median_absolute_error(y_test, y_pred))\n",
        "print('Root Mean Squared Error (RMSE):', np.sqrt(metrics.mean_squared_error(y_test, y_pred)))\n",
        "print('mean_absolute_percentage_error (MAPE):', metrics.mean_absolute_percentage_error(y_test, y_pred))\n",
        "print('max_error(MAX_ERROR):', metrics.max_error(y_test, y_pred))\n",
        "print('explained_variance_score (EXPL):', metrics.explained_variance_score(y_test, y_pred, multioutput='uniform_average'))\n",
        "print('R2_SCORE:', metrics.r2_score(y_test, y_pred))"
      ],
      "execution_count": null,
      "outputs": [
        {
          "output_type": "stream",
          "name": "stdout",
          "text": [
            "Mean Absolute Error (MAE): 113.0553752522048\n",
            "median_absolute_error (MAD): 70.02316210673166\n",
            "Root Mean Squared Error (RMSE): 183.07015692702822\n",
            "mean_absolute_percentage_error (MAPE): 2.008048945582922e+16\n",
            "max_error(MAX_ERROR): 1404.7269388042696\n",
            "explained_variance_score (EXPL): 0.99718908136351\n",
            "R2_SCORE: 0.9971862620535733\n"
          ]
        }
      ]
    },
    {
      "cell_type": "markdown",
      "metadata": {
        "id": "vAGbEOtk6pCU"
      },
      "source": [
        "**APLICAMOS ADA BOOST - FALLECIDOS**"
      ]
    },
    {
      "cell_type": "code",
      "metadata": {
        "id": "c08C00Fb6pCU",
        "colab": {
          "base_uri": "https://localhost:8080/"
        },
        "outputId": "6ea958af-400d-4f24-a228-6558912e7076"
      },
      "source": [
        "regressor = AdaBoostRegressor()\n",
        "regressor.fit(X_train, y_train)"
      ],
      "execution_count": null,
      "outputs": [
        {
          "output_type": "execute_result",
          "data": {
            "text/plain": [
              "AdaBoostRegressor()"
            ]
          },
          "metadata": {},
          "execution_count": 516
        }
      ]
    },
    {
      "cell_type": "code",
      "metadata": {
        "id": "LVYxC-Ag6pCU",
        "colab": {
          "base_uri": "https://localhost:8080/"
        },
        "outputId": "6614583b-a6c2-441f-d084-baf12b82b6e5"
      },
      "source": [
        "y_pred = regressor.predict(X_test)\n",
        "y_pred"
      ],
      "execution_count": null,
      "outputs": [
        {
          "output_type": "execute_result",
          "data": {
            "text/plain": [
              "array([ 882.4092827 , 1377.93055556,  882.4092827 , ..., 1318.32631579,\n",
              "        882.4092827 ,  882.4092827 ])"
            ]
          },
          "metadata": {},
          "execution_count": 517
        }
      ]
    },
    {
      "cell_type": "code",
      "metadata": {
        "id": "0qWl34mC6pCU",
        "colab": {
          "base_uri": "https://localhost:8080/"
        },
        "outputId": "d26a3ade-528b-4ce1-a4a5-8bf3a1c40adc"
      },
      "source": [
        "from numpy import random\n",
        "import pandas as pd\n",
        "\n",
        "print(\"NumPy Data Array is:\")\n",
        "print(y_pred)\n",
        "\n",
        "print(\"\")\n",
        "\n",
        "data_df = pd.DataFrame(y_pred)\n",
        "print(\"The DataFrame generated from the NumPy array is:\")\n",
        "print(data_df)"
      ],
      "execution_count": null,
      "outputs": [
        {
          "output_type": "stream",
          "name": "stdout",
          "text": [
            "NumPy Data Array is:\n",
            "[ 882.4092827  1377.93055556  882.4092827  ... 1318.32631579  882.4092827\n",
            "  882.4092827 ]\n",
            "\n",
            "The DataFrame generated from the NumPy array is:\n",
            "                 0\n",
            "0       882.409283\n",
            "1      1377.930556\n",
            "2       882.409283\n",
            "3       882.409283\n",
            "4     14172.436866\n",
            "...            ...\n",
            "2885    882.409283\n",
            "2886  10337.119300\n",
            "2887   1318.326316\n",
            "2888    882.409283\n",
            "2889    882.409283\n",
            "\n",
            "[2890 rows x 1 columns]\n"
          ]
        }
      ]
    },
    {
      "cell_type": "code",
      "metadata": {
        "id": "mFXitN1r6pCU",
        "colab": {
          "base_uri": "https://localhost:8080/",
          "height": 417
        },
        "outputId": "28aa87d1-2159-424b-ab54-ac5e6b847073"
      },
      "source": [
        "df = pd.DataFrame({'Actual': y_test, 'Predicted': y_pred})\n",
        "df"
      ],
      "execution_count": null,
      "outputs": [
        {
          "output_type": "execute_result",
          "data": {
            "text/html": [
              "<div>\n",
              "<style scoped>\n",
              "    .dataframe tbody tr th:only-of-type {\n",
              "        vertical-align: middle;\n",
              "    }\n",
              "\n",
              "    .dataframe tbody tr th {\n",
              "        vertical-align: top;\n",
              "    }\n",
              "\n",
              "    .dataframe thead th {\n",
              "        text-align: right;\n",
              "    }\n",
              "</style>\n",
              "<table border=\"1\" class=\"dataframe\">\n",
              "  <thead>\n",
              "    <tr style=\"text-align: right;\">\n",
              "      <th></th>\n",
              "      <th>Actual</th>\n",
              "      <th>Predicted</th>\n",
              "    </tr>\n",
              "  </thead>\n",
              "  <tbody>\n",
              "    <tr>\n",
              "      <th>4292</th>\n",
              "      <td>369.0</td>\n",
              "      <td>882.409283</td>\n",
              "    </tr>\n",
              "    <tr>\n",
              "      <th>4272</th>\n",
              "      <td>1578.0</td>\n",
              "      <td>1377.930556</td>\n",
              "    </tr>\n",
              "    <tr>\n",
              "      <th>322</th>\n",
              "      <td>0.0</td>\n",
              "      <td>882.409283</td>\n",
              "    </tr>\n",
              "    <tr>\n",
              "      <th>10327</th>\n",
              "      <td>213.0</td>\n",
              "      <td>882.409283</td>\n",
              "    </tr>\n",
              "    <tr>\n",
              "      <th>9400</th>\n",
              "      <td>14545.0</td>\n",
              "      <td>14172.436866</td>\n",
              "    </tr>\n",
              "    <tr>\n",
              "      <th>...</th>\n",
              "      <td>...</td>\n",
              "      <td>...</td>\n",
              "    </tr>\n",
              "    <tr>\n",
              "      <th>897</th>\n",
              "      <td>0.0</td>\n",
              "      <td>882.409283</td>\n",
              "    </tr>\n",
              "    <tr>\n",
              "      <th>5998</th>\n",
              "      <td>11192.0</td>\n",
              "      <td>10337.119300</td>\n",
              "    </tr>\n",
              "    <tr>\n",
              "      <th>3949</th>\n",
              "      <td>1564.0</td>\n",
              "      <td>1318.326316</td>\n",
              "    </tr>\n",
              "    <tr>\n",
              "      <th>2235</th>\n",
              "      <td>134.0</td>\n",
              "      <td>882.409283</td>\n",
              "    </tr>\n",
              "    <tr>\n",
              "      <th>292</th>\n",
              "      <td>0.0</td>\n",
              "      <td>882.409283</td>\n",
              "    </tr>\n",
              "  </tbody>\n",
              "</table>\n",
              "<p>2890 rows × 2 columns</p>\n",
              "</div>"
            ],
            "text/plain": [
              "        Actual     Predicted\n",
              "4292     369.0    882.409283\n",
              "4272    1578.0   1377.930556\n",
              "322        0.0    882.409283\n",
              "10327    213.0    882.409283\n",
              "9400   14545.0  14172.436866\n",
              "...        ...           ...\n",
              "897        0.0    882.409283\n",
              "5998   11192.0  10337.119300\n",
              "3949    1564.0   1318.326316\n",
              "2235     134.0    882.409283\n",
              "292        0.0    882.409283\n",
              "\n",
              "[2890 rows x 2 columns]"
            ]
          },
          "metadata": {},
          "execution_count": 519
        }
      ]
    },
    {
      "cell_type": "code",
      "metadata": {
        "id": "q-ZDb3Nk6pCU",
        "colab": {
          "base_uri": "https://localhost:8080/"
        },
        "outputId": "d739e856-ffaa-4f02-c0c8-cc74bd803744"
      },
      "source": [
        "from sklearn import metrics\n",
        "print('Mean Absolute Error (MAE):', metrics.mean_absolute_error(y_test, y_pred))\n",
        "print('median_absolute_error (MAD):', metrics.median_absolute_error(y_test, y_pred))\n",
        "print('Root Mean Squared Error (RMSE):', np.sqrt(metrics.mean_squared_error(y_test, y_pred)))\n",
        "print('mean_absolute_percentage_error (MAPE):', metrics.mean_absolute_percentage_error(y_test, y_pred))\n",
        "print('max_error(MAX_ERROR):', metrics.max_error(y_test, y_pred))\n",
        "print('explained_variance_score (EXPL):', metrics.explained_variance_score(y_test, y_pred, multioutput='uniform_average'))\n",
        "print('R2_SCORE:', metrics.r2_score(y_test, y_pred))"
      ],
      "execution_count": null,
      "outputs": [
        {
          "output_type": "stream",
          "name": "stdout",
          "text": [
            "Mean Absolute Error (MAE): 581.5492112141717\n",
            "median_absolute_error (MAD): 597.4468125401901\n",
            "Root Mean Squared Error (RMSE): 669.5879034119572\n",
            "mean_absolute_percentage_error (MAPE): 4.730319142438454e+17\n",
            "max_error(MAX_ERROR): 2060.7837837837833\n",
            "explained_variance_score (EXPL): 0.9674950916418468\n",
            "R2_SCORE: 0.962358775896503\n"
          ]
        }
      ]
    },
    {
      "cell_type": "markdown",
      "metadata": {
        "id": "oc1vNJZL6pCU"
      },
      "source": [
        "**APLICAMOS SUPPORT VECTOR MACHINE - FALLECIDOS**"
      ]
    },
    {
      "cell_type": "code",
      "metadata": {
        "id": "ZDfTWtWv6pCU",
        "colab": {
          "base_uri": "https://localhost:8080/"
        },
        "outputId": "c6a1a524-3c11-49d2-b83c-82247fdaa321"
      },
      "source": [
        "regressor = svm.SVR()\n",
        "regressor.fit(X_train, y_train)"
      ],
      "execution_count": null,
      "outputs": [
        {
          "output_type": "execute_result",
          "data": {
            "text/plain": [
              "SVR()"
            ]
          },
          "metadata": {},
          "execution_count": 521
        }
      ]
    },
    {
      "cell_type": "code",
      "metadata": {
        "id": "rsHsoX9T6pCU",
        "colab": {
          "base_uri": "https://localhost:8080/"
        },
        "outputId": "4a88d848-0fc7-4468-9843-7018ee7a95f9"
      },
      "source": [
        "y_pred = regressor.predict(X_test)\n",
        "y_pred"
      ],
      "execution_count": null,
      "outputs": [
        {
          "output_type": "execute_result",
          "data": {
            "text/plain": [
              "array([808.96845992, 809.03760503, 808.95103697, ..., 809.01820677,\n",
              "       808.95737829, 808.95102769])"
            ]
          },
          "metadata": {},
          "execution_count": 522
        }
      ]
    },
    {
      "cell_type": "code",
      "metadata": {
        "id": "emfCZsFE6pCU",
        "colab": {
          "base_uri": "https://localhost:8080/"
        },
        "outputId": "64e54551-3c46-4009-d0f7-d77ec03be501"
      },
      "source": [
        "from numpy import random\n",
        "import pandas as pd\n",
        "\n",
        "print(\"NumPy Data Array is:\")\n",
        "print(y_pred)\n",
        "\n",
        "print(\"\")\n",
        "\n",
        "data_df = pd.DataFrame(y_pred)\n",
        "print(\"The DataFrame generated from the NumPy array is:\")\n",
        "print(data_df)"
      ],
      "execution_count": null,
      "outputs": [
        {
          "output_type": "stream",
          "name": "stdout",
          "text": [
            "NumPy Data Array is:\n",
            "[808.96845992 809.03760503 808.95103697 ... 809.01820677 808.95737829\n",
            " 808.95102769]\n",
            "\n",
            "The DataFrame generated from the NumPy array is:\n",
            "               0\n",
            "0     808.968460\n",
            "1     809.037605\n",
            "2     808.951037\n",
            "3     809.011416\n",
            "4     811.309922\n",
            "...          ...\n",
            "2885  808.951035\n",
            "2886  810.263185\n",
            "2887  809.018207\n",
            "2888  808.957378\n",
            "2889  808.951028\n",
            "\n",
            "[2890 rows x 1 columns]\n"
          ]
        }
      ]
    },
    {
      "cell_type": "code",
      "metadata": {
        "id": "gjgI9HJW6pCU",
        "colab": {
          "base_uri": "https://localhost:8080/",
          "height": 417
        },
        "outputId": "2e7312c0-588a-4bf3-feae-3af5fc80ae62"
      },
      "source": [
        "df = pd.DataFrame({'Actual': y_test, 'Predicted': y_pred})\n",
        "df"
      ],
      "execution_count": null,
      "outputs": [
        {
          "output_type": "execute_result",
          "data": {
            "text/html": [
              "<div>\n",
              "<style scoped>\n",
              "    .dataframe tbody tr th:only-of-type {\n",
              "        vertical-align: middle;\n",
              "    }\n",
              "\n",
              "    .dataframe tbody tr th {\n",
              "        vertical-align: top;\n",
              "    }\n",
              "\n",
              "    .dataframe thead th {\n",
              "        text-align: right;\n",
              "    }\n",
              "</style>\n",
              "<table border=\"1\" class=\"dataframe\">\n",
              "  <thead>\n",
              "    <tr style=\"text-align: right;\">\n",
              "      <th></th>\n",
              "      <th>Actual</th>\n",
              "      <th>Predicted</th>\n",
              "    </tr>\n",
              "  </thead>\n",
              "  <tbody>\n",
              "    <tr>\n",
              "      <th>4292</th>\n",
              "      <td>369.0</td>\n",
              "      <td>808.968460</td>\n",
              "    </tr>\n",
              "    <tr>\n",
              "      <th>4272</th>\n",
              "      <td>1578.0</td>\n",
              "      <td>809.037605</td>\n",
              "    </tr>\n",
              "    <tr>\n",
              "      <th>322</th>\n",
              "      <td>0.0</td>\n",
              "      <td>808.951037</td>\n",
              "    </tr>\n",
              "    <tr>\n",
              "      <th>10327</th>\n",
              "      <td>213.0</td>\n",
              "      <td>809.011416</td>\n",
              "    </tr>\n",
              "    <tr>\n",
              "      <th>9400</th>\n",
              "      <td>14545.0</td>\n",
              "      <td>811.309922</td>\n",
              "    </tr>\n",
              "    <tr>\n",
              "      <th>...</th>\n",
              "      <td>...</td>\n",
              "      <td>...</td>\n",
              "    </tr>\n",
              "    <tr>\n",
              "      <th>897</th>\n",
              "      <td>0.0</td>\n",
              "      <td>808.951035</td>\n",
              "    </tr>\n",
              "    <tr>\n",
              "      <th>5998</th>\n",
              "      <td>11192.0</td>\n",
              "      <td>810.263185</td>\n",
              "    </tr>\n",
              "    <tr>\n",
              "      <th>3949</th>\n",
              "      <td>1564.0</td>\n",
              "      <td>809.018207</td>\n",
              "    </tr>\n",
              "    <tr>\n",
              "      <th>2235</th>\n",
              "      <td>134.0</td>\n",
              "      <td>808.957378</td>\n",
              "    </tr>\n",
              "    <tr>\n",
              "      <th>292</th>\n",
              "      <td>0.0</td>\n",
              "      <td>808.951028</td>\n",
              "    </tr>\n",
              "  </tbody>\n",
              "</table>\n",
              "<p>2890 rows × 2 columns</p>\n",
              "</div>"
            ],
            "text/plain": [
              "        Actual   Predicted\n",
              "4292     369.0  808.968460\n",
              "4272    1578.0  809.037605\n",
              "322        0.0  808.951037\n",
              "10327    213.0  809.011416\n",
              "9400   14545.0  811.309922\n",
              "...        ...         ...\n",
              "897        0.0  808.951035\n",
              "5998   11192.0  810.263185\n",
              "3949    1564.0  809.018207\n",
              "2235     134.0  808.957378\n",
              "292        0.0  808.951028\n",
              "\n",
              "[2890 rows x 2 columns]"
            ]
          },
          "metadata": {},
          "execution_count": 524
        }
      ]
    },
    {
      "cell_type": "code",
      "metadata": {
        "id": "UmiozcCz6pCU",
        "colab": {
          "base_uri": "https://localhost:8080/"
        },
        "outputId": "6f8c1aad-4d85-465b-c535-d986533bba72"
      },
      "source": [
        "from sklearn import metrics\n",
        "print('Mean Absolute Error (MAE):', metrics.mean_absolute_error(y_test, y_pred))\n",
        "print('median_absolute_error (MAD):', metrics.median_absolute_error(y_test, y_pred))\n",
        "print('Root Mean Squared Error (RMSE):', np.sqrt(metrics.mean_squared_error(y_test, y_pred)))\n",
        "print('mean_absolute_percentage_error (MAPE):', metrics.mean_absolute_percentage_error(y_test, y_pred))\n",
        "print('max_error(MAX_ERROR):', metrics.max_error(y_test, y_pred))\n",
        "print('explained_variance_score (EXPL):', metrics.explained_variance_score(y_test, y_pred, multioutput='uniform_average'))\n",
        "print('R2_SCORE:', metrics.r2_score(y_test, y_pred))"
      ],
      "execution_count": null,
      "outputs": [
        {
          "output_type": "stream",
          "name": "stdout",
          "text": [
            "Mean Absolute Error (MAE): 2097.8986726338094\n",
            "median_absolute_error (MAD): 801.9523198154858\n",
            "Root Mean Squared Error (RMSE): 3780.9225483579967\n",
            "mean_absolute_percentage_error (MAPE): 4.336532653549514e+17\n",
            "max_error(MAX_ERROR): 15102.623110775125\n",
            "explained_variance_score (EXPL): 0.0003124279145474418\n",
            "R2_SCORE: -0.2001736897922104\n"
          ]
        }
      ]
    },
    {
      "cell_type": "markdown",
      "metadata": {
        "id": "mNNAB-246pCV"
      },
      "source": [
        "**APLICAMOS MULTILAYER PERCEPTRON REGRESSOR - FALLECIDOS**"
      ]
    },
    {
      "cell_type": "code",
      "metadata": {
        "id": "ctv2O9ep6pCV",
        "colab": {
          "base_uri": "https://localhost:8080/"
        },
        "outputId": "4e0b8872-2bcb-402e-8ae1-c798fb13c704"
      },
      "source": [
        "regressor = MLPRegressor()\n",
        "regressor.fit(X_train, y_train)"
      ],
      "execution_count": null,
      "outputs": [
        {
          "output_type": "execute_result",
          "data": {
            "text/plain": [
              "MLPRegressor()"
            ]
          },
          "metadata": {},
          "execution_count": 526
        }
      ]
    },
    {
      "cell_type": "code",
      "metadata": {
        "id": "iGSBeyU-6pCV",
        "colab": {
          "base_uri": "https://localhost:8080/"
        },
        "outputId": "525209ba-5547-483a-a7f3-25ace153fdcd"
      },
      "source": [
        "y_pred = regressor.predict(X_test)\n",
        "y_pred"
      ],
      "execution_count": null,
      "outputs": [
        {
          "output_type": "execute_result",
          "data": {
            "text/plain": [
              "array([ 510.93749314, 1171.315558  ,  359.10004232, ..., 1097.51805438,\n",
              "        446.86800017,  356.71357531])"
            ]
          },
          "metadata": {},
          "execution_count": 527
        }
      ]
    },
    {
      "cell_type": "code",
      "metadata": {
        "id": "2gsXVYLH6pCV",
        "colab": {
          "base_uri": "https://localhost:8080/"
        },
        "outputId": "9d08de9e-331e-4dd5-d4db-1857f34cabc1"
      },
      "source": [
        "from numpy import random\n",
        "import pandas as pd\n",
        "\n",
        "print(\"NumPy Data Array is:\")\n",
        "print(y_pred)\n",
        "\n",
        "print(\"\")\n",
        "\n",
        "data_df = pd.DataFrame(y_pred)\n",
        "print(\"The DataFrame generated from the NumPy array is:\")\n",
        "print(data_df)"
      ],
      "execution_count": null,
      "outputs": [
        {
          "output_type": "stream",
          "name": "stdout",
          "text": [
            "NumPy Data Array is:\n",
            "[ 510.93749314 1171.315558    359.10004232 ... 1097.51805438  446.86800017\n",
            "  356.71357531]\n",
            "\n",
            "The DataFrame generated from the NumPy array is:\n",
            "                 0\n",
            "0       510.937493\n",
            "1      1171.315558\n",
            "2       359.100042\n",
            "3       629.039009\n",
            "4     10638.823584\n",
            "...            ...\n",
            "2885    356.403045\n",
            "2886  10884.639620\n",
            "2887   1097.518054\n",
            "2888    446.868000\n",
            "2889    356.713575\n",
            "\n",
            "[2890 rows x 1 columns]\n"
          ]
        }
      ]
    },
    {
      "cell_type": "code",
      "metadata": {
        "id": "x1gA1WsB6pCV"
      },
      "source": [
        ""
      ],
      "execution_count": null,
      "outputs": []
    },
    {
      "cell_type": "code",
      "metadata": {
        "id": "xMJQdgOT6pCV",
        "colab": {
          "base_uri": "https://localhost:8080/",
          "height": 417
        },
        "outputId": "99ff6ffb-5bff-47c8-b09c-89eb497d4106"
      },
      "source": [
        "df = pd.DataFrame({'Actual': y_test, 'Predicted': y_pred})\n",
        "df"
      ],
      "execution_count": null,
      "outputs": [
        {
          "output_type": "execute_result",
          "data": {
            "text/html": [
              "<div>\n",
              "<style scoped>\n",
              "    .dataframe tbody tr th:only-of-type {\n",
              "        vertical-align: middle;\n",
              "    }\n",
              "\n",
              "    .dataframe tbody tr th {\n",
              "        vertical-align: top;\n",
              "    }\n",
              "\n",
              "    .dataframe thead th {\n",
              "        text-align: right;\n",
              "    }\n",
              "</style>\n",
              "<table border=\"1\" class=\"dataframe\">\n",
              "  <thead>\n",
              "    <tr style=\"text-align: right;\">\n",
              "      <th></th>\n",
              "      <th>Actual</th>\n",
              "      <th>Predicted</th>\n",
              "    </tr>\n",
              "  </thead>\n",
              "  <tbody>\n",
              "    <tr>\n",
              "      <th>4292</th>\n",
              "      <td>369.0</td>\n",
              "      <td>510.937493</td>\n",
              "    </tr>\n",
              "    <tr>\n",
              "      <th>4272</th>\n",
              "      <td>1578.0</td>\n",
              "      <td>1171.315558</td>\n",
              "    </tr>\n",
              "    <tr>\n",
              "      <th>322</th>\n",
              "      <td>0.0</td>\n",
              "      <td>359.100042</td>\n",
              "    </tr>\n",
              "    <tr>\n",
              "      <th>10327</th>\n",
              "      <td>213.0</td>\n",
              "      <td>629.039009</td>\n",
              "    </tr>\n",
              "    <tr>\n",
              "      <th>9400</th>\n",
              "      <td>14545.0</td>\n",
              "      <td>10638.823584</td>\n",
              "    </tr>\n",
              "    <tr>\n",
              "      <th>...</th>\n",
              "      <td>...</td>\n",
              "      <td>...</td>\n",
              "    </tr>\n",
              "    <tr>\n",
              "      <th>897</th>\n",
              "      <td>0.0</td>\n",
              "      <td>356.403045</td>\n",
              "    </tr>\n",
              "    <tr>\n",
              "      <th>5998</th>\n",
              "      <td>11192.0</td>\n",
              "      <td>10884.639620</td>\n",
              "    </tr>\n",
              "    <tr>\n",
              "      <th>3949</th>\n",
              "      <td>1564.0</td>\n",
              "      <td>1097.518054</td>\n",
              "    </tr>\n",
              "    <tr>\n",
              "      <th>2235</th>\n",
              "      <td>134.0</td>\n",
              "      <td>446.868000</td>\n",
              "    </tr>\n",
              "    <tr>\n",
              "      <th>292</th>\n",
              "      <td>0.0</td>\n",
              "      <td>356.713575</td>\n",
              "    </tr>\n",
              "  </tbody>\n",
              "</table>\n",
              "<p>2890 rows × 2 columns</p>\n",
              "</div>"
            ],
            "text/plain": [
              "        Actual     Predicted\n",
              "4292     369.0    510.937493\n",
              "4272    1578.0   1171.315558\n",
              "322        0.0    359.100042\n",
              "10327    213.0    629.039009\n",
              "9400   14545.0  10638.823584\n",
              "...        ...           ...\n",
              "897        0.0    356.403045\n",
              "5998   11192.0  10884.639620\n",
              "3949    1564.0   1097.518054\n",
              "2235     134.0    446.868000\n",
              "292        0.0    356.713575\n",
              "\n",
              "[2890 rows x 2 columns]"
            ]
          },
          "metadata": {},
          "execution_count": 529
        }
      ]
    },
    {
      "cell_type": "code",
      "metadata": {
        "id": "E4DMyes26pCV",
        "colab": {
          "base_uri": "https://localhost:8080/"
        },
        "outputId": "ec93d6ad-2d60-4409-cd30-1e12d0e14da6"
      },
      "source": [
        "from sklearn import metrics\n",
        "print('Mean Absolute Error (MAE):', metrics.mean_absolute_error(y_test, y_pred))\n",
        "print('median_absolute_error (MAD):', metrics.median_absolute_error(y_test, y_pred))\n",
        "print('Root Mean Squared Error (RMSE):', np.sqrt(metrics.mean_squared_error(y_test, y_pred)))\n",
        "print('mean_absolute_percentage_error (MAPE):', metrics.mean_absolute_percentage_error(y_test, y_pred))\n",
        "print('max_error(MAX_ERROR):', metrics.max_error(y_test, y_pred))\n",
        "print('explained_variance_score (EXPL):', metrics.explained_variance_score(y_test, y_pred, multioutput='uniform_average'))\n",
        "print('R2_SCORE:', metrics.r2_score(y_test, y_pred))"
      ],
      "execution_count": null,
      "outputs": [
        {
          "output_type": "stream",
          "name": "stdout",
          "text": [
            "Mean Absolute Error (MAE): 683.3833630417583\n",
            "median_absolute_error (MAD): 364.7110336388609\n",
            "Root Mean Squared Error (RMSE): 1068.7599538000072\n",
            "mean_absolute_percentage_error (MAPE): 1.923266669560218e+17\n",
            "max_error(MAX_ERROR): 4646.808403921579\n",
            "explained_variance_score (EXPL): 0.9042561384315477\n",
            "R2_SCORE: 0.9041021468106589\n"
          ]
        }
      ]
    },
    {
      "cell_type": "code",
      "metadata": {
        "id": "e5mbpWhP7C9q"
      },
      "source": [
        ""
      ],
      "execution_count": null,
      "outputs": []
    },
    {
      "cell_type": "markdown",
      "metadata": {
        "id": "2zAxtTNB7DDn"
      },
      "source": [
        "**ANÁLISIS UCI**"
      ]
    },
    {
      "cell_type": "code",
      "metadata": {
        "colab": {
          "base_uri": "https://localhost:8080/",
          "height": 142
        },
        "id": "rr5LBdrD9kiL",
        "outputId": "279b8831-04e3-48fa-d589-4db96a31577d"
      },
      "source": [
        "datos = df_final_clima\n",
        "datos.head(3)"
      ],
      "execution_count": null,
      "outputs": [
        {
          "output_type": "execute_result",
          "data": {
            "text/html": [
              "<div>\n",
              "<style scoped>\n",
              "    .dataframe tbody tr th:only-of-type {\n",
              "        vertical-align: middle;\n",
              "    }\n",
              "\n",
              "    .dataframe tbody tr th {\n",
              "        vertical-align: top;\n",
              "    }\n",
              "\n",
              "    .dataframe thead th {\n",
              "        text-align: right;\n",
              "    }\n",
              "</style>\n",
              "<table border=\"1\" class=\"dataframe\">\n",
              "  <thead>\n",
              "    <tr style=\"text-align: right;\">\n",
              "      <th></th>\n",
              "      <th>average_temperature</th>\n",
              "      <th>minimum_temperature</th>\n",
              "      <th>maximum_temperature</th>\n",
              "      <th>rainfall</th>\n",
              "      <th>snowfall</th>\n",
              "      <th>dew_point</th>\n",
              "      <th>relative_humidity</th>\n",
              "      <th>fecha</th>\n",
              "      <th>ccaa</th>\n",
              "      <th>confirmados</th>\n",
              "      <th>hospitalizados</th>\n",
              "      <th>uci</th>\n",
              "      <th>fallecidos</th>\n",
              "    </tr>\n",
              "  </thead>\n",
              "  <tbody>\n",
              "    <tr>\n",
              "      <th>0</th>\n",
              "      <td>8.402778</td>\n",
              "      <td>2.812500</td>\n",
              "      <td>16.409722</td>\n",
              "      <td>0.00000</td>\n",
              "      <td>0.0</td>\n",
              "      <td>4.562500</td>\n",
              "      <td>76.986560</td>\n",
              "      <td>20200101</td>\n",
              "      <td>0</td>\n",
              "      <td>0.0</td>\n",
              "      <td>3.0</td>\n",
              "      <td>0.0</td>\n",
              "      <td>0.0</td>\n",
              "    </tr>\n",
              "    <tr>\n",
              "      <th>1</th>\n",
              "      <td>1.097222</td>\n",
              "      <td>-1.854167</td>\n",
              "      <td>7.493056</td>\n",
              "      <td>0.00000</td>\n",
              "      <td>0.0</td>\n",
              "      <td>-1.571429</td>\n",
              "      <td>83.099552</td>\n",
              "      <td>20200101</td>\n",
              "      <td>1</td>\n",
              "      <td>0.0</td>\n",
              "      <td>0.0</td>\n",
              "      <td>0.0</td>\n",
              "      <td>0.0</td>\n",
              "    </tr>\n",
              "    <tr>\n",
              "      <th>2</th>\n",
              "      <td>4.319444</td>\n",
              "      <td>0.270833</td>\n",
              "      <td>10.152778</td>\n",
              "      <td>0.03175</td>\n",
              "      <td>0.0</td>\n",
              "      <td>2.381944</td>\n",
              "      <td>87.497387</td>\n",
              "      <td>20200101</td>\n",
              "      <td>2</td>\n",
              "      <td>0.0</td>\n",
              "      <td>0.0</td>\n",
              "      <td>0.0</td>\n",
              "      <td>0.0</td>\n",
              "    </tr>\n",
              "  </tbody>\n",
              "</table>\n",
              "</div>"
            ],
            "text/plain": [
              "   average_temperature  minimum_temperature  ...  uci  fallecidos\n",
              "0             8.402778             2.812500  ...  0.0         0.0\n",
              "1             1.097222            -1.854167  ...  0.0         0.0\n",
              "2             4.319444             0.270833  ...  0.0         0.0\n",
              "\n",
              "[3 rows x 13 columns]"
            ]
          },
          "metadata": {},
          "execution_count": 531
        }
      ]
    },
    {
      "cell_type": "code",
      "metadata": {
        "id": "vefpDPYI7DDo"
      },
      "source": [
        "# División de los datos en train y test\n",
        "# ------------------------------------------------------------------------------\n",
        "X_train, X_test, y_train, y_test = train_test_split(\n",
        "                                        datos.drop(columns = \"uci\"),\n",
        "                                        datos['uci'],\n",
        "                                        random_state = 123\n",
        "                                    )"
      ],
      "execution_count": null,
      "outputs": []
    },
    {
      "cell_type": "markdown",
      "metadata": {
        "id": "K6wyhwpC7DDo"
      },
      "source": [
        "**ARBOL DE DECISIÓN - UCI**"
      ]
    },
    {
      "cell_type": "code",
      "metadata": {
        "id": "4AX1kVHe7DDo",
        "colab": {
          "base_uri": "https://localhost:8080/"
        },
        "outputId": "df1e7e79-dd08-48c2-abc5-8329b97661a5"
      },
      "source": [
        "regressor = DecisionTreeRegressor ()\n",
        "regressor.fit(X_train, y_train)"
      ],
      "execution_count": null,
      "outputs": [
        {
          "output_type": "execute_result",
          "data": {
            "text/plain": [
              "DecisionTreeRegressor()"
            ]
          },
          "metadata": {},
          "execution_count": 533
        }
      ]
    },
    {
      "cell_type": "code",
      "metadata": {
        "id": "K6aIOgfX7DDo",
        "colab": {
          "base_uri": "https://localhost:8080/"
        },
        "outputId": "579c819b-e773-4534-b82e-3db454585ab3"
      },
      "source": [
        "y_pred = regressor.predict(X_test)\n",
        "y_pred"
      ],
      "execution_count": null,
      "outputs": [
        {
          "output_type": "execute_result",
          "data": {
            "text/plain": [
              "array([ 77., 363.,   0., ..., 351., 110.,   0.])"
            ]
          },
          "metadata": {},
          "execution_count": 534
        }
      ]
    },
    {
      "cell_type": "code",
      "metadata": {
        "id": "3FHK4igp7DDo",
        "colab": {
          "base_uri": "https://localhost:8080/"
        },
        "outputId": "431bf79d-54a3-4765-a444-c682f0a06f9d"
      },
      "source": [
        "from numpy import random\n",
        "import pandas as pd\n",
        "\n",
        "print(\"NumPy Data Array is:\")\n",
        "print(y_pred)\n",
        "\n",
        "print(\"\")\n",
        "\n",
        "data_df = pd.DataFrame(y_pred)\n",
        "print(\"The DataFrame generated from the NumPy array is:\")\n",
        "print(data_df)"
      ],
      "execution_count": null,
      "outputs": [
        {
          "output_type": "stream",
          "name": "stdout",
          "text": [
            "NumPy Data Array is:\n",
            "[ 77. 363.   0. ... 351. 110.   0.]\n",
            "\n",
            "The DataFrame generated from the NumPy array is:\n",
            "           0\n",
            "0       77.0\n",
            "1      363.0\n",
            "2        0.0\n",
            "3      168.0\n",
            "4     3492.0\n",
            "...      ...\n",
            "2885     0.0\n",
            "2886  4881.0\n",
            "2887   351.0\n",
            "2888   110.0\n",
            "2889     0.0\n",
            "\n",
            "[2890 rows x 1 columns]\n"
          ]
        }
      ]
    },
    {
      "cell_type": "code",
      "metadata": {
        "id": "y_7Q-oEO7DDo",
        "colab": {
          "base_uri": "https://localhost:8080/",
          "height": 417
        },
        "outputId": "34b49f39-67ec-4a54-b212-b5eb85a7e594"
      },
      "source": [
        "df = pd.DataFrame({'Actual': y_test, 'Predicted': y_pred})\n",
        "df"
      ],
      "execution_count": null,
      "outputs": [
        {
          "output_type": "execute_result",
          "data": {
            "text/html": [
              "<div>\n",
              "<style scoped>\n",
              "    .dataframe tbody tr th:only-of-type {\n",
              "        vertical-align: middle;\n",
              "    }\n",
              "\n",
              "    .dataframe tbody tr th {\n",
              "        vertical-align: top;\n",
              "    }\n",
              "\n",
              "    .dataframe thead th {\n",
              "        text-align: right;\n",
              "    }\n",
              "</style>\n",
              "<table border=\"1\" class=\"dataframe\">\n",
              "  <thead>\n",
              "    <tr style=\"text-align: right;\">\n",
              "      <th></th>\n",
              "      <th>Actual</th>\n",
              "      <th>Predicted</th>\n",
              "    </tr>\n",
              "  </thead>\n",
              "  <tbody>\n",
              "    <tr>\n",
              "      <th>4292</th>\n",
              "      <td>77.0</td>\n",
              "      <td>77.0</td>\n",
              "    </tr>\n",
              "    <tr>\n",
              "      <th>4272</th>\n",
              "      <td>365.0</td>\n",
              "      <td>363.0</td>\n",
              "    </tr>\n",
              "    <tr>\n",
              "      <th>322</th>\n",
              "      <td>0.0</td>\n",
              "      <td>0.0</td>\n",
              "    </tr>\n",
              "    <tr>\n",
              "      <th>10327</th>\n",
              "      <td>168.0</td>\n",
              "      <td>168.0</td>\n",
              "    </tr>\n",
              "    <tr>\n",
              "      <th>9400</th>\n",
              "      <td>3483.0</td>\n",
              "      <td>3492.0</td>\n",
              "    </tr>\n",
              "    <tr>\n",
              "      <th>...</th>\n",
              "      <td>...</td>\n",
              "      <td>...</td>\n",
              "    </tr>\n",
              "    <tr>\n",
              "      <th>897</th>\n",
              "      <td>0.0</td>\n",
              "      <td>0.0</td>\n",
              "    </tr>\n",
              "    <tr>\n",
              "      <th>5998</th>\n",
              "      <td>4873.0</td>\n",
              "      <td>4881.0</td>\n",
              "    </tr>\n",
              "    <tr>\n",
              "      <th>3949</th>\n",
              "      <td>351.0</td>\n",
              "      <td>351.0</td>\n",
              "    </tr>\n",
              "    <tr>\n",
              "      <th>2235</th>\n",
              "      <td>110.0</td>\n",
              "      <td>110.0</td>\n",
              "    </tr>\n",
              "    <tr>\n",
              "      <th>292</th>\n",
              "      <td>0.0</td>\n",
              "      <td>0.0</td>\n",
              "    </tr>\n",
              "  </tbody>\n",
              "</table>\n",
              "<p>2890 rows × 2 columns</p>\n",
              "</div>"
            ],
            "text/plain": [
              "       Actual  Predicted\n",
              "4292     77.0       77.0\n",
              "4272    365.0      363.0\n",
              "322       0.0        0.0\n",
              "10327   168.0      168.0\n",
              "9400   3483.0     3492.0\n",
              "...       ...        ...\n",
              "897       0.0        0.0\n",
              "5998   4873.0     4881.0\n",
              "3949    351.0      351.0\n",
              "2235    110.0      110.0\n",
              "292       0.0        0.0\n",
              "\n",
              "[2890 rows x 2 columns]"
            ]
          },
          "metadata": {},
          "execution_count": 536
        }
      ]
    },
    {
      "cell_type": "code",
      "metadata": {
        "id": "QZ1euV3X7DDo",
        "colab": {
          "base_uri": "https://localhost:8080/"
        },
        "outputId": "f021cb81-8ca3-4c61-dc31-81b37b8191de"
      },
      "source": [
        "from sklearn import metrics\n",
        "print('Mean Absolute Error (MAE):', metrics.mean_absolute_error(y_test, y_pred))\n",
        "print('median_absolute_error (MAD):', metrics.median_absolute_error(y_test, y_pred))\n",
        "print('Root Mean Squared Error (RMSE):', np.sqrt(metrics.mean_squared_error(y_test, y_pred)))\n",
        "print('mean_absolute_percentage_error (MAPE):', metrics.mean_absolute_percentage_error(y_test, y_pred))\n",
        "print('max_error(MAX_ERROR):', metrics.max_error(y_test, y_pred))\n",
        "print('explained_variance_score (EXPL):', metrics.explained_variance_score(y_test, y_pred, multioutput='uniform_average'))\n",
        "print('R2_SCORE:', metrics.r2_score(y_test, y_pred))"
      ],
      "execution_count": null,
      "outputs": [
        {
          "output_type": "stream",
          "name": "stdout",
          "text": [
            "Mean Absolute Error (MAE): 7.070588235294117\n",
            "median_absolute_error (MAD): 1.0\n",
            "Root Mean Squared Error (RMSE): 25.590845032569145\n",
            "mean_absolute_percentage_error (MAPE): 7791694857042.408\n",
            "max_error(MAX_ERROR): 434.0\n",
            "explained_variance_score (EXPL): 0.9996507973844788\n",
            "R2_SCORE: 0.9996507852477787\n"
          ]
        }
      ]
    },
    {
      "cell_type": "markdown",
      "metadata": {
        "id": "x-qaj1Hq7DDo"
      },
      "source": [
        "**KNEIGHBOURS REGRESSOR - UCI**"
      ]
    },
    {
      "cell_type": "code",
      "metadata": {
        "id": "e_d8-ihY7DDo",
        "colab": {
          "base_uri": "https://localhost:8080/"
        },
        "outputId": "c41a8a34-9e6c-452b-f547-d46d01efe78d"
      },
      "source": [
        "regressor = KNeighborsRegressor()\n",
        "regressor.fit(X_train, y_train)"
      ],
      "execution_count": null,
      "outputs": [
        {
          "output_type": "execute_result",
          "data": {
            "text/plain": [
              "KNeighborsRegressor()"
            ]
          },
          "metadata": {},
          "execution_count": 538
        }
      ]
    },
    {
      "cell_type": "code",
      "metadata": {
        "id": "8hIjQS6j7DDp",
        "colab": {
          "base_uri": "https://localhost:8080/"
        },
        "outputId": "b87884b9-b184-4fd7-a0ee-d3d5754f87df"
      },
      "source": [
        "y_pred = regressor.predict(X_test)\n",
        "y_pred"
      ],
      "execution_count": null,
      "outputs": [
        {
          "output_type": "execute_result",
          "data": {
            "text/plain": [
              "array([ 77. , 537.8,   0. , ..., 351. , 109.8,   0. ])"
            ]
          },
          "metadata": {},
          "execution_count": 539
        }
      ]
    },
    {
      "cell_type": "code",
      "metadata": {
        "id": "wMsKzhsc7DDp",
        "colab": {
          "base_uri": "https://localhost:8080/"
        },
        "outputId": "a687fd5f-66f1-4588-c6d5-b3bfcbc1bc72"
      },
      "source": [
        "from numpy import random\n",
        "import pandas as pd\n",
        "\n",
        "print(\"NumPy Data Array is:\")\n",
        "print(y_pred)\n",
        "\n",
        "print(\"\")\n",
        "\n",
        "data_df = pd.DataFrame(y_pred)\n",
        "print(\"The DataFrame generated from the NumPy array is:\")\n",
        "print(data_df)"
      ],
      "execution_count": null,
      "outputs": [
        {
          "output_type": "stream",
          "name": "stdout",
          "text": [
            "NumPy Data Array is:\n",
            "[ 77.  537.8   0.  ... 351.  109.8   0. ]\n",
            "\n",
            "The DataFrame generated from the NumPy array is:\n",
            "           0\n",
            "0       77.0\n",
            "1      537.8\n",
            "2        0.0\n",
            "3      168.0\n",
            "4     3483.4\n",
            "...      ...\n",
            "2885     0.0\n",
            "2886  4879.0\n",
            "2887   351.0\n",
            "2888   109.8\n",
            "2889     0.0\n",
            "\n",
            "[2890 rows x 1 columns]\n"
          ]
        }
      ]
    },
    {
      "cell_type": "code",
      "metadata": {
        "id": "cVfekBD77DDp",
        "colab": {
          "base_uri": "https://localhost:8080/",
          "height": 417
        },
        "outputId": "4f05ee91-e4f8-47fe-e0b8-da8a92bf6d74"
      },
      "source": [
        "df = pd.DataFrame({'Actual': y_test, 'Predicted': y_pred})\n",
        "df"
      ],
      "execution_count": null,
      "outputs": [
        {
          "output_type": "execute_result",
          "data": {
            "text/html": [
              "<div>\n",
              "<style scoped>\n",
              "    .dataframe tbody tr th:only-of-type {\n",
              "        vertical-align: middle;\n",
              "    }\n",
              "\n",
              "    .dataframe tbody tr th {\n",
              "        vertical-align: top;\n",
              "    }\n",
              "\n",
              "    .dataframe thead th {\n",
              "        text-align: right;\n",
              "    }\n",
              "</style>\n",
              "<table border=\"1\" class=\"dataframe\">\n",
              "  <thead>\n",
              "    <tr style=\"text-align: right;\">\n",
              "      <th></th>\n",
              "      <th>Actual</th>\n",
              "      <th>Predicted</th>\n",
              "    </tr>\n",
              "  </thead>\n",
              "  <tbody>\n",
              "    <tr>\n",
              "      <th>4292</th>\n",
              "      <td>77.0</td>\n",
              "      <td>77.0</td>\n",
              "    </tr>\n",
              "    <tr>\n",
              "      <th>4272</th>\n",
              "      <td>365.0</td>\n",
              "      <td>537.8</td>\n",
              "    </tr>\n",
              "    <tr>\n",
              "      <th>322</th>\n",
              "      <td>0.0</td>\n",
              "      <td>0.0</td>\n",
              "    </tr>\n",
              "    <tr>\n",
              "      <th>10327</th>\n",
              "      <td>168.0</td>\n",
              "      <td>168.0</td>\n",
              "    </tr>\n",
              "    <tr>\n",
              "      <th>9400</th>\n",
              "      <td>3483.0</td>\n",
              "      <td>3483.4</td>\n",
              "    </tr>\n",
              "    <tr>\n",
              "      <th>...</th>\n",
              "      <td>...</td>\n",
              "      <td>...</td>\n",
              "    </tr>\n",
              "    <tr>\n",
              "      <th>897</th>\n",
              "      <td>0.0</td>\n",
              "      <td>0.0</td>\n",
              "    </tr>\n",
              "    <tr>\n",
              "      <th>5998</th>\n",
              "      <td>4873.0</td>\n",
              "      <td>4879.0</td>\n",
              "    </tr>\n",
              "    <tr>\n",
              "      <th>3949</th>\n",
              "      <td>351.0</td>\n",
              "      <td>351.0</td>\n",
              "    </tr>\n",
              "    <tr>\n",
              "      <th>2235</th>\n",
              "      <td>110.0</td>\n",
              "      <td>109.8</td>\n",
              "    </tr>\n",
              "    <tr>\n",
              "      <th>292</th>\n",
              "      <td>0.0</td>\n",
              "      <td>0.0</td>\n",
              "    </tr>\n",
              "  </tbody>\n",
              "</table>\n",
              "<p>2890 rows × 2 columns</p>\n",
              "</div>"
            ],
            "text/plain": [
              "       Actual  Predicted\n",
              "4292     77.0       77.0\n",
              "4272    365.0      537.8\n",
              "322       0.0        0.0\n",
              "10327   168.0      168.0\n",
              "9400   3483.0     3483.4\n",
              "...       ...        ...\n",
              "897       0.0        0.0\n",
              "5998   4873.0     4879.0\n",
              "3949    351.0      351.0\n",
              "2235    110.0      109.8\n",
              "292       0.0        0.0\n",
              "\n",
              "[2890 rows x 2 columns]"
            ]
          },
          "metadata": {},
          "execution_count": 541
        }
      ]
    },
    {
      "cell_type": "code",
      "metadata": {
        "id": "cJlpKAt47DDp",
        "colab": {
          "base_uri": "https://localhost:8080/"
        },
        "outputId": "bb2e4ad2-4795-47cf-e57d-25825665b79e"
      },
      "source": [
        "from sklearn import metrics\n",
        "print('Mean Absolute Error (MAE):', metrics.mean_absolute_error(y_test, y_pred))\n",
        "print('median_absolute_error (MAD):', metrics.median_absolute_error(y_test, y_pred))\n",
        "print('Root Mean Squared Error (RMSE):', np.sqrt(metrics.mean_squared_error(y_test, y_pred)))\n",
        "print('mean_absolute_percentage_error (MAPE):', metrics.mean_absolute_percentage_error(y_test, y_pred))\n",
        "print('max_error(MAX_ERROR):', metrics.max_error(y_test, y_pred))\n",
        "print('explained_variance_score (EXPL):', metrics.explained_variance_score(y_test, y_pred, multioutput='uniform_average'))\n",
        "print('R2_SCORE:', metrics.r2_score(y_test, y_pred))"
      ],
      "execution_count": null,
      "outputs": [
        {
          "output_type": "stream",
          "name": "stdout",
          "text": [
            "Mean Absolute Error (MAE): 31.35660899653979\n",
            "median_absolute_error (MAD): 1.2000000000000002\n",
            "Root Mean Squared Error (RMSE): 90.29538845628048\n",
            "mean_absolute_percentage_error (MAPE): 38335138696648.59\n",
            "max_error(MAX_ERROR): 1375.0\n",
            "explained_variance_score (EXPL): 0.9956529983888257\n",
            "R2_SCORE: 0.9956523510549743\n"
          ]
        }
      ]
    },
    {
      "cell_type": "markdown",
      "metadata": {
        "id": "vpSyWGuj7DDp"
      },
      "source": [
        "**MULTIPLE LINEAR REGRESSION - UCI**"
      ]
    },
    {
      "cell_type": "code",
      "metadata": {
        "id": "br-yn5-U7DDp"
      },
      "source": [
        "from sklearn.linear_model import LinearRegression\n",
        "from sklearn.linear_model import BayesianRidge"
      ],
      "execution_count": null,
      "outputs": []
    },
    {
      "cell_type": "code",
      "metadata": {
        "id": "0VkW6yMt7DDp",
        "colab": {
          "base_uri": "https://localhost:8080/"
        },
        "outputId": "f1727950-6dca-45a5-c3b3-1a456e00d5d6"
      },
      "source": [
        "regressor = LinearRegression()\n",
        "regressor.fit(X_train, y_train)"
      ],
      "execution_count": null,
      "outputs": [
        {
          "output_type": "execute_result",
          "data": {
            "text/plain": [
              "LinearRegression()"
            ]
          },
          "metadata": {},
          "execution_count": 544
        }
      ]
    },
    {
      "cell_type": "code",
      "metadata": {
        "id": "4ihwrlzR7DDp",
        "colab": {
          "base_uri": "https://localhost:8080/"
        },
        "outputId": "dd4fca35-4ef4-4fb7-c6a4-78812a9ad086"
      },
      "source": [
        "y_pred = regressor.predict(X_test)\n",
        "y_pred"
      ],
      "execution_count": null,
      "outputs": [
        {
          "output_type": "execute_result",
          "data": {
            "text/plain": [
              "array([184.10690631, 468.24700844,  59.43520738, ..., 372.01836223,\n",
              "        92.89898662, 147.29585241])"
            ]
          },
          "metadata": {},
          "execution_count": 545
        }
      ]
    },
    {
      "cell_type": "code",
      "metadata": {
        "id": "JE6MxNVb7DDp",
        "colab": {
          "base_uri": "https://localhost:8080/"
        },
        "outputId": "318371bd-8f3f-4ac0-87fb-58d3cb1c6427"
      },
      "source": [
        "from numpy import random\n",
        "import pandas as pd\n",
        "\n",
        "print(\"NumPy Data Array is:\")\n",
        "print(y_pred)\n",
        "\n",
        "print(\"\")\n",
        "\n",
        "data_df = pd.DataFrame(y_pred)\n",
        "print(\"The DataFrame generated from the NumPy array is:\")\n",
        "print(data_df)"
      ],
      "execution_count": null,
      "outputs": [
        {
          "output_type": "stream",
          "name": "stdout",
          "text": [
            "NumPy Data Array is:\n",
            "[184.10690631 468.24700844  59.43520738 ... 372.01836223  92.89898662\n",
            " 147.29585241]\n",
            "\n",
            "The DataFrame generated from the NumPy array is:\n",
            "                0\n",
            "0      184.106906\n",
            "1      468.247008\n",
            "2       59.435207\n",
            "3      326.430126\n",
            "4     3703.578600\n",
            "...           ...\n",
            "2885    65.978813\n",
            "2886  4934.454192\n",
            "2887   372.018362\n",
            "2888    92.898987\n",
            "2889   147.295852\n",
            "\n",
            "[2890 rows x 1 columns]\n"
          ]
        }
      ]
    },
    {
      "cell_type": "code",
      "metadata": {
        "id": "dcRsxb2h7DDp",
        "colab": {
          "base_uri": "https://localhost:8080/",
          "height": 417
        },
        "outputId": "03608104-b7dd-4f56-8e73-37c34d958523"
      },
      "source": [
        "df = pd.DataFrame({'Actual': y_test, 'Predicted': y_pred})\n",
        "df"
      ],
      "execution_count": null,
      "outputs": [
        {
          "output_type": "execute_result",
          "data": {
            "text/html": [
              "<div>\n",
              "<style scoped>\n",
              "    .dataframe tbody tr th:only-of-type {\n",
              "        vertical-align: middle;\n",
              "    }\n",
              "\n",
              "    .dataframe tbody tr th {\n",
              "        vertical-align: top;\n",
              "    }\n",
              "\n",
              "    .dataframe thead th {\n",
              "        text-align: right;\n",
              "    }\n",
              "</style>\n",
              "<table border=\"1\" class=\"dataframe\">\n",
              "  <thead>\n",
              "    <tr style=\"text-align: right;\">\n",
              "      <th></th>\n",
              "      <th>Actual</th>\n",
              "      <th>Predicted</th>\n",
              "    </tr>\n",
              "  </thead>\n",
              "  <tbody>\n",
              "    <tr>\n",
              "      <th>4292</th>\n",
              "      <td>77.0</td>\n",
              "      <td>184.106906</td>\n",
              "    </tr>\n",
              "    <tr>\n",
              "      <th>4272</th>\n",
              "      <td>365.0</td>\n",
              "      <td>468.247008</td>\n",
              "    </tr>\n",
              "    <tr>\n",
              "      <th>322</th>\n",
              "      <td>0.0</td>\n",
              "      <td>59.435207</td>\n",
              "    </tr>\n",
              "    <tr>\n",
              "      <th>10327</th>\n",
              "      <td>168.0</td>\n",
              "      <td>326.430126</td>\n",
              "    </tr>\n",
              "    <tr>\n",
              "      <th>9400</th>\n",
              "      <td>3483.0</td>\n",
              "      <td>3703.578600</td>\n",
              "    </tr>\n",
              "    <tr>\n",
              "      <th>...</th>\n",
              "      <td>...</td>\n",
              "      <td>...</td>\n",
              "    </tr>\n",
              "    <tr>\n",
              "      <th>897</th>\n",
              "      <td>0.0</td>\n",
              "      <td>65.978813</td>\n",
              "    </tr>\n",
              "    <tr>\n",
              "      <th>5998</th>\n",
              "      <td>4873.0</td>\n",
              "      <td>4934.454192</td>\n",
              "    </tr>\n",
              "    <tr>\n",
              "      <th>3949</th>\n",
              "      <td>351.0</td>\n",
              "      <td>372.018362</td>\n",
              "    </tr>\n",
              "    <tr>\n",
              "      <th>2235</th>\n",
              "      <td>110.0</td>\n",
              "      <td>92.898987</td>\n",
              "    </tr>\n",
              "    <tr>\n",
              "      <th>292</th>\n",
              "      <td>0.0</td>\n",
              "      <td>147.295852</td>\n",
              "    </tr>\n",
              "  </tbody>\n",
              "</table>\n",
              "<p>2890 rows × 2 columns</p>\n",
              "</div>"
            ],
            "text/plain": [
              "       Actual    Predicted\n",
              "4292     77.0   184.106906\n",
              "4272    365.0   468.247008\n",
              "322       0.0    59.435207\n",
              "10327   168.0   326.430126\n",
              "9400   3483.0  3703.578600\n",
              "...       ...          ...\n",
              "897       0.0    65.978813\n",
              "5998   4873.0  4934.454192\n",
              "3949    351.0   372.018362\n",
              "2235    110.0    92.898987\n",
              "292       0.0   147.295852\n",
              "\n",
              "[2890 rows x 2 columns]"
            ]
          },
          "metadata": {},
          "execution_count": 547
        }
      ]
    },
    {
      "cell_type": "code",
      "metadata": {
        "id": "t1MeefIE7DDp",
        "colab": {
          "base_uri": "https://localhost:8080/"
        },
        "outputId": "612e0e2f-72cc-41d4-841f-544a4be99244"
      },
      "source": [
        "from sklearn import metrics\n",
        "print('Mean Absolute Error (MAE):', metrics.mean_absolute_error(y_test, y_pred))\n",
        "print('median_absolute_error (MAD):', metrics.median_absolute_error(y_test, y_pred))\n",
        "print('Root Mean Squared Error (RMSE):', np.sqrt(metrics.mean_squared_error(y_test, y_pred)))\n",
        "print('mean_absolute_percentage_error (MAPE):', metrics.mean_absolute_percentage_error(y_test, y_pred))\n",
        "print('max_error(MAX_ERROR):', metrics.max_error(y_test, y_pred))\n",
        "print('explained_variance_score (EXPL):', metrics.explained_variance_score(y_test, y_pred, multioutput='uniform_average'))\n",
        "print('R2_SCORE:', metrics.r2_score(y_test, y_pred))"
      ],
      "execution_count": null,
      "outputs": [
        {
          "output_type": "stream",
          "name": "stdout",
          "text": [
            "Mean Absolute Error (MAE): 139.24436278011555\n",
            "median_absolute_error (MAD): 100.13322456723836\n",
            "Root Mean Squared Error (RMSE): 198.84267562947437\n",
            "mean_absolute_percentage_error (MAPE): 2.487510348680587e+16\n",
            "max_error(MAX_ERROR): 941.643606686499\n",
            "explained_variance_score (EXPL): 0.9789166047962723\n",
            "R2_SCORE: 0.978916508913104\n"
          ]
        }
      ]
    },
    {
      "cell_type": "markdown",
      "metadata": {
        "id": "bF94kZ2l7DDp"
      },
      "source": [
        "**APLICAMOS BAYESIAN RIDGE REGRESSION - UCI**"
      ]
    },
    {
      "cell_type": "code",
      "metadata": {
        "id": "5c_OsLg67DDp",
        "colab": {
          "base_uri": "https://localhost:8080/"
        },
        "outputId": "28439280-ef0b-437f-e8cc-9e11f0c4b643"
      },
      "source": [
        "regressor = BayesianRidge()\n",
        "regressor.fit(X_train, y_train)"
      ],
      "execution_count": null,
      "outputs": [
        {
          "output_type": "execute_result",
          "data": {
            "text/plain": [
              "BayesianRidge()"
            ]
          },
          "metadata": {},
          "execution_count": 549
        }
      ]
    },
    {
      "cell_type": "code",
      "metadata": {
        "id": "BQ236i8C7DDp",
        "colab": {
          "base_uri": "https://localhost:8080/"
        },
        "outputId": "e22c859c-a9df-4927-9153-5a52464c68b5"
      },
      "source": [
        "y_pred = regressor.predict(X_test)\n",
        "y_pred"
      ],
      "execution_count": null,
      "outputs": [
        {
          "output_type": "execute_result",
          "data": {
            "text/plain": [
              "array([178.02234815, 458.55830863,  58.94400675, ..., 371.68273017,\n",
              "        89.84070986, 147.00632033])"
            ]
          },
          "metadata": {},
          "execution_count": 550
        }
      ]
    },
    {
      "cell_type": "code",
      "metadata": {
        "id": "VnPsh06w7DDp",
        "colab": {
          "base_uri": "https://localhost:8080/"
        },
        "outputId": "e899bb9d-8f27-4021-9c6a-63f7663e636e"
      },
      "source": [
        "from numpy import random\n",
        "import pandas as pd\n",
        "\n",
        "print(\"NumPy Data Array is:\")\n",
        "print(y_pred)\n",
        "\n",
        "print(\"\")\n",
        "\n",
        "data_df = pd.DataFrame(y_pred)\n",
        "print(\"The DataFrame generated from the NumPy array is:\")\n",
        "print(data_df)"
      ],
      "execution_count": null,
      "outputs": [
        {
          "output_type": "stream",
          "name": "stdout",
          "text": [
            "NumPy Data Array is:\n",
            "[178.02234815 458.55830863  58.94400675 ... 371.68273017  89.84070986\n",
            " 147.00632033]\n",
            "\n",
            "The DataFrame generated from the NumPy array is:\n",
            "                0\n",
            "0      178.022348\n",
            "1      458.558309\n",
            "2       58.944007\n",
            "3      331.474394\n",
            "4     3699.652294\n",
            "...           ...\n",
            "2885    71.089936\n",
            "2886  4933.475931\n",
            "2887   371.682730\n",
            "2888    89.840710\n",
            "2889   147.006320\n",
            "\n",
            "[2890 rows x 1 columns]\n"
          ]
        }
      ]
    },
    {
      "cell_type": "code",
      "metadata": {
        "id": "ieTllSzH7DDq",
        "colab": {
          "base_uri": "https://localhost:8080/",
          "height": 417
        },
        "outputId": "0b848f86-8c7d-47ac-dffb-66c1c69595ae"
      },
      "source": [
        "df = pd.DataFrame({'Actual': y_test, 'Predicted': y_pred})\n",
        "df"
      ],
      "execution_count": null,
      "outputs": [
        {
          "output_type": "execute_result",
          "data": {
            "text/html": [
              "<div>\n",
              "<style scoped>\n",
              "    .dataframe tbody tr th:only-of-type {\n",
              "        vertical-align: middle;\n",
              "    }\n",
              "\n",
              "    .dataframe tbody tr th {\n",
              "        vertical-align: top;\n",
              "    }\n",
              "\n",
              "    .dataframe thead th {\n",
              "        text-align: right;\n",
              "    }\n",
              "</style>\n",
              "<table border=\"1\" class=\"dataframe\">\n",
              "  <thead>\n",
              "    <tr style=\"text-align: right;\">\n",
              "      <th></th>\n",
              "      <th>Actual</th>\n",
              "      <th>Predicted</th>\n",
              "    </tr>\n",
              "  </thead>\n",
              "  <tbody>\n",
              "    <tr>\n",
              "      <th>4292</th>\n",
              "      <td>77.0</td>\n",
              "      <td>178.022348</td>\n",
              "    </tr>\n",
              "    <tr>\n",
              "      <th>4272</th>\n",
              "      <td>365.0</td>\n",
              "      <td>458.558309</td>\n",
              "    </tr>\n",
              "    <tr>\n",
              "      <th>322</th>\n",
              "      <td>0.0</td>\n",
              "      <td>58.944007</td>\n",
              "    </tr>\n",
              "    <tr>\n",
              "      <th>10327</th>\n",
              "      <td>168.0</td>\n",
              "      <td>331.474394</td>\n",
              "    </tr>\n",
              "    <tr>\n",
              "      <th>9400</th>\n",
              "      <td>3483.0</td>\n",
              "      <td>3699.652294</td>\n",
              "    </tr>\n",
              "    <tr>\n",
              "      <th>...</th>\n",
              "      <td>...</td>\n",
              "      <td>...</td>\n",
              "    </tr>\n",
              "    <tr>\n",
              "      <th>897</th>\n",
              "      <td>0.0</td>\n",
              "      <td>71.089936</td>\n",
              "    </tr>\n",
              "    <tr>\n",
              "      <th>5998</th>\n",
              "      <td>4873.0</td>\n",
              "      <td>4933.475931</td>\n",
              "    </tr>\n",
              "    <tr>\n",
              "      <th>3949</th>\n",
              "      <td>351.0</td>\n",
              "      <td>371.682730</td>\n",
              "    </tr>\n",
              "    <tr>\n",
              "      <th>2235</th>\n",
              "      <td>110.0</td>\n",
              "      <td>89.840710</td>\n",
              "    </tr>\n",
              "    <tr>\n",
              "      <th>292</th>\n",
              "      <td>0.0</td>\n",
              "      <td>147.006320</td>\n",
              "    </tr>\n",
              "  </tbody>\n",
              "</table>\n",
              "<p>2890 rows × 2 columns</p>\n",
              "</div>"
            ],
            "text/plain": [
              "       Actual    Predicted\n",
              "4292     77.0   178.022348\n",
              "4272    365.0   458.558309\n",
              "322       0.0    58.944007\n",
              "10327   168.0   331.474394\n",
              "9400   3483.0  3699.652294\n",
              "...       ...          ...\n",
              "897       0.0    71.089936\n",
              "5998   4873.0  4933.475931\n",
              "3949    351.0   371.682730\n",
              "2235    110.0    89.840710\n",
              "292       0.0   147.006320\n",
              "\n",
              "[2890 rows x 2 columns]"
            ]
          },
          "metadata": {},
          "execution_count": 552
        }
      ]
    },
    {
      "cell_type": "code",
      "metadata": {
        "id": "yffBJYok7DDq",
        "colab": {
          "base_uri": "https://localhost:8080/"
        },
        "outputId": "42b68d9e-1ecf-4f88-9a91-90b8960447d1"
      },
      "source": [
        "from sklearn import metrics\n",
        "print('Mean Absolute Error (MAE):', metrics.mean_absolute_error(y_test, y_pred))\n",
        "print('median_absolute_error (MAD):', metrics.median_absolute_error(y_test, y_pred))\n",
        "print('Root Mean Squared Error (RMSE):', np.sqrt(metrics.mean_squared_error(y_test, y_pred)))\n",
        "print('mean_absolute_percentage_error (MAPE):', metrics.mean_absolute_percentage_error(y_test, y_pred))\n",
        "print('max_error(MAX_ERROR):', metrics.max_error(y_test, y_pred))\n",
        "print('explained_variance_score (EXPL):', metrics.explained_variance_score(y_test, y_pred, multioutput='uniform_average'))\n",
        "print('R2_SCORE:', metrics.r2_score(y_test, y_pred))"
      ],
      "execution_count": null,
      "outputs": [
        {
          "output_type": "stream",
          "name": "stdout",
          "text": [
            "Mean Absolute Error (MAE): 139.17070318217196\n",
            "median_absolute_error (MAD): 99.18727176170796\n",
            "Root Mean Squared Error (RMSE): 198.88010826378294\n",
            "mean_absolute_percentage_error (MAPE): 2.489167407727456e+16\n",
            "max_error(MAX_ERROR): 939.0567177951743\n",
            "explained_variance_score (EXPL): 0.9789087080518808\n",
            "R2_SCORE: 0.9789085701253689\n"
          ]
        }
      ]
    },
    {
      "cell_type": "markdown",
      "metadata": {
        "id": "7g8aaWjp7DDq"
      },
      "source": [
        "**APLICAMOS RANDOM FOREST REGRESSOR - UCI**"
      ]
    },
    {
      "cell_type": "code",
      "metadata": {
        "id": "d3_ioCyr7DDq",
        "colab": {
          "base_uri": "https://localhost:8080/"
        },
        "outputId": "b7ae2108-552b-43fe-8445-be33ddc0fa0a"
      },
      "source": [
        "regressor = RandomForestRegressor()\n",
        "regressor.fit(X_train, y_train)"
      ],
      "execution_count": null,
      "outputs": [
        {
          "output_type": "execute_result",
          "data": {
            "text/plain": [
              "RandomForestRegressor()"
            ]
          },
          "metadata": {},
          "execution_count": 554
        }
      ]
    },
    {
      "cell_type": "code",
      "metadata": {
        "id": "H5hJe7X47DDq",
        "colab": {
          "base_uri": "https://localhost:8080/"
        },
        "outputId": "2aa11028-15c6-4cbe-be41-b55734b187d8"
      },
      "source": [
        "y_pred = regressor.predict(X_test)\n",
        "y_pred"
      ],
      "execution_count": null,
      "outputs": [
        {
          "output_type": "execute_result",
          "data": {
            "text/plain": [
              "array([7.7040e+01, 3.8379e+02, 0.0000e+00, ..., 3.5124e+02, 1.1032e+02,\n",
              "       8.0000e-02])"
            ]
          },
          "metadata": {},
          "execution_count": 555
        }
      ]
    },
    {
      "cell_type": "code",
      "metadata": {
        "id": "oKqEE9MW7DDq",
        "colab": {
          "base_uri": "https://localhost:8080/"
        },
        "outputId": "499e3c2d-c174-4aed-94ec-81a62e850554"
      },
      "source": [
        "from numpy import random\n",
        "import pandas as pd\n",
        "\n",
        "print(\"NumPy Data Array is:\")\n",
        "print(y_pred)\n",
        "\n",
        "print(\"\")\n",
        "\n",
        "data_df = pd.DataFrame(y_pred)\n",
        "print(\"The DataFrame generated from the NumPy array is:\")\n",
        "print(data_df)"
      ],
      "execution_count": null,
      "outputs": [
        {
          "output_type": "stream",
          "name": "stdout",
          "text": [
            "NumPy Data Array is:\n",
            "[7.7040e+01 3.8379e+02 0.0000e+00 ... 3.5124e+02 1.1032e+02 8.0000e-02]\n",
            "\n",
            "The DataFrame generated from the NumPy array is:\n",
            "            0\n",
            "0       77.04\n",
            "1      383.79\n",
            "2        0.00\n",
            "3      168.00\n",
            "4     3480.51\n",
            "...       ...\n",
            "2885     0.00\n",
            "2886  4877.74\n",
            "2887   351.24\n",
            "2888   110.32\n",
            "2889     0.08\n",
            "\n",
            "[2890 rows x 1 columns]\n"
          ]
        }
      ]
    },
    {
      "cell_type": "code",
      "metadata": {
        "id": "tvyLfxil7DDq",
        "colab": {
          "base_uri": "https://localhost:8080/",
          "height": 417
        },
        "outputId": "3f690745-09dd-45de-9d42-45bbab92201f"
      },
      "source": [
        "df = pd.DataFrame({'Actual': y_test, 'Predicted': y_pred})\n",
        "df"
      ],
      "execution_count": null,
      "outputs": [
        {
          "output_type": "execute_result",
          "data": {
            "text/html": [
              "<div>\n",
              "<style scoped>\n",
              "    .dataframe tbody tr th:only-of-type {\n",
              "        vertical-align: middle;\n",
              "    }\n",
              "\n",
              "    .dataframe tbody tr th {\n",
              "        vertical-align: top;\n",
              "    }\n",
              "\n",
              "    .dataframe thead th {\n",
              "        text-align: right;\n",
              "    }\n",
              "</style>\n",
              "<table border=\"1\" class=\"dataframe\">\n",
              "  <thead>\n",
              "    <tr style=\"text-align: right;\">\n",
              "      <th></th>\n",
              "      <th>Actual</th>\n",
              "      <th>Predicted</th>\n",
              "    </tr>\n",
              "  </thead>\n",
              "  <tbody>\n",
              "    <tr>\n",
              "      <th>4292</th>\n",
              "      <td>77.0</td>\n",
              "      <td>77.04</td>\n",
              "    </tr>\n",
              "    <tr>\n",
              "      <th>4272</th>\n",
              "      <td>365.0</td>\n",
              "      <td>383.79</td>\n",
              "    </tr>\n",
              "    <tr>\n",
              "      <th>322</th>\n",
              "      <td>0.0</td>\n",
              "      <td>0.00</td>\n",
              "    </tr>\n",
              "    <tr>\n",
              "      <th>10327</th>\n",
              "      <td>168.0</td>\n",
              "      <td>168.00</td>\n",
              "    </tr>\n",
              "    <tr>\n",
              "      <th>9400</th>\n",
              "      <td>3483.0</td>\n",
              "      <td>3480.51</td>\n",
              "    </tr>\n",
              "    <tr>\n",
              "      <th>...</th>\n",
              "      <td>...</td>\n",
              "      <td>...</td>\n",
              "    </tr>\n",
              "    <tr>\n",
              "      <th>897</th>\n",
              "      <td>0.0</td>\n",
              "      <td>0.00</td>\n",
              "    </tr>\n",
              "    <tr>\n",
              "      <th>5998</th>\n",
              "      <td>4873.0</td>\n",
              "      <td>4877.74</td>\n",
              "    </tr>\n",
              "    <tr>\n",
              "      <th>3949</th>\n",
              "      <td>351.0</td>\n",
              "      <td>351.24</td>\n",
              "    </tr>\n",
              "    <tr>\n",
              "      <th>2235</th>\n",
              "      <td>110.0</td>\n",
              "      <td>110.32</td>\n",
              "    </tr>\n",
              "    <tr>\n",
              "      <th>292</th>\n",
              "      <td>0.0</td>\n",
              "      <td>0.08</td>\n",
              "    </tr>\n",
              "  </tbody>\n",
              "</table>\n",
              "<p>2890 rows × 2 columns</p>\n",
              "</div>"
            ],
            "text/plain": [
              "       Actual  Predicted\n",
              "4292     77.0      77.04\n",
              "4272    365.0     383.79\n",
              "322       0.0       0.00\n",
              "10327   168.0     168.00\n",
              "9400   3483.0    3480.51\n",
              "...       ...        ...\n",
              "897       0.0       0.00\n",
              "5998   4873.0    4877.74\n",
              "3949    351.0     351.24\n",
              "2235    110.0     110.32\n",
              "292       0.0       0.08\n",
              "\n",
              "[2890 rows x 2 columns]"
            ]
          },
          "metadata": {},
          "execution_count": 557
        }
      ]
    },
    {
      "cell_type": "code",
      "metadata": {
        "id": "nkwkYcQ37DDq",
        "colab": {
          "base_uri": "https://localhost:8080/"
        },
        "outputId": "f071ef6b-342a-4330-f3f3-863b3ddd4462"
      },
      "source": [
        "from sklearn import metrics\n",
        "print('Mean Absolute Error (MAE):', metrics.mean_absolute_error(y_test, y_pred))\n",
        "print('median_absolute_error (MAD):', metrics.median_absolute_error(y_test, y_pred))\n",
        "print('Root Mean Squared Error (RMSE):', np.sqrt(metrics.mean_squared_error(y_test, y_pred)))\n",
        "print('mean_absolute_percentage_error (MAPE):', metrics.mean_absolute_percentage_error(y_test, y_pred))\n",
        "print('max_error(MAX_ERROR):', metrics.max_error(y_test, y_pred))\n",
        "print('explained_variance_score (EXPL):', metrics.explained_variance_score(y_test, y_pred, multioutput='uniform_average'))\n",
        "print('R2_SCORE:', metrics.r2_score(y_test, y_pred))"
      ],
      "execution_count": null,
      "outputs": [
        {
          "output_type": "stream",
          "name": "stdout",
          "text": [
            "Mean Absolute Error (MAE): 5.2376816608996535\n",
            "median_absolute_error (MAD): 0.9900000000000091\n",
            "Root Mean Squared Error (RMSE): 15.123931657770983\n",
            "mean_absolute_percentage_error (MAPE): 23234834063700.402\n",
            "max_error(MAX_ERROR): 204.51000000000022\n",
            "explained_variance_score (EXPL): 0.9998780661727639\n",
            "R2_SCORE: 0.9998780300796204\n"
          ]
        }
      ]
    },
    {
      "cell_type": "markdown",
      "metadata": {
        "id": "lskoi-Yh7DDq"
      },
      "source": [
        "**APLICAMOS GRADIENT BOOSTING - UCI**"
      ]
    },
    {
      "cell_type": "code",
      "metadata": {
        "id": "hPVqX3SY7DDq",
        "colab": {
          "base_uri": "https://localhost:8080/"
        },
        "outputId": "59fffa2b-3cb0-4288-d0f7-279e0318e7e2"
      },
      "source": [
        "regressor = GradientBoostingRegressor()\n",
        "regressor.fit(X_train, y_train)"
      ],
      "execution_count": null,
      "outputs": [
        {
          "output_type": "execute_result",
          "data": {
            "text/plain": [
              "GradientBoostingRegressor()"
            ]
          },
          "metadata": {},
          "execution_count": 559
        }
      ]
    },
    {
      "cell_type": "code",
      "metadata": {
        "id": "y8MAbfOh7DDq",
        "colab": {
          "base_uri": "https://localhost:8080/"
        },
        "outputId": "2b4d7315-629a-44e2-a05a-47612af0cd55"
      },
      "source": [
        "y_pred = regressor.predict(X_test)\n",
        "y_pred"
      ],
      "execution_count": null,
      "outputs": [
        {
          "output_type": "execute_result",
          "data": {
            "text/plain": [
              "array([103.82967467, 395.83710899,  33.43211913, ..., 357.57346801,\n",
              "        69.72855538,  55.4798817 ])"
            ]
          },
          "metadata": {},
          "execution_count": 560
        }
      ]
    },
    {
      "cell_type": "code",
      "metadata": {
        "id": "jOJFDrI_7DDq",
        "colab": {
          "base_uri": "https://localhost:8080/"
        },
        "outputId": "eeb54712-fbb1-4d90-95be-e7c8a92cd468"
      },
      "source": [
        "from numpy import random\n",
        "import pandas as pd\n",
        "\n",
        "print(\"NumPy Data Array is:\")\n",
        "print(y_pred)\n",
        "\n",
        "print(\"\")\n",
        "\n",
        "data_df = pd.DataFrame(y_pred)\n",
        "print(\"The DataFrame generated from the NumPy array is:\")\n",
        "print(data_df)"
      ],
      "execution_count": null,
      "outputs": [
        {
          "output_type": "stream",
          "name": "stdout",
          "text": [
            "NumPy Data Array is:\n",
            "[103.82967467 395.83710899  33.43211913 ... 357.57346801  69.72855538\n",
            "  55.4798817 ]\n",
            "\n",
            "The DataFrame generated from the NumPy array is:\n",
            "                0\n",
            "0      103.829675\n",
            "1      395.837109\n",
            "2       33.432119\n",
            "3      168.734258\n",
            "4     3390.374184\n",
            "...           ...\n",
            "2885     3.182938\n",
            "2886  4887.009404\n",
            "2887   357.573468\n",
            "2888    69.728555\n",
            "2889    55.479882\n",
            "\n",
            "[2890 rows x 1 columns]\n"
          ]
        }
      ]
    },
    {
      "cell_type": "code",
      "metadata": {
        "id": "KAbxLJVk7DDq",
        "colab": {
          "base_uri": "https://localhost:8080/",
          "height": 417
        },
        "outputId": "7dd8c4f3-e1b1-4053-87d5-5407bab21ffe"
      },
      "source": [
        "df = pd.DataFrame({'Actual': y_test, 'Predicted': y_pred})\n",
        "df"
      ],
      "execution_count": null,
      "outputs": [
        {
          "output_type": "execute_result",
          "data": {
            "text/html": [
              "<div>\n",
              "<style scoped>\n",
              "    .dataframe tbody tr th:only-of-type {\n",
              "        vertical-align: middle;\n",
              "    }\n",
              "\n",
              "    .dataframe tbody tr th {\n",
              "        vertical-align: top;\n",
              "    }\n",
              "\n",
              "    .dataframe thead th {\n",
              "        text-align: right;\n",
              "    }\n",
              "</style>\n",
              "<table border=\"1\" class=\"dataframe\">\n",
              "  <thead>\n",
              "    <tr style=\"text-align: right;\">\n",
              "      <th></th>\n",
              "      <th>Actual</th>\n",
              "      <th>Predicted</th>\n",
              "    </tr>\n",
              "  </thead>\n",
              "  <tbody>\n",
              "    <tr>\n",
              "      <th>4292</th>\n",
              "      <td>77.0</td>\n",
              "      <td>103.829675</td>\n",
              "    </tr>\n",
              "    <tr>\n",
              "      <th>4272</th>\n",
              "      <td>365.0</td>\n",
              "      <td>395.837109</td>\n",
              "    </tr>\n",
              "    <tr>\n",
              "      <th>322</th>\n",
              "      <td>0.0</td>\n",
              "      <td>33.432119</td>\n",
              "    </tr>\n",
              "    <tr>\n",
              "      <th>10327</th>\n",
              "      <td>168.0</td>\n",
              "      <td>168.734258</td>\n",
              "    </tr>\n",
              "    <tr>\n",
              "      <th>9400</th>\n",
              "      <td>3483.0</td>\n",
              "      <td>3390.374184</td>\n",
              "    </tr>\n",
              "    <tr>\n",
              "      <th>...</th>\n",
              "      <td>...</td>\n",
              "      <td>...</td>\n",
              "    </tr>\n",
              "    <tr>\n",
              "      <th>897</th>\n",
              "      <td>0.0</td>\n",
              "      <td>3.182938</td>\n",
              "    </tr>\n",
              "    <tr>\n",
              "      <th>5998</th>\n",
              "      <td>4873.0</td>\n",
              "      <td>4887.009404</td>\n",
              "    </tr>\n",
              "    <tr>\n",
              "      <th>3949</th>\n",
              "      <td>351.0</td>\n",
              "      <td>357.573468</td>\n",
              "    </tr>\n",
              "    <tr>\n",
              "      <th>2235</th>\n",
              "      <td>110.0</td>\n",
              "      <td>69.728555</td>\n",
              "    </tr>\n",
              "    <tr>\n",
              "      <th>292</th>\n",
              "      <td>0.0</td>\n",
              "      <td>55.479882</td>\n",
              "    </tr>\n",
              "  </tbody>\n",
              "</table>\n",
              "<p>2890 rows × 2 columns</p>\n",
              "</div>"
            ],
            "text/plain": [
              "       Actual    Predicted\n",
              "4292     77.0   103.829675\n",
              "4272    365.0   395.837109\n",
              "322       0.0    33.432119\n",
              "10327   168.0   168.734258\n",
              "9400   3483.0  3390.374184\n",
              "...       ...          ...\n",
              "897       0.0     3.182938\n",
              "5998   4873.0  4887.009404\n",
              "3949    351.0   357.573468\n",
              "2235    110.0    69.728555\n",
              "292       0.0    55.479882\n",
              "\n",
              "[2890 rows x 2 columns]"
            ]
          },
          "metadata": {},
          "execution_count": 562
        }
      ]
    },
    {
      "cell_type": "code",
      "metadata": {
        "id": "7YftVLTc7DDq",
        "colab": {
          "base_uri": "https://localhost:8080/"
        },
        "outputId": "49864ab9-3e93-434b-a116-4b015dce704e"
      },
      "source": [
        "from sklearn import metrics\n",
        "print('Mean Absolute Error (MAE):', metrics.mean_absolute_error(y_test, y_pred))\n",
        "print('median_absolute_error (MAD):', metrics.median_absolute_error(y_test, y_pred))\n",
        "print('Root Mean Squared Error (RMSE):', np.sqrt(metrics.mean_squared_error(y_test, y_pred)))\n",
        "print('mean_absolute_percentage_error (MAPE):', metrics.mean_absolute_percentage_error(y_test, y_pred))\n",
        "print('max_error(MAX_ERROR):', metrics.max_error(y_test, y_pred))\n",
        "print('explained_variance_score (EXPL):', metrics.explained_variance_score(y_test, y_pred, multioutput='uniform_average'))\n",
        "print('R2_SCORE:', metrics.r2_score(y_test, y_pred))"
      ],
      "execution_count": null,
      "outputs": [
        {
          "output_type": "stream",
          "name": "stdout",
          "text": [
            "Mean Absolute Error (MAE): 39.87805862489074\n",
            "median_absolute_error (MAD): 24.216228020309472\n",
            "Root Mean Squared Error (RMSE): 60.71530859452021\n",
            "mean_absolute_percentage_error (MAPE): 5384462401969080.0\n",
            "max_error(MAX_ERROR): 408.2491418627237\n",
            "explained_variance_score (EXPL): 0.9980343032865875\n",
            "R2_SCORE: 0.9980342886677332\n"
          ]
        }
      ]
    },
    {
      "cell_type": "markdown",
      "metadata": {
        "id": "6xbeimq27DDq"
      },
      "source": [
        "**APLICAMOS ADA BOOST - UCI**"
      ]
    },
    {
      "cell_type": "code",
      "metadata": {
        "id": "cfJeopUG7DDq",
        "colab": {
          "base_uri": "https://localhost:8080/"
        },
        "outputId": "724bc24e-d94b-4b5d-ee0e-143b11f65e92"
      },
      "source": [
        "regressor = AdaBoostRegressor()\n",
        "regressor.fit(X_train, y_train)"
      ],
      "execution_count": null,
      "outputs": [
        {
          "output_type": "execute_result",
          "data": {
            "text/plain": [
              "AdaBoostRegressor()"
            ]
          },
          "metadata": {},
          "execution_count": 564
        }
      ]
    },
    {
      "cell_type": "code",
      "metadata": {
        "id": "zpHKiyUT7DDq",
        "colab": {
          "base_uri": "https://localhost:8080/"
        },
        "outputId": "f62e0885-cac6-41a0-9113-2877166e8063"
      },
      "source": [
        "y_pred = regressor.predict(X_test)\n",
        "y_pred"
      ],
      "execution_count": null,
      "outputs": [
        {
          "output_type": "execute_result",
          "data": {
            "text/plain": [
              "array([263.19522863, 590.58914729, 263.19522863, ..., 590.58914729,\n",
              "       263.19522863, 263.19522863])"
            ]
          },
          "metadata": {},
          "execution_count": 565
        }
      ]
    },
    {
      "cell_type": "code",
      "metadata": {
        "id": "-tjfydHr7DDr",
        "colab": {
          "base_uri": "https://localhost:8080/"
        },
        "outputId": "330ce847-8074-46a9-f705-c6287eba8d57"
      },
      "source": [
        "from numpy import random\n",
        "import pandas as pd\n",
        "\n",
        "print(\"NumPy Data Array is:\")\n",
        "print(y_pred)\n",
        "\n",
        "print(\"\")\n",
        "\n",
        "data_df = pd.DataFrame(y_pred)\n",
        "print(\"The DataFrame generated from the NumPy array is:\")\n",
        "print(data_df)"
      ],
      "execution_count": null,
      "outputs": [
        {
          "output_type": "stream",
          "name": "stdout",
          "text": [
            "NumPy Data Array is:\n",
            "[263.19522863 590.58914729 263.19522863 ... 590.58914729 263.19522863\n",
            " 263.19522863]\n",
            "\n",
            "The DataFrame generated from the NumPy array is:\n",
            "                0\n",
            "0      263.195229\n",
            "1      590.589147\n",
            "2      263.195229\n",
            "3      263.195229\n",
            "4     3780.605846\n",
            "...           ...\n",
            "2885   263.195229\n",
            "2886  4752.901670\n",
            "2887   590.589147\n",
            "2888   263.195229\n",
            "2889   263.195229\n",
            "\n",
            "[2890 rows x 1 columns]\n"
          ]
        }
      ]
    },
    {
      "cell_type": "code",
      "metadata": {
        "id": "Lztn0fKa7DDr",
        "colab": {
          "base_uri": "https://localhost:8080/",
          "height": 417
        },
        "outputId": "30283f67-1122-4c8e-b759-7b2fad74c774"
      },
      "source": [
        "df = pd.DataFrame({'Actual': y_test, 'Predicted': y_pred})\n",
        "df"
      ],
      "execution_count": null,
      "outputs": [
        {
          "output_type": "execute_result",
          "data": {
            "text/html": [
              "<div>\n",
              "<style scoped>\n",
              "    .dataframe tbody tr th:only-of-type {\n",
              "        vertical-align: middle;\n",
              "    }\n",
              "\n",
              "    .dataframe tbody tr th {\n",
              "        vertical-align: top;\n",
              "    }\n",
              "\n",
              "    .dataframe thead th {\n",
              "        text-align: right;\n",
              "    }\n",
              "</style>\n",
              "<table border=\"1\" class=\"dataframe\">\n",
              "  <thead>\n",
              "    <tr style=\"text-align: right;\">\n",
              "      <th></th>\n",
              "      <th>Actual</th>\n",
              "      <th>Predicted</th>\n",
              "    </tr>\n",
              "  </thead>\n",
              "  <tbody>\n",
              "    <tr>\n",
              "      <th>4292</th>\n",
              "      <td>77.0</td>\n",
              "      <td>263.195229</td>\n",
              "    </tr>\n",
              "    <tr>\n",
              "      <th>4272</th>\n",
              "      <td>365.0</td>\n",
              "      <td>590.589147</td>\n",
              "    </tr>\n",
              "    <tr>\n",
              "      <th>322</th>\n",
              "      <td>0.0</td>\n",
              "      <td>263.195229</td>\n",
              "    </tr>\n",
              "    <tr>\n",
              "      <th>10327</th>\n",
              "      <td>168.0</td>\n",
              "      <td>263.195229</td>\n",
              "    </tr>\n",
              "    <tr>\n",
              "      <th>9400</th>\n",
              "      <td>3483.0</td>\n",
              "      <td>3780.605846</td>\n",
              "    </tr>\n",
              "    <tr>\n",
              "      <th>...</th>\n",
              "      <td>...</td>\n",
              "      <td>...</td>\n",
              "    </tr>\n",
              "    <tr>\n",
              "      <th>897</th>\n",
              "      <td>0.0</td>\n",
              "      <td>263.195229</td>\n",
              "    </tr>\n",
              "    <tr>\n",
              "      <th>5998</th>\n",
              "      <td>4873.0</td>\n",
              "      <td>4752.901670</td>\n",
              "    </tr>\n",
              "    <tr>\n",
              "      <th>3949</th>\n",
              "      <td>351.0</td>\n",
              "      <td>590.589147</td>\n",
              "    </tr>\n",
              "    <tr>\n",
              "      <th>2235</th>\n",
              "      <td>110.0</td>\n",
              "      <td>263.195229</td>\n",
              "    </tr>\n",
              "    <tr>\n",
              "      <th>292</th>\n",
              "      <td>0.0</td>\n",
              "      <td>263.195229</td>\n",
              "    </tr>\n",
              "  </tbody>\n",
              "</table>\n",
              "<p>2890 rows × 2 columns</p>\n",
              "</div>"
            ],
            "text/plain": [
              "       Actual    Predicted\n",
              "4292     77.0   263.195229\n",
              "4272    365.0   590.589147\n",
              "322       0.0   263.195229\n",
              "10327   168.0   263.195229\n",
              "9400   3483.0  3780.605846\n",
              "...       ...          ...\n",
              "897       0.0   263.195229\n",
              "5998   4873.0  4752.901670\n",
              "3949    351.0   590.589147\n",
              "2235    110.0   263.195229\n",
              "292       0.0   263.195229\n",
              "\n",
              "[2890 rows x 2 columns]"
            ]
          },
          "metadata": {},
          "execution_count": 567
        }
      ]
    },
    {
      "cell_type": "code",
      "metadata": {
        "id": "-2Cs2FTf7DDr",
        "colab": {
          "base_uri": "https://localhost:8080/"
        },
        "outputId": "e756b165-ed52-4a67-f3b3-226c3245c064"
      },
      "source": [
        "from sklearn import metrics\n",
        "print('Mean Absolute Error (MAE):', metrics.mean_absolute_error(y_test, y_pred))\n",
        "print('median_absolute_error (MAD):', metrics.median_absolute_error(y_test, y_pred))\n",
        "print('Root Mean Squared Error (RMSE):', np.sqrt(metrics.mean_squared_error(y_test, y_pred)))\n",
        "print('mean_absolute_percentage_error (MAPE):', metrics.mean_absolute_percentage_error(y_test, y_pred))\n",
        "print('max_error(MAX_ERROR):', metrics.max_error(y_test, y_pred))\n",
        "print('explained_variance_score (EXPL):', metrics.explained_variance_score(y_test, y_pred, multioutput='uniform_average'))\n",
        "print('R2_SCORE:', metrics.r2_score(y_test, y_pred))"
      ],
      "execution_count": null,
      "outputs": [
        {
          "output_type": "stream",
          "name": "stdout",
          "text": [
            "Mean Absolute Error (MAE): 183.26456458327894\n",
            "median_absolute_error (MAD): 170.88195680366175\n",
            "Root Mean Squared Error (RMSE): 210.96161327601186\n",
            "mean_absolute_percentage_error (MAPE): 9.474404520969133e+16\n",
            "max_error(MAX_ERROR): 607.2802547770698\n",
            "explained_variance_score (EXPL): 0.9816486177681412\n",
            "R2_SCORE: 0.9762682260014682\n"
          ]
        }
      ]
    },
    {
      "cell_type": "markdown",
      "metadata": {
        "id": "1EqAcFrQ7DDr"
      },
      "source": [
        "**APLICAMOS SUPPORT VECTOR MACHINE - UCI**"
      ]
    },
    {
      "cell_type": "code",
      "metadata": {
        "id": "sLo3lRiq7DDr",
        "colab": {
          "base_uri": "https://localhost:8080/"
        },
        "outputId": "ea519635-abb6-4f69-9f70-c191d059250b"
      },
      "source": [
        "regressor = svm.SVR()\n",
        "regressor.fit(X_train, y_train)"
      ],
      "execution_count": null,
      "outputs": [
        {
          "output_type": "execute_result",
          "data": {
            "text/plain": [
              "SVR()"
            ]
          },
          "metadata": {},
          "execution_count": 569
        }
      ]
    },
    {
      "cell_type": "code",
      "metadata": {
        "id": "SA6c_uMH7DDr",
        "colab": {
          "base_uri": "https://localhost:8080/"
        },
        "outputId": "75861af6-fe0e-4ac1-b049-06389d912b8a"
      },
      "source": [
        "y_pred = regressor.predict(X_test)\n",
        "y_pred"
      ],
      "execution_count": null,
      "outputs": [
        {
          "output_type": "execute_result",
          "data": {
            "text/plain": [
              "array([450.82508765, 450.89557113, 450.80730669, ..., 450.87581577,\n",
              "       450.81377398, 450.80729741])"
            ]
          },
          "metadata": {},
          "execution_count": 570
        }
      ]
    },
    {
      "cell_type": "code",
      "metadata": {
        "id": "svyPBVSS7DDr",
        "colab": {
          "base_uri": "https://localhost:8080/"
        },
        "outputId": "99fc3375-7f8f-49b9-f68d-7b052ae83398"
      },
      "source": [
        "from numpy import random\n",
        "import pandas as pd\n",
        "\n",
        "print(\"NumPy Data Array is:\")\n",
        "print(y_pred)\n",
        "\n",
        "print(\"\")\n",
        "\n",
        "data_df = pd.DataFrame(y_pred)\n",
        "print(\"The DataFrame generated from the NumPy array is:\")\n",
        "print(data_df)"
      ],
      "execution_count": null,
      "outputs": [
        {
          "output_type": "stream",
          "name": "stdout",
          "text": [
            "NumPy Data Array is:\n",
            "[450.82508765 450.89557113 450.80730669 ... 450.87581577 450.81377398\n",
            " 450.80729741]\n",
            "\n",
            "The DataFrame generated from the NumPy array is:\n",
            "               0\n",
            "0     450.825088\n",
            "1     450.895571\n",
            "2     450.807307\n",
            "3     450.869004\n",
            "4     453.210669\n",
            "...          ...\n",
            "2885  450.807307\n",
            "2886  452.143906\n",
            "2887  450.875816\n",
            "2888  450.813774\n",
            "2889  450.807297\n",
            "\n",
            "[2890 rows x 1 columns]\n"
          ]
        }
      ]
    },
    {
      "cell_type": "code",
      "metadata": {
        "id": "ovL69FN57DDr",
        "colab": {
          "base_uri": "https://localhost:8080/",
          "height": 417
        },
        "outputId": "a0222673-f2f2-49c2-fcc1-f90f7b197e63"
      },
      "source": [
        "df = pd.DataFrame({'Actual': y_test, 'Predicted': y_pred})\n",
        "df"
      ],
      "execution_count": null,
      "outputs": [
        {
          "output_type": "execute_result",
          "data": {
            "text/html": [
              "<div>\n",
              "<style scoped>\n",
              "    .dataframe tbody tr th:only-of-type {\n",
              "        vertical-align: middle;\n",
              "    }\n",
              "\n",
              "    .dataframe tbody tr th {\n",
              "        vertical-align: top;\n",
              "    }\n",
              "\n",
              "    .dataframe thead th {\n",
              "        text-align: right;\n",
              "    }\n",
              "</style>\n",
              "<table border=\"1\" class=\"dataframe\">\n",
              "  <thead>\n",
              "    <tr style=\"text-align: right;\">\n",
              "      <th></th>\n",
              "      <th>Actual</th>\n",
              "      <th>Predicted</th>\n",
              "    </tr>\n",
              "  </thead>\n",
              "  <tbody>\n",
              "    <tr>\n",
              "      <th>4292</th>\n",
              "      <td>77.0</td>\n",
              "      <td>450.825088</td>\n",
              "    </tr>\n",
              "    <tr>\n",
              "      <th>4272</th>\n",
              "      <td>365.0</td>\n",
              "      <td>450.895571</td>\n",
              "    </tr>\n",
              "    <tr>\n",
              "      <th>322</th>\n",
              "      <td>0.0</td>\n",
              "      <td>450.807307</td>\n",
              "    </tr>\n",
              "    <tr>\n",
              "      <th>10327</th>\n",
              "      <td>168.0</td>\n",
              "      <td>450.869004</td>\n",
              "    </tr>\n",
              "    <tr>\n",
              "      <th>9400</th>\n",
              "      <td>3483.0</td>\n",
              "      <td>453.210669</td>\n",
              "    </tr>\n",
              "    <tr>\n",
              "      <th>...</th>\n",
              "      <td>...</td>\n",
              "      <td>...</td>\n",
              "    </tr>\n",
              "    <tr>\n",
              "      <th>897</th>\n",
              "      <td>0.0</td>\n",
              "      <td>450.807307</td>\n",
              "    </tr>\n",
              "    <tr>\n",
              "      <th>5998</th>\n",
              "      <td>4873.0</td>\n",
              "      <td>452.143906</td>\n",
              "    </tr>\n",
              "    <tr>\n",
              "      <th>3949</th>\n",
              "      <td>351.0</td>\n",
              "      <td>450.875816</td>\n",
              "    </tr>\n",
              "    <tr>\n",
              "      <th>2235</th>\n",
              "      <td>110.0</td>\n",
              "      <td>450.813774</td>\n",
              "    </tr>\n",
              "    <tr>\n",
              "      <th>292</th>\n",
              "      <td>0.0</td>\n",
              "      <td>450.807297</td>\n",
              "    </tr>\n",
              "  </tbody>\n",
              "</table>\n",
              "<p>2890 rows × 2 columns</p>\n",
              "</div>"
            ],
            "text/plain": [
              "       Actual   Predicted\n",
              "4292     77.0  450.825088\n",
              "4272    365.0  450.895571\n",
              "322       0.0  450.807307\n",
              "10327   168.0  450.869004\n",
              "9400   3483.0  453.210669\n",
              "...       ...         ...\n",
              "897       0.0  450.807307\n",
              "5998   4873.0  452.143906\n",
              "3949    351.0  450.875816\n",
              "2235    110.0  450.813774\n",
              "292       0.0  450.807297\n",
              "\n",
              "[2890 rows x 2 columns]"
            ]
          },
          "metadata": {},
          "execution_count": 572
        }
      ]
    },
    {
      "cell_type": "code",
      "metadata": {
        "id": "hBeAu6bQ7DDr",
        "colab": {
          "base_uri": "https://localhost:8080/"
        },
        "outputId": "53055bb5-ee91-4da8-83ab-92f5904d7465"
      },
      "source": [
        "from sklearn import metrics\n",
        "print('Mean Absolute Error (MAE):', metrics.mean_absolute_error(y_test, y_pred))\n",
        "print('median_absolute_error (MAD):', metrics.median_absolute_error(y_test, y_pred))\n",
        "print('Root Mean Squared Error (RMSE):', np.sqrt(metrics.mean_squared_error(y_test, y_pred)))\n",
        "print('mean_absolute_percentage_error (MAPE):', metrics.mean_absolute_percentage_error(y_test, y_pred))\n",
        "print('max_error(MAX_ERROR):', metrics.max_error(y_test, y_pred))\n",
        "print('explained_variance_score (EXPL):', metrics.explained_variance_score(y_test, y_pred, multioutput='uniform_average'))\n",
        "print('R2_SCORE:', metrics.r2_score(y_test, y_pred))"
      ],
      "execution_count": null,
      "outputs": [
        {
          "output_type": "stream",
          "name": "stdout",
          "text": [
            "Mean Absolute Error (MAE): 791.51089951832\n",
            "median_absolute_error (MAD): 387.8231415732773\n",
            "Root Mean Squared Error (RMSE): 1450.5101637822104\n",
            "mean_absolute_percentage_error (MAPE): 1.6227994692137027e+17\n",
            "max_error(MAX_ERROR): 7877.703428664183\n",
            "explained_variance_score (EXPL): 0.0008114438244926081\n",
            "R2_SCORE: -0.12192772511217154\n"
          ]
        }
      ]
    },
    {
      "cell_type": "markdown",
      "metadata": {
        "id": "med8_X5i7DDr"
      },
      "source": [
        "**APLICAMOS MULTILAYER PERCEPTRON REGRESSOR - UCI**"
      ]
    },
    {
      "cell_type": "code",
      "metadata": {
        "id": "vM0w2I2M7DDr",
        "colab": {
          "base_uri": "https://localhost:8080/"
        },
        "outputId": "5ac4a37c-f4a2-4947-89c7-5a3297f85542"
      },
      "source": [
        "regressor = MLPRegressor()\n",
        "regressor.fit(X_train, y_train)"
      ],
      "execution_count": null,
      "outputs": [
        {
          "output_type": "execute_result",
          "data": {
            "text/plain": [
              "MLPRegressor()"
            ]
          },
          "metadata": {},
          "execution_count": 574
        }
      ]
    },
    {
      "cell_type": "code",
      "metadata": {
        "id": "8Y5SJEfh7DDr",
        "colab": {
          "base_uri": "https://localhost:8080/"
        },
        "outputId": "648c1777-4789-4c03-a4cb-1e447f0b65d4"
      },
      "source": [
        "y_pred = regressor.predict(X_test)\n",
        "y_pred"
      ],
      "execution_count": null,
      "outputs": [
        {
          "output_type": "execute_result",
          "data": {
            "text/plain": [
              "array([183.69979613, 512.63384846, 109.45777172, ..., 488.08596339,\n",
              "       147.86419341, 109.35800145])"
            ]
          },
          "metadata": {},
          "execution_count": 575
        }
      ]
    },
    {
      "cell_type": "code",
      "metadata": {
        "id": "M5DNHDVO7DDr",
        "colab": {
          "base_uri": "https://localhost:8080/"
        },
        "outputId": "99d8f816-83bb-4137-b85a-90a3f1256764"
      },
      "source": [
        "from numpy import random\n",
        "import pandas as pd\n",
        "\n",
        "print(\"NumPy Data Array is:\")\n",
        "print(y_pred)\n",
        "\n",
        "print(\"\")\n",
        "\n",
        "data_df = pd.DataFrame(y_pred)\n",
        "print(\"The DataFrame generated from the NumPy array is:\")\n",
        "print(data_df)"
      ],
      "execution_count": null,
      "outputs": [
        {
          "output_type": "stream",
          "name": "stdout",
          "text": [
            "NumPy Data Array is:\n",
            "[183.69979613 512.63384846 109.45777172 ... 488.08596339 147.86419341\n",
            " 109.35800145]\n",
            "\n",
            "The DataFrame generated from the NumPy array is:\n",
            "                0\n",
            "0      183.699796\n",
            "1      512.633848\n",
            "2      109.457772\n",
            "3      207.779606\n",
            "4     4073.771241\n",
            "...           ...\n",
            "2885   102.798854\n",
            "2886  5015.844814\n",
            "2887   488.085963\n",
            "2888   147.864193\n",
            "2889   109.358001\n",
            "\n",
            "[2890 rows x 1 columns]\n"
          ]
        }
      ]
    },
    {
      "cell_type": "code",
      "metadata": {
        "id": "XkoDrtsR7DDs"
      },
      "source": [
        ""
      ],
      "execution_count": null,
      "outputs": []
    },
    {
      "cell_type": "code",
      "metadata": {
        "id": "6zbLy8527DDs",
        "colab": {
          "base_uri": "https://localhost:8080/",
          "height": 417
        },
        "outputId": "81f65ae6-d69f-4e91-f99e-76f05c3162ea"
      },
      "source": [
        "df = pd.DataFrame({'Actual': y_test, 'Predicted': y_pred})\n",
        "df"
      ],
      "execution_count": null,
      "outputs": [
        {
          "output_type": "execute_result",
          "data": {
            "text/html": [
              "<div>\n",
              "<style scoped>\n",
              "    .dataframe tbody tr th:only-of-type {\n",
              "        vertical-align: middle;\n",
              "    }\n",
              "\n",
              "    .dataframe tbody tr th {\n",
              "        vertical-align: top;\n",
              "    }\n",
              "\n",
              "    .dataframe thead th {\n",
              "        text-align: right;\n",
              "    }\n",
              "</style>\n",
              "<table border=\"1\" class=\"dataframe\">\n",
              "  <thead>\n",
              "    <tr style=\"text-align: right;\">\n",
              "      <th></th>\n",
              "      <th>Actual</th>\n",
              "      <th>Predicted</th>\n",
              "    </tr>\n",
              "  </thead>\n",
              "  <tbody>\n",
              "    <tr>\n",
              "      <th>4292</th>\n",
              "      <td>77.0</td>\n",
              "      <td>183.699796</td>\n",
              "    </tr>\n",
              "    <tr>\n",
              "      <th>4272</th>\n",
              "      <td>365.0</td>\n",
              "      <td>512.633848</td>\n",
              "    </tr>\n",
              "    <tr>\n",
              "      <th>322</th>\n",
              "      <td>0.0</td>\n",
              "      <td>109.457772</td>\n",
              "    </tr>\n",
              "    <tr>\n",
              "      <th>10327</th>\n",
              "      <td>168.0</td>\n",
              "      <td>207.779606</td>\n",
              "    </tr>\n",
              "    <tr>\n",
              "      <th>9400</th>\n",
              "      <td>3483.0</td>\n",
              "      <td>4073.771241</td>\n",
              "    </tr>\n",
              "    <tr>\n",
              "      <th>...</th>\n",
              "      <td>...</td>\n",
              "      <td>...</td>\n",
              "    </tr>\n",
              "    <tr>\n",
              "      <th>897</th>\n",
              "      <td>0.0</td>\n",
              "      <td>102.798854</td>\n",
              "    </tr>\n",
              "    <tr>\n",
              "      <th>5998</th>\n",
              "      <td>4873.0</td>\n",
              "      <td>5015.844814</td>\n",
              "    </tr>\n",
              "    <tr>\n",
              "      <th>3949</th>\n",
              "      <td>351.0</td>\n",
              "      <td>488.085963</td>\n",
              "    </tr>\n",
              "    <tr>\n",
              "      <th>2235</th>\n",
              "      <td>110.0</td>\n",
              "      <td>147.864193</td>\n",
              "    </tr>\n",
              "    <tr>\n",
              "      <th>292</th>\n",
              "      <td>0.0</td>\n",
              "      <td>109.358001</td>\n",
              "    </tr>\n",
              "  </tbody>\n",
              "</table>\n",
              "<p>2890 rows × 2 columns</p>\n",
              "</div>"
            ],
            "text/plain": [
              "       Actual    Predicted\n",
              "4292     77.0   183.699796\n",
              "4272    365.0   512.633848\n",
              "322       0.0   109.457772\n",
              "10327   168.0   207.779606\n",
              "9400   3483.0  4073.771241\n",
              "...       ...          ...\n",
              "897       0.0   102.798854\n",
              "5998   4873.0  5015.844814\n",
              "3949    351.0   488.085963\n",
              "2235    110.0   147.864193\n",
              "292       0.0   109.358001\n",
              "\n",
              "[2890 rows x 2 columns]"
            ]
          },
          "metadata": {},
          "execution_count": 577
        }
      ]
    },
    {
      "cell_type": "code",
      "metadata": {
        "id": "fjMzYh1d7DDs",
        "colab": {
          "base_uri": "https://localhost:8080/"
        },
        "outputId": "f4187d13-f5cb-4ce1-e9cf-c375dc888437"
      },
      "source": [
        "from sklearn import metrics\n",
        "print('Mean Absolute Error (MAE):', metrics.mean_absolute_error(y_test, y_pred))\n",
        "print('median_absolute_error (MAD):', metrics.median_absolute_error(y_test, y_pred))\n",
        "print('Root Mean Squared Error (RMSE):', np.sqrt(metrics.mean_squared_error(y_test, y_pred)))\n",
        "print('mean_absolute_percentage_error (MAPE):', metrics.mean_absolute_percentage_error(y_test, y_pred))\n",
        "print('max_error(MAX_ERROR):', metrics.max_error(y_test, y_pred))\n",
        "print('explained_variance_score (EXPL):', metrics.explained_variance_score(y_test, y_pred, multioutput='uniform_average'))\n",
        "print('R2_SCORE:', metrics.r2_score(y_test, y_pred))"
      ],
      "execution_count": null,
      "outputs": [
        {
          "output_type": "stream",
          "name": "stdout",
          "text": [
            "Mean Absolute Error (MAE): 155.63604248182037\n",
            "median_absolute_error (MAD): 104.43689210576548\n",
            "Root Mean Squared Error (RMSE): 225.80228102827274\n",
            "mean_absolute_percentage_error (MAPE): 3.707091547126813e+16\n",
            "max_error(MAX_ERROR): 1496.3485720238778\n",
            "explained_variance_score (EXPL): 0.972820182026119\n",
            "R2_SCORE: 0.9728118299534627\n"
          ]
        }
      ]
    }
  ]
}